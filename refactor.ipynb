{
  "nbformat": 4,
  "nbformat_minor": 0,
  "metadata": {
    "colab": {
      "provenance": [],
      "collapsed_sections": [
        "_Pgj7F7mKPYE",
        "AROS8JDQX2TL",
        "_iNaf_PSP-m8",
        "5Itwp0habDGF",
        "1s0WDrNHbJn4",
        "pRZcqd68bODB",
        "o04pJHaJbTSm",
        "uS2EPux5bmft",
        "idyg6lT5cCTa",
        "hK-nOIXNb1Y8",
        "ApCQHpy6cGm0",
        "O_AuisAogSUb"
      ],
      "gpuType": "T4"
    },
    "kernelspec": {
      "name": "python3",
      "display_name": "Python 3"
    },
    "language_info": {
      "name": "python"
    },
    "accelerator": "GPU"
  },
  "cells": [
    {
      "cell_type": "markdown",
      "source": [
        "#### Installation"
      ],
      "metadata": {
        "id": "_Pgj7F7mKPYE"
      }
    },
    {
      "cell_type": "code",
      "execution_count": 1,
      "metadata": {
        "colab": {
          "base_uri": "https://localhost:8080/"
        },
        "id": "gDA4Ch6WXJC9",
        "outputId": "9581efba-7be5-4461-9a4d-087c3dd3c423"
      },
      "outputs": [
        {
          "output_type": "stream",
          "name": "stdout",
          "text": [
            "Collecting git+https://github.com/openai/CLIP.git\n",
            "  Cloning https://github.com/openai/CLIP.git to /tmp/pip-req-build-8ghf9l14\n",
            "  Running command git clone --filter=blob:none --quiet https://github.com/openai/CLIP.git /tmp/pip-req-build-8ghf9l14\n",
            "  Resolved https://github.com/openai/CLIP.git to commit dcba3cb2e2827b402d2701e7e1c7d9fed8a20ef1\n",
            "  Preparing metadata (setup.py) ... \u001b[?25l\u001b[?25hdone\n",
            "Collecting ftfy (from clip==1.0)\n",
            "  Downloading ftfy-6.3.1-py3-none-any.whl.metadata (7.3 kB)\n",
            "Requirement already satisfied: packaging in /usr/local/lib/python3.11/dist-packages (from clip==1.0) (24.2)\n",
            "Requirement already satisfied: regex in /usr/local/lib/python3.11/dist-packages (from clip==1.0) (2024.11.6)\n",
            "Requirement already satisfied: tqdm in /usr/local/lib/python3.11/dist-packages (from clip==1.0) (4.67.1)\n",
            "Requirement already satisfied: torch in /usr/local/lib/python3.11/dist-packages (from clip==1.0) (2.5.1+cu121)\n",
            "Requirement already satisfied: torchvision in /usr/local/lib/python3.11/dist-packages (from clip==1.0) (0.20.1+cu121)\n",
            "Requirement already satisfied: wcwidth in /usr/local/lib/python3.11/dist-packages (from ftfy->clip==1.0) (0.2.13)\n",
            "Requirement already satisfied: filelock in /usr/local/lib/python3.11/dist-packages (from torch->clip==1.0) (3.17.0)\n",
            "Requirement already satisfied: typing-extensions>=4.8.0 in /usr/local/lib/python3.11/dist-packages (from torch->clip==1.0) (4.12.2)\n",
            "Requirement already satisfied: networkx in /usr/local/lib/python3.11/dist-packages (from torch->clip==1.0) (3.4.2)\n",
            "Requirement already satisfied: jinja2 in /usr/local/lib/python3.11/dist-packages (from torch->clip==1.0) (3.1.5)\n",
            "Requirement already satisfied: fsspec in /usr/local/lib/python3.11/dist-packages (from torch->clip==1.0) (2024.10.0)\n",
            "Requirement already satisfied: nvidia-cuda-nvrtc-cu12==12.1.105 in /usr/local/lib/python3.11/dist-packages (from torch->clip==1.0) (12.1.105)\n",
            "Requirement already satisfied: nvidia-cuda-runtime-cu12==12.1.105 in /usr/local/lib/python3.11/dist-packages (from torch->clip==1.0) (12.1.105)\n",
            "Requirement already satisfied: nvidia-cuda-cupti-cu12==12.1.105 in /usr/local/lib/python3.11/dist-packages (from torch->clip==1.0) (12.1.105)\n",
            "Requirement already satisfied: nvidia-cudnn-cu12==9.1.0.70 in /usr/local/lib/python3.11/dist-packages (from torch->clip==1.0) (9.1.0.70)\n",
            "Requirement already satisfied: nvidia-cublas-cu12==12.1.3.1 in /usr/local/lib/python3.11/dist-packages (from torch->clip==1.0) (12.1.3.1)\n",
            "Requirement already satisfied: nvidia-cufft-cu12==11.0.2.54 in /usr/local/lib/python3.11/dist-packages (from torch->clip==1.0) (11.0.2.54)\n",
            "Requirement already satisfied: nvidia-curand-cu12==10.3.2.106 in /usr/local/lib/python3.11/dist-packages (from torch->clip==1.0) (10.3.2.106)\n",
            "Requirement already satisfied: nvidia-cusolver-cu12==11.4.5.107 in /usr/local/lib/python3.11/dist-packages (from torch->clip==1.0) (11.4.5.107)\n",
            "Requirement already satisfied: nvidia-cusparse-cu12==12.1.0.106 in /usr/local/lib/python3.11/dist-packages (from torch->clip==1.0) (12.1.0.106)\n",
            "Requirement already satisfied: nvidia-nccl-cu12==2.21.5 in /usr/local/lib/python3.11/dist-packages (from torch->clip==1.0) (2.21.5)\n",
            "Requirement already satisfied: nvidia-nvtx-cu12==12.1.105 in /usr/local/lib/python3.11/dist-packages (from torch->clip==1.0) (12.1.105)\n",
            "Requirement already satisfied: triton==3.1.0 in /usr/local/lib/python3.11/dist-packages (from torch->clip==1.0) (3.1.0)\n",
            "Requirement already satisfied: sympy==1.13.1 in /usr/local/lib/python3.11/dist-packages (from torch->clip==1.0) (1.13.1)\n",
            "Requirement already satisfied: nvidia-nvjitlink-cu12 in /usr/local/lib/python3.11/dist-packages (from nvidia-cusolver-cu12==11.4.5.107->torch->clip==1.0) (12.6.85)\n",
            "Requirement already satisfied: mpmath<1.4,>=1.1.0 in /usr/local/lib/python3.11/dist-packages (from sympy==1.13.1->torch->clip==1.0) (1.3.0)\n",
            "Requirement already satisfied: numpy in /usr/local/lib/python3.11/dist-packages (from torchvision->clip==1.0) (1.26.4)\n",
            "Requirement already satisfied: pillow!=8.3.*,>=5.3.0 in /usr/local/lib/python3.11/dist-packages (from torchvision->clip==1.0) (11.1.0)\n",
            "Requirement already satisfied: MarkupSafe>=2.0 in /usr/local/lib/python3.11/dist-packages (from jinja2->torch->clip==1.0) (3.0.2)\n",
            "Downloading ftfy-6.3.1-py3-none-any.whl (44 kB)\n",
            "\u001b[2K   \u001b[90m━━━━━━━━━━━━━━━━━━━━━━━━━━━━━━━━━━━━━━━━\u001b[0m \u001b[32m44.8/44.8 kB\u001b[0m \u001b[31m2.9 MB/s\u001b[0m eta \u001b[36m0:00:00\u001b[0m\n",
            "\u001b[?25hBuilding wheels for collected packages: clip\n",
            "  Building wheel for clip (setup.py) ... \u001b[?25l\u001b[?25hdone\n",
            "  Created wheel for clip: filename=clip-1.0-py3-none-any.whl size=1369489 sha256=a24f7dfb343d8e8e966cfa8107fefb32a212d45a959efcf3ac80dd48c73d981e\n",
            "  Stored in directory: /tmp/pip-ephem-wheel-cache-j29ru429/wheels/3f/7c/a4/9b490845988bf7a4db33674d52f709f088f64392063872eb9a\n",
            "Successfully built clip\n",
            "Installing collected packages: ftfy, clip\n",
            "Successfully installed clip-1.0 ftfy-6.3.1\n",
            "Looking in links: https://nvidia-kaolin.s3.us-east-2.amazonaws.com/torch-2.5.1_cu121.html\n",
            "Collecting kaolin==0.17.0\n",
            "  Downloading https://nvidia-kaolin.s3.us-east-2.amazonaws.com/torch-2.5.1_cu121/kaolin-0.17.0-cp311-cp311-linux_x86_64.whl (5.4 MB)\n",
            "\u001b[2K     \u001b[90m━━━━━━━━━━━━━━━━━━━━━━━━━━━━━━━━━━━━━━━━\u001b[0m \u001b[32m5.4/5.4 MB\u001b[0m \u001b[31m11.3 MB/s\u001b[0m eta \u001b[36m0:00:00\u001b[0m\n",
            "\u001b[?25hCollecting ipycanvas (from kaolin==0.17.0)\n",
            "  Downloading ipycanvas-0.13.3-py2.py3-none-any.whl.metadata (6.3 kB)\n",
            "Requirement already satisfied: ipyevents in /usr/local/lib/python3.11/dist-packages (from kaolin==0.17.0) (2.0.2)\n",
            "Requirement already satisfied: jupyter-client<8 in /usr/local/lib/python3.11/dist-packages (from kaolin==0.17.0) (6.1.12)\n",
            "Requirement already satisfied: flask in /usr/local/lib/python3.11/dist-packages (from kaolin==0.17.0) (3.1.0)\n",
            "Requirement already satisfied: tornado in /usr/local/lib/python3.11/dist-packages (from kaolin==0.17.0) (6.3.3)\n",
            "Collecting comm>=0.1.3 (from kaolin==0.17.0)\n",
            "  Downloading comm-0.2.2-py3-none-any.whl.metadata (3.7 kB)\n",
            "Collecting usd-core (from kaolin==0.17.0)\n",
            "  Downloading usd_core-25.2-cp311-none-manylinux_2_17_x86_64.manylinux2014_x86_64.whl.metadata (1.5 kB)\n",
            "Requirement already satisfied: numpy<2.0 in /usr/local/lib/python3.11/dist-packages (from kaolin==0.17.0) (1.26.4)\n",
            "Collecting pybind11 (from kaolin==0.17.0)\n",
            "  Downloading pybind11-2.13.6-py3-none-any.whl.metadata (9.5 kB)\n",
            "Requirement already satisfied: Pillow>=8.0.0 in /usr/local/lib/python3.11/dist-packages (from kaolin==0.17.0) (11.1.0)\n",
            "Requirement already satisfied: tqdm>=4.51.0 in /usr/local/lib/python3.11/dist-packages (from kaolin==0.17.0) (4.67.1)\n",
            "Requirement already satisfied: scipy in /usr/local/lib/python3.11/dist-packages (from kaolin==0.17.0) (1.13.1)\n",
            "Collecting pygltflib (from kaolin==0.17.0)\n",
            "  Downloading pygltflib-1.16.3.tar.gz (42 kB)\n",
            "\u001b[2K     \u001b[90m━━━━━━━━━━━━━━━━━━━━━━━━━━━━━━━━━━━━━━━━\u001b[0m \u001b[32m42.9/42.9 kB\u001b[0m \u001b[31m2.7 MB/s\u001b[0m eta \u001b[36m0:00:00\u001b[0m\n",
            "\u001b[?25h  Preparing metadata (setup.py) ... \u001b[?25l\u001b[?25hdone\n",
            "Collecting warp-lang (from kaolin==0.17.0)\n",
            "  Downloading warp_lang-1.5.1-py3-none-manylinux2014_x86_64.whl.metadata (25 kB)\n",
            "Requirement already satisfied: ipython in /usr/local/lib/python3.11/dist-packages (from kaolin==0.17.0) (7.34.0)\n",
            "Requirement already satisfied: traitlets>=4 in /usr/local/lib/python3.11/dist-packages (from comm>=0.1.3->kaolin==0.17.0) (5.7.1)\n",
            "Requirement already satisfied: jupyter-core>=4.6.0 in /usr/local/lib/python3.11/dist-packages (from jupyter-client<8->kaolin==0.17.0) (5.7.2)\n",
            "Requirement already satisfied: pyzmq>=13 in /usr/local/lib/python3.11/dist-packages (from jupyter-client<8->kaolin==0.17.0) (24.0.1)\n",
            "Requirement already satisfied: python-dateutil>=2.1 in /usr/local/lib/python3.11/dist-packages (from jupyter-client<8->kaolin==0.17.0) (2.8.2)\n",
            "Requirement already satisfied: Werkzeug>=3.1 in /usr/local/lib/python3.11/dist-packages (from flask->kaolin==0.17.0) (3.1.3)\n",
            "Requirement already satisfied: Jinja2>=3.1.2 in /usr/local/lib/python3.11/dist-packages (from flask->kaolin==0.17.0) (3.1.5)\n",
            "Requirement already satisfied: itsdangerous>=2.2 in /usr/local/lib/python3.11/dist-packages (from flask->kaolin==0.17.0) (2.2.0)\n",
            "Requirement already satisfied: click>=8.1.3 in /usr/local/lib/python3.11/dist-packages (from flask->kaolin==0.17.0) (8.1.8)\n",
            "Requirement already satisfied: blinker>=1.9 in /usr/local/lib/python3.11/dist-packages (from flask->kaolin==0.17.0) (1.9.0)\n",
            "Requirement already satisfied: ipywidgets<9,>=7.6.0 in /usr/local/lib/python3.11/dist-packages (from ipycanvas->kaolin==0.17.0) (7.7.1)\n",
            "Requirement already satisfied: setuptools>=18.5 in /usr/local/lib/python3.11/dist-packages (from ipython->kaolin==0.17.0) (75.1.0)\n",
            "Collecting jedi>=0.16 (from ipython->kaolin==0.17.0)\n",
            "  Downloading jedi-0.19.2-py2.py3-none-any.whl.metadata (22 kB)\n",
            "Requirement already satisfied: decorator in /usr/local/lib/python3.11/dist-packages (from ipython->kaolin==0.17.0) (4.4.2)\n",
            "Requirement already satisfied: pickleshare in /usr/local/lib/python3.11/dist-packages (from ipython->kaolin==0.17.0) (0.7.5)\n",
            "Requirement already satisfied: prompt-toolkit!=3.0.0,!=3.0.1,<3.1.0,>=2.0.0 in /usr/local/lib/python3.11/dist-packages (from ipython->kaolin==0.17.0) (3.0.50)\n",
            "Requirement already satisfied: pygments in /usr/local/lib/python3.11/dist-packages (from ipython->kaolin==0.17.0) (2.18.0)\n",
            "Requirement already satisfied: backcall in /usr/local/lib/python3.11/dist-packages (from ipython->kaolin==0.17.0) (0.2.0)\n",
            "Requirement already satisfied: matplotlib-inline in /usr/local/lib/python3.11/dist-packages (from ipython->kaolin==0.17.0) (0.1.7)\n",
            "Requirement already satisfied: pexpect>4.3 in /usr/local/lib/python3.11/dist-packages (from ipython->kaolin==0.17.0) (4.9.0)\n",
            "Collecting dataclasses-json>=0.0.25 (from pygltflib->kaolin==0.17.0)\n",
            "  Downloading dataclasses_json-0.6.7-py3-none-any.whl.metadata (25 kB)\n",
            "Requirement already satisfied: deprecated in /usr/local/lib/python3.11/dist-packages (from pygltflib->kaolin==0.17.0) (1.2.15)\n",
            "Collecting marshmallow<4.0.0,>=3.18.0 (from dataclasses-json>=0.0.25->pygltflib->kaolin==0.17.0)\n",
            "  Downloading marshmallow-3.26.0-py3-none-any.whl.metadata (7.3 kB)\n",
            "Collecting typing-inspect<1,>=0.4.0 (from dataclasses-json>=0.0.25->pygltflib->kaolin==0.17.0)\n",
            "  Downloading typing_inspect-0.9.0-py3-none-any.whl.metadata (1.5 kB)\n",
            "Requirement already satisfied: ipykernel>=4.5.1 in /usr/local/lib/python3.11/dist-packages (from ipywidgets<9,>=7.6.0->ipycanvas->kaolin==0.17.0) (5.5.6)\n",
            "Requirement already satisfied: ipython-genutils~=0.2.0 in /usr/local/lib/python3.11/dist-packages (from ipywidgets<9,>=7.6.0->ipycanvas->kaolin==0.17.0) (0.2.0)\n",
            "Requirement already satisfied: widgetsnbextension~=3.6.0 in /usr/local/lib/python3.11/dist-packages (from ipywidgets<9,>=7.6.0->ipycanvas->kaolin==0.17.0) (3.6.10)\n",
            "Requirement already satisfied: jupyterlab-widgets>=1.0.0 in /usr/local/lib/python3.11/dist-packages (from ipywidgets<9,>=7.6.0->ipycanvas->kaolin==0.17.0) (3.0.13)\n",
            "Requirement already satisfied: parso<0.9.0,>=0.8.4 in /usr/local/lib/python3.11/dist-packages (from jedi>=0.16->ipython->kaolin==0.17.0) (0.8.4)\n",
            "Requirement already satisfied: MarkupSafe>=2.0 in /usr/local/lib/python3.11/dist-packages (from Jinja2>=3.1.2->flask->kaolin==0.17.0) (3.0.2)\n",
            "Requirement already satisfied: platformdirs>=2.5 in /usr/local/lib/python3.11/dist-packages (from jupyter-core>=4.6.0->jupyter-client<8->kaolin==0.17.0) (4.3.6)\n",
            "Requirement already satisfied: ptyprocess>=0.5 in /usr/local/lib/python3.11/dist-packages (from pexpect>4.3->ipython->kaolin==0.17.0) (0.7.0)\n",
            "Requirement already satisfied: wcwidth in /usr/local/lib/python3.11/dist-packages (from prompt-toolkit!=3.0.0,!=3.0.1,<3.1.0,>=2.0.0->ipython->kaolin==0.17.0) (0.2.13)\n",
            "Requirement already satisfied: six>=1.5 in /usr/local/lib/python3.11/dist-packages (from python-dateutil>=2.1->jupyter-client<8->kaolin==0.17.0) (1.17.0)\n",
            "Requirement already satisfied: wrapt<2,>=1.10 in /usr/local/lib/python3.11/dist-packages (from deprecated->pygltflib->kaolin==0.17.0) (1.17.2)\n",
            "Requirement already satisfied: packaging>=17.0 in /usr/local/lib/python3.11/dist-packages (from marshmallow<4.0.0,>=3.18.0->dataclasses-json>=0.0.25->pygltflib->kaolin==0.17.0) (24.2)\n",
            "Collecting mypy-extensions>=0.3.0 (from typing-inspect<1,>=0.4.0->dataclasses-json>=0.0.25->pygltflib->kaolin==0.17.0)\n",
            "  Downloading mypy_extensions-1.0.0-py3-none-any.whl.metadata (1.1 kB)\n",
            "Requirement already satisfied: typing-extensions>=3.7.4 in /usr/local/lib/python3.11/dist-packages (from typing-inspect<1,>=0.4.0->dataclasses-json>=0.0.25->pygltflib->kaolin==0.17.0) (4.12.2)\n",
            "Requirement already satisfied: notebook>=4.4.1 in /usr/local/lib/python3.11/dist-packages (from widgetsnbextension~=3.6.0->ipywidgets<9,>=7.6.0->ipycanvas->kaolin==0.17.0) (6.5.5)\n",
            "Requirement already satisfied: argon2-cffi in /usr/local/lib/python3.11/dist-packages (from notebook>=4.4.1->widgetsnbextension~=3.6.0->ipywidgets<9,>=7.6.0->ipycanvas->kaolin==0.17.0) (23.1.0)\n",
            "Requirement already satisfied: nbformat in /usr/local/lib/python3.11/dist-packages (from notebook>=4.4.1->widgetsnbextension~=3.6.0->ipywidgets<9,>=7.6.0->ipycanvas->kaolin==0.17.0) (5.10.4)\n",
            "Requirement already satisfied: nbconvert>=5 in /usr/local/lib/python3.11/dist-packages (from notebook>=4.4.1->widgetsnbextension~=3.6.0->ipywidgets<9,>=7.6.0->ipycanvas->kaolin==0.17.0) (7.16.5)\n",
            "Requirement already satisfied: nest-asyncio>=1.5 in /usr/local/lib/python3.11/dist-packages (from notebook>=4.4.1->widgetsnbextension~=3.6.0->ipywidgets<9,>=7.6.0->ipycanvas->kaolin==0.17.0) (1.6.0)\n",
            "Requirement already satisfied: Send2Trash>=1.8.0 in /usr/local/lib/python3.11/dist-packages (from notebook>=4.4.1->widgetsnbextension~=3.6.0->ipywidgets<9,>=7.6.0->ipycanvas->kaolin==0.17.0) (1.8.3)\n",
            "Requirement already satisfied: terminado>=0.8.3 in /usr/local/lib/python3.11/dist-packages (from notebook>=4.4.1->widgetsnbextension~=3.6.0->ipywidgets<9,>=7.6.0->ipycanvas->kaolin==0.17.0) (0.18.1)\n",
            "Requirement already satisfied: prometheus-client in /usr/local/lib/python3.11/dist-packages (from notebook>=4.4.1->widgetsnbextension~=3.6.0->ipywidgets<9,>=7.6.0->ipycanvas->kaolin==0.17.0) (0.21.1)\n",
            "Requirement already satisfied: nbclassic>=0.4.7 in /usr/local/lib/python3.11/dist-packages (from notebook>=4.4.1->widgetsnbextension~=3.6.0->ipywidgets<9,>=7.6.0->ipycanvas->kaolin==0.17.0) (1.2.0)\n",
            "Requirement already satisfied: notebook-shim>=0.2.3 in /usr/local/lib/python3.11/dist-packages (from nbclassic>=0.4.7->notebook>=4.4.1->widgetsnbextension~=3.6.0->ipywidgets<9,>=7.6.0->ipycanvas->kaolin==0.17.0) (0.2.4)\n",
            "Requirement already satisfied: beautifulsoup4 in /usr/local/lib/python3.11/dist-packages (from nbconvert>=5->notebook>=4.4.1->widgetsnbextension~=3.6.0->ipywidgets<9,>=7.6.0->ipycanvas->kaolin==0.17.0) (4.12.3)\n",
            "Requirement already satisfied: bleach!=5.0.0 in /usr/local/lib/python3.11/dist-packages (from bleach[css]!=5.0.0->nbconvert>=5->notebook>=4.4.1->widgetsnbextension~=3.6.0->ipywidgets<9,>=7.6.0->ipycanvas->kaolin==0.17.0) (6.2.0)\n",
            "Requirement already satisfied: defusedxml in /usr/local/lib/python3.11/dist-packages (from nbconvert>=5->notebook>=4.4.1->widgetsnbextension~=3.6.0->ipywidgets<9,>=7.6.0->ipycanvas->kaolin==0.17.0) (0.7.1)\n",
            "Requirement already satisfied: jupyterlab-pygments in /usr/local/lib/python3.11/dist-packages (from nbconvert>=5->notebook>=4.4.1->widgetsnbextension~=3.6.0->ipywidgets<9,>=7.6.0->ipycanvas->kaolin==0.17.0) (0.3.0)\n",
            "Requirement already satisfied: mistune<4,>=2.0.3 in /usr/local/lib/python3.11/dist-packages (from nbconvert>=5->notebook>=4.4.1->widgetsnbextension~=3.6.0->ipywidgets<9,>=7.6.0->ipycanvas->kaolin==0.17.0) (3.1.0)\n",
            "Requirement already satisfied: nbclient>=0.5.0 in /usr/local/lib/python3.11/dist-packages (from nbconvert>=5->notebook>=4.4.1->widgetsnbextension~=3.6.0->ipywidgets<9,>=7.6.0->ipycanvas->kaolin==0.17.0) (0.10.2)\n",
            "Requirement already satisfied: pandocfilters>=1.4.1 in /usr/local/lib/python3.11/dist-packages (from nbconvert>=5->notebook>=4.4.1->widgetsnbextension~=3.6.0->ipywidgets<9,>=7.6.0->ipycanvas->kaolin==0.17.0) (1.5.1)\n",
            "Requirement already satisfied: fastjsonschema>=2.15 in /usr/local/lib/python3.11/dist-packages (from nbformat->notebook>=4.4.1->widgetsnbextension~=3.6.0->ipywidgets<9,>=7.6.0->ipycanvas->kaolin==0.17.0) (2.21.1)\n",
            "Requirement already satisfied: jsonschema>=2.6 in /usr/local/lib/python3.11/dist-packages (from nbformat->notebook>=4.4.1->widgetsnbextension~=3.6.0->ipywidgets<9,>=7.6.0->ipycanvas->kaolin==0.17.0) (4.23.0)\n",
            "Requirement already satisfied: argon2-cffi-bindings in /usr/local/lib/python3.11/dist-packages (from argon2-cffi->notebook>=4.4.1->widgetsnbextension~=3.6.0->ipywidgets<9,>=7.6.0->ipycanvas->kaolin==0.17.0) (21.2.0)\n",
            "Requirement already satisfied: webencodings in /usr/local/lib/python3.11/dist-packages (from bleach!=5.0.0->bleach[css]!=5.0.0->nbconvert>=5->notebook>=4.4.1->widgetsnbextension~=3.6.0->ipywidgets<9,>=7.6.0->ipycanvas->kaolin==0.17.0) (0.5.1)\n",
            "Requirement already satisfied: tinycss2<1.5,>=1.1.0 in /usr/local/lib/python3.11/dist-packages (from bleach[css]!=5.0.0->nbconvert>=5->notebook>=4.4.1->widgetsnbextension~=3.6.0->ipywidgets<9,>=7.6.0->ipycanvas->kaolin==0.17.0) (1.4.0)\n",
            "Requirement already satisfied: attrs>=22.2.0 in /usr/local/lib/python3.11/dist-packages (from jsonschema>=2.6->nbformat->notebook>=4.4.1->widgetsnbextension~=3.6.0->ipywidgets<9,>=7.6.0->ipycanvas->kaolin==0.17.0) (24.3.0)\n",
            "Requirement already satisfied: jsonschema-specifications>=2023.03.6 in /usr/local/lib/python3.11/dist-packages (from jsonschema>=2.6->nbformat->notebook>=4.4.1->widgetsnbextension~=3.6.0->ipywidgets<9,>=7.6.0->ipycanvas->kaolin==0.17.0) (2024.10.1)\n",
            "Requirement already satisfied: referencing>=0.28.4 in /usr/local/lib/python3.11/dist-packages (from jsonschema>=2.6->nbformat->notebook>=4.4.1->widgetsnbextension~=3.6.0->ipywidgets<9,>=7.6.0->ipycanvas->kaolin==0.17.0) (0.36.1)\n",
            "Requirement already satisfied: rpds-py>=0.7.1 in /usr/local/lib/python3.11/dist-packages (from jsonschema>=2.6->nbformat->notebook>=4.4.1->widgetsnbextension~=3.6.0->ipywidgets<9,>=7.6.0->ipycanvas->kaolin==0.17.0) (0.22.3)\n",
            "Requirement already satisfied: jupyter-server<3,>=1.8 in /usr/local/lib/python3.11/dist-packages (from notebook-shim>=0.2.3->nbclassic>=0.4.7->notebook>=4.4.1->widgetsnbextension~=3.6.0->ipywidgets<9,>=7.6.0->ipycanvas->kaolin==0.17.0) (1.24.0)\n",
            "Requirement already satisfied: cffi>=1.0.1 in /usr/local/lib/python3.11/dist-packages (from argon2-cffi-bindings->argon2-cffi->notebook>=4.4.1->widgetsnbextension~=3.6.0->ipywidgets<9,>=7.6.0->ipycanvas->kaolin==0.17.0) (1.17.1)\n",
            "Requirement already satisfied: soupsieve>1.2 in /usr/local/lib/python3.11/dist-packages (from beautifulsoup4->nbconvert>=5->notebook>=4.4.1->widgetsnbextension~=3.6.0->ipywidgets<9,>=7.6.0->ipycanvas->kaolin==0.17.0) (2.6)\n",
            "Requirement already satisfied: pycparser in /usr/local/lib/python3.11/dist-packages (from cffi>=1.0.1->argon2-cffi-bindings->argon2-cffi->notebook>=4.4.1->widgetsnbextension~=3.6.0->ipywidgets<9,>=7.6.0->ipycanvas->kaolin==0.17.0) (2.22)\n",
            "Requirement already satisfied: anyio<4,>=3.1.0 in /usr/local/lib/python3.11/dist-packages (from jupyter-server<3,>=1.8->notebook-shim>=0.2.3->nbclassic>=0.4.7->notebook>=4.4.1->widgetsnbextension~=3.6.0->ipywidgets<9,>=7.6.0->ipycanvas->kaolin==0.17.0) (3.7.1)\n",
            "Requirement already satisfied: websocket-client in /usr/local/lib/python3.11/dist-packages (from jupyter-server<3,>=1.8->notebook-shim>=0.2.3->nbclassic>=0.4.7->notebook>=4.4.1->widgetsnbextension~=3.6.0->ipywidgets<9,>=7.6.0->ipycanvas->kaolin==0.17.0) (1.8.0)\n",
            "Requirement already satisfied: idna>=2.8 in /usr/local/lib/python3.11/dist-packages (from anyio<4,>=3.1.0->jupyter-server<3,>=1.8->notebook-shim>=0.2.3->nbclassic>=0.4.7->notebook>=4.4.1->widgetsnbextension~=3.6.0->ipywidgets<9,>=7.6.0->ipycanvas->kaolin==0.17.0) (3.10)\n",
            "Requirement already satisfied: sniffio>=1.1 in /usr/local/lib/python3.11/dist-packages (from anyio<4,>=3.1.0->jupyter-server<3,>=1.8->notebook-shim>=0.2.3->nbclassic>=0.4.7->notebook>=4.4.1->widgetsnbextension~=3.6.0->ipywidgets<9,>=7.6.0->ipycanvas->kaolin==0.17.0) (1.3.1)\n",
            "Downloading comm-0.2.2-py3-none-any.whl (7.2 kB)\n",
            "Downloading ipycanvas-0.13.3-py2.py3-none-any.whl (125 kB)\n",
            "\u001b[2K   \u001b[90m━━━━━━━━━━━━━━━━━━━━━━━━━━━━━━━━━━━━━━━━\u001b[0m \u001b[32m125.8/125.8 kB\u001b[0m \u001b[31m6.8 MB/s\u001b[0m eta \u001b[36m0:00:00\u001b[0m\n",
            "\u001b[?25hDownloading pybind11-2.13.6-py3-none-any.whl (243 kB)\n",
            "\u001b[2K   \u001b[90m━━━━━━━━━━━━━━━━━━━━━━━━━━━━━━━━━━━━━━━━\u001b[0m \u001b[32m243.3/243.3 kB\u001b[0m \u001b[31m15.8 MB/s\u001b[0m eta \u001b[36m0:00:00\u001b[0m\n",
            "\u001b[?25hDownloading usd_core-25.2-cp311-none-manylinux_2_17_x86_64.manylinux2014_x86_64.whl (25.6 MB)\n",
            "\u001b[2K   \u001b[90m━━━━━━━━━━━━━━━━━━━━━━━━━━━━━━━━━━━━━━━━\u001b[0m \u001b[32m25.6/25.6 MB\u001b[0m \u001b[31m62.9 MB/s\u001b[0m eta \u001b[36m0:00:00\u001b[0m\n",
            "\u001b[?25hDownloading warp_lang-1.5.1-py3-none-manylinux2014_x86_64.whl (84.6 MB)\n",
            "\u001b[2K   \u001b[90m━━━━━━━━━━━━━━━━━━━━━━━━━━━━━━━━━━━━━━━━\u001b[0m \u001b[32m84.6/84.6 MB\u001b[0m \u001b[31m8.8 MB/s\u001b[0m eta \u001b[36m0:00:00\u001b[0m\n",
            "\u001b[?25hDownloading dataclasses_json-0.6.7-py3-none-any.whl (28 kB)\n",
            "Downloading jedi-0.19.2-py2.py3-none-any.whl (1.6 MB)\n",
            "\u001b[2K   \u001b[90m━━━━━━━━━━━━━━━━━━━━━━━━━━━━━━━━━━━━━━━━\u001b[0m \u001b[32m1.6/1.6 MB\u001b[0m \u001b[31m57.8 MB/s\u001b[0m eta \u001b[36m0:00:00\u001b[0m\n",
            "\u001b[?25hDownloading marshmallow-3.26.0-py3-none-any.whl (50 kB)\n",
            "\u001b[2K   \u001b[90m━━━━━━━━━━━━━━━━━━━━━━━━━━━━━━━━━━━━━━━━\u001b[0m \u001b[32m50.8/50.8 kB\u001b[0m \u001b[31m5.2 MB/s\u001b[0m eta \u001b[36m0:00:00\u001b[0m\n",
            "\u001b[?25hDownloading typing_inspect-0.9.0-py3-none-any.whl (8.8 kB)\n",
            "Downloading mypy_extensions-1.0.0-py3-none-any.whl (4.7 kB)\n",
            "Building wheels for collected packages: pygltflib\n",
            "  Building wheel for pygltflib (setup.py) ... \u001b[?25l\u001b[?25hdone\n",
            "  Created wheel for pygltflib: filename=pygltflib-1.16.3-py3-none-any.whl size=27408 sha256=07d7d4a222349a4b807f8e98cbc5ba73226794fff93b891c942b6fc82670a224\n",
            "  Stored in directory: /root/.cache/pip/wheels/1e/75/a7/661db79759f1de86850bbbc3112020f4d18436bad637ea5673\n",
            "Successfully built pygltflib\n",
            "Installing collected packages: warp-lang, usd-core, pybind11, mypy-extensions, marshmallow, jedi, comm, typing-inspect, dataclasses-json, pygltflib, ipycanvas, kaolin\n",
            "Successfully installed comm-0.2.2 dataclasses-json-0.6.7 ipycanvas-0.13.3 jedi-0.19.2 kaolin-0.17.0 marshmallow-3.26.0 mypy-extensions-1.0.0 pybind11-2.13.6 pygltflib-1.16.3 typing-inspect-0.9.0 usd-core-25.2 warp-lang-1.5.1\n",
            "Collecting open-clip-torch\n",
            "  Downloading open_clip_torch-2.30.0-py3-none-any.whl.metadata (31 kB)\n",
            "Requirement already satisfied: torch>=1.9.0 in /usr/local/lib/python3.11/dist-packages (from open-clip-torch) (2.5.1+cu121)\n",
            "Requirement already satisfied: torchvision in /usr/local/lib/python3.11/dist-packages (from open-clip-torch) (0.20.1+cu121)\n",
            "Requirement already satisfied: regex in /usr/local/lib/python3.11/dist-packages (from open-clip-torch) (2024.11.6)\n",
            "Requirement already satisfied: ftfy in /usr/local/lib/python3.11/dist-packages (from open-clip-torch) (6.3.1)\n",
            "Requirement already satisfied: tqdm in /usr/local/lib/python3.11/dist-packages (from open-clip-torch) (4.67.1)\n",
            "Requirement already satisfied: huggingface-hub in /usr/local/lib/python3.11/dist-packages (from open-clip-torch) (0.27.1)\n",
            "Requirement already satisfied: safetensors in /usr/local/lib/python3.11/dist-packages (from open-clip-torch) (0.5.2)\n",
            "Requirement already satisfied: timm in /usr/local/lib/python3.11/dist-packages (from open-clip-torch) (1.0.14)\n",
            "Requirement already satisfied: filelock in /usr/local/lib/python3.11/dist-packages (from torch>=1.9.0->open-clip-torch) (3.17.0)\n",
            "Requirement already satisfied: typing-extensions>=4.8.0 in /usr/local/lib/python3.11/dist-packages (from torch>=1.9.0->open-clip-torch) (4.12.2)\n",
            "Requirement already satisfied: networkx in /usr/local/lib/python3.11/dist-packages (from torch>=1.9.0->open-clip-torch) (3.4.2)\n",
            "Requirement already satisfied: jinja2 in /usr/local/lib/python3.11/dist-packages (from torch>=1.9.0->open-clip-torch) (3.1.5)\n",
            "Requirement already satisfied: fsspec in /usr/local/lib/python3.11/dist-packages (from torch>=1.9.0->open-clip-torch) (2024.10.0)\n",
            "Requirement already satisfied: nvidia-cuda-nvrtc-cu12==12.1.105 in /usr/local/lib/python3.11/dist-packages (from torch>=1.9.0->open-clip-torch) (12.1.105)\n",
            "Requirement already satisfied: nvidia-cuda-runtime-cu12==12.1.105 in /usr/local/lib/python3.11/dist-packages (from torch>=1.9.0->open-clip-torch) (12.1.105)\n",
            "Requirement already satisfied: nvidia-cuda-cupti-cu12==12.1.105 in /usr/local/lib/python3.11/dist-packages (from torch>=1.9.0->open-clip-torch) (12.1.105)\n",
            "Requirement already satisfied: nvidia-cudnn-cu12==9.1.0.70 in /usr/local/lib/python3.11/dist-packages (from torch>=1.9.0->open-clip-torch) (9.1.0.70)\n",
            "Requirement already satisfied: nvidia-cublas-cu12==12.1.3.1 in /usr/local/lib/python3.11/dist-packages (from torch>=1.9.0->open-clip-torch) (12.1.3.1)\n",
            "Requirement already satisfied: nvidia-cufft-cu12==11.0.2.54 in /usr/local/lib/python3.11/dist-packages (from torch>=1.9.0->open-clip-torch) (11.0.2.54)\n",
            "Requirement already satisfied: nvidia-curand-cu12==10.3.2.106 in /usr/local/lib/python3.11/dist-packages (from torch>=1.9.0->open-clip-torch) (10.3.2.106)\n",
            "Requirement already satisfied: nvidia-cusolver-cu12==11.4.5.107 in /usr/local/lib/python3.11/dist-packages (from torch>=1.9.0->open-clip-torch) (11.4.5.107)\n",
            "Requirement already satisfied: nvidia-cusparse-cu12==12.1.0.106 in /usr/local/lib/python3.11/dist-packages (from torch>=1.9.0->open-clip-torch) (12.1.0.106)\n",
            "Requirement already satisfied: nvidia-nccl-cu12==2.21.5 in /usr/local/lib/python3.11/dist-packages (from torch>=1.9.0->open-clip-torch) (2.21.5)\n",
            "Requirement already satisfied: nvidia-nvtx-cu12==12.1.105 in /usr/local/lib/python3.11/dist-packages (from torch>=1.9.0->open-clip-torch) (12.1.105)\n",
            "Requirement already satisfied: triton==3.1.0 in /usr/local/lib/python3.11/dist-packages (from torch>=1.9.0->open-clip-torch) (3.1.0)\n",
            "Requirement already satisfied: sympy==1.13.1 in /usr/local/lib/python3.11/dist-packages (from torch>=1.9.0->open-clip-torch) (1.13.1)\n",
            "Requirement already satisfied: nvidia-nvjitlink-cu12 in /usr/local/lib/python3.11/dist-packages (from nvidia-cusolver-cu12==11.4.5.107->torch>=1.9.0->open-clip-torch) (12.6.85)\n",
            "Requirement already satisfied: mpmath<1.4,>=1.1.0 in /usr/local/lib/python3.11/dist-packages (from sympy==1.13.1->torch>=1.9.0->open-clip-torch) (1.3.0)\n",
            "Requirement already satisfied: wcwidth in /usr/local/lib/python3.11/dist-packages (from ftfy->open-clip-torch) (0.2.13)\n",
            "Requirement already satisfied: packaging>=20.9 in /usr/local/lib/python3.11/dist-packages (from huggingface-hub->open-clip-torch) (24.2)\n",
            "Requirement already satisfied: pyyaml>=5.1 in /usr/local/lib/python3.11/dist-packages (from huggingface-hub->open-clip-torch) (6.0.2)\n",
            "Requirement already satisfied: requests in /usr/local/lib/python3.11/dist-packages (from huggingface-hub->open-clip-torch) (2.32.3)\n",
            "Requirement already satisfied: numpy in /usr/local/lib/python3.11/dist-packages (from torchvision->open-clip-torch) (1.26.4)\n",
            "Requirement already satisfied: pillow!=8.3.*,>=5.3.0 in /usr/local/lib/python3.11/dist-packages (from torchvision->open-clip-torch) (11.1.0)\n",
            "Requirement already satisfied: MarkupSafe>=2.0 in /usr/local/lib/python3.11/dist-packages (from jinja2->torch>=1.9.0->open-clip-torch) (3.0.2)\n",
            "Requirement already satisfied: charset-normalizer<4,>=2 in /usr/local/lib/python3.11/dist-packages (from requests->huggingface-hub->open-clip-torch) (3.4.1)\n",
            "Requirement already satisfied: idna<4,>=2.5 in /usr/local/lib/python3.11/dist-packages (from requests->huggingface-hub->open-clip-torch) (3.10)\n",
            "Requirement already satisfied: urllib3<3,>=1.21.1 in /usr/local/lib/python3.11/dist-packages (from requests->huggingface-hub->open-clip-torch) (2.3.0)\n",
            "Requirement already satisfied: certifi>=2017.4.17 in /usr/local/lib/python3.11/dist-packages (from requests->huggingface-hub->open-clip-torch) (2024.12.14)\n",
            "Downloading open_clip_torch-2.30.0-py3-none-any.whl (1.5 MB)\n",
            "\u001b[2K   \u001b[90m━━━━━━━━━━━━━━━━━━━━━━━━━━━━━━━━━━━━━━━━\u001b[0m \u001b[32m1.5/1.5 MB\u001b[0m \u001b[31m30.1 MB/s\u001b[0m eta \u001b[36m0:00:00\u001b[0m\n",
            "\u001b[?25hInstalling collected packages: open-clip-torch\n",
            "Successfully installed open-clip-torch-2.30.0\n",
            "Collecting open3d\n",
            "  Downloading open3d-0.19.0-cp311-cp311-manylinux_2_31_x86_64.whl.metadata (4.3 kB)\n",
            "Requirement already satisfied: numpy>=1.18.0 in /usr/local/lib/python3.11/dist-packages (from open3d) (1.26.4)\n",
            "Collecting dash>=2.6.0 (from open3d)\n",
            "  Downloading dash-2.18.2-py3-none-any.whl.metadata (10 kB)\n",
            "Requirement already satisfied: werkzeug>=3.0.0 in /usr/local/lib/python3.11/dist-packages (from open3d) (3.1.3)\n",
            "Requirement already satisfied: flask>=3.0.0 in /usr/local/lib/python3.11/dist-packages (from open3d) (3.1.0)\n",
            "Requirement already satisfied: nbformat>=5.7.0 in /usr/local/lib/python3.11/dist-packages (from open3d) (5.10.4)\n",
            "Collecting configargparse (from open3d)\n",
            "  Downloading ConfigArgParse-1.7-py3-none-any.whl.metadata (23 kB)\n",
            "Collecting ipywidgets>=8.0.4 (from open3d)\n",
            "  Downloading ipywidgets-8.1.5-py3-none-any.whl.metadata (2.3 kB)\n",
            "Collecting addict (from open3d)\n",
            "  Downloading addict-2.4.0-py3-none-any.whl.metadata (1.0 kB)\n",
            "Requirement already satisfied: pillow>=9.3.0 in /usr/local/lib/python3.11/dist-packages (from open3d) (11.1.0)\n",
            "Requirement already satisfied: matplotlib>=3 in /usr/local/lib/python3.11/dist-packages (from open3d) (3.10.0)\n",
            "Requirement already satisfied: pandas>=1.0 in /usr/local/lib/python3.11/dist-packages (from open3d) (2.2.2)\n",
            "Requirement already satisfied: pyyaml>=5.4.1 in /usr/local/lib/python3.11/dist-packages (from open3d) (6.0.2)\n",
            "Requirement already satisfied: scikit-learn>=0.21 in /usr/local/lib/python3.11/dist-packages (from open3d) (1.6.1)\n",
            "Requirement already satisfied: tqdm in /usr/local/lib/python3.11/dist-packages (from open3d) (4.67.1)\n",
            "Collecting pyquaternion (from open3d)\n",
            "  Downloading pyquaternion-0.9.9-py3-none-any.whl.metadata (1.4 kB)\n",
            "Collecting flask>=3.0.0 (from open3d)\n",
            "  Downloading flask-3.0.3-py3-none-any.whl.metadata (3.2 kB)\n",
            "Collecting werkzeug>=3.0.0 (from open3d)\n",
            "  Downloading werkzeug-3.0.6-py3-none-any.whl.metadata (3.7 kB)\n",
            "Requirement already satisfied: plotly>=5.0.0 in /usr/local/lib/python3.11/dist-packages (from dash>=2.6.0->open3d) (5.24.1)\n",
            "Collecting dash-html-components==2.0.0 (from dash>=2.6.0->open3d)\n",
            "  Downloading dash_html_components-2.0.0-py3-none-any.whl.metadata (3.8 kB)\n",
            "Collecting dash-core-components==2.0.0 (from dash>=2.6.0->open3d)\n",
            "  Downloading dash_core_components-2.0.0-py3-none-any.whl.metadata (2.9 kB)\n",
            "Collecting dash-table==5.0.0 (from dash>=2.6.0->open3d)\n",
            "  Downloading dash_table-5.0.0-py3-none-any.whl.metadata (2.4 kB)\n",
            "Requirement already satisfied: importlib-metadata in /usr/local/lib/python3.11/dist-packages (from dash>=2.6.0->open3d) (8.6.1)\n",
            "Requirement already satisfied: typing-extensions>=4.1.1 in /usr/local/lib/python3.11/dist-packages (from dash>=2.6.0->open3d) (4.12.2)\n",
            "Requirement already satisfied: requests in /usr/local/lib/python3.11/dist-packages (from dash>=2.6.0->open3d) (2.32.3)\n",
            "Collecting retrying (from dash>=2.6.0->open3d)\n",
            "  Downloading retrying-1.3.4-py3-none-any.whl.metadata (6.9 kB)\n",
            "Requirement already satisfied: nest-asyncio in /usr/local/lib/python3.11/dist-packages (from dash>=2.6.0->open3d) (1.6.0)\n",
            "Requirement already satisfied: setuptools in /usr/local/lib/python3.11/dist-packages (from dash>=2.6.0->open3d) (75.1.0)\n",
            "Requirement already satisfied: Jinja2>=3.1.2 in /usr/local/lib/python3.11/dist-packages (from flask>=3.0.0->open3d) (3.1.5)\n",
            "Requirement already satisfied: itsdangerous>=2.1.2 in /usr/local/lib/python3.11/dist-packages (from flask>=3.0.0->open3d) (2.2.0)\n",
            "Requirement already satisfied: click>=8.1.3 in /usr/local/lib/python3.11/dist-packages (from flask>=3.0.0->open3d) (8.1.8)\n",
            "Requirement already satisfied: blinker>=1.6.2 in /usr/local/lib/python3.11/dist-packages (from flask>=3.0.0->open3d) (1.9.0)\n",
            "Requirement already satisfied: comm>=0.1.3 in /usr/local/lib/python3.11/dist-packages (from ipywidgets>=8.0.4->open3d) (0.2.2)\n",
            "Requirement already satisfied: ipython>=6.1.0 in /usr/local/lib/python3.11/dist-packages (from ipywidgets>=8.0.4->open3d) (7.34.0)\n",
            "Requirement already satisfied: traitlets>=4.3.1 in /usr/local/lib/python3.11/dist-packages (from ipywidgets>=8.0.4->open3d) (5.7.1)\n",
            "Collecting widgetsnbextension~=4.0.12 (from ipywidgets>=8.0.4->open3d)\n",
            "  Downloading widgetsnbextension-4.0.13-py3-none-any.whl.metadata (1.6 kB)\n",
            "Requirement already satisfied: jupyterlab-widgets~=3.0.12 in /usr/local/lib/python3.11/dist-packages (from ipywidgets>=8.0.4->open3d) (3.0.13)\n",
            "Requirement already satisfied: contourpy>=1.0.1 in /usr/local/lib/python3.11/dist-packages (from matplotlib>=3->open3d) (1.3.1)\n",
            "Requirement already satisfied: cycler>=0.10 in /usr/local/lib/python3.11/dist-packages (from matplotlib>=3->open3d) (0.12.1)\n",
            "Requirement already satisfied: fonttools>=4.22.0 in /usr/local/lib/python3.11/dist-packages (from matplotlib>=3->open3d) (4.55.4)\n",
            "Requirement already satisfied: kiwisolver>=1.3.1 in /usr/local/lib/python3.11/dist-packages (from matplotlib>=3->open3d) (1.4.8)\n",
            "Requirement already satisfied: packaging>=20.0 in /usr/local/lib/python3.11/dist-packages (from matplotlib>=3->open3d) (24.2)\n",
            "Requirement already satisfied: pyparsing>=2.3.1 in /usr/local/lib/python3.11/dist-packages (from matplotlib>=3->open3d) (3.2.1)\n",
            "Requirement already satisfied: python-dateutil>=2.7 in /usr/local/lib/python3.11/dist-packages (from matplotlib>=3->open3d) (2.8.2)\n",
            "Requirement already satisfied: fastjsonschema>=2.15 in /usr/local/lib/python3.11/dist-packages (from nbformat>=5.7.0->open3d) (2.21.1)\n",
            "Requirement already satisfied: jsonschema>=2.6 in /usr/local/lib/python3.11/dist-packages (from nbformat>=5.7.0->open3d) (4.23.0)\n",
            "Requirement already satisfied: jupyter-core!=5.0.*,>=4.12 in /usr/local/lib/python3.11/dist-packages (from nbformat>=5.7.0->open3d) (5.7.2)\n",
            "Requirement already satisfied: pytz>=2020.1 in /usr/local/lib/python3.11/dist-packages (from pandas>=1.0->open3d) (2024.2)\n",
            "Requirement already satisfied: tzdata>=2022.7 in /usr/local/lib/python3.11/dist-packages (from pandas>=1.0->open3d) (2025.1)\n",
            "Requirement already satisfied: scipy>=1.6.0 in /usr/local/lib/python3.11/dist-packages (from scikit-learn>=0.21->open3d) (1.13.1)\n",
            "Requirement already satisfied: joblib>=1.2.0 in /usr/local/lib/python3.11/dist-packages (from scikit-learn>=0.21->open3d) (1.4.2)\n",
            "Requirement already satisfied: threadpoolctl>=3.1.0 in /usr/local/lib/python3.11/dist-packages (from scikit-learn>=0.21->open3d) (3.5.0)\n",
            "Requirement already satisfied: MarkupSafe>=2.1.1 in /usr/local/lib/python3.11/dist-packages (from werkzeug>=3.0.0->open3d) (3.0.2)\n",
            "Requirement already satisfied: jedi>=0.16 in /usr/local/lib/python3.11/dist-packages (from ipython>=6.1.0->ipywidgets>=8.0.4->open3d) (0.19.2)\n",
            "Requirement already satisfied: decorator in /usr/local/lib/python3.11/dist-packages (from ipython>=6.1.0->ipywidgets>=8.0.4->open3d) (4.4.2)\n",
            "Requirement already satisfied: pickleshare in /usr/local/lib/python3.11/dist-packages (from ipython>=6.1.0->ipywidgets>=8.0.4->open3d) (0.7.5)\n",
            "Requirement already satisfied: prompt-toolkit!=3.0.0,!=3.0.1,<3.1.0,>=2.0.0 in /usr/local/lib/python3.11/dist-packages (from ipython>=6.1.0->ipywidgets>=8.0.4->open3d) (3.0.50)\n",
            "Requirement already satisfied: pygments in /usr/local/lib/python3.11/dist-packages (from ipython>=6.1.0->ipywidgets>=8.0.4->open3d) (2.18.0)\n",
            "Requirement already satisfied: backcall in /usr/local/lib/python3.11/dist-packages (from ipython>=6.1.0->ipywidgets>=8.0.4->open3d) (0.2.0)\n",
            "Requirement already satisfied: matplotlib-inline in /usr/local/lib/python3.11/dist-packages (from ipython>=6.1.0->ipywidgets>=8.0.4->open3d) (0.1.7)\n",
            "Requirement already satisfied: pexpect>4.3 in /usr/local/lib/python3.11/dist-packages (from ipython>=6.1.0->ipywidgets>=8.0.4->open3d) (4.9.0)\n",
            "Requirement already satisfied: attrs>=22.2.0 in /usr/local/lib/python3.11/dist-packages (from jsonschema>=2.6->nbformat>=5.7.0->open3d) (24.3.0)\n",
            "Requirement already satisfied: jsonschema-specifications>=2023.03.6 in /usr/local/lib/python3.11/dist-packages (from jsonschema>=2.6->nbformat>=5.7.0->open3d) (2024.10.1)\n",
            "Requirement already satisfied: referencing>=0.28.4 in /usr/local/lib/python3.11/dist-packages (from jsonschema>=2.6->nbformat>=5.7.0->open3d) (0.36.1)\n",
            "Requirement already satisfied: rpds-py>=0.7.1 in /usr/local/lib/python3.11/dist-packages (from jsonschema>=2.6->nbformat>=5.7.0->open3d) (0.22.3)\n",
            "Requirement already satisfied: platformdirs>=2.5 in /usr/local/lib/python3.11/dist-packages (from jupyter-core!=5.0.*,>=4.12->nbformat>=5.7.0->open3d) (4.3.6)\n",
            "Requirement already satisfied: tenacity>=6.2.0 in /usr/local/lib/python3.11/dist-packages (from plotly>=5.0.0->dash>=2.6.0->open3d) (9.0.0)\n",
            "Requirement already satisfied: six>=1.5 in /usr/local/lib/python3.11/dist-packages (from python-dateutil>=2.7->matplotlib>=3->open3d) (1.17.0)\n",
            "Requirement already satisfied: zipp>=3.20 in /usr/local/lib/python3.11/dist-packages (from importlib-metadata->dash>=2.6.0->open3d) (3.21.0)\n",
            "Requirement already satisfied: charset-normalizer<4,>=2 in /usr/local/lib/python3.11/dist-packages (from requests->dash>=2.6.0->open3d) (3.4.1)\n",
            "Requirement already satisfied: idna<4,>=2.5 in /usr/local/lib/python3.11/dist-packages (from requests->dash>=2.6.0->open3d) (3.10)\n",
            "Requirement already satisfied: urllib3<3,>=1.21.1 in /usr/local/lib/python3.11/dist-packages (from requests->dash>=2.6.0->open3d) (2.3.0)\n",
            "Requirement already satisfied: certifi>=2017.4.17 in /usr/local/lib/python3.11/dist-packages (from requests->dash>=2.6.0->open3d) (2024.12.14)\n",
            "Requirement already satisfied: parso<0.9.0,>=0.8.4 in /usr/local/lib/python3.11/dist-packages (from jedi>=0.16->ipython>=6.1.0->ipywidgets>=8.0.4->open3d) (0.8.4)\n",
            "Requirement already satisfied: ptyprocess>=0.5 in /usr/local/lib/python3.11/dist-packages (from pexpect>4.3->ipython>=6.1.0->ipywidgets>=8.0.4->open3d) (0.7.0)\n",
            "Requirement already satisfied: wcwidth in /usr/local/lib/python3.11/dist-packages (from prompt-toolkit!=3.0.0,!=3.0.1,<3.1.0,>=2.0.0->ipython>=6.1.0->ipywidgets>=8.0.4->open3d) (0.2.13)\n",
            "Downloading open3d-0.19.0-cp311-cp311-manylinux_2_31_x86_64.whl (447.7 MB)\n",
            "\u001b[2K   \u001b[90m━━━━━━━━━━━━━━━━━━━━━━━━━━━━━━━━━━━━━━━━\u001b[0m \u001b[32m447.7/447.7 MB\u001b[0m \u001b[31m1.3 MB/s\u001b[0m eta \u001b[36m0:00:00\u001b[0m\n",
            "\u001b[?25hDownloading dash-2.18.2-py3-none-any.whl (7.8 MB)\n",
            "\u001b[2K   \u001b[90m━━━━━━━━━━━━━━━━━━━━━━━━━━━━━━━━━━━━━━━━\u001b[0m \u001b[32m7.8/7.8 MB\u001b[0m \u001b[31m90.0 MB/s\u001b[0m eta \u001b[36m0:00:00\u001b[0m\n",
            "\u001b[?25hDownloading dash_core_components-2.0.0-py3-none-any.whl (3.8 kB)\n",
            "Downloading dash_html_components-2.0.0-py3-none-any.whl (4.1 kB)\n",
            "Downloading dash_table-5.0.0-py3-none-any.whl (3.9 kB)\n",
            "Downloading flask-3.0.3-py3-none-any.whl (101 kB)\n",
            "\u001b[2K   \u001b[90m━━━━━━━━━━━━━━━━━━━━━━━━━━━━━━━━━━━━━━━━\u001b[0m \u001b[32m101.7/101.7 kB\u001b[0m \u001b[31m10.8 MB/s\u001b[0m eta \u001b[36m0:00:00\u001b[0m\n",
            "\u001b[?25hDownloading ipywidgets-8.1.5-py3-none-any.whl (139 kB)\n",
            "\u001b[2K   \u001b[90m━━━━━━━━━━━━━━━━━━━━━━━━━━━━━━━━━━━━━━━━\u001b[0m \u001b[32m139.8/139.8 kB\u001b[0m \u001b[31m12.3 MB/s\u001b[0m eta \u001b[36m0:00:00\u001b[0m\n",
            "\u001b[?25hDownloading werkzeug-3.0.6-py3-none-any.whl (227 kB)\n",
            "\u001b[2K   \u001b[90m━━━━━━━━━━━━━━━━━━━━━━━━━━━━━━━━━━━━━━━━\u001b[0m \u001b[32m228.0/228.0 kB\u001b[0m \u001b[31m21.2 MB/s\u001b[0m eta \u001b[36m0:00:00\u001b[0m\n",
            "\u001b[?25hDownloading addict-2.4.0-py3-none-any.whl (3.8 kB)\n",
            "Downloading ConfigArgParse-1.7-py3-none-any.whl (25 kB)\n",
            "Downloading pyquaternion-0.9.9-py3-none-any.whl (14 kB)\n",
            "Downloading widgetsnbextension-4.0.13-py3-none-any.whl (2.3 MB)\n",
            "\u001b[2K   \u001b[90m━━━━━━━━━━━━━━━━━━━━━━━━━━━━━━━━━━━━━━━━\u001b[0m \u001b[32m2.3/2.3 MB\u001b[0m \u001b[31m75.0 MB/s\u001b[0m eta \u001b[36m0:00:00\u001b[0m\n",
            "\u001b[?25hDownloading retrying-1.3.4-py3-none-any.whl (11 kB)\n",
            "Installing collected packages: dash-table, dash-html-components, dash-core-components, addict, widgetsnbextension, werkzeug, retrying, pyquaternion, configargparse, flask, ipywidgets, dash, open3d\n",
            "  Attempting uninstall: widgetsnbextension\n",
            "    Found existing installation: widgetsnbextension 3.6.10\n",
            "    Uninstalling widgetsnbextension-3.6.10:\n",
            "      Successfully uninstalled widgetsnbextension-3.6.10\n",
            "  Attempting uninstall: werkzeug\n",
            "    Found existing installation: Werkzeug 3.1.3\n",
            "    Uninstalling Werkzeug-3.1.3:\n",
            "      Successfully uninstalled Werkzeug-3.1.3\n",
            "  Attempting uninstall: flask\n",
            "    Found existing installation: Flask 3.1.0\n",
            "    Uninstalling Flask-3.1.0:\n",
            "      Successfully uninstalled Flask-3.1.0\n",
            "  Attempting uninstall: ipywidgets\n",
            "    Found existing installation: ipywidgets 7.7.1\n",
            "    Uninstalling ipywidgets-7.7.1:\n",
            "      Successfully uninstalled ipywidgets-7.7.1\n",
            "Successfully installed addict-2.4.0 configargparse-1.7 dash-2.18.2 dash-core-components-2.0.0 dash-html-components-2.0.0 dash-table-5.0.0 flask-3.0.3 ipywidgets-8.1.5 open3d-0.19.0 pyquaternion-0.9.9 retrying-1.3.4 werkzeug-3.0.6 widgetsnbextension-4.0.13\n",
            "Cloning into 'AML_group'...\n",
            "remote: Enumerating objects: 208, done.\u001b[K\n",
            "remote: Counting objects: 100% (21/21), done.\u001b[K\n",
            "remote: Compressing objects: 100% (18/18), done.\u001b[K\n",
            "remote: Total 208 (delta 9), reused 12 (delta 3), pack-reused 187 (from 1)\u001b[K\n",
            "Receiving objects: 100% (208/208), 11.07 MiB | 17.88 MiB/s, done.\n",
            "Resolving deltas: 100% (108/108), done.\n",
            "/content/AML_group\n",
            "Mounted at /content/drive\n"
          ]
        }
      ],
      "source": [
        "!pip install git+https://github.com/openai/CLIP.git\n",
        "!pip install kaolin==0.17.0 -f https://nvidia-kaolin.s3.us-east-2.amazonaws.com/torch-2.5.1_cu121.html\n",
        "!pip install open-clip-torch\n",
        "\n",
        "!pip install open3d\n",
        "\n",
        "import os\n",
        "\n",
        "if not os.path.exists(\"AML_group\"):\n",
        "    !git clone https://github.com/AlesCarl/AML_group.git\n",
        "else:\n",
        "    print(\"Repository già clonato.\")\n",
        "%cd AML_group\n",
        "\n",
        "from google.colab import drive\n",
        "drive.mount('/content/drive')"
      ]
    },
    {
      "cell_type": "markdown",
      "source": [
        "#### Imports"
      ],
      "metadata": {
        "id": "6LyyUROpKMQ2"
      }
    },
    {
      "cell_type": "code",
      "source": [
        "import clip\n",
        "import copy\n",
        "import json\n",
        "import kaolin as kal\n",
        "import kaolin.ops.mesh\n",
        "import numpy as np\n",
        "import os\n",
        "import random\n",
        "import torch\n",
        "import torch.nn as nn\n",
        "import torchvision\n",
        "import open_clip\n",
        "import open3d as o3d\n",
        "import numpy as np\n",
        "import h5py\n",
        "import json\n",
        "import pickle as pkl\n",
        "\n",
        "\n",
        "from itertools import permutations, product\n",
        "from Normalization import MeshNormalizer\n",
        "from utils import device, color_mesh\n",
        "from mesh import Mesh\n",
        "from render import Renderer\n",
        "\n",
        "from pathlib import Path\n",
        "from tqdm import tqdm\n",
        "from torch.autograd import grad\n",
        "from torchvision import transforms\n",
        "from torch.utils.data import Dataset, DataLoader, Subset\n",
        "from torchvision.transforms import functional as F\n",
        "from PIL import Image\n",
        "\n",
        "\n",
        "seed = 42\n",
        "torch.manual_seed(seed)\n",
        "torch.cuda.manual_seed(seed)\n",
        "torch.cuda.manual_seed_all(seed)\n",
        "random.seed(seed)\n",
        "np.random.seed(seed)\n",
        "torch.backends.cudnn.benchmark = False\n",
        "torch.backends.cudnn.deterministic = True"
      ],
      "metadata": {
        "colab": {
          "base_uri": "https://localhost:8080/",
          "height": 142
        },
        "id": "SaK9SPJ9XLtJ",
        "outputId": "f7031340-dfd4-4991-939f-03bddee0398e"
      },
      "execution_count": 2,
      "outputs": [
        {
          "output_type": "stream",
          "name": "stdout",
          "text": [
            "Warp 1.5.1 initialized:\n",
            "   CUDA Toolkit 12.6, Driver 12.2\n",
            "   Devices:\n",
            "     \"cpu\"      : \"x86_64\"\n",
            "     \"cuda:0\"   : \"Tesla T4\" (15 GiB, sm_75, mempool enabled)\n",
            "   Kernel cache:\n",
            "     /root/.cache/warp/1.5.1\n"
          ]
        }
      ]
    },
    {
      "cell_type": "markdown",
      "source": [
        "# Neural Highlighter Class"
      ],
      "metadata": {
        "id": "AROS8JDQX2TL"
      }
    },
    {
      "cell_type": "code",
      "source": [
        "class NeuralHighlighter(nn.Module):\n",
        "    def __init__(self, input_dim, hidden_dim, output_dim, num_layers):\n",
        "        super(NeuralHighlighter, self).__init__()\n",
        "\n",
        "        layers = []\n",
        "        for i in range(num_layers):\n",
        "            layers.append(nn.Linear(input_dim if i == 0 else hidden_dim, hidden_dim))\n",
        "            layers.append(nn.ReLU())\n",
        "            layers.append(nn.LayerNorm([hidden_dim]))\n",
        "\n",
        "        layers.append(nn.Linear(hidden_dim, output_dim))\n",
        "        layers.append(nn.Softmax(dim=1))\n",
        "\n",
        "        self.mlp = nn.ModuleList(layers)\n",
        "\n",
        "    def forward(self, x):\n",
        "        for layer in self.mlp:\n",
        "            x = layer(x)\n",
        "        return x"
      ],
      "metadata": {
        "id": "xZft-SeZXzYD"
      },
      "execution_count": 3,
      "outputs": []
    },
    {
      "cell_type": "markdown",
      "source": [
        "## Utility Functions"
      ],
      "metadata": {
        "id": "ZdoZUiilX-Y3"
      }
    },
    {
      "cell_type": "code",
      "source": [
        "def get_clip_model(clip_model):\n",
        "    device = 'cuda'\n",
        "    model, preprocess = clip.load(clip_model, device=device) # jit = True for better perfomance\n",
        "    return model\n",
        "\n",
        "def save_final_results(log_dir, name, mesh, mlp, vertices, colors, render, background):\n",
        "    mlp.eval()\n",
        "    with torch.no_grad():\n",
        "        probs = mlp(vertices)\n",
        "        max_idx = torch.argmax(probs, 1, keepdim=True)\n",
        "        one_hot = torch.zeros(probs.shape).to(device)\n",
        "        one_hot = one_hot.scatter_(1, max_idx, 1)\n",
        "        sampled_mesh = mesh\n",
        "\n",
        "        highlight = torch.tensor([204, 255, 0]).to(device)\n",
        "        gray = torch.tensor([180, 180, 180]).to(device)\n",
        "        colors = torch.stack((highlight/255, gray/255)).to(device)\n",
        "        color_mesh(one_hot, sampled_mesh, colors)\n",
        "\n",
        "        rendered_images, _, _ = render.render_views(sampled_mesh, num_views=5, show=False, center_azim=0, center_elev=0, std=1, return_views=True, lighting=True, background=background)\n",
        "\n",
        "        final_color = torch.zeros(vertices.shape[0], 3).to(device)\n",
        "        final_color = torch.where(max_idx==0, highlight, gray)\n",
        "        mesh.export(os.path.join(log_dir, f\"{name}.ply\"), extension=\"ply\", color=final_color)\n",
        "        save_renders(log_dir, 0, rendered_images, name='final_render.jpg')\n",
        "\n",
        "def clip_loss(n_augs, rendered_images, encoded_text, clip_transform, augment_transform, clip_model):\n",
        "    if n_augs == 0:\n",
        "        clip_image = clip_transform(rendered_images)\n",
        "        encoded_renders = clip_model.encode_image(clip_image)\n",
        "        encoded_renders = encoded_renders / encoded_renders.norm(dim=1, keepdim=True)\n",
        "        if encoded_text.shape[0] > 1:\n",
        "            loss = torch.cosine_similarity(torch.mean(encoded_renders, dim=0),\n",
        "                                                torch.mean(encoded_text, dim=0), dim=0)\n",
        "        else:\n",
        "            loss = torch.cosine_similarity(torch.mean(encoded_renders, dim=0, keepdim=True),\n",
        "                                                encoded_text)\n",
        "    elif n_augs > 0:\n",
        "        loss = 0.0\n",
        "        for _ in range(n_augs):\n",
        "            augmented_image = augment_transform(rendered_images)\n",
        "            print(augmented_image.shape)\n",
        "            encoded_renders = clip_model.encode_image(augmented_image)\n",
        "            if encoded_text.shape[0] > 1:\n",
        "                loss -= torch.cosine_similarity(torch.mean(encoded_renders, dim=0),\n",
        "                                                    torch.mean(encoded_text, dim=0), dim=0)\n",
        "            else:\n",
        "                loss -= torch.cosine_similarity(torch.mean(encoded_renders, dim=0, keepdim=True),\n",
        "                                                    encoded_text)\n",
        "        loss= loss / n_augs\n",
        "    return loss\n",
        "\n",
        "def save_renders(dir, i, rendered_images, name=None):\n",
        "    if name is not None:\n",
        "        torchvision.utils.save_image(rendered_images, os.path.join(dir, name))\n",
        "    else:\n",
        "        torchvision.utils.save_image(rendered_images, os.path.join(dir, 'renders/iter_{}.jpg'.format(i)))"
      ],
      "metadata": {
        "id": "zGgxV8xkYBvS"
      },
      "execution_count": 4,
      "outputs": []
    },
    {
      "cell_type": "markdown",
      "source": [
        "# Optimizer Loop"
      ],
      "metadata": {
        "id": "PzXksQQ4YQoW"
      }
    },
    {
      "cell_type": "code",
      "source": [
        "def optimize(obj_path, learning_rate, n_layers, n_views, n_augs, prompt, augment_transform=None):\n",
        "    render_res = 224\n",
        "    n_iter = 1000\n",
        "    res = 224\n",
        "    output_dir = './output/'\n",
        "    clip_model = 'ViT-L/14'\n",
        "\n",
        "    input_dim = 3\n",
        "    hidden_dim = 256\n",
        "    output_dim = 2\n",
        "\n",
        "    Path(os.path.join(output_dir, 'renders')).mkdir(parents=True, exist_ok=True)\n",
        "\n",
        "    objbase, extension = os.path.splitext(os.path.basename(obj_path))\n",
        "\n",
        "    render = Renderer(dim=(render_res, render_res), background_image='./data/bg1.jpg')\n",
        "    mesh = Mesh(obj_path)\n",
        "    MeshNormalizer(mesh)()\n",
        "\n",
        "    # Initialize variables\n",
        "    background = torch.tensor((1., 1., 1.)).to(device)\n",
        "\n",
        "    # CLIP and augmentation transform\n",
        "    clip_normalizer = transforms.Normalize((0.48145466, 0.4578275, 0.40821073), (0.26862954, 0.26130258, 0.27577711))\n",
        "    clip_transform = transforms.Compose([\n",
        "        transforms.Resize((res, res)),\n",
        "        clip_normalizer\n",
        "    ])\n",
        "    if augment_transform is None:\n",
        "        augment_transform = transforms.Compose([\n",
        "            transforms.RandomResizedCrop(res, scale=(1, 1)),\n",
        "            transforms.RandomPerspective(fill=1, p=0.8, distortion_scale=0.5),\n",
        "            clip_normalizer\n",
        "        ])\n",
        "\n",
        "    # MLP and optimizer Settings\n",
        "    mlp = NeuralHighlighter(input_dim, hidden_dim, output_dim, n_layers).to(device)\n",
        "    optim = torch.optim.Adam(mlp.parameters(), learning_rate)\n",
        "\n",
        "    # List of possible colors\n",
        "    rgb_to_color = {(204/255, 1., 0.): \"highlighter\", (180/255, 180/255, 180/255): \"gray\"}\n",
        "    color_to_rgb = {\"highlighter\": [204/255, 1., 0.], \"gray\": [180/255, 180/255, 180/255]}\n",
        "    full_colors = [[204/255, 1., 0.], [180/255, 180/255, 180/255]]\n",
        "    colors = torch.tensor(full_colors).to(device)\n",
        "\n",
        "    # Encode prompt with CLIP\n",
        "    model = get_clip_model(clip_model)\n",
        "\n",
        "    with torch.no_grad():\n",
        "        prompt_token = clip.tokenize([prompt]).to(device)\n",
        "        encoded_text = model.encode_text(prompt_token)\n",
        "        encoded_text = encoded_text / encoded_text.norm(dim=1, keepdim=True)\n",
        "\n",
        "    vertices = copy.deepcopy(mesh.vertices)\n",
        "\n",
        "    losses = []\n",
        "\n",
        "    # Optimization loop\n",
        "    for i in tqdm(range(n_iter)):\n",
        "        optim.zero_grad()\n",
        "\n",
        "        # predict highlight probabilities\n",
        "        pred_class = mlp(vertices)\n",
        "\n",
        "        # color and render mesh\n",
        "        sampled_mesh = mesh\n",
        "        color_mesh(pred_class, sampled_mesh, colors)\n",
        "        rendered_images, elev, azim = render.render_views(sampled_mesh, num_views=n_views, show=False, center_azim=0, center_elev=0, std=1, return_views=True, lighting=True, background=background)\n",
        "\n",
        "        # Calculate CLIP Loss\n",
        "        loss = clip_loss(n_augs, rendered_images, encoded_text, clip_transform, augment_transform, model)\n",
        "        loss.backward(retain_graph=True)\n",
        "\n",
        "        optim.step()\n",
        "\n",
        "        # update variables + record loss\n",
        "        with torch.no_grad():\n",
        "            losses.append(loss.item())\n",
        "\n",
        "        # report results\n",
        "        if i % 100 == 0:\n",
        "            print(\"Last 100 CLIP score: {}\".format(np.mean(losses[-100:])))\n",
        "            save_renders(output_dir, i, rendered_images)\n",
        "            with open(os.path.join(output_dir, \"training_info.txt\"), \"a\") as f:\n",
        "                f.write(f\"For iteration {i}... Prompt: {prompt}, Last 100 avg CLIP score: {np.mean(losses[-100:])}, CLIP score {losses[-1]}\\n\")\n",
        "        #if i == 700:\n",
        "        #  break\n",
        "\n",
        "    # save results\n",
        "    save_final_results(output_dir, 'final_mesh', mesh, mlp, vertices, colors, render, background)\n",
        "\n",
        "    return mlp"
      ],
      "metadata": {
        "id": "XvdLVtA1YTUa"
      },
      "execution_count": 5,
      "outputs": []
    },
    {
      "cell_type": "markdown",
      "source": [
        "# First Part"
      ],
      "metadata": {
        "id": "_iNaf_PSP-m8"
      }
    },
    {
      "cell_type": "code",
      "source": [
        "obj_path = 'data/horse.obj'\n",
        "\n",
        "learning_rate = 0.0001\n",
        "n_layers = 6\n",
        "n_views = 5\n",
        "n_augs = 6\n",
        "\n",
        "prompt= \"A 3D rendering of a Horse with highlighted Shoes.\"\n",
        "\n",
        "model_instance = optimize(obj_path, learning_rate, n_layers, n_views, n_augs, prompt)"
      ],
      "metadata": {
        "id": "hW6byH5pI_4O",
        "colab": {
          "base_uri": "https://localhost:8080/",
          "height": 400
        },
        "outputId": "4e0079bd-d526-49a1-f355-4ec831910e88"
      },
      "execution_count": null,
      "outputs": [
        {
          "output_type": "stream",
          "name": "stdout",
          "text": [
            "Background image path:  None\n"
          ]
        },
        {
          "output_type": "error",
          "ename": "OutOfMemoryError",
          "evalue": "CUDA out of memory. Tried to allocate 20.00 MiB. GPU 0 has a total capacity of 14.75 GiB of which 1.06 MiB is free. Process 2351 has 14.74 GiB memory in use. Of the allocated memory 12.97 GiB is allocated by PyTorch, and 1.64 GiB is reserved by PyTorch but unallocated. If reserved but unallocated memory is large try setting PYTORCH_CUDA_ALLOC_CONF=expandable_segments:True to avoid fragmentation.  See documentation for Memory Management  (https://pytorch.org/docs/stable/notes/cuda.html#environment-variables)",
          "traceback": [
            "\u001b[0;31m---------------------------------------------------------------------------\u001b[0m",
            "\u001b[0;31mOutOfMemoryError\u001b[0m                          Traceback (most recent call last)",
            "\u001b[0;32m<ipython-input-7-3629323b3cf0>\u001b[0m in \u001b[0;36m<cell line: 0>\u001b[0;34m()\u001b[0m\n\u001b[1;32m      8\u001b[0m \u001b[0mprompt\u001b[0m\u001b[0;34m=\u001b[0m \u001b[0;34m\"A 3D rendering of a Horse with highlighted Shoes.\"\u001b[0m\u001b[0;34m\u001b[0m\u001b[0;34m\u001b[0m\u001b[0m\n\u001b[1;32m      9\u001b[0m \u001b[0;34m\u001b[0m\u001b[0m\n\u001b[0;32m---> 10\u001b[0;31m \u001b[0mmodel_instance\u001b[0m \u001b[0;34m=\u001b[0m \u001b[0moptimize\u001b[0m\u001b[0;34m(\u001b[0m\u001b[0mobj_path\u001b[0m\u001b[0;34m,\u001b[0m \u001b[0mlearning_rate\u001b[0m\u001b[0;34m,\u001b[0m \u001b[0mn_layers\u001b[0m\u001b[0;34m,\u001b[0m \u001b[0mn_views\u001b[0m\u001b[0;34m,\u001b[0m \u001b[0mn_augs\u001b[0m\u001b[0;34m,\u001b[0m \u001b[0mprompt\u001b[0m\u001b[0;34m)\u001b[0m\u001b[0;34m\u001b[0m\u001b[0;34m\u001b[0m\u001b[0m\n\u001b[0m",
            "\u001b[0;32m<ipython-input-5-081a3c2b6ba2>\u001b[0m in \u001b[0;36moptimize\u001b[0;34m(obj_path, learning_rate, n_layers, n_views, n_augs, prompt, augment_transform)\u001b[0m\n\u001b[1;32m     45\u001b[0m \u001b[0;34m\u001b[0m\u001b[0m\n\u001b[1;32m     46\u001b[0m     \u001b[0;31m# Encode prompt with CLIP\u001b[0m\u001b[0;34m\u001b[0m\u001b[0;34m\u001b[0m\u001b[0m\n\u001b[0;32m---> 47\u001b[0;31m     \u001b[0mmodel\u001b[0m \u001b[0;34m=\u001b[0m \u001b[0mget_clip_model\u001b[0m\u001b[0;34m(\u001b[0m\u001b[0mclip_model\u001b[0m\u001b[0;34m)\u001b[0m\u001b[0;34m\u001b[0m\u001b[0;34m\u001b[0m\u001b[0m\n\u001b[0m\u001b[1;32m     48\u001b[0m \u001b[0;34m\u001b[0m\u001b[0m\n\u001b[1;32m     49\u001b[0m     \u001b[0;32mwith\u001b[0m \u001b[0mtorch\u001b[0m\u001b[0;34m.\u001b[0m\u001b[0mno_grad\u001b[0m\u001b[0;34m(\u001b[0m\u001b[0;34m)\u001b[0m\u001b[0;34m:\u001b[0m\u001b[0;34m\u001b[0m\u001b[0;34m\u001b[0m\u001b[0m\n",
            "\u001b[0;32m<ipython-input-4-bac55f209378>\u001b[0m in \u001b[0;36mget_clip_model\u001b[0;34m(clip_model)\u001b[0m\n\u001b[1;32m      1\u001b[0m \u001b[0;32mdef\u001b[0m \u001b[0mget_clip_model\u001b[0m\u001b[0;34m(\u001b[0m\u001b[0mclip_model\u001b[0m\u001b[0;34m)\u001b[0m\u001b[0;34m:\u001b[0m\u001b[0;34m\u001b[0m\u001b[0;34m\u001b[0m\u001b[0m\n\u001b[1;32m      2\u001b[0m     \u001b[0mdevice\u001b[0m \u001b[0;34m=\u001b[0m \u001b[0;34m'cuda'\u001b[0m\u001b[0;34m\u001b[0m\u001b[0;34m\u001b[0m\u001b[0m\n\u001b[0;32m----> 3\u001b[0;31m     \u001b[0mmodel\u001b[0m\u001b[0;34m,\u001b[0m \u001b[0mpreprocess\u001b[0m \u001b[0;34m=\u001b[0m \u001b[0mclip\u001b[0m\u001b[0;34m.\u001b[0m\u001b[0mload\u001b[0m\u001b[0;34m(\u001b[0m\u001b[0mclip_model\u001b[0m\u001b[0;34m,\u001b[0m \u001b[0mdevice\u001b[0m\u001b[0;34m=\u001b[0m\u001b[0mdevice\u001b[0m\u001b[0;34m)\u001b[0m \u001b[0;31m# jit = True for better perfomance\u001b[0m\u001b[0;34m\u001b[0m\u001b[0;34m\u001b[0m\u001b[0m\n\u001b[0m\u001b[1;32m      4\u001b[0m     \u001b[0;32mreturn\u001b[0m \u001b[0mmodel\u001b[0m\u001b[0;34m\u001b[0m\u001b[0;34m\u001b[0m\u001b[0m\n\u001b[1;32m      5\u001b[0m \u001b[0;34m\u001b[0m\u001b[0m\n",
            "\u001b[0;32m/usr/local/lib/python3.11/dist-packages/clip/clip.py\u001b[0m in \u001b[0;36mload\u001b[0;34m(name, device, jit, download_root)\u001b[0m\n\u001b[1;32m    137\u001b[0m \u001b[0;34m\u001b[0m\u001b[0m\n\u001b[1;32m    138\u001b[0m     \u001b[0;32mif\u001b[0m \u001b[0;32mnot\u001b[0m \u001b[0mjit\u001b[0m\u001b[0;34m:\u001b[0m\u001b[0;34m\u001b[0m\u001b[0;34m\u001b[0m\u001b[0m\n\u001b[0;32m--> 139\u001b[0;31m         \u001b[0mmodel\u001b[0m \u001b[0;34m=\u001b[0m \u001b[0mbuild_model\u001b[0m\u001b[0;34m(\u001b[0m\u001b[0mstate_dict\u001b[0m \u001b[0;32mor\u001b[0m \u001b[0mmodel\u001b[0m\u001b[0;34m.\u001b[0m\u001b[0mstate_dict\u001b[0m\u001b[0;34m(\u001b[0m\u001b[0;34m)\u001b[0m\u001b[0;34m)\u001b[0m\u001b[0;34m.\u001b[0m\u001b[0mto\u001b[0m\u001b[0;34m(\u001b[0m\u001b[0mdevice\u001b[0m\u001b[0;34m)\u001b[0m\u001b[0;34m\u001b[0m\u001b[0;34m\u001b[0m\u001b[0m\n\u001b[0m\u001b[1;32m    140\u001b[0m         \u001b[0;32mif\u001b[0m \u001b[0mstr\u001b[0m\u001b[0;34m(\u001b[0m\u001b[0mdevice\u001b[0m\u001b[0;34m)\u001b[0m \u001b[0;34m==\u001b[0m \u001b[0;34m\"cpu\"\u001b[0m\u001b[0;34m:\u001b[0m\u001b[0;34m\u001b[0m\u001b[0;34m\u001b[0m\u001b[0m\n\u001b[1;32m    141\u001b[0m             \u001b[0mmodel\u001b[0m\u001b[0;34m.\u001b[0m\u001b[0mfloat\u001b[0m\u001b[0;34m(\u001b[0m\u001b[0;34m)\u001b[0m\u001b[0;34m\u001b[0m\u001b[0;34m\u001b[0m\u001b[0m\n",
            "\u001b[0;32m/usr/local/lib/python3.11/dist-packages/torch/nn/modules/module.py\u001b[0m in \u001b[0;36mto\u001b[0;34m(self, *args, **kwargs)\u001b[0m\n\u001b[1;32m   1338\u001b[0m                     \u001b[0;32mraise\u001b[0m\u001b[0;34m\u001b[0m\u001b[0;34m\u001b[0m\u001b[0m\n\u001b[1;32m   1339\u001b[0m \u001b[0;34m\u001b[0m\u001b[0m\n\u001b[0;32m-> 1340\u001b[0;31m         \u001b[0;32mreturn\u001b[0m \u001b[0mself\u001b[0m\u001b[0;34m.\u001b[0m\u001b[0m_apply\u001b[0m\u001b[0;34m(\u001b[0m\u001b[0mconvert\u001b[0m\u001b[0;34m)\u001b[0m\u001b[0;34m\u001b[0m\u001b[0;34m\u001b[0m\u001b[0m\n\u001b[0m\u001b[1;32m   1341\u001b[0m \u001b[0;34m\u001b[0m\u001b[0m\n\u001b[1;32m   1342\u001b[0m     def register_full_backward_pre_hook(\n",
            "\u001b[0;32m/usr/local/lib/python3.11/dist-packages/torch/nn/modules/module.py\u001b[0m in \u001b[0;36m_apply\u001b[0;34m(self, fn, recurse)\u001b[0m\n\u001b[1;32m    898\u001b[0m         \u001b[0;32mif\u001b[0m \u001b[0mrecurse\u001b[0m\u001b[0;34m:\u001b[0m\u001b[0;34m\u001b[0m\u001b[0;34m\u001b[0m\u001b[0m\n\u001b[1;32m    899\u001b[0m             \u001b[0;32mfor\u001b[0m \u001b[0mmodule\u001b[0m \u001b[0;32min\u001b[0m \u001b[0mself\u001b[0m\u001b[0;34m.\u001b[0m\u001b[0mchildren\u001b[0m\u001b[0;34m(\u001b[0m\u001b[0;34m)\u001b[0m\u001b[0;34m:\u001b[0m\u001b[0;34m\u001b[0m\u001b[0;34m\u001b[0m\u001b[0m\n\u001b[0;32m--> 900\u001b[0;31m                 \u001b[0mmodule\u001b[0m\u001b[0;34m.\u001b[0m\u001b[0m_apply\u001b[0m\u001b[0;34m(\u001b[0m\u001b[0mfn\u001b[0m\u001b[0;34m)\u001b[0m\u001b[0;34m\u001b[0m\u001b[0;34m\u001b[0m\u001b[0m\n\u001b[0m\u001b[1;32m    901\u001b[0m \u001b[0;34m\u001b[0m\u001b[0m\n\u001b[1;32m    902\u001b[0m         \u001b[0;32mdef\u001b[0m \u001b[0mcompute_should_use_set_data\u001b[0m\u001b[0;34m(\u001b[0m\u001b[0mtensor\u001b[0m\u001b[0;34m,\u001b[0m \u001b[0mtensor_applied\u001b[0m\u001b[0;34m)\u001b[0m\u001b[0;34m:\u001b[0m\u001b[0;34m\u001b[0m\u001b[0;34m\u001b[0m\u001b[0m\n",
            "\u001b[0;32m/usr/local/lib/python3.11/dist-packages/torch/nn/modules/module.py\u001b[0m in \u001b[0;36m_apply\u001b[0;34m(self, fn, recurse)\u001b[0m\n\u001b[1;32m    898\u001b[0m         \u001b[0;32mif\u001b[0m \u001b[0mrecurse\u001b[0m\u001b[0;34m:\u001b[0m\u001b[0;34m\u001b[0m\u001b[0;34m\u001b[0m\u001b[0m\n\u001b[1;32m    899\u001b[0m             \u001b[0;32mfor\u001b[0m \u001b[0mmodule\u001b[0m \u001b[0;32min\u001b[0m \u001b[0mself\u001b[0m\u001b[0;34m.\u001b[0m\u001b[0mchildren\u001b[0m\u001b[0;34m(\u001b[0m\u001b[0;34m)\u001b[0m\u001b[0;34m:\u001b[0m\u001b[0;34m\u001b[0m\u001b[0;34m\u001b[0m\u001b[0m\n\u001b[0;32m--> 900\u001b[0;31m                 \u001b[0mmodule\u001b[0m\u001b[0;34m.\u001b[0m\u001b[0m_apply\u001b[0m\u001b[0;34m(\u001b[0m\u001b[0mfn\u001b[0m\u001b[0;34m)\u001b[0m\u001b[0;34m\u001b[0m\u001b[0;34m\u001b[0m\u001b[0m\n\u001b[0m\u001b[1;32m    901\u001b[0m \u001b[0;34m\u001b[0m\u001b[0m\n\u001b[1;32m    902\u001b[0m         \u001b[0;32mdef\u001b[0m \u001b[0mcompute_should_use_set_data\u001b[0m\u001b[0;34m(\u001b[0m\u001b[0mtensor\u001b[0m\u001b[0;34m,\u001b[0m \u001b[0mtensor_applied\u001b[0m\u001b[0;34m)\u001b[0m\u001b[0;34m:\u001b[0m\u001b[0;34m\u001b[0m\u001b[0;34m\u001b[0m\u001b[0m\n",
            "\u001b[0;32m/usr/local/lib/python3.11/dist-packages/torch/nn/modules/module.py\u001b[0m in \u001b[0;36m_apply\u001b[0;34m(self, fn, recurse)\u001b[0m\n\u001b[1;32m    898\u001b[0m         \u001b[0;32mif\u001b[0m \u001b[0mrecurse\u001b[0m\u001b[0;34m:\u001b[0m\u001b[0;34m\u001b[0m\u001b[0;34m\u001b[0m\u001b[0m\n\u001b[1;32m    899\u001b[0m             \u001b[0;32mfor\u001b[0m \u001b[0mmodule\u001b[0m \u001b[0;32min\u001b[0m \u001b[0mself\u001b[0m\u001b[0;34m.\u001b[0m\u001b[0mchildren\u001b[0m\u001b[0;34m(\u001b[0m\u001b[0;34m)\u001b[0m\u001b[0;34m:\u001b[0m\u001b[0;34m\u001b[0m\u001b[0;34m\u001b[0m\u001b[0m\n\u001b[0;32m--> 900\u001b[0;31m                 \u001b[0mmodule\u001b[0m\u001b[0;34m.\u001b[0m\u001b[0m_apply\u001b[0m\u001b[0;34m(\u001b[0m\u001b[0mfn\u001b[0m\u001b[0;34m)\u001b[0m\u001b[0;34m\u001b[0m\u001b[0;34m\u001b[0m\u001b[0m\n\u001b[0m\u001b[1;32m    901\u001b[0m \u001b[0;34m\u001b[0m\u001b[0m\n\u001b[1;32m    902\u001b[0m         \u001b[0;32mdef\u001b[0m \u001b[0mcompute_should_use_set_data\u001b[0m\u001b[0;34m(\u001b[0m\u001b[0mtensor\u001b[0m\u001b[0;34m,\u001b[0m \u001b[0mtensor_applied\u001b[0m\u001b[0;34m)\u001b[0m\u001b[0;34m:\u001b[0m\u001b[0;34m\u001b[0m\u001b[0;34m\u001b[0m\u001b[0m\n",
            "\u001b[0;32m/usr/local/lib/python3.11/dist-packages/torch/nn/modules/module.py\u001b[0m in \u001b[0;36m_apply\u001b[0;34m(self, fn, recurse)\u001b[0m\n\u001b[1;32m    898\u001b[0m         \u001b[0;32mif\u001b[0m \u001b[0mrecurse\u001b[0m\u001b[0;34m:\u001b[0m\u001b[0;34m\u001b[0m\u001b[0;34m\u001b[0m\u001b[0m\n\u001b[1;32m    899\u001b[0m             \u001b[0;32mfor\u001b[0m \u001b[0mmodule\u001b[0m \u001b[0;32min\u001b[0m \u001b[0mself\u001b[0m\u001b[0;34m.\u001b[0m\u001b[0mchildren\u001b[0m\u001b[0;34m(\u001b[0m\u001b[0;34m)\u001b[0m\u001b[0;34m:\u001b[0m\u001b[0;34m\u001b[0m\u001b[0;34m\u001b[0m\u001b[0m\n\u001b[0;32m--> 900\u001b[0;31m                 \u001b[0mmodule\u001b[0m\u001b[0;34m.\u001b[0m\u001b[0m_apply\u001b[0m\u001b[0;34m(\u001b[0m\u001b[0mfn\u001b[0m\u001b[0;34m)\u001b[0m\u001b[0;34m\u001b[0m\u001b[0;34m\u001b[0m\u001b[0m\n\u001b[0m\u001b[1;32m    901\u001b[0m \u001b[0;34m\u001b[0m\u001b[0m\n\u001b[1;32m    902\u001b[0m         \u001b[0;32mdef\u001b[0m \u001b[0mcompute_should_use_set_data\u001b[0m\u001b[0;34m(\u001b[0m\u001b[0mtensor\u001b[0m\u001b[0;34m,\u001b[0m \u001b[0mtensor_applied\u001b[0m\u001b[0;34m)\u001b[0m\u001b[0;34m:\u001b[0m\u001b[0;34m\u001b[0m\u001b[0;34m\u001b[0m\u001b[0m\n",
            "\u001b[0;32m/usr/local/lib/python3.11/dist-packages/torch/nn/modules/module.py\u001b[0m in \u001b[0;36m_apply\u001b[0;34m(self, fn, recurse)\u001b[0m\n\u001b[1;32m    898\u001b[0m         \u001b[0;32mif\u001b[0m \u001b[0mrecurse\u001b[0m\u001b[0;34m:\u001b[0m\u001b[0;34m\u001b[0m\u001b[0;34m\u001b[0m\u001b[0m\n\u001b[1;32m    899\u001b[0m             \u001b[0;32mfor\u001b[0m \u001b[0mmodule\u001b[0m \u001b[0;32min\u001b[0m \u001b[0mself\u001b[0m\u001b[0;34m.\u001b[0m\u001b[0mchildren\u001b[0m\u001b[0;34m(\u001b[0m\u001b[0;34m)\u001b[0m\u001b[0;34m:\u001b[0m\u001b[0;34m\u001b[0m\u001b[0;34m\u001b[0m\u001b[0m\n\u001b[0;32m--> 900\u001b[0;31m                 \u001b[0mmodule\u001b[0m\u001b[0;34m.\u001b[0m\u001b[0m_apply\u001b[0m\u001b[0;34m(\u001b[0m\u001b[0mfn\u001b[0m\u001b[0;34m)\u001b[0m\u001b[0;34m\u001b[0m\u001b[0;34m\u001b[0m\u001b[0m\n\u001b[0m\u001b[1;32m    901\u001b[0m \u001b[0;34m\u001b[0m\u001b[0m\n\u001b[1;32m    902\u001b[0m         \u001b[0;32mdef\u001b[0m \u001b[0mcompute_should_use_set_data\u001b[0m\u001b[0;34m(\u001b[0m\u001b[0mtensor\u001b[0m\u001b[0;34m,\u001b[0m \u001b[0mtensor_applied\u001b[0m\u001b[0;34m)\u001b[0m\u001b[0;34m:\u001b[0m\u001b[0;34m\u001b[0m\u001b[0;34m\u001b[0m\u001b[0m\n",
            "\u001b[0;32m/usr/local/lib/python3.11/dist-packages/torch/nn/modules/module.py\u001b[0m in \u001b[0;36m_apply\u001b[0;34m(self, fn, recurse)\u001b[0m\n\u001b[1;32m    925\u001b[0m             \u001b[0;31m# `with torch.no_grad():`\u001b[0m\u001b[0;34m\u001b[0m\u001b[0;34m\u001b[0m\u001b[0m\n\u001b[1;32m    926\u001b[0m             \u001b[0;32mwith\u001b[0m \u001b[0mtorch\u001b[0m\u001b[0;34m.\u001b[0m\u001b[0mno_grad\u001b[0m\u001b[0;34m(\u001b[0m\u001b[0;34m)\u001b[0m\u001b[0;34m:\u001b[0m\u001b[0;34m\u001b[0m\u001b[0;34m\u001b[0m\u001b[0m\n\u001b[0;32m--> 927\u001b[0;31m                 \u001b[0mparam_applied\u001b[0m \u001b[0;34m=\u001b[0m \u001b[0mfn\u001b[0m\u001b[0;34m(\u001b[0m\u001b[0mparam\u001b[0m\u001b[0;34m)\u001b[0m\u001b[0;34m\u001b[0m\u001b[0;34m\u001b[0m\u001b[0m\n\u001b[0m\u001b[1;32m    928\u001b[0m             \u001b[0mp_should_use_set_data\u001b[0m \u001b[0;34m=\u001b[0m \u001b[0mcompute_should_use_set_data\u001b[0m\u001b[0;34m(\u001b[0m\u001b[0mparam\u001b[0m\u001b[0;34m,\u001b[0m \u001b[0mparam_applied\u001b[0m\u001b[0;34m)\u001b[0m\u001b[0;34m\u001b[0m\u001b[0;34m\u001b[0m\u001b[0m\n\u001b[1;32m    929\u001b[0m \u001b[0;34m\u001b[0m\u001b[0m\n",
            "\u001b[0;32m/usr/local/lib/python3.11/dist-packages/torch/nn/modules/module.py\u001b[0m in \u001b[0;36mconvert\u001b[0;34m(t)\u001b[0m\n\u001b[1;32m   1324\u001b[0m                         \u001b[0mmemory_format\u001b[0m\u001b[0;34m=\u001b[0m\u001b[0mconvert_to_format\u001b[0m\u001b[0;34m,\u001b[0m\u001b[0;34m\u001b[0m\u001b[0;34m\u001b[0m\u001b[0m\n\u001b[1;32m   1325\u001b[0m                     )\n\u001b[0;32m-> 1326\u001b[0;31m                 return t.to(\n\u001b[0m\u001b[1;32m   1327\u001b[0m                     \u001b[0mdevice\u001b[0m\u001b[0;34m,\u001b[0m\u001b[0;34m\u001b[0m\u001b[0;34m\u001b[0m\u001b[0m\n\u001b[1;32m   1328\u001b[0m                     \u001b[0mdtype\u001b[0m \u001b[0;32mif\u001b[0m \u001b[0mt\u001b[0m\u001b[0;34m.\u001b[0m\u001b[0mis_floating_point\u001b[0m\u001b[0;34m(\u001b[0m\u001b[0;34m)\u001b[0m \u001b[0;32mor\u001b[0m \u001b[0mt\u001b[0m\u001b[0;34m.\u001b[0m\u001b[0mis_complex\u001b[0m\u001b[0;34m(\u001b[0m\u001b[0;34m)\u001b[0m \u001b[0;32melse\u001b[0m \u001b[0;32mNone\u001b[0m\u001b[0;34m,\u001b[0m\u001b[0;34m\u001b[0m\u001b[0;34m\u001b[0m\u001b[0m\n",
            "\u001b[0;31mOutOfMemoryError\u001b[0m: CUDA out of memory. Tried to allocate 20.00 MiB. GPU 0 has a total capacity of 14.75 GiB of which 1.06 MiB is free. Process 2351 has 14.74 GiB memory in use. Of the allocated memory 12.97 GiB is allocated by PyTorch, and 1.64 GiB is reserved by PyTorch but unallocated. If reserved but unallocated memory is large try setting PYTORCH_CUDA_ALLOC_CONF=expandable_segments:True to avoid fragmentation.  See documentation for Memory Management  (https://pytorch.org/docs/stable/notes/cuda.html#environment-variables)"
          ]
        }
      ]
    },
    {
      "cell_type": "markdown",
      "source": [
        "# Second Part"
      ],
      "metadata": {
        "id": "5Itwp0habDGF"
      }
    },
    {
      "cell_type": "markdown",
      "source": [
        "## Mesh 2 Point Cloud"
      ],
      "metadata": {
        "id": "1s0WDrNHbJn4"
      }
    },
    {
      "cell_type": "code",
      "source": [
        "# Percorso del file OBJ\n",
        "obj_path = 'data/horse.obj'\n",
        "\n",
        "# Funzione per caricare la mesh come TriangleMesh\n",
        "def load_obj_as_triangle_mesh(obj_path):\n",
        "    # Carica il file .obj\n",
        "    mesh = o3d.io.read_triangle_mesh(obj_path)\n",
        "    if mesh.is_empty():\n",
        "        raise ValueError(f\"La mesh nel file {obj_path} non è stata caricata correttamente.\")\n",
        "    return mesh\n",
        "\n",
        "# Carica la mesh\n",
        "mesh = load_obj_as_triangle_mesh(obj_path)\n",
        "\n",
        "# Converte la mesh in una point cloud campionando punti uniformemente\n",
        "pcd = mesh.sample_points_uniformly(2048)\n",
        "\n",
        "# Imposta il colore nero per tutti i punti\n",
        "pcd.colors = o3d.utility.Vector3dVector(np.zeros((len(pcd.points), 3)))  # Colore nero: [0, 0, 0]\n",
        "\n",
        "# Esporta la point cloud in formato PLY\n",
        "# o3d.io.write_point_cloud(\"candle_PC.ply\", pcd)"
      ],
      "metadata": {
        "id": "nfV8ll1ibFGD"
      },
      "execution_count": null,
      "outputs": []
    },
    {
      "cell_type": "markdown",
      "source": [
        "## Point Cloud 2 Mesh"
      ],
      "metadata": {
        "id": "pRZcqd68bODB"
      }
    },
    {
      "cell_type": "code",
      "source": [
        "def pointToMesh(data, output_path):\n",
        "    single_data = data[0].cpu().numpy()\n",
        "    pcd = o3d.geometry.PointCloud()\n",
        "    pcd.points = o3d.utility.Vector3dVector(single_data)\n",
        "\n",
        "    # Stima delle normali\n",
        "    pcd.estimate_normals(search_param=o3d.geometry.KDTreeSearchParamHybrid(\n",
        "        radius=0.06,  # Raggio per la stima delle normali,\n",
        "        max_nn=80     # Numero massimo di vicini per stimare la normale\n",
        "    ))\n",
        "\n",
        "    # Orienta le normali in modo consistente\n",
        "    pcd.orient_normals_consistent_tangent_plane(k=100)\n",
        "\n",
        "    # Ricostruzione con\n",
        "    mesh = o3d.geometry.TriangleMesh.create_from_point_cloud_alpha_shape(\n",
        "        pcd, 0.04\n",
        "    )\n",
        "\n",
        "    # Salva e visualizza la mesh\n",
        "    o3d.io.write_triangle_mesh(output_path, mesh)"
      ],
      "metadata": {
        "id": "58Kjfs3nbHvS"
      },
      "execution_count": 6,
      "outputs": []
    },
    {
      "cell_type": "markdown",
      "source": [
        "# Third Part"
      ],
      "metadata": {
        "id": "o04pJHaJbTSm"
      }
    },
    {
      "cell_type": "markdown",
      "source": [
        "## AffordanceNet Class to handle the dataset"
      ],
      "metadata": {
        "id": "uS2EPux5bmft"
      }
    },
    {
      "cell_type": "code",
      "source": [
        "def pc_normalize(pc):\n",
        "    centroid = np.mean(pc, axis=0)\n",
        "    pc = pc - centroid\n",
        "    m = np.max(np.sqrt(np.sum(pc**2, axis=1)))\n",
        "    pc = pc / m\n",
        "    return pc, centroid, m\n",
        "\n",
        "\n",
        "class AffordNetDataset(Dataset):\n",
        "    def __init__(self, data_dir, split):\n",
        "        super().__init__()\n",
        "        self.data_dir = data_dir\n",
        "        self.split = split\n",
        "\n",
        "        self.load_data()\n",
        "        self.affordance = self.all_data[0][\"affordance\"]\n",
        "        return\n",
        "\n",
        "    def load_data(self):\n",
        "     self.all_data = []\n",
        "     with open(os.path.join(self.data_dir, 'full_shape_%s_data.pkl' % self.split), 'rb') as f:\n",
        "        temp_data = pkl.load(f)\n",
        "     for index, info in enumerate(temp_data):\n",
        "        if info[\"semantic class\"] == \"Scissors\":  # Filtra solo gli oggetti \"BOWL\"\n",
        "            temp_info = {}\n",
        "            temp_info[\"shape_id\"] = info[\"shape_id\"]\n",
        "            temp_info[\"semantic class\"] = info[\"semantic class\"]\n",
        "            temp_info[\"affordance\"] = info[\"affordance\"]\n",
        "            temp_info[\"data_info\"] = info[\"full_shape\"] # vertici\n",
        "            self.all_data.append(temp_info)\n",
        "\n",
        "    def __getitem__(self, index):\n",
        "        data_dict = self.all_data[index]\n",
        "        modelid = data_dict[\"shape_id\"]\n",
        "        modelcat = data_dict[\"semantic class\"]\n",
        "\n",
        "        data_info = data_dict[\"data_info\"]\n",
        "        model_data = data_info[\"coordinate\"].astype(np.float32)\n",
        "        labels = data_info[\"label\"]\n",
        "        for aff in self.affordance:\n",
        "            temp = labels[aff].astype(np.float32).reshape(-1, 1)\n",
        "            model_data = np.concatenate((model_data, temp), axis=1)\n",
        "\n",
        "        datas = model_data[:, :3]\n",
        "        targets = model_data[:, 3:]\n",
        "        datas, _, _ = pc_normalize(datas)\n",
        "\n",
        "        return datas, datas, targets, modelid, modelcat\n",
        "\n",
        "    def __len__(self):\n",
        "        return len(self.all_data)\n",
        "\n",
        "\n",
        "def build_dataset(data_dir, test=False):\n",
        "    test_set = AffordNetDataset(data_dir, 'train')\n",
        "    val_set = AffordNetDataset(data_dir, 'val')\n",
        "\n",
        "    # Seleziona i primi 5 campioni per il VAL set\n",
        "    val_indices = list(range(min(5, len(val_set))))\n",
        "    val_set = Subset(val_set, val_indices)\n",
        "\n",
        "    # Seleziona 10 campioni per il TEST set, a partire dal 6° (indice 5)\n",
        "    test_start_index = 5\n",
        "    test_indices = list(range(test_start_index, test_start_index + min(10, len(test_set) - test_start_index)))\n",
        "    test_set = Subset(test_set, test_indices)\n",
        "\n",
        "    # Ritorna i dataset in un dizionario\n",
        "    dataset_dict = dict(val_set=val_set, test_set=test_set)\n",
        "    return dataset_dict\n",
        "\n",
        "def build_loader(dataset_dict):\n",
        "    val_set = dataset_dict[\"val_set\"]\n",
        "    test_set = dataset_dict[\"test_set\"]\n",
        "\n",
        "    batch_size_factor = 1\n",
        "\n",
        "    test_loader = DataLoader(test_set, batch_size=1, shuffle=True, drop_last=False, num_workers=8)\n",
        "    val_loader = DataLoader(val_set, batch_size=1, shuffle=False, num_workers=8, drop_last=False)\n",
        "    loader_dict = dict(val_loader=val_loader, test_loader=test_loader)\n",
        "    return loader_dict"
      ],
      "metadata": {
        "id": "fZax0_YKbU6D"
      },
      "execution_count": 7,
      "outputs": []
    },
    {
      "cell_type": "markdown",
      "source": [
        "## Evaluate the mIOU"
      ],
      "metadata": {
        "id": "idyg6lT5cCTa"
      }
    },
    {
      "cell_type": "code",
      "source": [
        "def calculate_miou(predictions, ground_truths, threshold):\n",
        "    ground_truths = (ground_truths >= threshold).astype(int)  # Binarizza ground truth\n",
        "\n",
        "    batch_size, num_points = ground_truths.shape\n",
        "    iou_per_class = np.zeros((batch_size, 1))\n",
        "\n",
        "    for b in range(batch_size):\n",
        "        pred = predictions[b, :].cpu().numpy()\n",
        "        gt = ground_truths[b, :]\n",
        "\n",
        "        # Calcola intersezione e unione\n",
        "        intersection = np.sum(pred * gt)\n",
        "        union = np.sum(pred + gt) - intersection\n",
        "\n",
        "        if union == 0:  # Evita divisione per zero\n",
        "            iou_per_class[b, 0] = np.nan  # Non valido se non ci sono punti\n",
        "        else:\n",
        "            iou_per_class[b, 0] = intersection / union\n",
        "\n",
        "    # Media su batch e classi\n",
        "    mean_iou = np.nanmean(iou_per_class)\n",
        "    return mean_iou"
      ],
      "metadata": {
        "id": "H2IN3MbpcEQ0"
      },
      "execution_count": null,
      "outputs": []
    },
    {
      "cell_type": "markdown",
      "source": [
        "## Load the dataset"
      ],
      "metadata": {
        "id": "hK-nOIXNb1Y8"
      }
    },
    {
      "cell_type": "code",
      "source": [
        "dataset_dir = '/content/drive/My Drive/full-shape'\n",
        "# dataset_dir = '/content/drive/My Drive/ColabNotebooks'\n",
        "\n",
        "dataset = build_dataset(dataset_dir)\n",
        "\n",
        "loader = build_loader(dataset)"
      ],
      "metadata": {
        "colab": {
          "base_uri": "https://localhost:8080/"
        },
        "id": "NYcuPRP3b2ym",
        "outputId": "b8d1ff9f-5e16-4270-e49a-2fecaebe6b15"
      },
      "execution_count": null,
      "outputs": [
        {
          "output_type": "stream",
          "name": "stderr",
          "text": [
            "/usr/local/lib/python3.11/dist-packages/torch/utils/data/dataloader.py:617: UserWarning: This DataLoader will create 8 worker processes in total. Our suggested max number of worker in current system is 2, which is smaller than what this DataLoader is going to create. Please be aware that excessive worker creation might get DataLoader running slow or even freeze, lower the worker number to avoid potential slowness/freeze if necessary.\n",
            "  warnings.warn(\n"
          ]
        }
      ]
    },
    {
      "cell_type": "markdown",
      "source": [
        "## Run"
      ],
      "metadata": {
        "id": "ApCQHpy6cGm0"
      }
    },
    {
      "cell_type": "code",
      "source": [
        "model_instance = None\n",
        "targets = None\n",
        "vertex = None\n",
        "\n",
        "learning_rate = 0.0001\n",
        "n_layers = 5\n",
        "n_views = 5\n",
        "n_augs = 4\n",
        "\n",
        "prompt= \"A 3D rendering of scissors showing the regions optimized for grasping\"\n",
        "\n",
        "for batch_idx, batch in enumerate(loader[\"val_loader\"]):\n",
        "    if batch_idx == 0: # MESH buona\n",
        "       continue\n",
        "\n",
        "    if batch_idx == 1: # forbice strana\n",
        "       continue\n",
        "\n",
        "    if batch_idx == 2: # forbice aperta\n",
        "       continue\n",
        "\n",
        "    # Estraggo il primo elemento del batch\n",
        "    data, data1, targets, modelid, modelcat = batch\n",
        "    vertex = data\n",
        "    obj_path = 'alpha.obj'\n",
        "    pointToMesh(data, obj_path)\n",
        "\n",
        "    model_instance = optimize(obj_path, learning_rate, n_layers, n_views, n_augs, prompt)\n",
        "    break"
      ],
      "metadata": {
        "colab": {
          "base_uri": "https://localhost:8080/"
        },
        "id": "WJPW6K4XcIBT",
        "outputId": "1990a15f-d321-4511-8bb9-79b21fdd6636"
      },
      "execution_count": null,
      "outputs": [
        {
          "output_type": "stream",
          "name": "stdout",
          "text": [
            "Background image path:  None\n"
          ]
        },
        {
          "output_type": "stream",
          "name": "stderr",
          "text": [
            "100%|███████████████████████████████████████| 890M/890M [00:15<00:00, 61.2MiB/s]\n",
            "  0%|          | 1/1000 [00:02<41:40,  2.50s/it]"
          ]
        },
        {
          "output_type": "stream",
          "name": "stdout",
          "text": [
            "Last 100 CLIP score: -0.30615234375\n"
          ]
        },
        {
          "output_type": "stream",
          "name": "stderr",
          "text": [
            " 10%|█         | 101/1000 [01:23<12:00,  1.25it/s]"
          ]
        },
        {
          "output_type": "stream",
          "name": "stdout",
          "text": [
            "Last 100 CLIP score: -0.3136572265625\n"
          ]
        },
        {
          "output_type": "stream",
          "name": "stderr",
          "text": [
            " 20%|██        | 201/1000 [02:45<10:52,  1.23it/s]"
          ]
        },
        {
          "output_type": "stream",
          "name": "stdout",
          "text": [
            "Last 100 CLIP score: -0.31532470703125\n"
          ]
        },
        {
          "output_type": "stream",
          "name": "stderr",
          "text": [
            " 30%|███       | 301/1000 [04:05<09:29,  1.23it/s]"
          ]
        },
        {
          "output_type": "stream",
          "name": "stdout",
          "text": [
            "Last 100 CLIP score: -0.31634033203125\n"
          ]
        },
        {
          "output_type": "stream",
          "name": "stderr",
          "text": [
            " 40%|████      | 401/1000 [05:26<08:07,  1.23it/s]"
          ]
        },
        {
          "output_type": "stream",
          "name": "stdout",
          "text": [
            "Last 100 CLIP score: -0.31667236328125\n"
          ]
        },
        {
          "output_type": "stream",
          "name": "stderr",
          "text": [
            " 50%|█████     | 501/1000 [06:47<06:44,  1.23it/s]"
          ]
        },
        {
          "output_type": "stream",
          "name": "stdout",
          "text": [
            "Last 100 CLIP score: -0.3196240234375\n"
          ]
        },
        {
          "output_type": "stream",
          "name": "stderr",
          "text": [
            " 60%|██████    | 601/1000 [08:08<05:24,  1.23it/s]"
          ]
        },
        {
          "output_type": "stream",
          "name": "stdout",
          "text": [
            "Last 100 CLIP score: -0.31566162109375\n"
          ]
        },
        {
          "output_type": "stream",
          "name": "stderr",
          "text": [
            " 70%|███████   | 701/1000 [09:29<04:03,  1.23it/s]"
          ]
        },
        {
          "output_type": "stream",
          "name": "stdout",
          "text": [
            "Last 100 CLIP score: -0.31675537109375\n"
          ]
        },
        {
          "output_type": "stream",
          "name": "stderr",
          "text": [
            " 80%|████████  | 801/1000 [10:50<02:42,  1.22it/s]"
          ]
        },
        {
          "output_type": "stream",
          "name": "stdout",
          "text": [
            "Last 100 CLIP score: -0.316416015625\n"
          ]
        },
        {
          "output_type": "stream",
          "name": "stderr",
          "text": [
            " 90%|█████████ | 901/1000 [12:11<01:20,  1.23it/s]"
          ]
        },
        {
          "output_type": "stream",
          "name": "stdout",
          "text": [
            "Last 100 CLIP score: -0.3198193359375\n"
          ]
        },
        {
          "output_type": "stream",
          "name": "stderr",
          "text": [
            "100%|██████████| 1000/1000 [13:31<00:00,  1.23it/s]\n"
          ]
        }
      ]
    },
    {
      "cell_type": "markdown",
      "source": [
        "## Model Evaluation"
      ],
      "metadata": {
        "id": "O_AuisAogSUb"
      }
    },
    {
      "cell_type": "code",
      "source": [
        "model_instance1= model_instance\n",
        "model_instance1.eval()  # Metti il modello in modalità eval per la validazione/test\n",
        "\n",
        "with torch.no_grad():  # Disabilita il calcolo dei gradienti per l'inferenza\n",
        "  vertex, targets = vertex.float().cuda(), targets.float().cuda()\n",
        "\n",
        "  afford_pred = model_instance1(vertex)\n",
        "  #afford_pred = torch.sigmoid(afford_pred).detach().cpu()  # Shape: [1, 2048, 2]\n",
        "\n",
        "  # Usa argmax per ottenere la classe predetta (0 o 1)\n",
        "  afford_pred = torch.argmax(afford_pred, dim=-1)  # Shape: [1, 2048]\n",
        "\n",
        "  # Usare l'operazione logica NOT (bitwise XOR con 1)\n",
        "  afford_pred = afford_pred ^ 1\n",
        "\n",
        "  new_targets = targets[:, :, 0]\n",
        "  ground_truth = new_targets.detach().cpu().numpy()  # Shape: [1, 2048, 1]\n",
        "\n",
        "# Calcolo del mIOU\n",
        "miou = calculate_miou(afford_pred, ground_truth, threshold=0.1)\n",
        "print(f\"Mean IOU: {miou}\")"
      ],
      "metadata": {
        "colab": {
          "base_uri": "https://localhost:8080/",
          "height": 216
        },
        "id": "kq6UU2zxgUSF",
        "outputId": "63518000-3e96-4cc4-ff23-4d501d3ddef6"
      },
      "execution_count": null,
      "outputs": [
        {
          "output_type": "error",
          "ename": "NameError",
          "evalue": "name 'model_instance' is not defined",
          "traceback": [
            "\u001b[0;31m---------------------------------------------------------------------------\u001b[0m",
            "\u001b[0;31mNameError\u001b[0m                                 Traceback (most recent call last)",
            "\u001b[0;32m<ipython-input-8-b0d84b7762f6>\u001b[0m in \u001b[0;36m<cell line: 0>\u001b[0;34m()\u001b[0m\n\u001b[0;32m----> 1\u001b[0;31m \u001b[0mmodel_instance1\u001b[0m\u001b[0;34m=\u001b[0m \u001b[0mmodel_instance\u001b[0m\u001b[0;34m\u001b[0m\u001b[0;34m\u001b[0m\u001b[0m\n\u001b[0m\u001b[1;32m      2\u001b[0m \u001b[0mmodel_instance1\u001b[0m\u001b[0;34m.\u001b[0m\u001b[0meval\u001b[0m\u001b[0;34m(\u001b[0m\u001b[0;34m)\u001b[0m  \u001b[0;31m# Metti il modello in modalità eval per la validazione/test\u001b[0m\u001b[0;34m\u001b[0m\u001b[0;34m\u001b[0m\u001b[0m\n\u001b[1;32m      3\u001b[0m \u001b[0;34m\u001b[0m\u001b[0m\n\u001b[1;32m      4\u001b[0m \u001b[0;32mwith\u001b[0m \u001b[0mtorch\u001b[0m\u001b[0;34m.\u001b[0m\u001b[0mno_grad\u001b[0m\u001b[0;34m(\u001b[0m\u001b[0;34m)\u001b[0m\u001b[0;34m:\u001b[0m  \u001b[0;31m# Disabilita il calcolo dei gradienti per l'inferenza\u001b[0m\u001b[0;34m\u001b[0m\u001b[0;34m\u001b[0m\u001b[0m\n\u001b[1;32m      5\u001b[0m   \u001b[0mvertex\u001b[0m\u001b[0;34m,\u001b[0m \u001b[0mtargets\u001b[0m \u001b[0;34m=\u001b[0m \u001b[0mvertex\u001b[0m\u001b[0;34m.\u001b[0m\u001b[0mfloat\u001b[0m\u001b[0;34m(\u001b[0m\u001b[0;34m)\u001b[0m\u001b[0;34m.\u001b[0m\u001b[0mcuda\u001b[0m\u001b[0;34m(\u001b[0m\u001b[0;34m)\u001b[0m\u001b[0;34m,\u001b[0m \u001b[0mtargets\u001b[0m\u001b[0;34m.\u001b[0m\u001b[0mfloat\u001b[0m\u001b[0;34m(\u001b[0m\u001b[0;34m)\u001b[0m\u001b[0;34m.\u001b[0m\u001b[0mcuda\u001b[0m\u001b[0;34m(\u001b[0m\u001b[0;34m)\u001b[0m\u001b[0;34m\u001b[0m\u001b[0;34m\u001b[0m\u001b[0m\n",
            "\u001b[0;31mNameError\u001b[0m: name 'model_instance' is not defined"
          ]
        }
      ]
    },
    {
      "cell_type": "markdown",
      "source": [
        "# Extension"
      ],
      "metadata": {
        "id": "zRUrNNWeGOtM"
      }
    },
    {
      "cell_type": "code",
      "source": [
        "class RandomApplySubset:\n",
        "    def __init__(self, transforms, n_select):\n",
        "        \"\"\"\n",
        "        Initialize with a list of transformations and the number of transformations to apply.\n",
        "        :param transforms: List of possible transformations.\n",
        "        :param n_select: Number of transformations to randomly select and apply.\n",
        "        \"\"\"\n",
        "        self.transforms = transforms\n",
        "        self.n_select = n_select\n",
        "\n",
        "    def __call__(self, image):\n",
        "        \"\"\"\n",
        "        Randomly selects a subset of transformations and applies them to the image.\n",
        "        :param image: Input image to transform.\n",
        "        :return: Transformed image.\n",
        "        \"\"\"\n",
        "        selected_transforms = random.sample(self.transforms, self.n_select)\n",
        "        for transform in selected_transforms:\n",
        "            print(f\"Applying {transform} to image of type {type(image)}\")\n",
        "            image = transform(image)\n",
        "        return image\n",
        "\n",
        "\n",
        "class BackgroundTransform:\n",
        "    def __init__(self, backgrounds, blur_sigma=(0.1, 2.0)):\n",
        "        \"\"\"\n",
        "        Args:\n",
        "            backgrounds (list of torch.Tensor): List of background images as tensors.\n",
        "            blur_sigma (tuple): Min and max sigma for Gaussian blur.\n",
        "        \"\"\"\n",
        "        if not isinstance(backgrounds, list) or len(backgrounds) == 0:\n",
        "            raise ValueError(\"BackgroundTransform requires a non-empty list of background tensors.\")\n",
        "        if not all(isinstance(bg, torch.Tensor) for bg in backgrounds):\n",
        "            raise TypeError(\"All backgrounds must be torch tensors.\")\n",
        "\n",
        "        self.backgrounds = backgrounds\n",
        "        self.blur_sigma = blur_sigma\n",
        "\n",
        "    def __call__(self, rendered_images):\n",
        "        \"\"\"\n",
        "        Args:\n",
        "            rendered_images (torch.Tensor)[]: Input images tensor of shape (B, C, H, W).\n",
        "\n",
        "        Returns:\n",
        "            torch.Tensor: Transformed image blended with a random background.\n",
        "        \"\"\"\n",
        "        transformed_images = []\n",
        "\n",
        "        for rendered_image in rendered_images:\n",
        "            # Select a random background\n",
        "            bg = random.choice(self.backgrounds)\n",
        "            bg = bg.to(rendered_image.device)\n",
        "\n",
        "            # Resize the background to match the rendered image\n",
        "            bg = transforms.Resize(rendered_image.shape[-2:])(bg)\n",
        "\n",
        "            # Apply Gaussian blur to the background\n",
        "            blurred_bg = F.gaussian_blur(bg, kernel_size=(5, 5), sigma=random.uniform(*self.blur_sigma))\n",
        "\n",
        "            # Create a mask from the rendered image\n",
        "            mask = (rendered_image.sum(dim=0, keepdim=True) > 0).float()  # Mask identifies non-zero pixels\n",
        "\n",
        "            # Blend the rendered image with the blurred background\n",
        "            transformed_image = rendered_image * mask + blurred_bg * (1 - mask)\n",
        "\n",
        "            # Ensure output is valid\n",
        "            if transformed_image.ndim == 2:\n",
        "                transformed_image = transformed_image.unsqueeze(0)\n",
        "            transformed_image = transformed_image.to(rendered_image.device)\n",
        "\n",
        "            transformed_images.append(transformed_image)\n",
        "\n",
        "        transformed_images = torch.stack(transformed_images).to(rendered_images.device)\n",
        "\n",
        "        return transformed_images"
      ],
      "metadata": {
        "id": "MmdaR010IErD"
      },
      "execution_count": 8,
      "outputs": []
    },
    {
      "cell_type": "code",
      "source": [
        "obj_path = 'data/horse.obj'\n",
        "\n",
        "learning_rate = 0.0001\n",
        "n_layers = 4\n",
        "n_views = 3\n",
        "n_augs = 4\n",
        "\n",
        "prompt = \"A 3D rendering of a Horse with highlighted Shoes.\"\n",
        "\n",
        "clip_normalizer = transforms.Normalize((0.48145466, 0.4578275, 0.40821073), (0.26862954, 0.26130258, 0.27577711))\n",
        "\n",
        "backgrounds = [\n",
        "    transforms.ToTensor()(Image.open(\"./data/bg1.jpg\").resize((224, 224))).to(device),\n",
        "    transforms.ToTensor()(Image.open(\"./data/bg2.jpg\").resize((224, 224))).to(device),\n",
        "    transforms.ToTensor()(Image.open(\"./data/bg3.jpg\").resize((224, 224))).to(device),\n",
        "    torch.tensor((1., 1., 1.)).to(device)\n",
        "]\n",
        "\n",
        "possible_augmentations = [\n",
        "    transforms.RandomResizedCrop(224, scale=(1, 1)),\n",
        "    transforms.ColorJitter(brightness=0.2, contrast=0.2, saturation=0.2, hue=0.1),\n",
        "    transforms.RandomPerspective(fill=1, p=0.8, distortion_scale=0.5),\n",
        "    transforms.GaussianBlur(kernel_size=(5, 5), sigma=(0.1, 2.0))\n",
        "]\n",
        "\n",
        "# Custom augmentation that randomly applies a subset\n",
        "augment_transform = transforms.Compose([\n",
        "    # BackgroundTransform(backgrounds, blur_sigma=(0.1, 2.0)),\n",
        "    RandomApplySubset(possible_augmentations, n_select=2),  # Randomly apply 3 augmentations each time\n",
        "    clip_normalizer\n",
        "])\n",
        "\n",
        "model_instance = optimize(obj_path, learning_rate, n_layers, n_views, n_augs, prompt, augment_transform=augment_transform)"
      ],
      "metadata": {
        "colab": {
          "base_uri": "https://localhost:8080/"
        },
        "id": "3NqkeXWtIP6X",
        "outputId": "27f42b88-d4db-4b6e-a830-c503b409e499"
      },
      "execution_count": null,
      "outputs": [
        {
          "output_type": "stream",
          "name": "stdout",
          "text": [
            "Background image path:  ./data/bg1.jpg\n",
            "bg_image shape: (5760, 3840)\n",
            "Background image size:  <built-in method size of Tensor object at 0x7f1fc92b62d0>\n"
          ]
        },
        {
          "output_type": "stream",
          "name": "stderr",
          "text": [
            "100%|███████████████████████████████████████| 890M/890M [00:12<00:00, 74.4MiB/s]\n",
            "  0%|          | 0/1000 [00:00<?, ?it/s]"
          ]
        },
        {
          "output_type": "stream",
          "name": "stdout",
          "text": [
            "image shape: torch.Size([1, 224, 224, 3])\n",
            "image shape: torch.Size([1, 224, 224, 3])\n",
            "image shape: torch.Size([1, 224, 224, 3])\n",
            "Applying RandomResizedCrop(size=(224, 224), scale=(1, 1), ratio=(0.75, 1.3333), interpolation=bilinear, antialias=True) to image of type <class 'torch.Tensor'>\n",
            "Applying GaussianBlur(kernel_size=(5, 5), sigma=(0.1, 2.0)) to image of type <class 'torch.Tensor'>\n",
            "torch.Size([3, 3, 224, 224])\n",
            "Applying RandomPerspective(p=0.8) to image of type <class 'torch.Tensor'>\n",
            "Applying RandomResizedCrop(size=(224, 224), scale=(1, 1), ratio=(0.75, 1.3333), interpolation=bilinear, antialias=True) to image of type <class 'torch.Tensor'>\n",
            "torch.Size([3, 3, 224, 224])\n",
            "Applying ColorJitter(brightness=(0.8, 1.2), contrast=(0.8, 1.2), saturation=(0.8, 1.2), hue=(-0.1, 0.1)) to image of type <class 'torch.Tensor'>\n",
            "Applying RandomResizedCrop(size=(224, 224), scale=(1, 1), ratio=(0.75, 1.3333), interpolation=bilinear, antialias=True) to image of type <class 'torch.Tensor'>\n",
            "torch.Size([3, 3, 224, 224])\n",
            "Applying RandomResizedCrop(size=(224, 224), scale=(1, 1), ratio=(0.75, 1.3333), interpolation=bilinear, antialias=True) to image of type <class 'torch.Tensor'>\n",
            "Applying RandomPerspective(p=0.8) to image of type <class 'torch.Tensor'>\n",
            "torch.Size([3, 3, 224, 224])\n"
          ]
        },
        {
          "output_type": "stream",
          "name": "stderr",
          "text": [
            "\r  0%|          | 1/1000 [00:02<39:06,  2.35s/it]"
          ]
        },
        {
          "output_type": "stream",
          "name": "stdout",
          "text": [
            "Last 100 CLIP score: -0.29296875\n",
            "image shape: torch.Size([1, 224, 224, 3])\n",
            "image shape: torch.Size([1, 224, 224, 3])\n",
            "image shape: torch.Size([1, 224, 224, 3])\n",
            "Applying RandomResizedCrop(size=(224, 224), scale=(1, 1), ratio=(0.75, 1.3333), interpolation=bilinear, antialias=True) to image of type <class 'torch.Tensor'>\n",
            "Applying RandomPerspective(p=0.8) to image of type <class 'torch.Tensor'>\n",
            "torch.Size([3, 3, 224, 224])\n",
            "Applying GaussianBlur(kernel_size=(5, 5), sigma=(0.1, 2.0)) to image of type <class 'torch.Tensor'>\n",
            "Applying RandomResizedCrop(size=(224, 224), scale=(1, 1), ratio=(0.75, 1.3333), interpolation=bilinear, antialias=True) to image of type <class 'torch.Tensor'>\n",
            "torch.Size([3, 3, 224, 224])\n",
            "Applying RandomResizedCrop(size=(224, 224), scale=(1, 1), ratio=(0.75, 1.3333), interpolation=bilinear, antialias=True) to image of type <class 'torch.Tensor'>\n",
            "Applying GaussianBlur(kernel_size=(5, 5), sigma=(0.1, 2.0)) to image of type <class 'torch.Tensor'>\n",
            "torch.Size([3, 3, 224, 224])\n",
            "Applying ColorJitter(brightness=(0.8, 1.2), contrast=(0.8, 1.2), saturation=(0.8, 1.2), hue=(-0.1, 0.1)) to image of type <class 'torch.Tensor'>\n",
            "Applying RandomResizedCrop(size=(224, 224), scale=(1, 1), ratio=(0.75, 1.3333), interpolation=bilinear, antialias=True) to image of type <class 'torch.Tensor'>\n",
            "torch.Size([3, 3, 224, 224])\n"
          ]
        },
        {
          "output_type": "stream",
          "name": "stderr",
          "text": [
            "\r  0%|          | 2/1000 [00:02<21:33,  1.30s/it]"
          ]
        },
        {
          "output_type": "stream",
          "name": "stdout",
          "text": [
            "image shape: torch.Size([1, 224, 224, 3])\n",
            "image shape: torch.Size([1, 224, 224, 3])\n",
            "image shape: torch.Size([1, 224, 224, 3])\n",
            "Applying RandomResizedCrop(size=(224, 224), scale=(1, 1), ratio=(0.75, 1.3333), interpolation=bilinear, antialias=True) to image of type <class 'torch.Tensor'>\n",
            "Applying RandomPerspective(p=0.8) to image of type <class 'torch.Tensor'>\n",
            "torch.Size([3, 3, 224, 224])\n",
            "Applying ColorJitter(brightness=(0.8, 1.2), contrast=(0.8, 1.2), saturation=(0.8, 1.2), hue=(-0.1, 0.1)) to image of type <class 'torch.Tensor'>\n",
            "Applying RandomPerspective(p=0.8) to image of type <class 'torch.Tensor'>\n",
            "torch.Size([3, 3, 224, 224])\n",
            "Applying GaussianBlur(kernel_size=(5, 5), sigma=(0.1, 2.0)) to image of type <class 'torch.Tensor'>\n",
            "Applying RandomResizedCrop(size=(224, 224), scale=(1, 1), ratio=(0.75, 1.3333), interpolation=bilinear, antialias=True) to image of type <class 'torch.Tensor'>\n",
            "torch.Size([3, 3, 224, 224])\n",
            "Applying GaussianBlur(kernel_size=(5, 5), sigma=(0.1, 2.0)) to image of type <class 'torch.Tensor'>\n",
            "Applying RandomPerspective(p=0.8) to image of type <class 'torch.Tensor'>\n",
            "torch.Size([3, 3, 224, 224])\n"
          ]
        },
        {
          "output_type": "stream",
          "name": "stderr",
          "text": [
            "\r  0%|          | 3/1000 [00:03<15:54,  1.04it/s]"
          ]
        },
        {
          "output_type": "stream",
          "name": "stdout",
          "text": [
            "image shape: torch.Size([1, 224, 224, 3])\n",
            "image shape: torch.Size([1, 224, 224, 3])\n",
            "image shape: torch.Size([1, 224, 224, 3])\n",
            "Applying RandomPerspective(p=0.8) to image of type <class 'torch.Tensor'>\n",
            "Applying RandomResizedCrop(size=(224, 224), scale=(1, 1), ratio=(0.75, 1.3333), interpolation=bilinear, antialias=True) to image of type <class 'torch.Tensor'>\n",
            "torch.Size([3, 3, 224, 224])\n",
            "Applying ColorJitter(brightness=(0.8, 1.2), contrast=(0.8, 1.2), saturation=(0.8, 1.2), hue=(-0.1, 0.1)) to image of type <class 'torch.Tensor'>\n",
            "Applying RandomPerspective(p=0.8) to image of type <class 'torch.Tensor'>\n",
            "torch.Size([3, 3, 224, 224])\n",
            "Applying GaussianBlur(kernel_size=(5, 5), sigma=(0.1, 2.0)) to image of type <class 'torch.Tensor'>\n",
            "Applying ColorJitter(brightness=(0.8, 1.2), contrast=(0.8, 1.2), saturation=(0.8, 1.2), hue=(-0.1, 0.1)) to image of type <class 'torch.Tensor'>\n",
            "torch.Size([3, 3, 224, 224])\n",
            "Applying RandomPerspective(p=0.8) to image of type <class 'torch.Tensor'>\n",
            "Applying RandomResizedCrop(size=(224, 224), scale=(1, 1), ratio=(0.75, 1.3333), interpolation=bilinear, antialias=True) to image of type <class 'torch.Tensor'>\n",
            "torch.Size([3, 3, 224, 224])\n"
          ]
        },
        {
          "output_type": "stream",
          "name": "stderr",
          "text": [
            "\r  0%|          | 4/1000 [00:04<13:19,  1.25it/s]"
          ]
        },
        {
          "output_type": "stream",
          "name": "stdout",
          "text": [
            "image shape: torch.Size([1, 224, 224, 3])\n",
            "image shape: torch.Size([1, 224, 224, 3])\n",
            "image shape: torch.Size([1, 224, 224, 3])\n",
            "Applying ColorJitter(brightness=(0.8, 1.2), contrast=(0.8, 1.2), saturation=(0.8, 1.2), hue=(-0.1, 0.1)) to image of type <class 'torch.Tensor'>\n",
            "Applying GaussianBlur(kernel_size=(5, 5), sigma=(0.1, 2.0)) to image of type <class 'torch.Tensor'>\n",
            "torch.Size([3, 3, 224, 224])\n",
            "Applying RandomResizedCrop(size=(224, 224), scale=(1, 1), ratio=(0.75, 1.3333), interpolation=bilinear, antialias=True) to image of type <class 'torch.Tensor'>\n",
            "Applying GaussianBlur(kernel_size=(5, 5), sigma=(0.1, 2.0)) to image of type <class 'torch.Tensor'>\n",
            "torch.Size([3, 3, 224, 224])\n",
            "Applying GaussianBlur(kernel_size=(5, 5), sigma=(0.1, 2.0)) to image of type <class 'torch.Tensor'>\n",
            "Applying RandomResizedCrop(size=(224, 224), scale=(1, 1), ratio=(0.75, 1.3333), interpolation=bilinear, antialias=True) to image of type <class 'torch.Tensor'>\n",
            "torch.Size([3, 3, 224, 224])\n",
            "Applying RandomPerspective(p=0.8) to image of type <class 'torch.Tensor'>\n",
            "Applying ColorJitter(brightness=(0.8, 1.2), contrast=(0.8, 1.2), saturation=(0.8, 1.2), hue=(-0.1, 0.1)) to image of type <class 'torch.Tensor'>\n",
            "torch.Size([3, 3, 224, 224])\n"
          ]
        },
        {
          "output_type": "stream",
          "name": "stderr",
          "text": [
            "\r  0%|          | 5/1000 [00:04<11:52,  1.40it/s]"
          ]
        },
        {
          "output_type": "stream",
          "name": "stdout",
          "text": [
            "image shape: torch.Size([1, 224, 224, 3])\n",
            "image shape: torch.Size([1, 224, 224, 3])\n",
            "image shape: torch.Size([1, 224, 224, 3])\n",
            "Applying RandomPerspective(p=0.8) to image of type <class 'torch.Tensor'>\n",
            "Applying RandomResizedCrop(size=(224, 224), scale=(1, 1), ratio=(0.75, 1.3333), interpolation=bilinear, antialias=True) to image of type <class 'torch.Tensor'>\n",
            "torch.Size([3, 3, 224, 224])\n",
            "Applying GaussianBlur(kernel_size=(5, 5), sigma=(0.1, 2.0)) to image of type <class 'torch.Tensor'>\n",
            "Applying RandomPerspective(p=0.8) to image of type <class 'torch.Tensor'>\n",
            "torch.Size([3, 3, 224, 224])\n",
            "Applying RandomResizedCrop(size=(224, 224), scale=(1, 1), ratio=(0.75, 1.3333), interpolation=bilinear, antialias=True) to image of type <class 'torch.Tensor'>\n",
            "Applying ColorJitter(brightness=(0.8, 1.2), contrast=(0.8, 1.2), saturation=(0.8, 1.2), hue=(-0.1, 0.1)) to image of type <class 'torch.Tensor'>\n",
            "torch.Size([3, 3, 224, 224])\n",
            "Applying RandomResizedCrop(size=(224, 224), scale=(1, 1), ratio=(0.75, 1.3333), interpolation=bilinear, antialias=True) to image of type <class 'torch.Tensor'>\n",
            "Applying RandomPerspective(p=0.8) to image of type <class 'torch.Tensor'>\n",
            "torch.Size([3, 3, 224, 224])\n"
          ]
        },
        {
          "output_type": "stream",
          "name": "stderr",
          "text": [
            "\r  1%|          | 6/1000 [00:05<10:57,  1.51it/s]"
          ]
        },
        {
          "output_type": "stream",
          "name": "stdout",
          "text": [
            "image shape: torch.Size([1, 224, 224, 3])\n",
            "image shape: torch.Size([1, 224, 224, 3])\n",
            "image shape: torch.Size([1, 224, 224, 3])\n",
            "Applying RandomPerspective(p=0.8) to image of type <class 'torch.Tensor'>\n",
            "Applying GaussianBlur(kernel_size=(5, 5), sigma=(0.1, 2.0)) to image of type <class 'torch.Tensor'>\n",
            "torch.Size([3, 3, 224, 224])\n",
            "Applying RandomPerspective(p=0.8) to image of type <class 'torch.Tensor'>\n",
            "Applying GaussianBlur(kernel_size=(5, 5), sigma=(0.1, 2.0)) to image of type <class 'torch.Tensor'>\n",
            "torch.Size([3, 3, 224, 224])\n",
            "Applying ColorJitter(brightness=(0.8, 1.2), contrast=(0.8, 1.2), saturation=(0.8, 1.2), hue=(-0.1, 0.1)) to image of type <class 'torch.Tensor'>\n",
            "Applying RandomPerspective(p=0.8) to image of type <class 'torch.Tensor'>\n",
            "torch.Size([3, 3, 224, 224])\n",
            "Applying RandomResizedCrop(size=(224, 224), scale=(1, 1), ratio=(0.75, 1.3333), interpolation=bilinear, antialias=True) to image of type <class 'torch.Tensor'>\n",
            "Applying GaussianBlur(kernel_size=(5, 5), sigma=(0.1, 2.0)) to image of type <class 'torch.Tensor'>\n",
            "torch.Size([3, 3, 224, 224])\n"
          ]
        },
        {
          "output_type": "stream",
          "name": "stderr",
          "text": [
            "\r  1%|          | 7/1000 [00:05<10:23,  1.59it/s]"
          ]
        },
        {
          "output_type": "stream",
          "name": "stdout",
          "text": [
            "image shape: torch.Size([1, 224, 224, 3])\n",
            "image shape: torch.Size([1, 224, 224, 3])\n",
            "image shape: torch.Size([1, 224, 224, 3])\n",
            "Applying ColorJitter(brightness=(0.8, 1.2), contrast=(0.8, 1.2), saturation=(0.8, 1.2), hue=(-0.1, 0.1)) to image of type <class 'torch.Tensor'>\n",
            "Applying GaussianBlur(kernel_size=(5, 5), sigma=(0.1, 2.0)) to image of type <class 'torch.Tensor'>\n",
            "torch.Size([3, 3, 224, 224])\n",
            "Applying RandomResizedCrop(size=(224, 224), scale=(1, 1), ratio=(0.75, 1.3333), interpolation=bilinear, antialias=True) to image of type <class 'torch.Tensor'>\n",
            "Applying GaussianBlur(kernel_size=(5, 5), sigma=(0.1, 2.0)) to image of type <class 'torch.Tensor'>\n",
            "torch.Size([3, 3, 224, 224])\n",
            "Applying RandomResizedCrop(size=(224, 224), scale=(1, 1), ratio=(0.75, 1.3333), interpolation=bilinear, antialias=True) to image of type <class 'torch.Tensor'>\n",
            "Applying ColorJitter(brightness=(0.8, 1.2), contrast=(0.8, 1.2), saturation=(0.8, 1.2), hue=(-0.1, 0.1)) to image of type <class 'torch.Tensor'>\n",
            "torch.Size([3, 3, 224, 224])\n",
            "Applying RandomPerspective(p=0.8) to image of type <class 'torch.Tensor'>\n",
            "Applying ColorJitter(brightness=(0.8, 1.2), contrast=(0.8, 1.2), saturation=(0.8, 1.2), hue=(-0.1, 0.1)) to image of type <class 'torch.Tensor'>\n",
            "torch.Size([3, 3, 224, 224])\n"
          ]
        },
        {
          "output_type": "stream",
          "name": "stderr",
          "text": [
            "\r  1%|          | 8/1000 [00:06<10:03,  1.64it/s]"
          ]
        },
        {
          "output_type": "stream",
          "name": "stdout",
          "text": [
            "image shape: torch.Size([1, 224, 224, 3])\n",
            "image shape: torch.Size([1, 224, 224, 3])\n",
            "image shape: torch.Size([1, 224, 224, 3])\n",
            "Applying RandomPerspective(p=0.8) to image of type <class 'torch.Tensor'>\n",
            "Applying RandomResizedCrop(size=(224, 224), scale=(1, 1), ratio=(0.75, 1.3333), interpolation=bilinear, antialias=True) to image of type <class 'torch.Tensor'>\n",
            "torch.Size([3, 3, 224, 224])\n",
            "Applying RandomPerspective(p=0.8) to image of type <class 'torch.Tensor'>\n",
            "Applying ColorJitter(brightness=(0.8, 1.2), contrast=(0.8, 1.2), saturation=(0.8, 1.2), hue=(-0.1, 0.1)) to image of type <class 'torch.Tensor'>\n",
            "torch.Size([3, 3, 224, 224])\n",
            "Applying ColorJitter(brightness=(0.8, 1.2), contrast=(0.8, 1.2), saturation=(0.8, 1.2), hue=(-0.1, 0.1)) to image of type <class 'torch.Tensor'>\n",
            "Applying RandomPerspective(p=0.8) to image of type <class 'torch.Tensor'>\n",
            "torch.Size([3, 3, 224, 224])\n",
            "Applying RandomPerspective(p=0.8) to image of type <class 'torch.Tensor'>\n",
            "Applying GaussianBlur(kernel_size=(5, 5), sigma=(0.1, 2.0)) to image of type <class 'torch.Tensor'>\n",
            "torch.Size([3, 3, 224, 224])\n"
          ]
        },
        {
          "output_type": "stream",
          "name": "stderr",
          "text": [
            "\r  1%|          | 9/1000 [00:06<09:48,  1.68it/s]"
          ]
        },
        {
          "output_type": "stream",
          "name": "stdout",
          "text": [
            "image shape: torch.Size([1, 224, 224, 3])\n",
            "image shape: torch.Size([1, 224, 224, 3])\n",
            "image shape: torch.Size([1, 224, 224, 3])\n",
            "Applying RandomResizedCrop(size=(224, 224), scale=(1, 1), ratio=(0.75, 1.3333), interpolation=bilinear, antialias=True) to image of type <class 'torch.Tensor'>\n",
            "Applying RandomPerspective(p=0.8) to image of type <class 'torch.Tensor'>\n",
            "torch.Size([3, 3, 224, 224])\n",
            "Applying ColorJitter(brightness=(0.8, 1.2), contrast=(0.8, 1.2), saturation=(0.8, 1.2), hue=(-0.1, 0.1)) to image of type <class 'torch.Tensor'>\n",
            "Applying RandomPerspective(p=0.8) to image of type <class 'torch.Tensor'>\n",
            "torch.Size([3, 3, 224, 224])\n",
            "Applying ColorJitter(brightness=(0.8, 1.2), contrast=(0.8, 1.2), saturation=(0.8, 1.2), hue=(-0.1, 0.1)) to image of type <class 'torch.Tensor'>\n",
            "Applying RandomResizedCrop(size=(224, 224), scale=(1, 1), ratio=(0.75, 1.3333), interpolation=bilinear, antialias=True) to image of type <class 'torch.Tensor'>\n",
            "torch.Size([3, 3, 224, 224])\n",
            "Applying GaussianBlur(kernel_size=(5, 5), sigma=(0.1, 2.0)) to image of type <class 'torch.Tensor'>\n",
            "Applying ColorJitter(brightness=(0.8, 1.2), contrast=(0.8, 1.2), saturation=(0.8, 1.2), hue=(-0.1, 0.1)) to image of type <class 'torch.Tensor'>\n",
            "torch.Size([3, 3, 224, 224])\n"
          ]
        },
        {
          "output_type": "stream",
          "name": "stderr",
          "text": [
            "\r  1%|          | 10/1000 [00:07<09:39,  1.71it/s]"
          ]
        },
        {
          "output_type": "stream",
          "name": "stdout",
          "text": [
            "image shape: torch.Size([1, 224, 224, 3])\n",
            "image shape: torch.Size([1, 224, 224, 3])\n",
            "image shape: torch.Size([1, 224, 224, 3])\n",
            "Applying RandomPerspective(p=0.8) to image of type <class 'torch.Tensor'>\n",
            "Applying GaussianBlur(kernel_size=(5, 5), sigma=(0.1, 2.0)) to image of type <class 'torch.Tensor'>\n",
            "torch.Size([3, 3, 224, 224])\n",
            "Applying ColorJitter(brightness=(0.8, 1.2), contrast=(0.8, 1.2), saturation=(0.8, 1.2), hue=(-0.1, 0.1)) to image of type <class 'torch.Tensor'>\n",
            "Applying RandomPerspective(p=0.8) to image of type <class 'torch.Tensor'>\n",
            "torch.Size([3, 3, 224, 224])\n",
            "Applying RandomPerspective(p=0.8) to image of type <class 'torch.Tensor'>\n",
            "Applying RandomResizedCrop(size=(224, 224), scale=(1, 1), ratio=(0.75, 1.3333), interpolation=bilinear, antialias=True) to image of type <class 'torch.Tensor'>\n",
            "torch.Size([3, 3, 224, 224])\n",
            "Applying ColorJitter(brightness=(0.8, 1.2), contrast=(0.8, 1.2), saturation=(0.8, 1.2), hue=(-0.1, 0.1)) to image of type <class 'torch.Tensor'>\n",
            "Applying RandomResizedCrop(size=(224, 224), scale=(1, 1), ratio=(0.75, 1.3333), interpolation=bilinear, antialias=True) to image of type <class 'torch.Tensor'>\n",
            "torch.Size([3, 3, 224, 224])\n"
          ]
        },
        {
          "output_type": "stream",
          "name": "stderr",
          "text": [
            "\r  1%|          | 11/1000 [00:07<09:33,  1.72it/s]"
          ]
        },
        {
          "output_type": "stream",
          "name": "stdout",
          "text": [
            "image shape: torch.Size([1, 224, 224, 3])\n",
            "image shape: torch.Size([1, 224, 224, 3])\n",
            "image shape: torch.Size([1, 224, 224, 3])\n",
            "Applying RandomPerspective(p=0.8) to image of type <class 'torch.Tensor'>\n",
            "Applying ColorJitter(brightness=(0.8, 1.2), contrast=(0.8, 1.2), saturation=(0.8, 1.2), hue=(-0.1, 0.1)) to image of type <class 'torch.Tensor'>\n",
            "torch.Size([3, 3, 224, 224])\n",
            "Applying RandomPerspective(p=0.8) to image of type <class 'torch.Tensor'>\n",
            "Applying RandomResizedCrop(size=(224, 224), scale=(1, 1), ratio=(0.75, 1.3333), interpolation=bilinear, antialias=True) to image of type <class 'torch.Tensor'>\n",
            "torch.Size([3, 3, 224, 224])\n",
            "Applying ColorJitter(brightness=(0.8, 1.2), contrast=(0.8, 1.2), saturation=(0.8, 1.2), hue=(-0.1, 0.1)) to image of type <class 'torch.Tensor'>\n",
            "Applying RandomPerspective(p=0.8) to image of type <class 'torch.Tensor'>\n",
            "torch.Size([3, 3, 224, 224])\n",
            "Applying RandomPerspective(p=0.8) to image of type <class 'torch.Tensor'>\n",
            "Applying RandomResizedCrop(size=(224, 224), scale=(1, 1), ratio=(0.75, 1.3333), interpolation=bilinear, antialias=True) to image of type <class 'torch.Tensor'>\n",
            "torch.Size([3, 3, 224, 224])\n"
          ]
        },
        {
          "output_type": "stream",
          "name": "stderr",
          "text": [
            "\r  1%|          | 12/1000 [00:08<09:27,  1.74it/s]"
          ]
        },
        {
          "output_type": "stream",
          "name": "stdout",
          "text": [
            "image shape: torch.Size([1, 224, 224, 3])\n",
            "image shape: torch.Size([1, 224, 224, 3])\n",
            "image shape: torch.Size([1, 224, 224, 3])\n",
            "Applying GaussianBlur(kernel_size=(5, 5), sigma=(0.1, 2.0)) to image of type <class 'torch.Tensor'>\n",
            "Applying ColorJitter(brightness=(0.8, 1.2), contrast=(0.8, 1.2), saturation=(0.8, 1.2), hue=(-0.1, 0.1)) to image of type <class 'torch.Tensor'>\n",
            "torch.Size([3, 3, 224, 224])\n",
            "Applying GaussianBlur(kernel_size=(5, 5), sigma=(0.1, 2.0)) to image of type <class 'torch.Tensor'>\n",
            "Applying RandomResizedCrop(size=(224, 224), scale=(1, 1), ratio=(0.75, 1.3333), interpolation=bilinear, antialias=True) to image of type <class 'torch.Tensor'>\n",
            "torch.Size([3, 3, 224, 224])\n",
            "Applying RandomPerspective(p=0.8) to image of type <class 'torch.Tensor'>\n",
            "Applying RandomResizedCrop(size=(224, 224), scale=(1, 1), ratio=(0.75, 1.3333), interpolation=bilinear, antialias=True) to image of type <class 'torch.Tensor'>\n",
            "torch.Size([3, 3, 224, 224])\n",
            "Applying ColorJitter(brightness=(0.8, 1.2), contrast=(0.8, 1.2), saturation=(0.8, 1.2), hue=(-0.1, 0.1)) to image of type <class 'torch.Tensor'>\n",
            "Applying RandomPerspective(p=0.8) to image of type <class 'torch.Tensor'>\n",
            "torch.Size([3, 3, 224, 224])\n"
          ]
        },
        {
          "output_type": "stream",
          "name": "stderr",
          "text": [
            "\r  1%|▏         | 13/1000 [00:09<09:23,  1.75it/s]"
          ]
        },
        {
          "output_type": "stream",
          "name": "stdout",
          "text": [
            "image shape: torch.Size([1, 224, 224, 3])\n",
            "image shape: torch.Size([1, 224, 224, 3])\n",
            "image shape: torch.Size([1, 224, 224, 3])\n",
            "Applying RandomPerspective(p=0.8) to image of type <class 'torch.Tensor'>\n",
            "Applying GaussianBlur(kernel_size=(5, 5), sigma=(0.1, 2.0)) to image of type <class 'torch.Tensor'>\n",
            "torch.Size([3, 3, 224, 224])\n",
            "Applying GaussianBlur(kernel_size=(5, 5), sigma=(0.1, 2.0)) to image of type <class 'torch.Tensor'>\n",
            "Applying RandomPerspective(p=0.8) to image of type <class 'torch.Tensor'>\n",
            "torch.Size([3, 3, 224, 224])\n",
            "Applying GaussianBlur(kernel_size=(5, 5), sigma=(0.1, 2.0)) to image of type <class 'torch.Tensor'>\n",
            "Applying ColorJitter(brightness=(0.8, 1.2), contrast=(0.8, 1.2), saturation=(0.8, 1.2), hue=(-0.1, 0.1)) to image of type <class 'torch.Tensor'>\n",
            "torch.Size([3, 3, 224, 224])\n",
            "Applying ColorJitter(brightness=(0.8, 1.2), contrast=(0.8, 1.2), saturation=(0.8, 1.2), hue=(-0.1, 0.1)) to image of type <class 'torch.Tensor'>\n",
            "Applying RandomResizedCrop(size=(224, 224), scale=(1, 1), ratio=(0.75, 1.3333), interpolation=bilinear, antialias=True) to image of type <class 'torch.Tensor'>\n",
            "torch.Size([3, 3, 224, 224])\n"
          ]
        },
        {
          "output_type": "stream",
          "name": "stderr",
          "text": [
            "\r  1%|▏         | 14/1000 [00:09<09:20,  1.76it/s]"
          ]
        },
        {
          "output_type": "stream",
          "name": "stdout",
          "text": [
            "image shape: torch.Size([1, 224, 224, 3])\n",
            "image shape: torch.Size([1, 224, 224, 3])\n",
            "image shape: torch.Size([1, 224, 224, 3])\n",
            "Applying GaussianBlur(kernel_size=(5, 5), sigma=(0.1, 2.0)) to image of type <class 'torch.Tensor'>\n",
            "Applying RandomResizedCrop(size=(224, 224), scale=(1, 1), ratio=(0.75, 1.3333), interpolation=bilinear, antialias=True) to image of type <class 'torch.Tensor'>\n",
            "torch.Size([3, 3, 224, 224])\n",
            "Applying RandomResizedCrop(size=(224, 224), scale=(1, 1), ratio=(0.75, 1.3333), interpolation=bilinear, antialias=True) to image of type <class 'torch.Tensor'>\n",
            "Applying GaussianBlur(kernel_size=(5, 5), sigma=(0.1, 2.0)) to image of type <class 'torch.Tensor'>\n",
            "torch.Size([3, 3, 224, 224])\n",
            "Applying ColorJitter(brightness=(0.8, 1.2), contrast=(0.8, 1.2), saturation=(0.8, 1.2), hue=(-0.1, 0.1)) to image of type <class 'torch.Tensor'>\n",
            "Applying RandomPerspective(p=0.8) to image of type <class 'torch.Tensor'>\n",
            "torch.Size([3, 3, 224, 224])\n",
            "Applying ColorJitter(brightness=(0.8, 1.2), contrast=(0.8, 1.2), saturation=(0.8, 1.2), hue=(-0.1, 0.1)) to image of type <class 'torch.Tensor'>\n",
            "Applying RandomPerspective(p=0.8) to image of type <class 'torch.Tensor'>\n",
            "torch.Size([3, 3, 224, 224])\n"
          ]
        },
        {
          "output_type": "stream",
          "name": "stderr",
          "text": [
            "\r  2%|▏         | 15/1000 [00:10<09:18,  1.76it/s]"
          ]
        },
        {
          "output_type": "stream",
          "name": "stdout",
          "text": [
            "image shape: torch.Size([1, 224, 224, 3])\n",
            "image shape: torch.Size([1, 224, 224, 3])\n",
            "image shape: torch.Size([1, 224, 224, 3])\n",
            "Applying GaussianBlur(kernel_size=(5, 5), sigma=(0.1, 2.0)) to image of type <class 'torch.Tensor'>\n",
            "Applying RandomPerspective(p=0.8) to image of type <class 'torch.Tensor'>\n",
            "torch.Size([3, 3, 224, 224])\n",
            "Applying RandomResizedCrop(size=(224, 224), scale=(1, 1), ratio=(0.75, 1.3333), interpolation=bilinear, antialias=True) to image of type <class 'torch.Tensor'>\n",
            "Applying ColorJitter(brightness=(0.8, 1.2), contrast=(0.8, 1.2), saturation=(0.8, 1.2), hue=(-0.1, 0.1)) to image of type <class 'torch.Tensor'>\n",
            "torch.Size([3, 3, 224, 224])\n",
            "Applying GaussianBlur(kernel_size=(5, 5), sigma=(0.1, 2.0)) to image of type <class 'torch.Tensor'>\n",
            "Applying RandomPerspective(p=0.8) to image of type <class 'torch.Tensor'>\n",
            "torch.Size([3, 3, 224, 224])\n",
            "Applying GaussianBlur(kernel_size=(5, 5), sigma=(0.1, 2.0)) to image of type <class 'torch.Tensor'>\n",
            "Applying RandomPerspective(p=0.8) to image of type <class 'torch.Tensor'>\n",
            "torch.Size([3, 3, 224, 224])\n"
          ]
        },
        {
          "output_type": "stream",
          "name": "stderr",
          "text": [
            "\r  2%|▏         | 16/1000 [00:10<09:17,  1.76it/s]"
          ]
        },
        {
          "output_type": "stream",
          "name": "stdout",
          "text": [
            "image shape: torch.Size([1, 224, 224, 3])\n",
            "image shape: torch.Size([1, 224, 224, 3])\n",
            "image shape: torch.Size([1, 224, 224, 3])\n",
            "Applying RandomPerspective(p=0.8) to image of type <class 'torch.Tensor'>\n",
            "Applying GaussianBlur(kernel_size=(5, 5), sigma=(0.1, 2.0)) to image of type <class 'torch.Tensor'>\n",
            "torch.Size([3, 3, 224, 224])\n",
            "Applying RandomResizedCrop(size=(224, 224), scale=(1, 1), ratio=(0.75, 1.3333), interpolation=bilinear, antialias=True) to image of type <class 'torch.Tensor'>\n",
            "Applying RandomPerspective(p=0.8) to image of type <class 'torch.Tensor'>\n",
            "torch.Size([3, 3, 224, 224])\n",
            "Applying RandomResizedCrop(size=(224, 224), scale=(1, 1), ratio=(0.75, 1.3333), interpolation=bilinear, antialias=True) to image of type <class 'torch.Tensor'>\n",
            "Applying RandomPerspective(p=0.8) to image of type <class 'torch.Tensor'>\n",
            "torch.Size([3, 3, 224, 224])\n",
            "Applying RandomPerspective(p=0.8) to image of type <class 'torch.Tensor'>\n",
            "Applying GaussianBlur(kernel_size=(5, 5), sigma=(0.1, 2.0)) to image of type <class 'torch.Tensor'>\n",
            "torch.Size([3, 3, 224, 224])\n"
          ]
        },
        {
          "output_type": "stream",
          "name": "stderr",
          "text": [
            "\r  2%|▏         | 17/1000 [00:11<09:18,  1.76it/s]"
          ]
        },
        {
          "output_type": "stream",
          "name": "stdout",
          "text": [
            "image shape: torch.Size([1, 224, 224, 3])\n",
            "image shape: torch.Size([1, 224, 224, 3])\n",
            "image shape: torch.Size([1, 224, 224, 3])\n",
            "Applying RandomPerspective(p=0.8) to image of type <class 'torch.Tensor'>\n",
            "Applying RandomResizedCrop(size=(224, 224), scale=(1, 1), ratio=(0.75, 1.3333), interpolation=bilinear, antialias=True) to image of type <class 'torch.Tensor'>\n",
            "torch.Size([3, 3, 224, 224])\n",
            "Applying RandomPerspective(p=0.8) to image of type <class 'torch.Tensor'>\n",
            "Applying ColorJitter(brightness=(0.8, 1.2), contrast=(0.8, 1.2), saturation=(0.8, 1.2), hue=(-0.1, 0.1)) to image of type <class 'torch.Tensor'>\n",
            "torch.Size([3, 3, 224, 224])\n",
            "Applying ColorJitter(brightness=(0.8, 1.2), contrast=(0.8, 1.2), saturation=(0.8, 1.2), hue=(-0.1, 0.1)) to image of type <class 'torch.Tensor'>\n",
            "Applying GaussianBlur(kernel_size=(5, 5), sigma=(0.1, 2.0)) to image of type <class 'torch.Tensor'>\n",
            "torch.Size([3, 3, 224, 224])\n",
            "Applying RandomResizedCrop(size=(224, 224), scale=(1, 1), ratio=(0.75, 1.3333), interpolation=bilinear, antialias=True) to image of type <class 'torch.Tensor'>\n",
            "Applying RandomPerspective(p=0.8) to image of type <class 'torch.Tensor'>\n",
            "torch.Size([3, 3, 224, 224])\n"
          ]
        },
        {
          "output_type": "stream",
          "name": "stderr",
          "text": [
            "\r  2%|▏         | 18/1000 [00:11<09:19,  1.75it/s]"
          ]
        },
        {
          "output_type": "stream",
          "name": "stdout",
          "text": [
            "image shape: torch.Size([1, 224, 224, 3])\n",
            "image shape: torch.Size([1, 224, 224, 3])\n",
            "image shape: torch.Size([1, 224, 224, 3])\n",
            "Applying RandomPerspective(p=0.8) to image of type <class 'torch.Tensor'>\n",
            "Applying GaussianBlur(kernel_size=(5, 5), sigma=(0.1, 2.0)) to image of type <class 'torch.Tensor'>\n",
            "torch.Size([3, 3, 224, 224])\n",
            "Applying ColorJitter(brightness=(0.8, 1.2), contrast=(0.8, 1.2), saturation=(0.8, 1.2), hue=(-0.1, 0.1)) to image of type <class 'torch.Tensor'>\n",
            "Applying RandomPerspective(p=0.8) to image of type <class 'torch.Tensor'>\n",
            "torch.Size([3, 3, 224, 224])\n",
            "Applying RandomResizedCrop(size=(224, 224), scale=(1, 1), ratio=(0.75, 1.3333), interpolation=bilinear, antialias=True) to image of type <class 'torch.Tensor'>\n",
            "Applying RandomPerspective(p=0.8) to image of type <class 'torch.Tensor'>\n",
            "torch.Size([3, 3, 224, 224])\n",
            "Applying RandomPerspective(p=0.8) to image of type <class 'torch.Tensor'>\n",
            "Applying GaussianBlur(kernel_size=(5, 5), sigma=(0.1, 2.0)) to image of type <class 'torch.Tensor'>\n",
            "torch.Size([3, 3, 224, 224])\n"
          ]
        },
        {
          "output_type": "stream",
          "name": "stderr",
          "text": [
            "\r  2%|▏         | 19/1000 [00:12<09:22,  1.74it/s]"
          ]
        },
        {
          "output_type": "stream",
          "name": "stdout",
          "text": [
            "image shape: torch.Size([1, 224, 224, 3])\n",
            "image shape: torch.Size([1, 224, 224, 3])\n",
            "image shape: torch.Size([1, 224, 224, 3])\n",
            "Applying ColorJitter(brightness=(0.8, 1.2), contrast=(0.8, 1.2), saturation=(0.8, 1.2), hue=(-0.1, 0.1)) to image of type <class 'torch.Tensor'>\n",
            "Applying RandomResizedCrop(size=(224, 224), scale=(1, 1), ratio=(0.75, 1.3333), interpolation=bilinear, antialias=True) to image of type <class 'torch.Tensor'>\n",
            "torch.Size([3, 3, 224, 224])\n",
            "Applying RandomPerspective(p=0.8) to image of type <class 'torch.Tensor'>\n",
            "Applying RandomResizedCrop(size=(224, 224), scale=(1, 1), ratio=(0.75, 1.3333), interpolation=bilinear, antialias=True) to image of type <class 'torch.Tensor'>\n",
            "torch.Size([3, 3, 224, 224])\n",
            "Applying RandomResizedCrop(size=(224, 224), scale=(1, 1), ratio=(0.75, 1.3333), interpolation=bilinear, antialias=True) to image of type <class 'torch.Tensor'>\n",
            "Applying RandomPerspective(p=0.8) to image of type <class 'torch.Tensor'>\n",
            "torch.Size([3, 3, 224, 224])\n",
            "Applying RandomPerspective(p=0.8) to image of type <class 'torch.Tensor'>\n",
            "Applying ColorJitter(brightness=(0.8, 1.2), contrast=(0.8, 1.2), saturation=(0.8, 1.2), hue=(-0.1, 0.1)) to image of type <class 'torch.Tensor'>\n",
            "torch.Size([3, 3, 224, 224])\n"
          ]
        },
        {
          "output_type": "stream",
          "name": "stderr",
          "text": [
            "\r  2%|▏         | 20/1000 [00:13<09:23,  1.74it/s]"
          ]
        },
        {
          "output_type": "stream",
          "name": "stdout",
          "text": [
            "image shape: torch.Size([1, 224, 224, 3])\n",
            "image shape: torch.Size([1, 224, 224, 3])\n",
            "image shape: torch.Size([1, 224, 224, 3])\n",
            "Applying RandomResizedCrop(size=(224, 224), scale=(1, 1), ratio=(0.75, 1.3333), interpolation=bilinear, antialias=True) to image of type <class 'torch.Tensor'>\n",
            "Applying GaussianBlur(kernel_size=(5, 5), sigma=(0.1, 2.0)) to image of type <class 'torch.Tensor'>\n",
            "torch.Size([3, 3, 224, 224])\n",
            "Applying RandomPerspective(p=0.8) to image of type <class 'torch.Tensor'>\n",
            "Applying ColorJitter(brightness=(0.8, 1.2), contrast=(0.8, 1.2), saturation=(0.8, 1.2), hue=(-0.1, 0.1)) to image of type <class 'torch.Tensor'>\n",
            "torch.Size([3, 3, 224, 224])\n",
            "Applying ColorJitter(brightness=(0.8, 1.2), contrast=(0.8, 1.2), saturation=(0.8, 1.2), hue=(-0.1, 0.1)) to image of type <class 'torch.Tensor'>\n",
            "Applying RandomResizedCrop(size=(224, 224), scale=(1, 1), ratio=(0.75, 1.3333), interpolation=bilinear, antialias=True) to image of type <class 'torch.Tensor'>\n",
            "torch.Size([3, 3, 224, 224])\n",
            "Applying ColorJitter(brightness=(0.8, 1.2), contrast=(0.8, 1.2), saturation=(0.8, 1.2), hue=(-0.1, 0.1)) to image of type <class 'torch.Tensor'>\n",
            "Applying RandomPerspective(p=0.8) to image of type <class 'torch.Tensor'>\n",
            "torch.Size([3, 3, 224, 224])\n"
          ]
        },
        {
          "output_type": "stream",
          "name": "stderr",
          "text": [
            "\r  2%|▏         | 21/1000 [00:13<09:26,  1.73it/s]"
          ]
        },
        {
          "output_type": "stream",
          "name": "stdout",
          "text": [
            "image shape: torch.Size([1, 224, 224, 3])\n",
            "image shape: torch.Size([1, 224, 224, 3])\n",
            "image shape: torch.Size([1, 224, 224, 3])\n",
            "Applying RandomResizedCrop(size=(224, 224), scale=(1, 1), ratio=(0.75, 1.3333), interpolation=bilinear, antialias=True) to image of type <class 'torch.Tensor'>\n",
            "Applying GaussianBlur(kernel_size=(5, 5), sigma=(0.1, 2.0)) to image of type <class 'torch.Tensor'>\n",
            "torch.Size([3, 3, 224, 224])\n",
            "Applying GaussianBlur(kernel_size=(5, 5), sigma=(0.1, 2.0)) to image of type <class 'torch.Tensor'>\n",
            "Applying RandomResizedCrop(size=(224, 224), scale=(1, 1), ratio=(0.75, 1.3333), interpolation=bilinear, antialias=True) to image of type <class 'torch.Tensor'>\n",
            "torch.Size([3, 3, 224, 224])\n",
            "Applying ColorJitter(brightness=(0.8, 1.2), contrast=(0.8, 1.2), saturation=(0.8, 1.2), hue=(-0.1, 0.1)) to image of type <class 'torch.Tensor'>\n",
            "Applying RandomResizedCrop(size=(224, 224), scale=(1, 1), ratio=(0.75, 1.3333), interpolation=bilinear, antialias=True) to image of type <class 'torch.Tensor'>\n",
            "torch.Size([3, 3, 224, 224])\n",
            "Applying GaussianBlur(kernel_size=(5, 5), sigma=(0.1, 2.0)) to image of type <class 'torch.Tensor'>\n",
            "Applying RandomPerspective(p=0.8) to image of type <class 'torch.Tensor'>\n",
            "torch.Size([3, 3, 224, 224])\n"
          ]
        },
        {
          "output_type": "stream",
          "name": "stderr",
          "text": [
            "\r  2%|▏         | 22/1000 [00:14<09:25,  1.73it/s]"
          ]
        },
        {
          "output_type": "stream",
          "name": "stdout",
          "text": [
            "image shape: torch.Size([1, 224, 224, 3])\n",
            "image shape: torch.Size([1, 224, 224, 3])\n",
            "image shape: torch.Size([1, 224, 224, 3])\n",
            "Applying ColorJitter(brightness=(0.8, 1.2), contrast=(0.8, 1.2), saturation=(0.8, 1.2), hue=(-0.1, 0.1)) to image of type <class 'torch.Tensor'>\n",
            "Applying GaussianBlur(kernel_size=(5, 5), sigma=(0.1, 2.0)) to image of type <class 'torch.Tensor'>\n",
            "torch.Size([3, 3, 224, 224])\n",
            "Applying GaussianBlur(kernel_size=(5, 5), sigma=(0.1, 2.0)) to image of type <class 'torch.Tensor'>\n",
            "Applying RandomResizedCrop(size=(224, 224), scale=(1, 1), ratio=(0.75, 1.3333), interpolation=bilinear, antialias=True) to image of type <class 'torch.Tensor'>\n",
            "torch.Size([3, 3, 224, 224])\n",
            "Applying ColorJitter(brightness=(0.8, 1.2), contrast=(0.8, 1.2), saturation=(0.8, 1.2), hue=(-0.1, 0.1)) to image of type <class 'torch.Tensor'>\n",
            "Applying RandomPerspective(p=0.8) to image of type <class 'torch.Tensor'>\n",
            "torch.Size([3, 3, 224, 224])\n",
            "Applying RandomPerspective(p=0.8) to image of type <class 'torch.Tensor'>\n",
            "Applying ColorJitter(brightness=(0.8, 1.2), contrast=(0.8, 1.2), saturation=(0.8, 1.2), hue=(-0.1, 0.1)) to image of type <class 'torch.Tensor'>\n",
            "torch.Size([3, 3, 224, 224])\n"
          ]
        },
        {
          "output_type": "stream",
          "name": "stderr",
          "text": [
            "\r  2%|▏         | 23/1000 [00:14<09:29,  1.72it/s]"
          ]
        },
        {
          "output_type": "stream",
          "name": "stdout",
          "text": [
            "image shape: torch.Size([1, 224, 224, 3])\n",
            "image shape: torch.Size([1, 224, 224, 3])\n",
            "image shape: torch.Size([1, 224, 224, 3])\n",
            "Applying RandomPerspective(p=0.8) to image of type <class 'torch.Tensor'>\n",
            "Applying ColorJitter(brightness=(0.8, 1.2), contrast=(0.8, 1.2), saturation=(0.8, 1.2), hue=(-0.1, 0.1)) to image of type <class 'torch.Tensor'>\n",
            "torch.Size([3, 3, 224, 224])\n",
            "Applying GaussianBlur(kernel_size=(5, 5), sigma=(0.1, 2.0)) to image of type <class 'torch.Tensor'>\n",
            "Applying RandomResizedCrop(size=(224, 224), scale=(1, 1), ratio=(0.75, 1.3333), interpolation=bilinear, antialias=True) to image of type <class 'torch.Tensor'>\n",
            "torch.Size([3, 3, 224, 224])\n",
            "Applying ColorJitter(brightness=(0.8, 1.2), contrast=(0.8, 1.2), saturation=(0.8, 1.2), hue=(-0.1, 0.1)) to image of type <class 'torch.Tensor'>\n",
            "Applying RandomResizedCrop(size=(224, 224), scale=(1, 1), ratio=(0.75, 1.3333), interpolation=bilinear, antialias=True) to image of type <class 'torch.Tensor'>\n",
            "torch.Size([3, 3, 224, 224])\n",
            "Applying RandomResizedCrop(size=(224, 224), scale=(1, 1), ratio=(0.75, 1.3333), interpolation=bilinear, antialias=True) to image of type <class 'torch.Tensor'>\n",
            "Applying ColorJitter(brightness=(0.8, 1.2), contrast=(0.8, 1.2), saturation=(0.8, 1.2), hue=(-0.1, 0.1)) to image of type <class 'torch.Tensor'>\n",
            "torch.Size([3, 3, 224, 224])\n"
          ]
        },
        {
          "output_type": "stream",
          "name": "stderr",
          "text": [
            "\r  2%|▏         | 24/1000 [00:15<09:25,  1.73it/s]"
          ]
        },
        {
          "output_type": "stream",
          "name": "stdout",
          "text": [
            "image shape: torch.Size([1, 224, 224, 3])\n",
            "image shape: torch.Size([1, 224, 224, 3])\n",
            "image shape: torch.Size([1, 224, 224, 3])\n",
            "Applying RandomResizedCrop(size=(224, 224), scale=(1, 1), ratio=(0.75, 1.3333), interpolation=bilinear, antialias=True) to image of type <class 'torch.Tensor'>\n",
            "Applying RandomPerspective(p=0.8) to image of type <class 'torch.Tensor'>\n",
            "torch.Size([3, 3, 224, 224])\n",
            "Applying ColorJitter(brightness=(0.8, 1.2), contrast=(0.8, 1.2), saturation=(0.8, 1.2), hue=(-0.1, 0.1)) to image of type <class 'torch.Tensor'>\n",
            "Applying RandomPerspective(p=0.8) to image of type <class 'torch.Tensor'>\n",
            "torch.Size([3, 3, 224, 224])\n",
            "Applying ColorJitter(brightness=(0.8, 1.2), contrast=(0.8, 1.2), saturation=(0.8, 1.2), hue=(-0.1, 0.1)) to image of type <class 'torch.Tensor'>\n",
            "Applying RandomResizedCrop(size=(224, 224), scale=(1, 1), ratio=(0.75, 1.3333), interpolation=bilinear, antialias=True) to image of type <class 'torch.Tensor'>\n",
            "torch.Size([3, 3, 224, 224])\n",
            "Applying RandomResizedCrop(size=(224, 224), scale=(1, 1), ratio=(0.75, 1.3333), interpolation=bilinear, antialias=True) to image of type <class 'torch.Tensor'>\n",
            "Applying RandomPerspective(p=0.8) to image of type <class 'torch.Tensor'>\n",
            "torch.Size([3, 3, 224, 224])\n"
          ]
        },
        {
          "output_type": "stream",
          "name": "stderr",
          "text": [
            "\r  2%|▎         | 25/1000 [00:15<09:20,  1.74it/s]"
          ]
        },
        {
          "output_type": "stream",
          "name": "stdout",
          "text": [
            "image shape: torch.Size([1, 224, 224, 3])\n",
            "image shape: torch.Size([1, 224, 224, 3])\n",
            "image shape: torch.Size([1, 224, 224, 3])\n",
            "Applying RandomResizedCrop(size=(224, 224), scale=(1, 1), ratio=(0.75, 1.3333), interpolation=bilinear, antialias=True) to image of type <class 'torch.Tensor'>\n",
            "Applying GaussianBlur(kernel_size=(5, 5), sigma=(0.1, 2.0)) to image of type <class 'torch.Tensor'>\n",
            "torch.Size([3, 3, 224, 224])\n",
            "Applying RandomResizedCrop(size=(224, 224), scale=(1, 1), ratio=(0.75, 1.3333), interpolation=bilinear, antialias=True) to image of type <class 'torch.Tensor'>\n",
            "Applying GaussianBlur(kernel_size=(5, 5), sigma=(0.1, 2.0)) to image of type <class 'torch.Tensor'>\n",
            "torch.Size([3, 3, 224, 224])\n",
            "Applying RandomPerspective(p=0.8) to image of type <class 'torch.Tensor'>\n",
            "Applying RandomResizedCrop(size=(224, 224), scale=(1, 1), ratio=(0.75, 1.3333), interpolation=bilinear, antialias=True) to image of type <class 'torch.Tensor'>\n",
            "torch.Size([3, 3, 224, 224])\n",
            "Applying ColorJitter(brightness=(0.8, 1.2), contrast=(0.8, 1.2), saturation=(0.8, 1.2), hue=(-0.1, 0.1)) to image of type <class 'torch.Tensor'>\n",
            "Applying GaussianBlur(kernel_size=(5, 5), sigma=(0.1, 2.0)) to image of type <class 'torch.Tensor'>\n",
            "torch.Size([3, 3, 224, 224])\n"
          ]
        },
        {
          "output_type": "stream",
          "name": "stderr",
          "text": [
            "\r  3%|▎         | 26/1000 [00:16<09:15,  1.75it/s]"
          ]
        },
        {
          "output_type": "stream",
          "name": "stdout",
          "text": [
            "image shape: torch.Size([1, 224, 224, 3])\n",
            "image shape: torch.Size([1, 224, 224, 3])\n",
            "image shape: torch.Size([1, 224, 224, 3])\n",
            "Applying GaussianBlur(kernel_size=(5, 5), sigma=(0.1, 2.0)) to image of type <class 'torch.Tensor'>\n",
            "Applying RandomResizedCrop(size=(224, 224), scale=(1, 1), ratio=(0.75, 1.3333), interpolation=bilinear, antialias=True) to image of type <class 'torch.Tensor'>\n",
            "torch.Size([3, 3, 224, 224])\n",
            "Applying ColorJitter(brightness=(0.8, 1.2), contrast=(0.8, 1.2), saturation=(0.8, 1.2), hue=(-0.1, 0.1)) to image of type <class 'torch.Tensor'>\n",
            "Applying RandomPerspective(p=0.8) to image of type <class 'torch.Tensor'>\n",
            "torch.Size([3, 3, 224, 224])\n",
            "Applying GaussianBlur(kernel_size=(5, 5), sigma=(0.1, 2.0)) to image of type <class 'torch.Tensor'>\n",
            "Applying RandomResizedCrop(size=(224, 224), scale=(1, 1), ratio=(0.75, 1.3333), interpolation=bilinear, antialias=True) to image of type <class 'torch.Tensor'>\n",
            "torch.Size([3, 3, 224, 224])\n",
            "Applying GaussianBlur(kernel_size=(5, 5), sigma=(0.1, 2.0)) to image of type <class 'torch.Tensor'>\n",
            "Applying ColorJitter(brightness=(0.8, 1.2), contrast=(0.8, 1.2), saturation=(0.8, 1.2), hue=(-0.1, 0.1)) to image of type <class 'torch.Tensor'>\n",
            "torch.Size([3, 3, 224, 224])\n"
          ]
        },
        {
          "output_type": "stream",
          "name": "stderr",
          "text": [
            "\r  3%|▎         | 27/1000 [00:17<09:14,  1.76it/s]"
          ]
        },
        {
          "output_type": "stream",
          "name": "stdout",
          "text": [
            "image shape: torch.Size([1, 224, 224, 3])\n",
            "image shape: torch.Size([1, 224, 224, 3])\n",
            "image shape: torch.Size([1, 224, 224, 3])\n",
            "Applying ColorJitter(brightness=(0.8, 1.2), contrast=(0.8, 1.2), saturation=(0.8, 1.2), hue=(-0.1, 0.1)) to image of type <class 'torch.Tensor'>\n",
            "Applying RandomResizedCrop(size=(224, 224), scale=(1, 1), ratio=(0.75, 1.3333), interpolation=bilinear, antialias=True) to image of type <class 'torch.Tensor'>\n",
            "torch.Size([3, 3, 224, 224])\n",
            "Applying RandomResizedCrop(size=(224, 224), scale=(1, 1), ratio=(0.75, 1.3333), interpolation=bilinear, antialias=True) to image of type <class 'torch.Tensor'>\n",
            "Applying RandomPerspective(p=0.8) to image of type <class 'torch.Tensor'>\n",
            "torch.Size([3, 3, 224, 224])\n",
            "Applying GaussianBlur(kernel_size=(5, 5), sigma=(0.1, 2.0)) to image of type <class 'torch.Tensor'>\n",
            "Applying ColorJitter(brightness=(0.8, 1.2), contrast=(0.8, 1.2), saturation=(0.8, 1.2), hue=(-0.1, 0.1)) to image of type <class 'torch.Tensor'>\n",
            "torch.Size([3, 3, 224, 224])\n",
            "Applying GaussianBlur(kernel_size=(5, 5), sigma=(0.1, 2.0)) to image of type <class 'torch.Tensor'>\n",
            "Applying ColorJitter(brightness=(0.8, 1.2), contrast=(0.8, 1.2), saturation=(0.8, 1.2), hue=(-0.1, 0.1)) to image of type <class 'torch.Tensor'>\n",
            "torch.Size([3, 3, 224, 224])\n"
          ]
        },
        {
          "output_type": "stream",
          "name": "stderr",
          "text": [
            "\r  3%|▎         | 28/1000 [00:17<09:13,  1.76it/s]"
          ]
        },
        {
          "output_type": "stream",
          "name": "stdout",
          "text": [
            "image shape: torch.Size([1, 224, 224, 3])\n",
            "image shape: torch.Size([1, 224, 224, 3])\n",
            "image shape: torch.Size([1, 224, 224, 3])\n",
            "Applying GaussianBlur(kernel_size=(5, 5), sigma=(0.1, 2.0)) to image of type <class 'torch.Tensor'>\n",
            "Applying RandomPerspective(p=0.8) to image of type <class 'torch.Tensor'>\n",
            "torch.Size([3, 3, 224, 224])\n",
            "Applying RandomResizedCrop(size=(224, 224), scale=(1, 1), ratio=(0.75, 1.3333), interpolation=bilinear, antialias=True) to image of type <class 'torch.Tensor'>\n",
            "Applying RandomPerspective(p=0.8) to image of type <class 'torch.Tensor'>\n",
            "torch.Size([3, 3, 224, 224])\n",
            "Applying RandomResizedCrop(size=(224, 224), scale=(1, 1), ratio=(0.75, 1.3333), interpolation=bilinear, antialias=True) to image of type <class 'torch.Tensor'>\n",
            "Applying GaussianBlur(kernel_size=(5, 5), sigma=(0.1, 2.0)) to image of type <class 'torch.Tensor'>\n",
            "torch.Size([3, 3, 224, 224])\n",
            "Applying GaussianBlur(kernel_size=(5, 5), sigma=(0.1, 2.0)) to image of type <class 'torch.Tensor'>\n",
            "Applying RandomPerspective(p=0.8) to image of type <class 'torch.Tensor'>\n",
            "torch.Size([3, 3, 224, 224])\n"
          ]
        },
        {
          "output_type": "stream",
          "name": "stderr",
          "text": [
            "\r  3%|▎         | 29/1000 [00:18<09:11,  1.76it/s]"
          ]
        },
        {
          "output_type": "stream",
          "name": "stdout",
          "text": [
            "image shape: torch.Size([1, 224, 224, 3])\n",
            "image shape: torch.Size([1, 224, 224, 3])\n",
            "image shape: torch.Size([1, 224, 224, 3])\n",
            "Applying RandomPerspective(p=0.8) to image of type <class 'torch.Tensor'>\n",
            "Applying RandomResizedCrop(size=(224, 224), scale=(1, 1), ratio=(0.75, 1.3333), interpolation=bilinear, antialias=True) to image of type <class 'torch.Tensor'>\n",
            "torch.Size([3, 3, 224, 224])\n",
            "Applying ColorJitter(brightness=(0.8, 1.2), contrast=(0.8, 1.2), saturation=(0.8, 1.2), hue=(-0.1, 0.1)) to image of type <class 'torch.Tensor'>\n",
            "Applying RandomResizedCrop(size=(224, 224), scale=(1, 1), ratio=(0.75, 1.3333), interpolation=bilinear, antialias=True) to image of type <class 'torch.Tensor'>\n",
            "torch.Size([3, 3, 224, 224])\n",
            "Applying ColorJitter(brightness=(0.8, 1.2), contrast=(0.8, 1.2), saturation=(0.8, 1.2), hue=(-0.1, 0.1)) to image of type <class 'torch.Tensor'>\n",
            "Applying RandomPerspective(p=0.8) to image of type <class 'torch.Tensor'>\n",
            "torch.Size([3, 3, 224, 224])\n",
            "Applying GaussianBlur(kernel_size=(5, 5), sigma=(0.1, 2.0)) to image of type <class 'torch.Tensor'>\n",
            "Applying RandomResizedCrop(size=(224, 224), scale=(1, 1), ratio=(0.75, 1.3333), interpolation=bilinear, antialias=True) to image of type <class 'torch.Tensor'>\n",
            "torch.Size([3, 3, 224, 224])\n"
          ]
        },
        {
          "output_type": "stream",
          "name": "stderr",
          "text": [
            "\r  3%|▎         | 30/1000 [00:18<09:08,  1.77it/s]"
          ]
        },
        {
          "output_type": "stream",
          "name": "stdout",
          "text": [
            "image shape: torch.Size([1, 224, 224, 3])\n",
            "image shape: torch.Size([1, 224, 224, 3])\n",
            "image shape: torch.Size([1, 224, 224, 3])\n",
            "Applying GaussianBlur(kernel_size=(5, 5), sigma=(0.1, 2.0)) to image of type <class 'torch.Tensor'>\n",
            "Applying RandomResizedCrop(size=(224, 224), scale=(1, 1), ratio=(0.75, 1.3333), interpolation=bilinear, antialias=True) to image of type <class 'torch.Tensor'>\n",
            "torch.Size([3, 3, 224, 224])\n",
            "Applying RandomPerspective(p=0.8) to image of type <class 'torch.Tensor'>\n",
            "Applying ColorJitter(brightness=(0.8, 1.2), contrast=(0.8, 1.2), saturation=(0.8, 1.2), hue=(-0.1, 0.1)) to image of type <class 'torch.Tensor'>\n",
            "torch.Size([3, 3, 224, 224])\n",
            "Applying ColorJitter(brightness=(0.8, 1.2), contrast=(0.8, 1.2), saturation=(0.8, 1.2), hue=(-0.1, 0.1)) to image of type <class 'torch.Tensor'>\n",
            "Applying RandomResizedCrop(size=(224, 224), scale=(1, 1), ratio=(0.75, 1.3333), interpolation=bilinear, antialias=True) to image of type <class 'torch.Tensor'>\n",
            "torch.Size([3, 3, 224, 224])\n",
            "Applying GaussianBlur(kernel_size=(5, 5), sigma=(0.1, 2.0)) to image of type <class 'torch.Tensor'>\n",
            "Applying RandomPerspective(p=0.8) to image of type <class 'torch.Tensor'>\n",
            "torch.Size([3, 3, 224, 224])\n"
          ]
        },
        {
          "output_type": "stream",
          "name": "stderr",
          "text": [
            "\r  3%|▎         | 31/1000 [00:19<09:09,  1.76it/s]"
          ]
        },
        {
          "output_type": "stream",
          "name": "stdout",
          "text": [
            "image shape: torch.Size([1, 224, 224, 3])\n",
            "image shape: torch.Size([1, 224, 224, 3])\n",
            "image shape: torch.Size([1, 224, 224, 3])\n",
            "Applying RandomResizedCrop(size=(224, 224), scale=(1, 1), ratio=(0.75, 1.3333), interpolation=bilinear, antialias=True) to image of type <class 'torch.Tensor'>\n",
            "Applying GaussianBlur(kernel_size=(5, 5), sigma=(0.1, 2.0)) to image of type <class 'torch.Tensor'>\n",
            "torch.Size([3, 3, 224, 224])\n",
            "Applying RandomResizedCrop(size=(224, 224), scale=(1, 1), ratio=(0.75, 1.3333), interpolation=bilinear, antialias=True) to image of type <class 'torch.Tensor'>\n",
            "Applying GaussianBlur(kernel_size=(5, 5), sigma=(0.1, 2.0)) to image of type <class 'torch.Tensor'>\n",
            "torch.Size([3, 3, 224, 224])\n",
            "Applying ColorJitter(brightness=(0.8, 1.2), contrast=(0.8, 1.2), saturation=(0.8, 1.2), hue=(-0.1, 0.1)) to image of type <class 'torch.Tensor'>\n",
            "Applying RandomResizedCrop(size=(224, 224), scale=(1, 1), ratio=(0.75, 1.3333), interpolation=bilinear, antialias=True) to image of type <class 'torch.Tensor'>\n",
            "torch.Size([3, 3, 224, 224])\n",
            "Applying GaussianBlur(kernel_size=(5, 5), sigma=(0.1, 2.0)) to image of type <class 'torch.Tensor'>\n",
            "Applying ColorJitter(brightness=(0.8, 1.2), contrast=(0.8, 1.2), saturation=(0.8, 1.2), hue=(-0.1, 0.1)) to image of type <class 'torch.Tensor'>\n",
            "torch.Size([3, 3, 224, 224])\n"
          ]
        },
        {
          "output_type": "stream",
          "name": "stderr",
          "text": [
            "\r  3%|▎         | 32/1000 [00:19<09:07,  1.77it/s]"
          ]
        },
        {
          "output_type": "stream",
          "name": "stdout",
          "text": [
            "image shape: torch.Size([1, 224, 224, 3])\n",
            "image shape: torch.Size([1, 224, 224, 3])\n",
            "image shape: torch.Size([1, 224, 224, 3])\n",
            "Applying GaussianBlur(kernel_size=(5, 5), sigma=(0.1, 2.0)) to image of type <class 'torch.Tensor'>\n",
            "Applying RandomResizedCrop(size=(224, 224), scale=(1, 1), ratio=(0.75, 1.3333), interpolation=bilinear, antialias=True) to image of type <class 'torch.Tensor'>\n",
            "torch.Size([3, 3, 224, 224])\n",
            "Applying GaussianBlur(kernel_size=(5, 5), sigma=(0.1, 2.0)) to image of type <class 'torch.Tensor'>\n",
            "Applying RandomResizedCrop(size=(224, 224), scale=(1, 1), ratio=(0.75, 1.3333), interpolation=bilinear, antialias=True) to image of type <class 'torch.Tensor'>\n",
            "torch.Size([3, 3, 224, 224])\n",
            "Applying ColorJitter(brightness=(0.8, 1.2), contrast=(0.8, 1.2), saturation=(0.8, 1.2), hue=(-0.1, 0.1)) to image of type <class 'torch.Tensor'>\n",
            "Applying GaussianBlur(kernel_size=(5, 5), sigma=(0.1, 2.0)) to image of type <class 'torch.Tensor'>\n",
            "torch.Size([3, 3, 224, 224])\n",
            "Applying RandomResizedCrop(size=(224, 224), scale=(1, 1), ratio=(0.75, 1.3333), interpolation=bilinear, antialias=True) to image of type <class 'torch.Tensor'>\n",
            "Applying ColorJitter(brightness=(0.8, 1.2), contrast=(0.8, 1.2), saturation=(0.8, 1.2), hue=(-0.1, 0.1)) to image of type <class 'torch.Tensor'>\n",
            "torch.Size([3, 3, 224, 224])\n"
          ]
        },
        {
          "output_type": "stream",
          "name": "stderr",
          "text": [
            "\r  3%|▎         | 33/1000 [00:20<09:08,  1.76it/s]"
          ]
        },
        {
          "output_type": "stream",
          "name": "stdout",
          "text": [
            "image shape: torch.Size([1, 224, 224, 3])\n",
            "image shape: torch.Size([1, 224, 224, 3])\n",
            "image shape: torch.Size([1, 224, 224, 3])\n",
            "Applying RandomPerspective(p=0.8) to image of type <class 'torch.Tensor'>\n",
            "Applying ColorJitter(brightness=(0.8, 1.2), contrast=(0.8, 1.2), saturation=(0.8, 1.2), hue=(-0.1, 0.1)) to image of type <class 'torch.Tensor'>\n",
            "torch.Size([3, 3, 224, 224])\n",
            "Applying RandomPerspective(p=0.8) to image of type <class 'torch.Tensor'>\n",
            "Applying ColorJitter(brightness=(0.8, 1.2), contrast=(0.8, 1.2), saturation=(0.8, 1.2), hue=(-0.1, 0.1)) to image of type <class 'torch.Tensor'>\n",
            "torch.Size([3, 3, 224, 224])\n",
            "Applying GaussianBlur(kernel_size=(5, 5), sigma=(0.1, 2.0)) to image of type <class 'torch.Tensor'>\n",
            "Applying RandomResizedCrop(size=(224, 224), scale=(1, 1), ratio=(0.75, 1.3333), interpolation=bilinear, antialias=True) to image of type <class 'torch.Tensor'>\n",
            "torch.Size([3, 3, 224, 224])\n",
            "Applying ColorJitter(brightness=(0.8, 1.2), contrast=(0.8, 1.2), saturation=(0.8, 1.2), hue=(-0.1, 0.1)) to image of type <class 'torch.Tensor'>\n",
            "Applying GaussianBlur(kernel_size=(5, 5), sigma=(0.1, 2.0)) to image of type <class 'torch.Tensor'>\n",
            "torch.Size([3, 3, 224, 224])\n"
          ]
        },
        {
          "output_type": "stream",
          "name": "stderr",
          "text": [
            "\r  3%|▎         | 34/1000 [00:21<09:10,  1.75it/s]"
          ]
        },
        {
          "output_type": "stream",
          "name": "stdout",
          "text": [
            "image shape: torch.Size([1, 224, 224, 3])\n",
            "image shape: torch.Size([1, 224, 224, 3])\n",
            "image shape: torch.Size([1, 224, 224, 3])\n",
            "Applying ColorJitter(brightness=(0.8, 1.2), contrast=(0.8, 1.2), saturation=(0.8, 1.2), hue=(-0.1, 0.1)) to image of type <class 'torch.Tensor'>\n",
            "Applying RandomResizedCrop(size=(224, 224), scale=(1, 1), ratio=(0.75, 1.3333), interpolation=bilinear, antialias=True) to image of type <class 'torch.Tensor'>\n",
            "torch.Size([3, 3, 224, 224])\n",
            "Applying RandomResizedCrop(size=(224, 224), scale=(1, 1), ratio=(0.75, 1.3333), interpolation=bilinear, antialias=True) to image of type <class 'torch.Tensor'>\n",
            "Applying RandomPerspective(p=0.8) to image of type <class 'torch.Tensor'>\n",
            "torch.Size([3, 3, 224, 224])\n",
            "Applying RandomPerspective(p=0.8) to image of type <class 'torch.Tensor'>\n",
            "Applying RandomResizedCrop(size=(224, 224), scale=(1, 1), ratio=(0.75, 1.3333), interpolation=bilinear, antialias=True) to image of type <class 'torch.Tensor'>\n",
            "torch.Size([3, 3, 224, 224])\n",
            "Applying RandomResizedCrop(size=(224, 224), scale=(1, 1), ratio=(0.75, 1.3333), interpolation=bilinear, antialias=True) to image of type <class 'torch.Tensor'>\n",
            "Applying RandomPerspective(p=0.8) to image of type <class 'torch.Tensor'>\n",
            "torch.Size([3, 3, 224, 224])\n"
          ]
        },
        {
          "output_type": "stream",
          "name": "stderr",
          "text": [
            "\r  4%|▎         | 35/1000 [00:21<09:09,  1.76it/s]"
          ]
        },
        {
          "output_type": "stream",
          "name": "stdout",
          "text": [
            "image shape: torch.Size([1, 224, 224, 3])\n",
            "image shape: torch.Size([1, 224, 224, 3])\n",
            "image shape: torch.Size([1, 224, 224, 3])\n",
            "Applying GaussianBlur(kernel_size=(5, 5), sigma=(0.1, 2.0)) to image of type <class 'torch.Tensor'>\n",
            "Applying RandomPerspective(p=0.8) to image of type <class 'torch.Tensor'>\n",
            "torch.Size([3, 3, 224, 224])\n",
            "Applying ColorJitter(brightness=(0.8, 1.2), contrast=(0.8, 1.2), saturation=(0.8, 1.2), hue=(-0.1, 0.1)) to image of type <class 'torch.Tensor'>\n",
            "Applying RandomResizedCrop(size=(224, 224), scale=(1, 1), ratio=(0.75, 1.3333), interpolation=bilinear, antialias=True) to image of type <class 'torch.Tensor'>\n",
            "torch.Size([3, 3, 224, 224])\n",
            "Applying RandomResizedCrop(size=(224, 224), scale=(1, 1), ratio=(0.75, 1.3333), interpolation=bilinear, antialias=True) to image of type <class 'torch.Tensor'>\n",
            "Applying GaussianBlur(kernel_size=(5, 5), sigma=(0.1, 2.0)) to image of type <class 'torch.Tensor'>\n",
            "torch.Size([3, 3, 224, 224])\n",
            "Applying RandomResizedCrop(size=(224, 224), scale=(1, 1), ratio=(0.75, 1.3333), interpolation=bilinear, antialias=True) to image of type <class 'torch.Tensor'>\n",
            "Applying RandomPerspective(p=0.8) to image of type <class 'torch.Tensor'>\n",
            "torch.Size([3, 3, 224, 224])\n"
          ]
        },
        {
          "output_type": "stream",
          "name": "stderr",
          "text": [
            "\r  4%|▎         | 36/1000 [00:22<09:07,  1.76it/s]"
          ]
        },
        {
          "output_type": "stream",
          "name": "stdout",
          "text": [
            "image shape: torch.Size([1, 224, 224, 3])\n",
            "image shape: torch.Size([1, 224, 224, 3])\n",
            "image shape: torch.Size([1, 224, 224, 3])\n",
            "Applying RandomResizedCrop(size=(224, 224), scale=(1, 1), ratio=(0.75, 1.3333), interpolation=bilinear, antialias=True) to image of type <class 'torch.Tensor'>\n",
            "Applying RandomPerspective(p=0.8) to image of type <class 'torch.Tensor'>\n",
            "torch.Size([3, 3, 224, 224])\n",
            "Applying ColorJitter(brightness=(0.8, 1.2), contrast=(0.8, 1.2), saturation=(0.8, 1.2), hue=(-0.1, 0.1)) to image of type <class 'torch.Tensor'>\n",
            "Applying GaussianBlur(kernel_size=(5, 5), sigma=(0.1, 2.0)) to image of type <class 'torch.Tensor'>\n",
            "torch.Size([3, 3, 224, 224])\n",
            "Applying RandomResizedCrop(size=(224, 224), scale=(1, 1), ratio=(0.75, 1.3333), interpolation=bilinear, antialias=True) to image of type <class 'torch.Tensor'>\n",
            "Applying RandomPerspective(p=0.8) to image of type <class 'torch.Tensor'>\n",
            "torch.Size([3, 3, 224, 224])\n",
            "Applying ColorJitter(brightness=(0.8, 1.2), contrast=(0.8, 1.2), saturation=(0.8, 1.2), hue=(-0.1, 0.1)) to image of type <class 'torch.Tensor'>\n",
            "Applying RandomPerspective(p=0.8) to image of type <class 'torch.Tensor'>\n",
            "torch.Size([3, 3, 224, 224])\n"
          ]
        },
        {
          "output_type": "stream",
          "name": "stderr",
          "text": [
            "\r  4%|▎         | 37/1000 [00:22<09:06,  1.76it/s]"
          ]
        },
        {
          "output_type": "stream",
          "name": "stdout",
          "text": [
            "image shape: torch.Size([1, 224, 224, 3])\n",
            "image shape: torch.Size([1, 224, 224, 3])\n",
            "image shape: torch.Size([1, 224, 224, 3])\n",
            "Applying RandomResizedCrop(size=(224, 224), scale=(1, 1), ratio=(0.75, 1.3333), interpolation=bilinear, antialias=True) to image of type <class 'torch.Tensor'>\n",
            "Applying RandomPerspective(p=0.8) to image of type <class 'torch.Tensor'>\n",
            "torch.Size([3, 3, 224, 224])\n",
            "Applying RandomResizedCrop(size=(224, 224), scale=(1, 1), ratio=(0.75, 1.3333), interpolation=bilinear, antialias=True) to image of type <class 'torch.Tensor'>\n",
            "Applying ColorJitter(brightness=(0.8, 1.2), contrast=(0.8, 1.2), saturation=(0.8, 1.2), hue=(-0.1, 0.1)) to image of type <class 'torch.Tensor'>\n",
            "torch.Size([3, 3, 224, 224])\n",
            "Applying RandomPerspective(p=0.8) to image of type <class 'torch.Tensor'>\n",
            "Applying ColorJitter(brightness=(0.8, 1.2), contrast=(0.8, 1.2), saturation=(0.8, 1.2), hue=(-0.1, 0.1)) to image of type <class 'torch.Tensor'>\n",
            "torch.Size([3, 3, 224, 224])\n",
            "Applying ColorJitter(brightness=(0.8, 1.2), contrast=(0.8, 1.2), saturation=(0.8, 1.2), hue=(-0.1, 0.1)) to image of type <class 'torch.Tensor'>\n",
            "Applying RandomPerspective(p=0.8) to image of type <class 'torch.Tensor'>\n",
            "torch.Size([3, 3, 224, 224])\n"
          ]
        },
        {
          "output_type": "stream",
          "name": "stderr",
          "text": [
            "\r  4%|▍         | 38/1000 [00:23<09:07,  1.76it/s]"
          ]
        },
        {
          "output_type": "stream",
          "name": "stdout",
          "text": [
            "image shape: torch.Size([1, 224, 224, 3])\n",
            "image shape: torch.Size([1, 224, 224, 3])\n",
            "image shape: torch.Size([1, 224, 224, 3])\n",
            "Applying RandomPerspective(p=0.8) to image of type <class 'torch.Tensor'>\n",
            "Applying RandomResizedCrop(size=(224, 224), scale=(1, 1), ratio=(0.75, 1.3333), interpolation=bilinear, antialias=True) to image of type <class 'torch.Tensor'>\n",
            "torch.Size([3, 3, 224, 224])\n",
            "Applying RandomPerspective(p=0.8) to image of type <class 'torch.Tensor'>\n",
            "Applying ColorJitter(brightness=(0.8, 1.2), contrast=(0.8, 1.2), saturation=(0.8, 1.2), hue=(-0.1, 0.1)) to image of type <class 'torch.Tensor'>\n",
            "torch.Size([3, 3, 224, 224])\n",
            "Applying ColorJitter(brightness=(0.8, 1.2), contrast=(0.8, 1.2), saturation=(0.8, 1.2), hue=(-0.1, 0.1)) to image of type <class 'torch.Tensor'>\n",
            "Applying RandomPerspective(p=0.8) to image of type <class 'torch.Tensor'>\n",
            "torch.Size([3, 3, 224, 224])\n",
            "Applying RandomPerspective(p=0.8) to image of type <class 'torch.Tensor'>\n",
            "Applying ColorJitter(brightness=(0.8, 1.2), contrast=(0.8, 1.2), saturation=(0.8, 1.2), hue=(-0.1, 0.1)) to image of type <class 'torch.Tensor'>\n",
            "torch.Size([3, 3, 224, 224])\n"
          ]
        },
        {
          "output_type": "stream",
          "name": "stderr",
          "text": [
            "\r  4%|▍         | 39/1000 [00:23<09:08,  1.75it/s]"
          ]
        },
        {
          "output_type": "stream",
          "name": "stdout",
          "text": [
            "image shape: torch.Size([1, 224, 224, 3])\n",
            "image shape: torch.Size([1, 224, 224, 3])\n",
            "image shape: torch.Size([1, 224, 224, 3])\n",
            "Applying RandomPerspective(p=0.8) to image of type <class 'torch.Tensor'>\n",
            "Applying RandomResizedCrop(size=(224, 224), scale=(1, 1), ratio=(0.75, 1.3333), interpolation=bilinear, antialias=True) to image of type <class 'torch.Tensor'>\n",
            "torch.Size([3, 3, 224, 224])\n",
            "Applying RandomResizedCrop(size=(224, 224), scale=(1, 1), ratio=(0.75, 1.3333), interpolation=bilinear, antialias=True) to image of type <class 'torch.Tensor'>\n",
            "Applying ColorJitter(brightness=(0.8, 1.2), contrast=(0.8, 1.2), saturation=(0.8, 1.2), hue=(-0.1, 0.1)) to image of type <class 'torch.Tensor'>\n",
            "torch.Size([3, 3, 224, 224])\n",
            "Applying RandomResizedCrop(size=(224, 224), scale=(1, 1), ratio=(0.75, 1.3333), interpolation=bilinear, antialias=True) to image of type <class 'torch.Tensor'>\n",
            "Applying GaussianBlur(kernel_size=(5, 5), sigma=(0.1, 2.0)) to image of type <class 'torch.Tensor'>\n",
            "torch.Size([3, 3, 224, 224])\n",
            "Applying ColorJitter(brightness=(0.8, 1.2), contrast=(0.8, 1.2), saturation=(0.8, 1.2), hue=(-0.1, 0.1)) to image of type <class 'torch.Tensor'>\n",
            "Applying RandomPerspective(p=0.8) to image of type <class 'torch.Tensor'>\n",
            "torch.Size([3, 3, 224, 224])\n"
          ]
        },
        {
          "output_type": "stream",
          "name": "stderr",
          "text": [
            "\r  4%|▍         | 40/1000 [00:24<09:08,  1.75it/s]"
          ]
        },
        {
          "output_type": "stream",
          "name": "stdout",
          "text": [
            "image shape: torch.Size([1, 224, 224, 3])\n",
            "image shape: torch.Size([1, 224, 224, 3])\n",
            "image shape: torch.Size([1, 224, 224, 3])\n",
            "Applying RandomPerspective(p=0.8) to image of type <class 'torch.Tensor'>\n",
            "Applying RandomResizedCrop(size=(224, 224), scale=(1, 1), ratio=(0.75, 1.3333), interpolation=bilinear, antialias=True) to image of type <class 'torch.Tensor'>\n",
            "torch.Size([3, 3, 224, 224])\n",
            "Applying RandomPerspective(p=0.8) to image of type <class 'torch.Tensor'>\n",
            "Applying RandomResizedCrop(size=(224, 224), scale=(1, 1), ratio=(0.75, 1.3333), interpolation=bilinear, antialias=True) to image of type <class 'torch.Tensor'>\n",
            "torch.Size([3, 3, 224, 224])\n",
            "Applying ColorJitter(brightness=(0.8, 1.2), contrast=(0.8, 1.2), saturation=(0.8, 1.2), hue=(-0.1, 0.1)) to image of type <class 'torch.Tensor'>\n",
            "Applying GaussianBlur(kernel_size=(5, 5), sigma=(0.1, 2.0)) to image of type <class 'torch.Tensor'>\n",
            "torch.Size([3, 3, 224, 224])\n",
            "Applying RandomPerspective(p=0.8) to image of type <class 'torch.Tensor'>\n",
            "Applying RandomResizedCrop(size=(224, 224), scale=(1, 1), ratio=(0.75, 1.3333), interpolation=bilinear, antialias=True) to image of type <class 'torch.Tensor'>\n",
            "torch.Size([3, 3, 224, 224])\n"
          ]
        },
        {
          "output_type": "stream",
          "name": "stderr",
          "text": [
            "\r  4%|▍         | 41/1000 [00:25<09:09,  1.75it/s]"
          ]
        },
        {
          "output_type": "stream",
          "name": "stdout",
          "text": [
            "image shape: torch.Size([1, 224, 224, 3])\n",
            "image shape: torch.Size([1, 224, 224, 3])\n",
            "image shape: torch.Size([1, 224, 224, 3])\n",
            "Applying GaussianBlur(kernel_size=(5, 5), sigma=(0.1, 2.0)) to image of type <class 'torch.Tensor'>\n",
            "Applying RandomPerspective(p=0.8) to image of type <class 'torch.Tensor'>\n",
            "torch.Size([3, 3, 224, 224])\n",
            "Applying RandomPerspective(p=0.8) to image of type <class 'torch.Tensor'>\n",
            "Applying GaussianBlur(kernel_size=(5, 5), sigma=(0.1, 2.0)) to image of type <class 'torch.Tensor'>\n",
            "torch.Size([3, 3, 224, 224])\n",
            "Applying RandomResizedCrop(size=(224, 224), scale=(1, 1), ratio=(0.75, 1.3333), interpolation=bilinear, antialias=True) to image of type <class 'torch.Tensor'>\n",
            "Applying RandomPerspective(p=0.8) to image of type <class 'torch.Tensor'>\n",
            "torch.Size([3, 3, 224, 224])\n",
            "Applying RandomPerspective(p=0.8) to image of type <class 'torch.Tensor'>\n",
            "Applying GaussianBlur(kernel_size=(5, 5), sigma=(0.1, 2.0)) to image of type <class 'torch.Tensor'>\n",
            "torch.Size([3, 3, 224, 224])\n"
          ]
        },
        {
          "output_type": "stream",
          "name": "stderr",
          "text": [
            "\r  4%|▍         | 42/1000 [00:25<09:08,  1.75it/s]"
          ]
        },
        {
          "output_type": "stream",
          "name": "stdout",
          "text": [
            "image shape: torch.Size([1, 224, 224, 3])\n",
            "image shape: torch.Size([1, 224, 224, 3])\n",
            "image shape: torch.Size([1, 224, 224, 3])\n",
            "Applying RandomResizedCrop(size=(224, 224), scale=(1, 1), ratio=(0.75, 1.3333), interpolation=bilinear, antialias=True) to image of type <class 'torch.Tensor'>\n",
            "Applying GaussianBlur(kernel_size=(5, 5), sigma=(0.1, 2.0)) to image of type <class 'torch.Tensor'>\n",
            "torch.Size([3, 3, 224, 224])\n",
            "Applying RandomPerspective(p=0.8) to image of type <class 'torch.Tensor'>\n",
            "Applying RandomResizedCrop(size=(224, 224), scale=(1, 1), ratio=(0.75, 1.3333), interpolation=bilinear, antialias=True) to image of type <class 'torch.Tensor'>\n",
            "torch.Size([3, 3, 224, 224])\n",
            "Applying RandomResizedCrop(size=(224, 224), scale=(1, 1), ratio=(0.75, 1.3333), interpolation=bilinear, antialias=True) to image of type <class 'torch.Tensor'>\n",
            "Applying RandomPerspective(p=0.8) to image of type <class 'torch.Tensor'>\n",
            "torch.Size([3, 3, 224, 224])\n",
            "Applying ColorJitter(brightness=(0.8, 1.2), contrast=(0.8, 1.2), saturation=(0.8, 1.2), hue=(-0.1, 0.1)) to image of type <class 'torch.Tensor'>\n",
            "Applying GaussianBlur(kernel_size=(5, 5), sigma=(0.1, 2.0)) to image of type <class 'torch.Tensor'>\n",
            "torch.Size([3, 3, 224, 224])\n"
          ]
        },
        {
          "output_type": "stream",
          "name": "stderr",
          "text": [
            "\r  4%|▍         | 43/1000 [00:26<09:09,  1.74it/s]"
          ]
        },
        {
          "output_type": "stream",
          "name": "stdout",
          "text": [
            "image shape: torch.Size([1, 224, 224, 3])\n",
            "image shape: torch.Size([1, 224, 224, 3])\n",
            "image shape: torch.Size([1, 224, 224, 3])\n",
            "Applying RandomPerspective(p=0.8) to image of type <class 'torch.Tensor'>\n",
            "Applying GaussianBlur(kernel_size=(5, 5), sigma=(0.1, 2.0)) to image of type <class 'torch.Tensor'>\n",
            "torch.Size([3, 3, 224, 224])\n",
            "Applying ColorJitter(brightness=(0.8, 1.2), contrast=(0.8, 1.2), saturation=(0.8, 1.2), hue=(-0.1, 0.1)) to image of type <class 'torch.Tensor'>\n",
            "Applying RandomPerspective(p=0.8) to image of type <class 'torch.Tensor'>\n",
            "torch.Size([3, 3, 224, 224])\n",
            "Applying RandomPerspective(p=0.8) to image of type <class 'torch.Tensor'>\n",
            "Applying RandomResizedCrop(size=(224, 224), scale=(1, 1), ratio=(0.75, 1.3333), interpolation=bilinear, antialias=True) to image of type <class 'torch.Tensor'>\n",
            "torch.Size([3, 3, 224, 224])\n",
            "Applying RandomPerspective(p=0.8) to image of type <class 'torch.Tensor'>\n",
            "Applying GaussianBlur(kernel_size=(5, 5), sigma=(0.1, 2.0)) to image of type <class 'torch.Tensor'>\n",
            "torch.Size([3, 3, 224, 224])\n"
          ]
        },
        {
          "output_type": "stream",
          "name": "stderr",
          "text": [
            "\r  4%|▍         | 44/1000 [00:26<09:12,  1.73it/s]"
          ]
        },
        {
          "output_type": "stream",
          "name": "stdout",
          "text": [
            "image shape: torch.Size([1, 224, 224, 3])\n",
            "image shape: torch.Size([1, 224, 224, 3])\n",
            "image shape: torch.Size([1, 224, 224, 3])\n",
            "Applying GaussianBlur(kernel_size=(5, 5), sigma=(0.1, 2.0)) to image of type <class 'torch.Tensor'>\n",
            "Applying ColorJitter(brightness=(0.8, 1.2), contrast=(0.8, 1.2), saturation=(0.8, 1.2), hue=(-0.1, 0.1)) to image of type <class 'torch.Tensor'>\n",
            "torch.Size([3, 3, 224, 224])\n",
            "Applying RandomResizedCrop(size=(224, 224), scale=(1, 1), ratio=(0.75, 1.3333), interpolation=bilinear, antialias=True) to image of type <class 'torch.Tensor'>\n",
            "Applying GaussianBlur(kernel_size=(5, 5), sigma=(0.1, 2.0)) to image of type <class 'torch.Tensor'>\n",
            "torch.Size([3, 3, 224, 224])\n",
            "Applying GaussianBlur(kernel_size=(5, 5), sigma=(0.1, 2.0)) to image of type <class 'torch.Tensor'>\n",
            "Applying ColorJitter(brightness=(0.8, 1.2), contrast=(0.8, 1.2), saturation=(0.8, 1.2), hue=(-0.1, 0.1)) to image of type <class 'torch.Tensor'>\n",
            "torch.Size([3, 3, 224, 224])\n",
            "Applying RandomResizedCrop(size=(224, 224), scale=(1, 1), ratio=(0.75, 1.3333), interpolation=bilinear, antialias=True) to image of type <class 'torch.Tensor'>\n",
            "Applying GaussianBlur(kernel_size=(5, 5), sigma=(0.1, 2.0)) to image of type <class 'torch.Tensor'>\n",
            "torch.Size([3, 3, 224, 224])\n"
          ]
        },
        {
          "output_type": "stream",
          "name": "stderr",
          "text": [
            "\r  4%|▍         | 45/1000 [00:27<09:13,  1.73it/s]"
          ]
        },
        {
          "output_type": "stream",
          "name": "stdout",
          "text": [
            "image shape: torch.Size([1, 224, 224, 3])\n",
            "image shape: torch.Size([1, 224, 224, 3])\n",
            "image shape: torch.Size([1, 224, 224, 3])\n",
            "Applying RandomPerspective(p=0.8) to image of type <class 'torch.Tensor'>\n",
            "Applying RandomResizedCrop(size=(224, 224), scale=(1, 1), ratio=(0.75, 1.3333), interpolation=bilinear, antialias=True) to image of type <class 'torch.Tensor'>\n",
            "torch.Size([3, 3, 224, 224])\n",
            "Applying RandomPerspective(p=0.8) to image of type <class 'torch.Tensor'>\n",
            "Applying RandomResizedCrop(size=(224, 224), scale=(1, 1), ratio=(0.75, 1.3333), interpolation=bilinear, antialias=True) to image of type <class 'torch.Tensor'>\n",
            "torch.Size([3, 3, 224, 224])\n",
            "Applying GaussianBlur(kernel_size=(5, 5), sigma=(0.1, 2.0)) to image of type <class 'torch.Tensor'>\n",
            "Applying RandomPerspective(p=0.8) to image of type <class 'torch.Tensor'>\n",
            "torch.Size([3, 3, 224, 224])\n",
            "Applying GaussianBlur(kernel_size=(5, 5), sigma=(0.1, 2.0)) to image of type <class 'torch.Tensor'>\n",
            "Applying RandomPerspective(p=0.8) to image of type <class 'torch.Tensor'>\n",
            "torch.Size([3, 3, 224, 224])\n"
          ]
        },
        {
          "output_type": "stream",
          "name": "stderr",
          "text": [
            "\r  5%|▍         | 46/1000 [00:27<09:05,  1.75it/s]"
          ]
        },
        {
          "output_type": "stream",
          "name": "stdout",
          "text": [
            "image shape: torch.Size([1, 224, 224, 3])\n",
            "image shape: torch.Size([1, 224, 224, 3])\n",
            "image shape: torch.Size([1, 224, 224, 3])\n",
            "Applying RandomResizedCrop(size=(224, 224), scale=(1, 1), ratio=(0.75, 1.3333), interpolation=bilinear, antialias=True) to image of type <class 'torch.Tensor'>\n",
            "Applying GaussianBlur(kernel_size=(5, 5), sigma=(0.1, 2.0)) to image of type <class 'torch.Tensor'>\n",
            "torch.Size([3, 3, 224, 224])\n",
            "Applying RandomResizedCrop(size=(224, 224), scale=(1, 1), ratio=(0.75, 1.3333), interpolation=bilinear, antialias=True) to image of type <class 'torch.Tensor'>\n",
            "Applying RandomPerspective(p=0.8) to image of type <class 'torch.Tensor'>\n",
            "torch.Size([3, 3, 224, 224])\n",
            "Applying ColorJitter(brightness=(0.8, 1.2), contrast=(0.8, 1.2), saturation=(0.8, 1.2), hue=(-0.1, 0.1)) to image of type <class 'torch.Tensor'>\n",
            "Applying RandomPerspective(p=0.8) to image of type <class 'torch.Tensor'>\n",
            "torch.Size([3, 3, 224, 224])\n",
            "Applying RandomResizedCrop(size=(224, 224), scale=(1, 1), ratio=(0.75, 1.3333), interpolation=bilinear, antialias=True) to image of type <class 'torch.Tensor'>\n",
            "Applying ColorJitter(brightness=(0.8, 1.2), contrast=(0.8, 1.2), saturation=(0.8, 1.2), hue=(-0.1, 0.1)) to image of type <class 'torch.Tensor'>\n",
            "torch.Size([3, 3, 224, 224])\n"
          ]
        },
        {
          "output_type": "stream",
          "name": "stderr",
          "text": [
            "\r  5%|▍         | 47/1000 [00:28<08:59,  1.77it/s]"
          ]
        },
        {
          "output_type": "stream",
          "name": "stdout",
          "text": [
            "image shape: torch.Size([1, 224, 224, 3])\n",
            "image shape: torch.Size([1, 224, 224, 3])\n",
            "image shape: torch.Size([1, 224, 224, 3])\n",
            "Applying ColorJitter(brightness=(0.8, 1.2), contrast=(0.8, 1.2), saturation=(0.8, 1.2), hue=(-0.1, 0.1)) to image of type <class 'torch.Tensor'>\n",
            "Applying GaussianBlur(kernel_size=(5, 5), sigma=(0.1, 2.0)) to image of type <class 'torch.Tensor'>\n",
            "torch.Size([3, 3, 224, 224])\n",
            "Applying ColorJitter(brightness=(0.8, 1.2), contrast=(0.8, 1.2), saturation=(0.8, 1.2), hue=(-0.1, 0.1)) to image of type <class 'torch.Tensor'>\n",
            "Applying RandomResizedCrop(size=(224, 224), scale=(1, 1), ratio=(0.75, 1.3333), interpolation=bilinear, antialias=True) to image of type <class 'torch.Tensor'>\n",
            "torch.Size([3, 3, 224, 224])\n",
            "Applying RandomPerspective(p=0.8) to image of type <class 'torch.Tensor'>\n",
            "Applying ColorJitter(brightness=(0.8, 1.2), contrast=(0.8, 1.2), saturation=(0.8, 1.2), hue=(-0.1, 0.1)) to image of type <class 'torch.Tensor'>\n",
            "torch.Size([3, 3, 224, 224])\n",
            "Applying RandomResizedCrop(size=(224, 224), scale=(1, 1), ratio=(0.75, 1.3333), interpolation=bilinear, antialias=True) to image of type <class 'torch.Tensor'>\n",
            "Applying ColorJitter(brightness=(0.8, 1.2), contrast=(0.8, 1.2), saturation=(0.8, 1.2), hue=(-0.1, 0.1)) to image of type <class 'torch.Tensor'>\n",
            "torch.Size([3, 3, 224, 224])\n"
          ]
        },
        {
          "output_type": "stream",
          "name": "stderr",
          "text": [
            "\r  5%|▍         | 48/1000 [00:29<08:58,  1.77it/s]"
          ]
        },
        {
          "output_type": "stream",
          "name": "stdout",
          "text": [
            "image shape: torch.Size([1, 224, 224, 3])\n",
            "image shape: torch.Size([1, 224, 224, 3])\n",
            "image shape: torch.Size([1, 224, 224, 3])\n",
            "Applying ColorJitter(brightness=(0.8, 1.2), contrast=(0.8, 1.2), saturation=(0.8, 1.2), hue=(-0.1, 0.1)) to image of type <class 'torch.Tensor'>\n",
            "Applying RandomPerspective(p=0.8) to image of type <class 'torch.Tensor'>\n",
            "torch.Size([3, 3, 224, 224])\n",
            "Applying ColorJitter(brightness=(0.8, 1.2), contrast=(0.8, 1.2), saturation=(0.8, 1.2), hue=(-0.1, 0.1)) to image of type <class 'torch.Tensor'>\n",
            "Applying RandomPerspective(p=0.8) to image of type <class 'torch.Tensor'>\n",
            "torch.Size([3, 3, 224, 224])\n",
            "Applying RandomResizedCrop(size=(224, 224), scale=(1, 1), ratio=(0.75, 1.3333), interpolation=bilinear, antialias=True) to image of type <class 'torch.Tensor'>\n",
            "Applying ColorJitter(brightness=(0.8, 1.2), contrast=(0.8, 1.2), saturation=(0.8, 1.2), hue=(-0.1, 0.1)) to image of type <class 'torch.Tensor'>\n",
            "torch.Size([3, 3, 224, 224])\n",
            "Applying GaussianBlur(kernel_size=(5, 5), sigma=(0.1, 2.0)) to image of type <class 'torch.Tensor'>\n",
            "Applying RandomPerspective(p=0.8) to image of type <class 'torch.Tensor'>\n",
            "torch.Size([3, 3, 224, 224])\n"
          ]
        },
        {
          "output_type": "stream",
          "name": "stderr",
          "text": [
            "\r  5%|▍         | 49/1000 [00:29<08:49,  1.80it/s]"
          ]
        },
        {
          "output_type": "stream",
          "name": "stdout",
          "text": [
            "image shape: torch.Size([1, 224, 224, 3])\n",
            "image shape: torch.Size([1, 224, 224, 3])\n",
            "image shape: torch.Size([1, 224, 224, 3])\n",
            "Applying ColorJitter(brightness=(0.8, 1.2), contrast=(0.8, 1.2), saturation=(0.8, 1.2), hue=(-0.1, 0.1)) to image of type <class 'torch.Tensor'>\n",
            "Applying RandomResizedCrop(size=(224, 224), scale=(1, 1), ratio=(0.75, 1.3333), interpolation=bilinear, antialias=True) to image of type <class 'torch.Tensor'>\n",
            "torch.Size([3, 3, 224, 224])\n",
            "Applying ColorJitter(brightness=(0.8, 1.2), contrast=(0.8, 1.2), saturation=(0.8, 1.2), hue=(-0.1, 0.1)) to image of type <class 'torch.Tensor'>\n",
            "Applying RandomResizedCrop(size=(224, 224), scale=(1, 1), ratio=(0.75, 1.3333), interpolation=bilinear, antialias=True) to image of type <class 'torch.Tensor'>\n",
            "torch.Size([3, 3, 224, 224])\n",
            "Applying GaussianBlur(kernel_size=(5, 5), sigma=(0.1, 2.0)) to image of type <class 'torch.Tensor'>\n",
            "Applying RandomResizedCrop(size=(224, 224), scale=(1, 1), ratio=(0.75, 1.3333), interpolation=bilinear, antialias=True) to image of type <class 'torch.Tensor'>\n",
            "torch.Size([3, 3, 224, 224])\n",
            "Applying ColorJitter(brightness=(0.8, 1.2), contrast=(0.8, 1.2), saturation=(0.8, 1.2), hue=(-0.1, 0.1)) to image of type <class 'torch.Tensor'>\n",
            "Applying RandomPerspective(p=0.8) to image of type <class 'torch.Tensor'>\n",
            "torch.Size([3, 3, 224, 224])\n"
          ]
        },
        {
          "output_type": "stream",
          "name": "stderr",
          "text": [
            "\r  5%|▌         | 50/1000 [00:30<08:41,  1.82it/s]"
          ]
        },
        {
          "output_type": "stream",
          "name": "stdout",
          "text": [
            "image shape: torch.Size([1, 224, 224, 3])\n",
            "image shape: torch.Size([1, 224, 224, 3])\n",
            "image shape: torch.Size([1, 224, 224, 3])\n",
            "Applying RandomPerspective(p=0.8) to image of type <class 'torch.Tensor'>\n",
            "Applying ColorJitter(brightness=(0.8, 1.2), contrast=(0.8, 1.2), saturation=(0.8, 1.2), hue=(-0.1, 0.1)) to image of type <class 'torch.Tensor'>\n",
            "torch.Size([3, 3, 224, 224])\n",
            "Applying ColorJitter(brightness=(0.8, 1.2), contrast=(0.8, 1.2), saturation=(0.8, 1.2), hue=(-0.1, 0.1)) to image of type <class 'torch.Tensor'>\n",
            "Applying GaussianBlur(kernel_size=(5, 5), sigma=(0.1, 2.0)) to image of type <class 'torch.Tensor'>\n",
            "torch.Size([3, 3, 224, 224])\n",
            "Applying ColorJitter(brightness=(0.8, 1.2), contrast=(0.8, 1.2), saturation=(0.8, 1.2), hue=(-0.1, 0.1)) to image of type <class 'torch.Tensor'>\n",
            "Applying RandomPerspective(p=0.8) to image of type <class 'torch.Tensor'>\n",
            "torch.Size([3, 3, 224, 224])\n",
            "Applying RandomResizedCrop(size=(224, 224), scale=(1, 1), ratio=(0.75, 1.3333), interpolation=bilinear, antialias=True) to image of type <class 'torch.Tensor'>\n",
            "Applying ColorJitter(brightness=(0.8, 1.2), contrast=(0.8, 1.2), saturation=(0.8, 1.2), hue=(-0.1, 0.1)) to image of type <class 'torch.Tensor'>\n",
            "torch.Size([3, 3, 224, 224])\n"
          ]
        },
        {
          "output_type": "stream",
          "name": "stderr",
          "text": [
            "\r  5%|▌         | 51/1000 [00:30<08:36,  1.84it/s]"
          ]
        },
        {
          "output_type": "stream",
          "name": "stdout",
          "text": [
            "image shape: torch.Size([1, 224, 224, 3])\n",
            "image shape: torch.Size([1, 224, 224, 3])\n",
            "image shape: torch.Size([1, 224, 224, 3])\n",
            "Applying RandomResizedCrop(size=(224, 224), scale=(1, 1), ratio=(0.75, 1.3333), interpolation=bilinear, antialias=True) to image of type <class 'torch.Tensor'>\n",
            "Applying ColorJitter(brightness=(0.8, 1.2), contrast=(0.8, 1.2), saturation=(0.8, 1.2), hue=(-0.1, 0.1)) to image of type <class 'torch.Tensor'>\n",
            "torch.Size([3, 3, 224, 224])\n",
            "Applying ColorJitter(brightness=(0.8, 1.2), contrast=(0.8, 1.2), saturation=(0.8, 1.2), hue=(-0.1, 0.1)) to image of type <class 'torch.Tensor'>\n",
            "Applying RandomResizedCrop(size=(224, 224), scale=(1, 1), ratio=(0.75, 1.3333), interpolation=bilinear, antialias=True) to image of type <class 'torch.Tensor'>\n",
            "torch.Size([3, 3, 224, 224])\n",
            "Applying GaussianBlur(kernel_size=(5, 5), sigma=(0.1, 2.0)) to image of type <class 'torch.Tensor'>\n",
            "Applying ColorJitter(brightness=(0.8, 1.2), contrast=(0.8, 1.2), saturation=(0.8, 1.2), hue=(-0.1, 0.1)) to image of type <class 'torch.Tensor'>\n",
            "torch.Size([3, 3, 224, 224])\n",
            "Applying RandomPerspective(p=0.8) to image of type <class 'torch.Tensor'>\n",
            "Applying RandomResizedCrop(size=(224, 224), scale=(1, 1), ratio=(0.75, 1.3333), interpolation=bilinear, antialias=True) to image of type <class 'torch.Tensor'>\n",
            "torch.Size([3, 3, 224, 224])\n"
          ]
        },
        {
          "output_type": "stream",
          "name": "stderr",
          "text": [
            "\r  5%|▌         | 52/1000 [00:31<08:31,  1.85it/s]"
          ]
        },
        {
          "output_type": "stream",
          "name": "stdout",
          "text": [
            "image shape: torch.Size([1, 224, 224, 3])\n",
            "image shape: torch.Size([1, 224, 224, 3])\n",
            "image shape: torch.Size([1, 224, 224, 3])\n",
            "Applying ColorJitter(brightness=(0.8, 1.2), contrast=(0.8, 1.2), saturation=(0.8, 1.2), hue=(-0.1, 0.1)) to image of type <class 'torch.Tensor'>\n",
            "Applying RandomResizedCrop(size=(224, 224), scale=(1, 1), ratio=(0.75, 1.3333), interpolation=bilinear, antialias=True) to image of type <class 'torch.Tensor'>\n",
            "torch.Size([3, 3, 224, 224])\n",
            "Applying ColorJitter(brightness=(0.8, 1.2), contrast=(0.8, 1.2), saturation=(0.8, 1.2), hue=(-0.1, 0.1)) to image of type <class 'torch.Tensor'>\n",
            "Applying GaussianBlur(kernel_size=(5, 5), sigma=(0.1, 2.0)) to image of type <class 'torch.Tensor'>\n",
            "torch.Size([3, 3, 224, 224])\n",
            "Applying RandomPerspective(p=0.8) to image of type <class 'torch.Tensor'>\n",
            "Applying ColorJitter(brightness=(0.8, 1.2), contrast=(0.8, 1.2), saturation=(0.8, 1.2), hue=(-0.1, 0.1)) to image of type <class 'torch.Tensor'>\n",
            "torch.Size([3, 3, 224, 224])\n",
            "Applying RandomResizedCrop(size=(224, 224), scale=(1, 1), ratio=(0.75, 1.3333), interpolation=bilinear, antialias=True) to image of type <class 'torch.Tensor'>\n",
            "Applying ColorJitter(brightness=(0.8, 1.2), contrast=(0.8, 1.2), saturation=(0.8, 1.2), hue=(-0.1, 0.1)) to image of type <class 'torch.Tensor'>\n",
            "torch.Size([3, 3, 224, 224])\n"
          ]
        },
        {
          "output_type": "stream",
          "name": "stderr",
          "text": [
            "\r  5%|▌         | 53/1000 [00:31<08:29,  1.86it/s]"
          ]
        },
        {
          "output_type": "stream",
          "name": "stdout",
          "text": [
            "image shape: torch.Size([1, 224, 224, 3])\n",
            "image shape: torch.Size([1, 224, 224, 3])\n",
            "image shape: torch.Size([1, 224, 224, 3])\n",
            "Applying RandomPerspective(p=0.8) to image of type <class 'torch.Tensor'>\n",
            "Applying GaussianBlur(kernel_size=(5, 5), sigma=(0.1, 2.0)) to image of type <class 'torch.Tensor'>\n",
            "torch.Size([3, 3, 224, 224])\n",
            "Applying GaussianBlur(kernel_size=(5, 5), sigma=(0.1, 2.0)) to image of type <class 'torch.Tensor'>\n",
            "Applying RandomPerspective(p=0.8) to image of type <class 'torch.Tensor'>\n",
            "torch.Size([3, 3, 224, 224])\n",
            "Applying RandomPerspective(p=0.8) to image of type <class 'torch.Tensor'>\n",
            "Applying RandomResizedCrop(size=(224, 224), scale=(1, 1), ratio=(0.75, 1.3333), interpolation=bilinear, antialias=True) to image of type <class 'torch.Tensor'>\n",
            "torch.Size([3, 3, 224, 224])\n",
            "Applying RandomResizedCrop(size=(224, 224), scale=(1, 1), ratio=(0.75, 1.3333), interpolation=bilinear, antialias=True) to image of type <class 'torch.Tensor'>\n",
            "Applying ColorJitter(brightness=(0.8, 1.2), contrast=(0.8, 1.2), saturation=(0.8, 1.2), hue=(-0.1, 0.1)) to image of type <class 'torch.Tensor'>\n",
            "torch.Size([3, 3, 224, 224])\n"
          ]
        },
        {
          "output_type": "stream",
          "name": "stderr",
          "text": [
            "\r  5%|▌         | 54/1000 [00:32<08:25,  1.87it/s]"
          ]
        },
        {
          "output_type": "stream",
          "name": "stdout",
          "text": [
            "image shape: torch.Size([1, 224, 224, 3])\n",
            "image shape: torch.Size([1, 224, 224, 3])\n",
            "image shape: torch.Size([1, 224, 224, 3])\n",
            "Applying ColorJitter(brightness=(0.8, 1.2), contrast=(0.8, 1.2), saturation=(0.8, 1.2), hue=(-0.1, 0.1)) to image of type <class 'torch.Tensor'>\n",
            "Applying RandomPerspective(p=0.8) to image of type <class 'torch.Tensor'>\n",
            "torch.Size([3, 3, 224, 224])\n",
            "Applying RandomPerspective(p=0.8) to image of type <class 'torch.Tensor'>\n",
            "Applying RandomResizedCrop(size=(224, 224), scale=(1, 1), ratio=(0.75, 1.3333), interpolation=bilinear, antialias=True) to image of type <class 'torch.Tensor'>\n",
            "torch.Size([3, 3, 224, 224])\n",
            "Applying RandomResizedCrop(size=(224, 224), scale=(1, 1), ratio=(0.75, 1.3333), interpolation=bilinear, antialias=True) to image of type <class 'torch.Tensor'>\n",
            "Applying RandomPerspective(p=0.8) to image of type <class 'torch.Tensor'>\n",
            "torch.Size([3, 3, 224, 224])\n",
            "Applying GaussianBlur(kernel_size=(5, 5), sigma=(0.1, 2.0)) to image of type <class 'torch.Tensor'>\n",
            "Applying ColorJitter(brightness=(0.8, 1.2), contrast=(0.8, 1.2), saturation=(0.8, 1.2), hue=(-0.1, 0.1)) to image of type <class 'torch.Tensor'>\n",
            "torch.Size([3, 3, 224, 224])\n"
          ]
        },
        {
          "output_type": "stream",
          "name": "stderr",
          "text": [
            "\r  6%|▌         | 55/1000 [00:32<08:23,  1.88it/s]"
          ]
        },
        {
          "output_type": "stream",
          "name": "stdout",
          "text": [
            "image shape: torch.Size([1, 224, 224, 3])\n",
            "image shape: torch.Size([1, 224, 224, 3])\n",
            "image shape: torch.Size([1, 224, 224, 3])\n",
            "Applying RandomPerspective(p=0.8) to image of type <class 'torch.Tensor'>\n",
            "Applying ColorJitter(brightness=(0.8, 1.2), contrast=(0.8, 1.2), saturation=(0.8, 1.2), hue=(-0.1, 0.1)) to image of type <class 'torch.Tensor'>\n",
            "torch.Size([3, 3, 224, 224])\n",
            "Applying RandomResizedCrop(size=(224, 224), scale=(1, 1), ratio=(0.75, 1.3333), interpolation=bilinear, antialias=True) to image of type <class 'torch.Tensor'>\n",
            "Applying ColorJitter(brightness=(0.8, 1.2), contrast=(0.8, 1.2), saturation=(0.8, 1.2), hue=(-0.1, 0.1)) to image of type <class 'torch.Tensor'>\n",
            "torch.Size([3, 3, 224, 224])\n",
            "Applying ColorJitter(brightness=(0.8, 1.2), contrast=(0.8, 1.2), saturation=(0.8, 1.2), hue=(-0.1, 0.1)) to image of type <class 'torch.Tensor'>\n",
            "Applying GaussianBlur(kernel_size=(5, 5), sigma=(0.1, 2.0)) to image of type <class 'torch.Tensor'>\n",
            "torch.Size([3, 3, 224, 224])\n",
            "Applying RandomResizedCrop(size=(224, 224), scale=(1, 1), ratio=(0.75, 1.3333), interpolation=bilinear, antialias=True) to image of type <class 'torch.Tensor'>\n",
            "Applying RandomPerspective(p=0.8) to image of type <class 'torch.Tensor'>\n",
            "torch.Size([3, 3, 224, 224])\n"
          ]
        },
        {
          "output_type": "stream",
          "name": "stderr",
          "text": [
            "\r  6%|▌         | 56/1000 [00:33<08:21,  1.88it/s]"
          ]
        },
        {
          "output_type": "stream",
          "name": "stdout",
          "text": [
            "image shape: torch.Size([1, 224, 224, 3])\n",
            "image shape: torch.Size([1, 224, 224, 3])\n",
            "image shape: torch.Size([1, 224, 224, 3])\n",
            "Applying GaussianBlur(kernel_size=(5, 5), sigma=(0.1, 2.0)) to image of type <class 'torch.Tensor'>\n",
            "Applying RandomResizedCrop(size=(224, 224), scale=(1, 1), ratio=(0.75, 1.3333), interpolation=bilinear, antialias=True) to image of type <class 'torch.Tensor'>\n",
            "torch.Size([3, 3, 224, 224])\n",
            "Applying ColorJitter(brightness=(0.8, 1.2), contrast=(0.8, 1.2), saturation=(0.8, 1.2), hue=(-0.1, 0.1)) to image of type <class 'torch.Tensor'>\n",
            "Applying GaussianBlur(kernel_size=(5, 5), sigma=(0.1, 2.0)) to image of type <class 'torch.Tensor'>\n",
            "torch.Size([3, 3, 224, 224])\n",
            "Applying GaussianBlur(kernel_size=(5, 5), sigma=(0.1, 2.0)) to image of type <class 'torch.Tensor'>\n",
            "Applying RandomResizedCrop(size=(224, 224), scale=(1, 1), ratio=(0.75, 1.3333), interpolation=bilinear, antialias=True) to image of type <class 'torch.Tensor'>\n",
            "torch.Size([3, 3, 224, 224])\n",
            "Applying RandomPerspective(p=0.8) to image of type <class 'torch.Tensor'>\n",
            "Applying GaussianBlur(kernel_size=(5, 5), sigma=(0.1, 2.0)) to image of type <class 'torch.Tensor'>\n",
            "torch.Size([3, 3, 224, 224])\n"
          ]
        },
        {
          "output_type": "stream",
          "name": "stderr",
          "text": [
            "\r  6%|▌         | 57/1000 [00:33<08:19,  1.89it/s]"
          ]
        },
        {
          "output_type": "stream",
          "name": "stdout",
          "text": [
            "image shape: torch.Size([1, 224, 224, 3])\n",
            "image shape: torch.Size([1, 224, 224, 3])\n",
            "image shape: torch.Size([1, 224, 224, 3])\n",
            "Applying RandomPerspective(p=0.8) to image of type <class 'torch.Tensor'>\n",
            "Applying GaussianBlur(kernel_size=(5, 5), sigma=(0.1, 2.0)) to image of type <class 'torch.Tensor'>\n",
            "torch.Size([3, 3, 224, 224])\n",
            "Applying RandomResizedCrop(size=(224, 224), scale=(1, 1), ratio=(0.75, 1.3333), interpolation=bilinear, antialias=True) to image of type <class 'torch.Tensor'>\n",
            "Applying RandomPerspective(p=0.8) to image of type <class 'torch.Tensor'>\n",
            "torch.Size([3, 3, 224, 224])\n",
            "Applying RandomPerspective(p=0.8) to image of type <class 'torch.Tensor'>\n",
            "Applying GaussianBlur(kernel_size=(5, 5), sigma=(0.1, 2.0)) to image of type <class 'torch.Tensor'>\n",
            "torch.Size([3, 3, 224, 224])\n",
            "Applying RandomPerspective(p=0.8) to image of type <class 'torch.Tensor'>\n",
            "Applying GaussianBlur(kernel_size=(5, 5), sigma=(0.1, 2.0)) to image of type <class 'torch.Tensor'>\n",
            "torch.Size([3, 3, 224, 224])\n"
          ]
        },
        {
          "output_type": "stream",
          "name": "stderr",
          "text": [
            "\r  6%|▌         | 58/1000 [00:34<08:18,  1.89it/s]"
          ]
        },
        {
          "output_type": "stream",
          "name": "stdout",
          "text": [
            "image shape: torch.Size([1, 224, 224, 3])\n",
            "image shape: torch.Size([1, 224, 224, 3])\n",
            "image shape: torch.Size([1, 224, 224, 3])\n",
            "Applying GaussianBlur(kernel_size=(5, 5), sigma=(0.1, 2.0)) to image of type <class 'torch.Tensor'>\n",
            "Applying ColorJitter(brightness=(0.8, 1.2), contrast=(0.8, 1.2), saturation=(0.8, 1.2), hue=(-0.1, 0.1)) to image of type <class 'torch.Tensor'>\n",
            "torch.Size([3, 3, 224, 224])\n",
            "Applying GaussianBlur(kernel_size=(5, 5), sigma=(0.1, 2.0)) to image of type <class 'torch.Tensor'>\n",
            "Applying RandomPerspective(p=0.8) to image of type <class 'torch.Tensor'>\n",
            "torch.Size([3, 3, 224, 224])\n",
            "Applying RandomPerspective(p=0.8) to image of type <class 'torch.Tensor'>\n",
            "Applying GaussianBlur(kernel_size=(5, 5), sigma=(0.1, 2.0)) to image of type <class 'torch.Tensor'>\n",
            "torch.Size([3, 3, 224, 224])\n",
            "Applying ColorJitter(brightness=(0.8, 1.2), contrast=(0.8, 1.2), saturation=(0.8, 1.2), hue=(-0.1, 0.1)) to image of type <class 'torch.Tensor'>\n",
            "Applying RandomResizedCrop(size=(224, 224), scale=(1, 1), ratio=(0.75, 1.3333), interpolation=bilinear, antialias=True) to image of type <class 'torch.Tensor'>\n",
            "torch.Size([3, 3, 224, 224])\n"
          ]
        },
        {
          "output_type": "stream",
          "name": "stderr",
          "text": [
            "\r  6%|▌         | 59/1000 [00:34<08:18,  1.89it/s]"
          ]
        },
        {
          "output_type": "stream",
          "name": "stdout",
          "text": [
            "image shape: torch.Size([1, 224, 224, 3])\n",
            "image shape: torch.Size([1, 224, 224, 3])\n",
            "image shape: torch.Size([1, 224, 224, 3])\n",
            "Applying GaussianBlur(kernel_size=(5, 5), sigma=(0.1, 2.0)) to image of type <class 'torch.Tensor'>\n",
            "Applying RandomPerspective(p=0.8) to image of type <class 'torch.Tensor'>\n",
            "torch.Size([3, 3, 224, 224])\n",
            "Applying GaussianBlur(kernel_size=(5, 5), sigma=(0.1, 2.0)) to image of type <class 'torch.Tensor'>\n",
            "Applying RandomPerspective(p=0.8) to image of type <class 'torch.Tensor'>\n",
            "torch.Size([3, 3, 224, 224])\n",
            "Applying ColorJitter(brightness=(0.8, 1.2), contrast=(0.8, 1.2), saturation=(0.8, 1.2), hue=(-0.1, 0.1)) to image of type <class 'torch.Tensor'>\n",
            "Applying RandomPerspective(p=0.8) to image of type <class 'torch.Tensor'>\n",
            "torch.Size([3, 3, 224, 224])\n",
            "Applying RandomPerspective(p=0.8) to image of type <class 'torch.Tensor'>\n",
            "Applying ColorJitter(brightness=(0.8, 1.2), contrast=(0.8, 1.2), saturation=(0.8, 1.2), hue=(-0.1, 0.1)) to image of type <class 'torch.Tensor'>\n",
            "torch.Size([3, 3, 224, 224])\n"
          ]
        },
        {
          "output_type": "stream",
          "name": "stderr",
          "text": [
            "\r  6%|▌         | 60/1000 [00:35<08:18,  1.89it/s]"
          ]
        },
        {
          "output_type": "stream",
          "name": "stdout",
          "text": [
            "image shape: torch.Size([1, 224, 224, 3])\n",
            "image shape: torch.Size([1, 224, 224, 3])\n",
            "image shape: torch.Size([1, 224, 224, 3])\n",
            "Applying RandomResizedCrop(size=(224, 224), scale=(1, 1), ratio=(0.75, 1.3333), interpolation=bilinear, antialias=True) to image of type <class 'torch.Tensor'>\n",
            "Applying ColorJitter(brightness=(0.8, 1.2), contrast=(0.8, 1.2), saturation=(0.8, 1.2), hue=(-0.1, 0.1)) to image of type <class 'torch.Tensor'>\n",
            "torch.Size([3, 3, 224, 224])\n",
            "Applying RandomPerspective(p=0.8) to image of type <class 'torch.Tensor'>\n",
            "Applying RandomResizedCrop(size=(224, 224), scale=(1, 1), ratio=(0.75, 1.3333), interpolation=bilinear, antialias=True) to image of type <class 'torch.Tensor'>\n",
            "torch.Size([3, 3, 224, 224])\n",
            "Applying GaussianBlur(kernel_size=(5, 5), sigma=(0.1, 2.0)) to image of type <class 'torch.Tensor'>\n",
            "Applying RandomPerspective(p=0.8) to image of type <class 'torch.Tensor'>\n",
            "torch.Size([3, 3, 224, 224])\n",
            "Applying RandomPerspective(p=0.8) to image of type <class 'torch.Tensor'>\n",
            "Applying ColorJitter(brightness=(0.8, 1.2), contrast=(0.8, 1.2), saturation=(0.8, 1.2), hue=(-0.1, 0.1)) to image of type <class 'torch.Tensor'>\n",
            "torch.Size([3, 3, 224, 224])\n"
          ]
        },
        {
          "output_type": "stream",
          "name": "stderr",
          "text": [
            "\r  6%|▌         | 61/1000 [00:35<08:18,  1.88it/s]"
          ]
        },
        {
          "output_type": "stream",
          "name": "stdout",
          "text": [
            "image shape: torch.Size([1, 224, 224, 3])\n",
            "image shape: torch.Size([1, 224, 224, 3])\n",
            "image shape: torch.Size([1, 224, 224, 3])\n",
            "Applying GaussianBlur(kernel_size=(5, 5), sigma=(0.1, 2.0)) to image of type <class 'torch.Tensor'>\n",
            "Applying ColorJitter(brightness=(0.8, 1.2), contrast=(0.8, 1.2), saturation=(0.8, 1.2), hue=(-0.1, 0.1)) to image of type <class 'torch.Tensor'>\n",
            "torch.Size([3, 3, 224, 224])\n",
            "Applying ColorJitter(brightness=(0.8, 1.2), contrast=(0.8, 1.2), saturation=(0.8, 1.2), hue=(-0.1, 0.1)) to image of type <class 'torch.Tensor'>\n",
            "Applying RandomPerspective(p=0.8) to image of type <class 'torch.Tensor'>\n",
            "torch.Size([3, 3, 224, 224])\n",
            "Applying GaussianBlur(kernel_size=(5, 5), sigma=(0.1, 2.0)) to image of type <class 'torch.Tensor'>\n",
            "Applying RandomPerspective(p=0.8) to image of type <class 'torch.Tensor'>\n",
            "torch.Size([3, 3, 224, 224])\n",
            "Applying ColorJitter(brightness=(0.8, 1.2), contrast=(0.8, 1.2), saturation=(0.8, 1.2), hue=(-0.1, 0.1)) to image of type <class 'torch.Tensor'>\n",
            "Applying RandomPerspective(p=0.8) to image of type <class 'torch.Tensor'>\n",
            "torch.Size([3, 3, 224, 224])\n"
          ]
        },
        {
          "output_type": "stream",
          "name": "stderr",
          "text": [
            "\r  6%|▌         | 62/1000 [00:36<08:19,  1.88it/s]"
          ]
        },
        {
          "output_type": "stream",
          "name": "stdout",
          "text": [
            "image shape: torch.Size([1, 224, 224, 3])\n",
            "image shape: torch.Size([1, 224, 224, 3])\n",
            "image shape: torch.Size([1, 224, 224, 3])\n",
            "Applying RandomResizedCrop(size=(224, 224), scale=(1, 1), ratio=(0.75, 1.3333), interpolation=bilinear, antialias=True) to image of type <class 'torch.Tensor'>\n",
            "Applying ColorJitter(brightness=(0.8, 1.2), contrast=(0.8, 1.2), saturation=(0.8, 1.2), hue=(-0.1, 0.1)) to image of type <class 'torch.Tensor'>\n",
            "torch.Size([3, 3, 224, 224])\n",
            "Applying RandomPerspective(p=0.8) to image of type <class 'torch.Tensor'>\n",
            "Applying RandomResizedCrop(size=(224, 224), scale=(1, 1), ratio=(0.75, 1.3333), interpolation=bilinear, antialias=True) to image of type <class 'torch.Tensor'>\n",
            "torch.Size([3, 3, 224, 224])\n",
            "Applying ColorJitter(brightness=(0.8, 1.2), contrast=(0.8, 1.2), saturation=(0.8, 1.2), hue=(-0.1, 0.1)) to image of type <class 'torch.Tensor'>\n",
            "Applying RandomPerspective(p=0.8) to image of type <class 'torch.Tensor'>\n",
            "torch.Size([3, 3, 224, 224])\n",
            "Applying RandomPerspective(p=0.8) to image of type <class 'torch.Tensor'>\n",
            "Applying RandomResizedCrop(size=(224, 224), scale=(1, 1), ratio=(0.75, 1.3333), interpolation=bilinear, antialias=True) to image of type <class 'torch.Tensor'>\n",
            "torch.Size([3, 3, 224, 224])\n"
          ]
        },
        {
          "output_type": "stream",
          "name": "stderr",
          "text": [
            "\r  6%|▋         | 63/1000 [00:37<08:18,  1.88it/s]"
          ]
        },
        {
          "output_type": "stream",
          "name": "stdout",
          "text": [
            "image shape: torch.Size([1, 224, 224, 3])\n",
            "image shape: torch.Size([1, 224, 224, 3])\n",
            "image shape: torch.Size([1, 224, 224, 3])\n",
            "Applying ColorJitter(brightness=(0.8, 1.2), contrast=(0.8, 1.2), saturation=(0.8, 1.2), hue=(-0.1, 0.1)) to image of type <class 'torch.Tensor'>\n",
            "Applying RandomResizedCrop(size=(224, 224), scale=(1, 1), ratio=(0.75, 1.3333), interpolation=bilinear, antialias=True) to image of type <class 'torch.Tensor'>\n",
            "torch.Size([3, 3, 224, 224])\n",
            "Applying RandomResizedCrop(size=(224, 224), scale=(1, 1), ratio=(0.75, 1.3333), interpolation=bilinear, antialias=True) to image of type <class 'torch.Tensor'>\n",
            "Applying GaussianBlur(kernel_size=(5, 5), sigma=(0.1, 2.0)) to image of type <class 'torch.Tensor'>\n",
            "torch.Size([3, 3, 224, 224])\n",
            "Applying ColorJitter(brightness=(0.8, 1.2), contrast=(0.8, 1.2), saturation=(0.8, 1.2), hue=(-0.1, 0.1)) to image of type <class 'torch.Tensor'>\n",
            "Applying GaussianBlur(kernel_size=(5, 5), sigma=(0.1, 2.0)) to image of type <class 'torch.Tensor'>\n",
            "torch.Size([3, 3, 224, 224])\n",
            "Applying RandomResizedCrop(size=(224, 224), scale=(1, 1), ratio=(0.75, 1.3333), interpolation=bilinear, antialias=True) to image of type <class 'torch.Tensor'>\n",
            "Applying ColorJitter(brightness=(0.8, 1.2), contrast=(0.8, 1.2), saturation=(0.8, 1.2), hue=(-0.1, 0.1)) to image of type <class 'torch.Tensor'>\n",
            "torch.Size([3, 3, 224, 224])\n"
          ]
        },
        {
          "output_type": "stream",
          "name": "stderr",
          "text": [
            "\r  6%|▋         | 64/1000 [00:37<08:17,  1.88it/s]"
          ]
        },
        {
          "output_type": "stream",
          "name": "stdout",
          "text": [
            "image shape: torch.Size([1, 224, 224, 3])\n",
            "image shape: torch.Size([1, 224, 224, 3])\n",
            "image shape: torch.Size([1, 224, 224, 3])\n",
            "Applying GaussianBlur(kernel_size=(5, 5), sigma=(0.1, 2.0)) to image of type <class 'torch.Tensor'>\n",
            "Applying RandomPerspective(p=0.8) to image of type <class 'torch.Tensor'>\n",
            "torch.Size([3, 3, 224, 224])\n",
            "Applying ColorJitter(brightness=(0.8, 1.2), contrast=(0.8, 1.2), saturation=(0.8, 1.2), hue=(-0.1, 0.1)) to image of type <class 'torch.Tensor'>\n",
            "Applying RandomPerspective(p=0.8) to image of type <class 'torch.Tensor'>\n",
            "torch.Size([3, 3, 224, 224])\n",
            "Applying GaussianBlur(kernel_size=(5, 5), sigma=(0.1, 2.0)) to image of type <class 'torch.Tensor'>\n",
            "Applying ColorJitter(brightness=(0.8, 1.2), contrast=(0.8, 1.2), saturation=(0.8, 1.2), hue=(-0.1, 0.1)) to image of type <class 'torch.Tensor'>\n",
            "torch.Size([3, 3, 224, 224])\n",
            "Applying GaussianBlur(kernel_size=(5, 5), sigma=(0.1, 2.0)) to image of type <class 'torch.Tensor'>\n",
            "Applying RandomResizedCrop(size=(224, 224), scale=(1, 1), ratio=(0.75, 1.3333), interpolation=bilinear, antialias=True) to image of type <class 'torch.Tensor'>\n",
            "torch.Size([3, 3, 224, 224])\n"
          ]
        },
        {
          "output_type": "stream",
          "name": "stderr",
          "text": [
            "\r  6%|▋         | 65/1000 [00:38<08:15,  1.89it/s]"
          ]
        },
        {
          "output_type": "stream",
          "name": "stdout",
          "text": [
            "image shape: torch.Size([1, 224, 224, 3])\n",
            "image shape: torch.Size([1, 224, 224, 3])\n",
            "image shape: torch.Size([1, 224, 224, 3])\n",
            "Applying ColorJitter(brightness=(0.8, 1.2), contrast=(0.8, 1.2), saturation=(0.8, 1.2), hue=(-0.1, 0.1)) to image of type <class 'torch.Tensor'>\n",
            "Applying RandomPerspective(p=0.8) to image of type <class 'torch.Tensor'>\n",
            "torch.Size([3, 3, 224, 224])\n",
            "Applying RandomResizedCrop(size=(224, 224), scale=(1, 1), ratio=(0.75, 1.3333), interpolation=bilinear, antialias=True) to image of type <class 'torch.Tensor'>\n",
            "Applying GaussianBlur(kernel_size=(5, 5), sigma=(0.1, 2.0)) to image of type <class 'torch.Tensor'>\n",
            "torch.Size([3, 3, 224, 224])\n",
            "Applying GaussianBlur(kernel_size=(5, 5), sigma=(0.1, 2.0)) to image of type <class 'torch.Tensor'>\n",
            "Applying RandomResizedCrop(size=(224, 224), scale=(1, 1), ratio=(0.75, 1.3333), interpolation=bilinear, antialias=True) to image of type <class 'torch.Tensor'>\n",
            "torch.Size([3, 3, 224, 224])\n",
            "Applying ColorJitter(brightness=(0.8, 1.2), contrast=(0.8, 1.2), saturation=(0.8, 1.2), hue=(-0.1, 0.1)) to image of type <class 'torch.Tensor'>\n",
            "Applying RandomPerspective(p=0.8) to image of type <class 'torch.Tensor'>\n",
            "torch.Size([3, 3, 224, 224])\n"
          ]
        },
        {
          "output_type": "stream",
          "name": "stderr",
          "text": [
            "\r  7%|▋         | 66/1000 [00:38<08:17,  1.88it/s]"
          ]
        },
        {
          "output_type": "stream",
          "name": "stdout",
          "text": [
            "image shape: torch.Size([1, 224, 224, 3])\n",
            "image shape: torch.Size([1, 224, 224, 3])\n",
            "image shape: torch.Size([1, 224, 224, 3])\n",
            "Applying GaussianBlur(kernel_size=(5, 5), sigma=(0.1, 2.0)) to image of type <class 'torch.Tensor'>\n",
            "Applying RandomResizedCrop(size=(224, 224), scale=(1, 1), ratio=(0.75, 1.3333), interpolation=bilinear, antialias=True) to image of type <class 'torch.Tensor'>\n",
            "torch.Size([3, 3, 224, 224])\n",
            "Applying ColorJitter(brightness=(0.8, 1.2), contrast=(0.8, 1.2), saturation=(0.8, 1.2), hue=(-0.1, 0.1)) to image of type <class 'torch.Tensor'>\n",
            "Applying RandomResizedCrop(size=(224, 224), scale=(1, 1), ratio=(0.75, 1.3333), interpolation=bilinear, antialias=True) to image of type <class 'torch.Tensor'>\n",
            "torch.Size([3, 3, 224, 224])\n",
            "Applying GaussianBlur(kernel_size=(5, 5), sigma=(0.1, 2.0)) to image of type <class 'torch.Tensor'>\n",
            "Applying RandomResizedCrop(size=(224, 224), scale=(1, 1), ratio=(0.75, 1.3333), interpolation=bilinear, antialias=True) to image of type <class 'torch.Tensor'>\n",
            "torch.Size([3, 3, 224, 224])\n",
            "Applying GaussianBlur(kernel_size=(5, 5), sigma=(0.1, 2.0)) to image of type <class 'torch.Tensor'>\n",
            "Applying RandomPerspective(p=0.8) to image of type <class 'torch.Tensor'>\n",
            "torch.Size([3, 3, 224, 224])\n"
          ]
        },
        {
          "output_type": "stream",
          "name": "stderr",
          "text": [
            "\r  7%|▋         | 67/1000 [00:39<08:22,  1.86it/s]"
          ]
        },
        {
          "output_type": "stream",
          "name": "stdout",
          "text": [
            "image shape: torch.Size([1, 224, 224, 3])\n",
            "image shape: torch.Size([1, 224, 224, 3])\n",
            "image shape: torch.Size([1, 224, 224, 3])\n",
            "Applying RandomPerspective(p=0.8) to image of type <class 'torch.Tensor'>\n",
            "Applying ColorJitter(brightness=(0.8, 1.2), contrast=(0.8, 1.2), saturation=(0.8, 1.2), hue=(-0.1, 0.1)) to image of type <class 'torch.Tensor'>\n",
            "torch.Size([3, 3, 224, 224])\n",
            "Applying GaussianBlur(kernel_size=(5, 5), sigma=(0.1, 2.0)) to image of type <class 'torch.Tensor'>\n",
            "Applying RandomPerspective(p=0.8) to image of type <class 'torch.Tensor'>\n",
            "torch.Size([3, 3, 224, 224])\n",
            "Applying GaussianBlur(kernel_size=(5, 5), sigma=(0.1, 2.0)) to image of type <class 'torch.Tensor'>\n",
            "Applying RandomResizedCrop(size=(224, 224), scale=(1, 1), ratio=(0.75, 1.3333), interpolation=bilinear, antialias=True) to image of type <class 'torch.Tensor'>\n",
            "torch.Size([3, 3, 224, 224])\n",
            "Applying GaussianBlur(kernel_size=(5, 5), sigma=(0.1, 2.0)) to image of type <class 'torch.Tensor'>\n",
            "Applying ColorJitter(brightness=(0.8, 1.2), contrast=(0.8, 1.2), saturation=(0.8, 1.2), hue=(-0.1, 0.1)) to image of type <class 'torch.Tensor'>\n",
            "torch.Size([3, 3, 224, 224])\n"
          ]
        },
        {
          "output_type": "stream",
          "name": "stderr",
          "text": [
            "\r  7%|▋         | 68/1000 [00:39<08:23,  1.85it/s]"
          ]
        },
        {
          "output_type": "stream",
          "name": "stdout",
          "text": [
            "image shape: torch.Size([1, 224, 224, 3])\n",
            "image shape: torch.Size([1, 224, 224, 3])\n",
            "image shape: torch.Size([1, 224, 224, 3])\n",
            "Applying RandomPerspective(p=0.8) to image of type <class 'torch.Tensor'>\n",
            "Applying RandomResizedCrop(size=(224, 224), scale=(1, 1), ratio=(0.75, 1.3333), interpolation=bilinear, antialias=True) to image of type <class 'torch.Tensor'>\n",
            "torch.Size([3, 3, 224, 224])\n",
            "Applying RandomPerspective(p=0.8) to image of type <class 'torch.Tensor'>\n",
            "Applying GaussianBlur(kernel_size=(5, 5), sigma=(0.1, 2.0)) to image of type <class 'torch.Tensor'>\n",
            "torch.Size([3, 3, 224, 224])\n",
            "Applying GaussianBlur(kernel_size=(5, 5), sigma=(0.1, 2.0)) to image of type <class 'torch.Tensor'>\n",
            "Applying RandomPerspective(p=0.8) to image of type <class 'torch.Tensor'>\n",
            "torch.Size([3, 3, 224, 224])\n",
            "Applying ColorJitter(brightness=(0.8, 1.2), contrast=(0.8, 1.2), saturation=(0.8, 1.2), hue=(-0.1, 0.1)) to image of type <class 'torch.Tensor'>\n",
            "Applying GaussianBlur(kernel_size=(5, 5), sigma=(0.1, 2.0)) to image of type <class 'torch.Tensor'>\n",
            "torch.Size([3, 3, 224, 224])\n"
          ]
        },
        {
          "output_type": "stream",
          "name": "stderr",
          "text": [
            "\r  7%|▋         | 69/1000 [00:40<08:28,  1.83it/s]"
          ]
        },
        {
          "output_type": "stream",
          "name": "stdout",
          "text": [
            "image shape: torch.Size([1, 224, 224, 3])\n",
            "image shape: torch.Size([1, 224, 224, 3])\n",
            "image shape: torch.Size([1, 224, 224, 3])\n",
            "Applying GaussianBlur(kernel_size=(5, 5), sigma=(0.1, 2.0)) to image of type <class 'torch.Tensor'>\n",
            "Applying RandomResizedCrop(size=(224, 224), scale=(1, 1), ratio=(0.75, 1.3333), interpolation=bilinear, antialias=True) to image of type <class 'torch.Tensor'>\n",
            "torch.Size([3, 3, 224, 224])\n",
            "Applying RandomPerspective(p=0.8) to image of type <class 'torch.Tensor'>\n",
            "Applying RandomResizedCrop(size=(224, 224), scale=(1, 1), ratio=(0.75, 1.3333), interpolation=bilinear, antialias=True) to image of type <class 'torch.Tensor'>\n",
            "torch.Size([3, 3, 224, 224])\n",
            "Applying RandomPerspective(p=0.8) to image of type <class 'torch.Tensor'>\n",
            "Applying ColorJitter(brightness=(0.8, 1.2), contrast=(0.8, 1.2), saturation=(0.8, 1.2), hue=(-0.1, 0.1)) to image of type <class 'torch.Tensor'>\n",
            "torch.Size([3, 3, 224, 224])\n",
            "Applying RandomPerspective(p=0.8) to image of type <class 'torch.Tensor'>\n",
            "Applying GaussianBlur(kernel_size=(5, 5), sigma=(0.1, 2.0)) to image of type <class 'torch.Tensor'>\n",
            "torch.Size([3, 3, 224, 224])\n"
          ]
        },
        {
          "output_type": "stream",
          "name": "stderr",
          "text": [
            "\r  7%|▋         | 70/1000 [00:40<08:27,  1.83it/s]"
          ]
        },
        {
          "output_type": "stream",
          "name": "stdout",
          "text": [
            "image shape: torch.Size([1, 224, 224, 3])\n",
            "image shape: torch.Size([1, 224, 224, 3])\n",
            "image shape: torch.Size([1, 224, 224, 3])\n",
            "Applying RandomResizedCrop(size=(224, 224), scale=(1, 1), ratio=(0.75, 1.3333), interpolation=bilinear, antialias=True) to image of type <class 'torch.Tensor'>\n",
            "Applying GaussianBlur(kernel_size=(5, 5), sigma=(0.1, 2.0)) to image of type <class 'torch.Tensor'>\n",
            "torch.Size([3, 3, 224, 224])\n",
            "Applying ColorJitter(brightness=(0.8, 1.2), contrast=(0.8, 1.2), saturation=(0.8, 1.2), hue=(-0.1, 0.1)) to image of type <class 'torch.Tensor'>\n",
            "Applying RandomResizedCrop(size=(224, 224), scale=(1, 1), ratio=(0.75, 1.3333), interpolation=bilinear, antialias=True) to image of type <class 'torch.Tensor'>\n",
            "torch.Size([3, 3, 224, 224])\n",
            "Applying GaussianBlur(kernel_size=(5, 5), sigma=(0.1, 2.0)) to image of type <class 'torch.Tensor'>\n",
            "Applying RandomPerspective(p=0.8) to image of type <class 'torch.Tensor'>\n",
            "torch.Size([3, 3, 224, 224])\n",
            "Applying ColorJitter(brightness=(0.8, 1.2), contrast=(0.8, 1.2), saturation=(0.8, 1.2), hue=(-0.1, 0.1)) to image of type <class 'torch.Tensor'>\n",
            "Applying RandomPerspective(p=0.8) to image of type <class 'torch.Tensor'>\n",
            "torch.Size([3, 3, 224, 224])\n"
          ]
        },
        {
          "output_type": "stream",
          "name": "stderr",
          "text": [
            "\r  7%|▋         | 71/1000 [00:41<08:28,  1.83it/s]"
          ]
        },
        {
          "output_type": "stream",
          "name": "stdout",
          "text": [
            "image shape: torch.Size([1, 224, 224, 3])\n",
            "image shape: torch.Size([1, 224, 224, 3])\n",
            "image shape: torch.Size([1, 224, 224, 3])\n",
            "Applying ColorJitter(brightness=(0.8, 1.2), contrast=(0.8, 1.2), saturation=(0.8, 1.2), hue=(-0.1, 0.1)) to image of type <class 'torch.Tensor'>\n",
            "Applying RandomResizedCrop(size=(224, 224), scale=(1, 1), ratio=(0.75, 1.3333), interpolation=bilinear, antialias=True) to image of type <class 'torch.Tensor'>\n",
            "torch.Size([3, 3, 224, 224])\n",
            "Applying GaussianBlur(kernel_size=(5, 5), sigma=(0.1, 2.0)) to image of type <class 'torch.Tensor'>\n",
            "Applying ColorJitter(brightness=(0.8, 1.2), contrast=(0.8, 1.2), saturation=(0.8, 1.2), hue=(-0.1, 0.1)) to image of type <class 'torch.Tensor'>\n",
            "torch.Size([3, 3, 224, 224])\n",
            "Applying RandomPerspective(p=0.8) to image of type <class 'torch.Tensor'>\n",
            "Applying GaussianBlur(kernel_size=(5, 5), sigma=(0.1, 2.0)) to image of type <class 'torch.Tensor'>\n",
            "torch.Size([3, 3, 224, 224])\n",
            "Applying GaussianBlur(kernel_size=(5, 5), sigma=(0.1, 2.0)) to image of type <class 'torch.Tensor'>\n",
            "Applying ColorJitter(brightness=(0.8, 1.2), contrast=(0.8, 1.2), saturation=(0.8, 1.2), hue=(-0.1, 0.1)) to image of type <class 'torch.Tensor'>\n",
            "torch.Size([3, 3, 224, 224])\n"
          ]
        },
        {
          "output_type": "stream",
          "name": "stderr",
          "text": [
            "\r  7%|▋         | 72/1000 [00:41<08:33,  1.81it/s]"
          ]
        },
        {
          "output_type": "stream",
          "name": "stdout",
          "text": [
            "image shape: torch.Size([1, 224, 224, 3])\n",
            "image shape: torch.Size([1, 224, 224, 3])\n",
            "image shape: torch.Size([1, 224, 224, 3])\n",
            "Applying RandomResizedCrop(size=(224, 224), scale=(1, 1), ratio=(0.75, 1.3333), interpolation=bilinear, antialias=True) to image of type <class 'torch.Tensor'>\n",
            "Applying GaussianBlur(kernel_size=(5, 5), sigma=(0.1, 2.0)) to image of type <class 'torch.Tensor'>\n",
            "torch.Size([3, 3, 224, 224])\n",
            "Applying GaussianBlur(kernel_size=(5, 5), sigma=(0.1, 2.0)) to image of type <class 'torch.Tensor'>\n",
            "Applying ColorJitter(brightness=(0.8, 1.2), contrast=(0.8, 1.2), saturation=(0.8, 1.2), hue=(-0.1, 0.1)) to image of type <class 'torch.Tensor'>\n",
            "torch.Size([3, 3, 224, 224])\n",
            "Applying RandomResizedCrop(size=(224, 224), scale=(1, 1), ratio=(0.75, 1.3333), interpolation=bilinear, antialias=True) to image of type <class 'torch.Tensor'>\n",
            "Applying RandomPerspective(p=0.8) to image of type <class 'torch.Tensor'>\n",
            "torch.Size([3, 3, 224, 224])\n",
            "Applying GaussianBlur(kernel_size=(5, 5), sigma=(0.1, 2.0)) to image of type <class 'torch.Tensor'>\n",
            "Applying ColorJitter(brightness=(0.8, 1.2), contrast=(0.8, 1.2), saturation=(0.8, 1.2), hue=(-0.1, 0.1)) to image of type <class 'torch.Tensor'>\n",
            "torch.Size([3, 3, 224, 224])\n"
          ]
        },
        {
          "output_type": "stream",
          "name": "stderr",
          "text": [
            "\r  7%|▋         | 73/1000 [00:42<08:37,  1.79it/s]"
          ]
        },
        {
          "output_type": "stream",
          "name": "stdout",
          "text": [
            "image shape: torch.Size([1, 224, 224, 3])\n",
            "image shape: torch.Size([1, 224, 224, 3])\n",
            "image shape: torch.Size([1, 224, 224, 3])\n",
            "Applying RandomResizedCrop(size=(224, 224), scale=(1, 1), ratio=(0.75, 1.3333), interpolation=bilinear, antialias=True) to image of type <class 'torch.Tensor'>\n",
            "Applying ColorJitter(brightness=(0.8, 1.2), contrast=(0.8, 1.2), saturation=(0.8, 1.2), hue=(-0.1, 0.1)) to image of type <class 'torch.Tensor'>\n",
            "torch.Size([3, 3, 224, 224])\n",
            "Applying RandomPerspective(p=0.8) to image of type <class 'torch.Tensor'>\n",
            "Applying ColorJitter(brightness=(0.8, 1.2), contrast=(0.8, 1.2), saturation=(0.8, 1.2), hue=(-0.1, 0.1)) to image of type <class 'torch.Tensor'>\n",
            "torch.Size([3, 3, 224, 224])\n",
            "Applying GaussianBlur(kernel_size=(5, 5), sigma=(0.1, 2.0)) to image of type <class 'torch.Tensor'>\n",
            "Applying RandomPerspective(p=0.8) to image of type <class 'torch.Tensor'>\n",
            "torch.Size([3, 3, 224, 224])\n",
            "Applying ColorJitter(brightness=(0.8, 1.2), contrast=(0.8, 1.2), saturation=(0.8, 1.2), hue=(-0.1, 0.1)) to image of type <class 'torch.Tensor'>\n",
            "Applying GaussianBlur(kernel_size=(5, 5), sigma=(0.1, 2.0)) to image of type <class 'torch.Tensor'>\n",
            "torch.Size([3, 3, 224, 224])\n"
          ]
        },
        {
          "output_type": "stream",
          "name": "stderr",
          "text": [
            "\r  7%|▋         | 74/1000 [00:43<08:37,  1.79it/s]"
          ]
        },
        {
          "output_type": "stream",
          "name": "stdout",
          "text": [
            "image shape: torch.Size([1, 224, 224, 3])\n",
            "image shape: torch.Size([1, 224, 224, 3])\n",
            "image shape: torch.Size([1, 224, 224, 3])\n",
            "Applying ColorJitter(brightness=(0.8, 1.2), contrast=(0.8, 1.2), saturation=(0.8, 1.2), hue=(-0.1, 0.1)) to image of type <class 'torch.Tensor'>\n",
            "Applying GaussianBlur(kernel_size=(5, 5), sigma=(0.1, 2.0)) to image of type <class 'torch.Tensor'>\n",
            "torch.Size([3, 3, 224, 224])\n",
            "Applying GaussianBlur(kernel_size=(5, 5), sigma=(0.1, 2.0)) to image of type <class 'torch.Tensor'>\n",
            "Applying ColorJitter(brightness=(0.8, 1.2), contrast=(0.8, 1.2), saturation=(0.8, 1.2), hue=(-0.1, 0.1)) to image of type <class 'torch.Tensor'>\n",
            "torch.Size([3, 3, 224, 224])\n",
            "Applying RandomResizedCrop(size=(224, 224), scale=(1, 1), ratio=(0.75, 1.3333), interpolation=bilinear, antialias=True) to image of type <class 'torch.Tensor'>\n",
            "Applying ColorJitter(brightness=(0.8, 1.2), contrast=(0.8, 1.2), saturation=(0.8, 1.2), hue=(-0.1, 0.1)) to image of type <class 'torch.Tensor'>\n",
            "torch.Size([3, 3, 224, 224])\n",
            "Applying RandomPerspective(p=0.8) to image of type <class 'torch.Tensor'>\n",
            "Applying GaussianBlur(kernel_size=(5, 5), sigma=(0.1, 2.0)) to image of type <class 'torch.Tensor'>\n",
            "torch.Size([3, 3, 224, 224])\n"
          ]
        },
        {
          "output_type": "stream",
          "name": "stderr",
          "text": [
            "\r  8%|▊         | 75/1000 [00:43<08:33,  1.80it/s]"
          ]
        },
        {
          "output_type": "stream",
          "name": "stdout",
          "text": [
            "image shape: torch.Size([1, 224, 224, 3])\n",
            "image shape: torch.Size([1, 224, 224, 3])\n",
            "image shape: torch.Size([1, 224, 224, 3])\n",
            "Applying GaussianBlur(kernel_size=(5, 5), sigma=(0.1, 2.0)) to image of type <class 'torch.Tensor'>\n",
            "Applying RandomPerspective(p=0.8) to image of type <class 'torch.Tensor'>\n",
            "torch.Size([3, 3, 224, 224])\n",
            "Applying ColorJitter(brightness=(0.8, 1.2), contrast=(0.8, 1.2), saturation=(0.8, 1.2), hue=(-0.1, 0.1)) to image of type <class 'torch.Tensor'>\n",
            "Applying GaussianBlur(kernel_size=(5, 5), sigma=(0.1, 2.0)) to image of type <class 'torch.Tensor'>\n",
            "torch.Size([3, 3, 224, 224])\n",
            "Applying ColorJitter(brightness=(0.8, 1.2), contrast=(0.8, 1.2), saturation=(0.8, 1.2), hue=(-0.1, 0.1)) to image of type <class 'torch.Tensor'>\n",
            "Applying RandomPerspective(p=0.8) to image of type <class 'torch.Tensor'>\n",
            "torch.Size([3, 3, 224, 224])\n",
            "Applying RandomResizedCrop(size=(224, 224), scale=(1, 1), ratio=(0.75, 1.3333), interpolation=bilinear, antialias=True) to image of type <class 'torch.Tensor'>\n",
            "Applying ColorJitter(brightness=(0.8, 1.2), contrast=(0.8, 1.2), saturation=(0.8, 1.2), hue=(-0.1, 0.1)) to image of type <class 'torch.Tensor'>\n",
            "torch.Size([3, 3, 224, 224])\n"
          ]
        },
        {
          "output_type": "stream",
          "name": "stderr",
          "text": [
            "\r  8%|▊         | 76/1000 [00:44<08:27,  1.82it/s]"
          ]
        },
        {
          "output_type": "stream",
          "name": "stdout",
          "text": [
            "image shape: torch.Size([1, 224, 224, 3])\n",
            "image shape: torch.Size([1, 224, 224, 3])\n",
            "image shape: torch.Size([1, 224, 224, 3])\n",
            "Applying RandomResizedCrop(size=(224, 224), scale=(1, 1), ratio=(0.75, 1.3333), interpolation=bilinear, antialias=True) to image of type <class 'torch.Tensor'>\n",
            "Applying GaussianBlur(kernel_size=(5, 5), sigma=(0.1, 2.0)) to image of type <class 'torch.Tensor'>\n",
            "torch.Size([3, 3, 224, 224])\n",
            "Applying GaussianBlur(kernel_size=(5, 5), sigma=(0.1, 2.0)) to image of type <class 'torch.Tensor'>\n",
            "Applying RandomResizedCrop(size=(224, 224), scale=(1, 1), ratio=(0.75, 1.3333), interpolation=bilinear, antialias=True) to image of type <class 'torch.Tensor'>\n",
            "torch.Size([3, 3, 224, 224])\n",
            "Applying GaussianBlur(kernel_size=(5, 5), sigma=(0.1, 2.0)) to image of type <class 'torch.Tensor'>\n",
            "Applying RandomResizedCrop(size=(224, 224), scale=(1, 1), ratio=(0.75, 1.3333), interpolation=bilinear, antialias=True) to image of type <class 'torch.Tensor'>\n",
            "torch.Size([3, 3, 224, 224])\n",
            "Applying RandomResizedCrop(size=(224, 224), scale=(1, 1), ratio=(0.75, 1.3333), interpolation=bilinear, antialias=True) to image of type <class 'torch.Tensor'>\n",
            "Applying ColorJitter(brightness=(0.8, 1.2), contrast=(0.8, 1.2), saturation=(0.8, 1.2), hue=(-0.1, 0.1)) to image of type <class 'torch.Tensor'>\n",
            "torch.Size([3, 3, 224, 224])\n"
          ]
        },
        {
          "output_type": "stream",
          "name": "stderr",
          "text": [
            "\r  8%|▊         | 77/1000 [00:44<08:22,  1.84it/s]"
          ]
        },
        {
          "output_type": "stream",
          "name": "stdout",
          "text": [
            "image shape: torch.Size([1, 224, 224, 3])\n",
            "image shape: torch.Size([1, 224, 224, 3])\n",
            "image shape: torch.Size([1, 224, 224, 3])\n",
            "Applying GaussianBlur(kernel_size=(5, 5), sigma=(0.1, 2.0)) to image of type <class 'torch.Tensor'>\n",
            "Applying ColorJitter(brightness=(0.8, 1.2), contrast=(0.8, 1.2), saturation=(0.8, 1.2), hue=(-0.1, 0.1)) to image of type <class 'torch.Tensor'>\n",
            "torch.Size([3, 3, 224, 224])\n",
            "Applying ColorJitter(brightness=(0.8, 1.2), contrast=(0.8, 1.2), saturation=(0.8, 1.2), hue=(-0.1, 0.1)) to image of type <class 'torch.Tensor'>\n",
            "Applying GaussianBlur(kernel_size=(5, 5), sigma=(0.1, 2.0)) to image of type <class 'torch.Tensor'>\n",
            "torch.Size([3, 3, 224, 224])\n",
            "Applying RandomPerspective(p=0.8) to image of type <class 'torch.Tensor'>\n",
            "Applying ColorJitter(brightness=(0.8, 1.2), contrast=(0.8, 1.2), saturation=(0.8, 1.2), hue=(-0.1, 0.1)) to image of type <class 'torch.Tensor'>\n",
            "torch.Size([3, 3, 224, 224])\n",
            "Applying GaussianBlur(kernel_size=(5, 5), sigma=(0.1, 2.0)) to image of type <class 'torch.Tensor'>\n",
            "Applying ColorJitter(brightness=(0.8, 1.2), contrast=(0.8, 1.2), saturation=(0.8, 1.2), hue=(-0.1, 0.1)) to image of type <class 'torch.Tensor'>\n",
            "torch.Size([3, 3, 224, 224])\n"
          ]
        },
        {
          "output_type": "stream",
          "name": "stderr",
          "text": [
            "\r  8%|▊         | 78/1000 [00:45<08:20,  1.84it/s]"
          ]
        },
        {
          "output_type": "stream",
          "name": "stdout",
          "text": [
            "image shape: torch.Size([1, 224, 224, 3])\n",
            "image shape: torch.Size([1, 224, 224, 3])\n",
            "image shape: torch.Size([1, 224, 224, 3])\n",
            "Applying GaussianBlur(kernel_size=(5, 5), sigma=(0.1, 2.0)) to image of type <class 'torch.Tensor'>\n",
            "Applying ColorJitter(brightness=(0.8, 1.2), contrast=(0.8, 1.2), saturation=(0.8, 1.2), hue=(-0.1, 0.1)) to image of type <class 'torch.Tensor'>\n",
            "torch.Size([3, 3, 224, 224])\n",
            "Applying RandomResizedCrop(size=(224, 224), scale=(1, 1), ratio=(0.75, 1.3333), interpolation=bilinear, antialias=True) to image of type <class 'torch.Tensor'>\n",
            "Applying ColorJitter(brightness=(0.8, 1.2), contrast=(0.8, 1.2), saturation=(0.8, 1.2), hue=(-0.1, 0.1)) to image of type <class 'torch.Tensor'>\n",
            "torch.Size([3, 3, 224, 224])\n",
            "Applying RandomResizedCrop(size=(224, 224), scale=(1, 1), ratio=(0.75, 1.3333), interpolation=bilinear, antialias=True) to image of type <class 'torch.Tensor'>\n",
            "Applying RandomPerspective(p=0.8) to image of type <class 'torch.Tensor'>\n",
            "torch.Size([3, 3, 224, 224])\n",
            "Applying RandomResizedCrop(size=(224, 224), scale=(1, 1), ratio=(0.75, 1.3333), interpolation=bilinear, antialias=True) to image of type <class 'torch.Tensor'>\n",
            "Applying ColorJitter(brightness=(0.8, 1.2), contrast=(0.8, 1.2), saturation=(0.8, 1.2), hue=(-0.1, 0.1)) to image of type <class 'torch.Tensor'>\n",
            "torch.Size([3, 3, 224, 224])\n"
          ]
        },
        {
          "output_type": "stream",
          "name": "stderr",
          "text": [
            "\r  8%|▊         | 79/1000 [00:45<08:19,  1.85it/s]"
          ]
        },
        {
          "output_type": "stream",
          "name": "stdout",
          "text": [
            "image shape: torch.Size([1, 224, 224, 3])\n",
            "image shape: torch.Size([1, 224, 224, 3])\n",
            "image shape: torch.Size([1, 224, 224, 3])\n",
            "Applying ColorJitter(brightness=(0.8, 1.2), contrast=(0.8, 1.2), saturation=(0.8, 1.2), hue=(-0.1, 0.1)) to image of type <class 'torch.Tensor'>\n",
            "Applying RandomPerspective(p=0.8) to image of type <class 'torch.Tensor'>\n",
            "torch.Size([3, 3, 224, 224])\n",
            "Applying RandomResizedCrop(size=(224, 224), scale=(1, 1), ratio=(0.75, 1.3333), interpolation=bilinear, antialias=True) to image of type <class 'torch.Tensor'>\n",
            "Applying RandomPerspective(p=0.8) to image of type <class 'torch.Tensor'>\n",
            "torch.Size([3, 3, 224, 224])\n",
            "Applying RandomResizedCrop(size=(224, 224), scale=(1, 1), ratio=(0.75, 1.3333), interpolation=bilinear, antialias=True) to image of type <class 'torch.Tensor'>\n",
            "Applying GaussianBlur(kernel_size=(5, 5), sigma=(0.1, 2.0)) to image of type <class 'torch.Tensor'>\n",
            "torch.Size([3, 3, 224, 224])\n",
            "Applying ColorJitter(brightness=(0.8, 1.2), contrast=(0.8, 1.2), saturation=(0.8, 1.2), hue=(-0.1, 0.1)) to image of type <class 'torch.Tensor'>\n",
            "Applying RandomResizedCrop(size=(224, 224), scale=(1, 1), ratio=(0.75, 1.3333), interpolation=bilinear, antialias=True) to image of type <class 'torch.Tensor'>\n",
            "torch.Size([3, 3, 224, 224])\n"
          ]
        },
        {
          "output_type": "stream",
          "name": "stderr",
          "text": [
            "\r  8%|▊         | 80/1000 [00:46<08:16,  1.85it/s]"
          ]
        },
        {
          "output_type": "stream",
          "name": "stdout",
          "text": [
            "image shape: torch.Size([1, 224, 224, 3])\n",
            "image shape: torch.Size([1, 224, 224, 3])\n",
            "image shape: torch.Size([1, 224, 224, 3])\n",
            "Applying RandomResizedCrop(size=(224, 224), scale=(1, 1), ratio=(0.75, 1.3333), interpolation=bilinear, antialias=True) to image of type <class 'torch.Tensor'>\n",
            "Applying RandomPerspective(p=0.8) to image of type <class 'torch.Tensor'>\n",
            "torch.Size([3, 3, 224, 224])\n",
            "Applying ColorJitter(brightness=(0.8, 1.2), contrast=(0.8, 1.2), saturation=(0.8, 1.2), hue=(-0.1, 0.1)) to image of type <class 'torch.Tensor'>\n",
            "Applying RandomResizedCrop(size=(224, 224), scale=(1, 1), ratio=(0.75, 1.3333), interpolation=bilinear, antialias=True) to image of type <class 'torch.Tensor'>\n",
            "torch.Size([3, 3, 224, 224])\n",
            "Applying ColorJitter(brightness=(0.8, 1.2), contrast=(0.8, 1.2), saturation=(0.8, 1.2), hue=(-0.1, 0.1)) to image of type <class 'torch.Tensor'>\n",
            "Applying GaussianBlur(kernel_size=(5, 5), sigma=(0.1, 2.0)) to image of type <class 'torch.Tensor'>\n",
            "torch.Size([3, 3, 224, 224])\n",
            "Applying RandomResizedCrop(size=(224, 224), scale=(1, 1), ratio=(0.75, 1.3333), interpolation=bilinear, antialias=True) to image of type <class 'torch.Tensor'>\n",
            "Applying RandomPerspective(p=0.8) to image of type <class 'torch.Tensor'>\n",
            "torch.Size([3, 3, 224, 224])\n"
          ]
        },
        {
          "output_type": "stream",
          "name": "stderr",
          "text": [
            "\r  8%|▊         | 81/1000 [00:46<08:13,  1.86it/s]"
          ]
        },
        {
          "output_type": "stream",
          "name": "stdout",
          "text": [
            "image shape: torch.Size([1, 224, 224, 3])\n",
            "image shape: torch.Size([1, 224, 224, 3])\n",
            "image shape: torch.Size([1, 224, 224, 3])\n",
            "Applying ColorJitter(brightness=(0.8, 1.2), contrast=(0.8, 1.2), saturation=(0.8, 1.2), hue=(-0.1, 0.1)) to image of type <class 'torch.Tensor'>\n",
            "Applying GaussianBlur(kernel_size=(5, 5), sigma=(0.1, 2.0)) to image of type <class 'torch.Tensor'>\n",
            "torch.Size([3, 3, 224, 224])\n",
            "Applying RandomPerspective(p=0.8) to image of type <class 'torch.Tensor'>\n",
            "Applying ColorJitter(brightness=(0.8, 1.2), contrast=(0.8, 1.2), saturation=(0.8, 1.2), hue=(-0.1, 0.1)) to image of type <class 'torch.Tensor'>\n",
            "torch.Size([3, 3, 224, 224])\n",
            "Applying ColorJitter(brightness=(0.8, 1.2), contrast=(0.8, 1.2), saturation=(0.8, 1.2), hue=(-0.1, 0.1)) to image of type <class 'torch.Tensor'>\n",
            "Applying RandomPerspective(p=0.8) to image of type <class 'torch.Tensor'>\n",
            "torch.Size([3, 3, 224, 224])\n",
            "Applying RandomResizedCrop(size=(224, 224), scale=(1, 1), ratio=(0.75, 1.3333), interpolation=bilinear, antialias=True) to image of type <class 'torch.Tensor'>\n",
            "Applying GaussianBlur(kernel_size=(5, 5), sigma=(0.1, 2.0)) to image of type <class 'torch.Tensor'>\n",
            "torch.Size([3, 3, 224, 224])\n"
          ]
        },
        {
          "output_type": "stream",
          "name": "stderr",
          "text": [
            "\r  8%|▊         | 82/1000 [00:47<08:12,  1.86it/s]"
          ]
        },
        {
          "output_type": "stream",
          "name": "stdout",
          "text": [
            "image shape: torch.Size([1, 224, 224, 3])\n",
            "image shape: torch.Size([1, 224, 224, 3])\n",
            "image shape: torch.Size([1, 224, 224, 3])\n",
            "Applying RandomPerspective(p=0.8) to image of type <class 'torch.Tensor'>\n",
            "Applying RandomResizedCrop(size=(224, 224), scale=(1, 1), ratio=(0.75, 1.3333), interpolation=bilinear, antialias=True) to image of type <class 'torch.Tensor'>\n",
            "torch.Size([3, 3, 224, 224])\n",
            "Applying RandomResizedCrop(size=(224, 224), scale=(1, 1), ratio=(0.75, 1.3333), interpolation=bilinear, antialias=True) to image of type <class 'torch.Tensor'>\n",
            "Applying ColorJitter(brightness=(0.8, 1.2), contrast=(0.8, 1.2), saturation=(0.8, 1.2), hue=(-0.1, 0.1)) to image of type <class 'torch.Tensor'>\n",
            "torch.Size([3, 3, 224, 224])\n",
            "Applying GaussianBlur(kernel_size=(5, 5), sigma=(0.1, 2.0)) to image of type <class 'torch.Tensor'>\n",
            "Applying ColorJitter(brightness=(0.8, 1.2), contrast=(0.8, 1.2), saturation=(0.8, 1.2), hue=(-0.1, 0.1)) to image of type <class 'torch.Tensor'>\n",
            "torch.Size([3, 3, 224, 224])\n",
            "Applying ColorJitter(brightness=(0.8, 1.2), contrast=(0.8, 1.2), saturation=(0.8, 1.2), hue=(-0.1, 0.1)) to image of type <class 'torch.Tensor'>\n",
            "Applying RandomResizedCrop(size=(224, 224), scale=(1, 1), ratio=(0.75, 1.3333), interpolation=bilinear, antialias=True) to image of type <class 'torch.Tensor'>\n",
            "torch.Size([3, 3, 224, 224])\n"
          ]
        },
        {
          "output_type": "stream",
          "name": "stderr",
          "text": [
            "\r  8%|▊         | 83/1000 [00:47<08:12,  1.86it/s]"
          ]
        },
        {
          "output_type": "stream",
          "name": "stdout",
          "text": [
            "image shape: torch.Size([1, 224, 224, 3])\n",
            "image shape: torch.Size([1, 224, 224, 3])\n",
            "image shape: torch.Size([1, 224, 224, 3])\n",
            "Applying ColorJitter(brightness=(0.8, 1.2), contrast=(0.8, 1.2), saturation=(0.8, 1.2), hue=(-0.1, 0.1)) to image of type <class 'torch.Tensor'>\n",
            "Applying RandomResizedCrop(size=(224, 224), scale=(1, 1), ratio=(0.75, 1.3333), interpolation=bilinear, antialias=True) to image of type <class 'torch.Tensor'>\n",
            "torch.Size([3, 3, 224, 224])\n",
            "Applying RandomPerspective(p=0.8) to image of type <class 'torch.Tensor'>\n",
            "Applying GaussianBlur(kernel_size=(5, 5), sigma=(0.1, 2.0)) to image of type <class 'torch.Tensor'>\n",
            "torch.Size([3, 3, 224, 224])\n",
            "Applying RandomResizedCrop(size=(224, 224), scale=(1, 1), ratio=(0.75, 1.3333), interpolation=bilinear, antialias=True) to image of type <class 'torch.Tensor'>\n",
            "Applying RandomPerspective(p=0.8) to image of type <class 'torch.Tensor'>\n",
            "torch.Size([3, 3, 224, 224])\n",
            "Applying RandomResizedCrop(size=(224, 224), scale=(1, 1), ratio=(0.75, 1.3333), interpolation=bilinear, antialias=True) to image of type <class 'torch.Tensor'>\n",
            "Applying ColorJitter(brightness=(0.8, 1.2), contrast=(0.8, 1.2), saturation=(0.8, 1.2), hue=(-0.1, 0.1)) to image of type <class 'torch.Tensor'>\n",
            "torch.Size([3, 3, 224, 224])\n"
          ]
        },
        {
          "output_type": "stream",
          "name": "stderr",
          "text": [
            "\r  8%|▊         | 84/1000 [00:48<08:13,  1.86it/s]"
          ]
        },
        {
          "output_type": "stream",
          "name": "stdout",
          "text": [
            "image shape: torch.Size([1, 224, 224, 3])\n",
            "image shape: torch.Size([1, 224, 224, 3])\n",
            "image shape: torch.Size([1, 224, 224, 3])\n",
            "Applying GaussianBlur(kernel_size=(5, 5), sigma=(0.1, 2.0)) to image of type <class 'torch.Tensor'>\n",
            "Applying RandomPerspective(p=0.8) to image of type <class 'torch.Tensor'>\n",
            "torch.Size([3, 3, 224, 224])\n",
            "Applying RandomPerspective(p=0.8) to image of type <class 'torch.Tensor'>\n",
            "Applying RandomResizedCrop(size=(224, 224), scale=(1, 1), ratio=(0.75, 1.3333), interpolation=bilinear, antialias=True) to image of type <class 'torch.Tensor'>\n",
            "torch.Size([3, 3, 224, 224])\n",
            "Applying RandomPerspective(p=0.8) to image of type <class 'torch.Tensor'>\n",
            "Applying RandomResizedCrop(size=(224, 224), scale=(1, 1), ratio=(0.75, 1.3333), interpolation=bilinear, antialias=True) to image of type <class 'torch.Tensor'>\n",
            "torch.Size([3, 3, 224, 224])\n",
            "Applying GaussianBlur(kernel_size=(5, 5), sigma=(0.1, 2.0)) to image of type <class 'torch.Tensor'>\n",
            "Applying ColorJitter(brightness=(0.8, 1.2), contrast=(0.8, 1.2), saturation=(0.8, 1.2), hue=(-0.1, 0.1)) to image of type <class 'torch.Tensor'>\n",
            "torch.Size([3, 3, 224, 224])\n"
          ]
        },
        {
          "output_type": "stream",
          "name": "stderr",
          "text": [
            "\r  8%|▊         | 85/1000 [00:48<08:11,  1.86it/s]"
          ]
        },
        {
          "output_type": "stream",
          "name": "stdout",
          "text": [
            "image shape: torch.Size([1, 224, 224, 3])\n",
            "image shape: torch.Size([1, 224, 224, 3])\n",
            "image shape: torch.Size([1, 224, 224, 3])\n",
            "Applying RandomResizedCrop(size=(224, 224), scale=(1, 1), ratio=(0.75, 1.3333), interpolation=bilinear, antialias=True) to image of type <class 'torch.Tensor'>\n",
            "Applying ColorJitter(brightness=(0.8, 1.2), contrast=(0.8, 1.2), saturation=(0.8, 1.2), hue=(-0.1, 0.1)) to image of type <class 'torch.Tensor'>\n",
            "torch.Size([3, 3, 224, 224])\n",
            "Applying RandomPerspective(p=0.8) to image of type <class 'torch.Tensor'>\n",
            "Applying GaussianBlur(kernel_size=(5, 5), sigma=(0.1, 2.0)) to image of type <class 'torch.Tensor'>\n",
            "torch.Size([3, 3, 224, 224])\n",
            "Applying GaussianBlur(kernel_size=(5, 5), sigma=(0.1, 2.0)) to image of type <class 'torch.Tensor'>\n",
            "Applying RandomPerspective(p=0.8) to image of type <class 'torch.Tensor'>\n",
            "torch.Size([3, 3, 224, 224])\n",
            "Applying ColorJitter(brightness=(0.8, 1.2), contrast=(0.8, 1.2), saturation=(0.8, 1.2), hue=(-0.1, 0.1)) to image of type <class 'torch.Tensor'>\n",
            "Applying GaussianBlur(kernel_size=(5, 5), sigma=(0.1, 2.0)) to image of type <class 'torch.Tensor'>\n",
            "torch.Size([3, 3, 224, 224])\n"
          ]
        },
        {
          "output_type": "stream",
          "name": "stderr",
          "text": [
            "\r  9%|▊         | 86/1000 [00:49<08:10,  1.86it/s]"
          ]
        },
        {
          "output_type": "stream",
          "name": "stdout",
          "text": [
            "image shape: torch.Size([1, 224, 224, 3])\n",
            "image shape: torch.Size([1, 224, 224, 3])\n",
            "image shape: torch.Size([1, 224, 224, 3])\n",
            "Applying ColorJitter(brightness=(0.8, 1.2), contrast=(0.8, 1.2), saturation=(0.8, 1.2), hue=(-0.1, 0.1)) to image of type <class 'torch.Tensor'>\n",
            "Applying RandomPerspective(p=0.8) to image of type <class 'torch.Tensor'>\n",
            "torch.Size([3, 3, 224, 224])\n",
            "Applying RandomPerspective(p=0.8) to image of type <class 'torch.Tensor'>\n",
            "Applying GaussianBlur(kernel_size=(5, 5), sigma=(0.1, 2.0)) to image of type <class 'torch.Tensor'>\n",
            "torch.Size([3, 3, 224, 224])\n",
            "Applying GaussianBlur(kernel_size=(5, 5), sigma=(0.1, 2.0)) to image of type <class 'torch.Tensor'>\n",
            "Applying ColorJitter(brightness=(0.8, 1.2), contrast=(0.8, 1.2), saturation=(0.8, 1.2), hue=(-0.1, 0.1)) to image of type <class 'torch.Tensor'>\n",
            "torch.Size([3, 3, 224, 224])\n",
            "Applying GaussianBlur(kernel_size=(5, 5), sigma=(0.1, 2.0)) to image of type <class 'torch.Tensor'>\n",
            "Applying RandomPerspective(p=0.8) to image of type <class 'torch.Tensor'>\n",
            "torch.Size([3, 3, 224, 224])\n"
          ]
        },
        {
          "output_type": "stream",
          "name": "stderr",
          "text": [
            "\r  9%|▊         | 87/1000 [00:50<08:09,  1.87it/s]"
          ]
        },
        {
          "output_type": "stream",
          "name": "stdout",
          "text": [
            "image shape: torch.Size([1, 224, 224, 3])\n",
            "image shape: torch.Size([1, 224, 224, 3])\n",
            "image shape: torch.Size([1, 224, 224, 3])\n",
            "Applying RandomPerspective(p=0.8) to image of type <class 'torch.Tensor'>\n",
            "Applying ColorJitter(brightness=(0.8, 1.2), contrast=(0.8, 1.2), saturation=(0.8, 1.2), hue=(-0.1, 0.1)) to image of type <class 'torch.Tensor'>\n",
            "torch.Size([3, 3, 224, 224])\n",
            "Applying ColorJitter(brightness=(0.8, 1.2), contrast=(0.8, 1.2), saturation=(0.8, 1.2), hue=(-0.1, 0.1)) to image of type <class 'torch.Tensor'>\n",
            "Applying RandomResizedCrop(size=(224, 224), scale=(1, 1), ratio=(0.75, 1.3333), interpolation=bilinear, antialias=True) to image of type <class 'torch.Tensor'>\n",
            "torch.Size([3, 3, 224, 224])\n",
            "Applying RandomPerspective(p=0.8) to image of type <class 'torch.Tensor'>\n",
            "Applying ColorJitter(brightness=(0.8, 1.2), contrast=(0.8, 1.2), saturation=(0.8, 1.2), hue=(-0.1, 0.1)) to image of type <class 'torch.Tensor'>\n",
            "torch.Size([3, 3, 224, 224])\n",
            "Applying ColorJitter(brightness=(0.8, 1.2), contrast=(0.8, 1.2), saturation=(0.8, 1.2), hue=(-0.1, 0.1)) to image of type <class 'torch.Tensor'>\n",
            "Applying GaussianBlur(kernel_size=(5, 5), sigma=(0.1, 2.0)) to image of type <class 'torch.Tensor'>\n",
            "torch.Size([3, 3, 224, 224])\n"
          ]
        },
        {
          "output_type": "stream",
          "name": "stderr",
          "text": [
            "\r  9%|▉         | 88/1000 [00:50<08:10,  1.86it/s]"
          ]
        },
        {
          "output_type": "stream",
          "name": "stdout",
          "text": [
            "image shape: torch.Size([1, 224, 224, 3])\n",
            "image shape: torch.Size([1, 224, 224, 3])\n",
            "image shape: torch.Size([1, 224, 224, 3])\n",
            "Applying GaussianBlur(kernel_size=(5, 5), sigma=(0.1, 2.0)) to image of type <class 'torch.Tensor'>\n",
            "Applying ColorJitter(brightness=(0.8, 1.2), contrast=(0.8, 1.2), saturation=(0.8, 1.2), hue=(-0.1, 0.1)) to image of type <class 'torch.Tensor'>\n",
            "torch.Size([3, 3, 224, 224])\n",
            "Applying RandomResizedCrop(size=(224, 224), scale=(1, 1), ratio=(0.75, 1.3333), interpolation=bilinear, antialias=True) to image of type <class 'torch.Tensor'>\n",
            "Applying ColorJitter(brightness=(0.8, 1.2), contrast=(0.8, 1.2), saturation=(0.8, 1.2), hue=(-0.1, 0.1)) to image of type <class 'torch.Tensor'>\n",
            "torch.Size([3, 3, 224, 224])\n",
            "Applying RandomPerspective(p=0.8) to image of type <class 'torch.Tensor'>\n",
            "Applying RandomResizedCrop(size=(224, 224), scale=(1, 1), ratio=(0.75, 1.3333), interpolation=bilinear, antialias=True) to image of type <class 'torch.Tensor'>\n",
            "torch.Size([3, 3, 224, 224])\n",
            "Applying GaussianBlur(kernel_size=(5, 5), sigma=(0.1, 2.0)) to image of type <class 'torch.Tensor'>\n",
            "Applying RandomResizedCrop(size=(224, 224), scale=(1, 1), ratio=(0.75, 1.3333), interpolation=bilinear, antialias=True) to image of type <class 'torch.Tensor'>\n",
            "torch.Size([3, 3, 224, 224])\n"
          ]
        },
        {
          "output_type": "stream",
          "name": "stderr",
          "text": [
            "\r  9%|▉         | 89/1000 [00:51<08:09,  1.86it/s]"
          ]
        },
        {
          "output_type": "stream",
          "name": "stdout",
          "text": [
            "image shape: torch.Size([1, 224, 224, 3])\n",
            "image shape: torch.Size([1, 224, 224, 3])\n",
            "image shape: torch.Size([1, 224, 224, 3])\n",
            "Applying RandomPerspective(p=0.8) to image of type <class 'torch.Tensor'>\n",
            "Applying ColorJitter(brightness=(0.8, 1.2), contrast=(0.8, 1.2), saturation=(0.8, 1.2), hue=(-0.1, 0.1)) to image of type <class 'torch.Tensor'>\n",
            "torch.Size([3, 3, 224, 224])\n",
            "Applying RandomPerspective(p=0.8) to image of type <class 'torch.Tensor'>\n",
            "Applying ColorJitter(brightness=(0.8, 1.2), contrast=(0.8, 1.2), saturation=(0.8, 1.2), hue=(-0.1, 0.1)) to image of type <class 'torch.Tensor'>\n",
            "torch.Size([3, 3, 224, 224])\n",
            "Applying RandomPerspective(p=0.8) to image of type <class 'torch.Tensor'>\n",
            "Applying GaussianBlur(kernel_size=(5, 5), sigma=(0.1, 2.0)) to image of type <class 'torch.Tensor'>\n",
            "torch.Size([3, 3, 224, 224])\n",
            "Applying RandomResizedCrop(size=(224, 224), scale=(1, 1), ratio=(0.75, 1.3333), interpolation=bilinear, antialias=True) to image of type <class 'torch.Tensor'>\n",
            "Applying RandomPerspective(p=0.8) to image of type <class 'torch.Tensor'>\n",
            "torch.Size([3, 3, 224, 224])\n"
          ]
        },
        {
          "output_type": "stream",
          "name": "stderr",
          "text": [
            "\r  9%|▉         | 90/1000 [00:51<08:11,  1.85it/s]"
          ]
        },
        {
          "output_type": "stream",
          "name": "stdout",
          "text": [
            "image shape: torch.Size([1, 224, 224, 3])\n",
            "image shape: torch.Size([1, 224, 224, 3])\n",
            "image shape: torch.Size([1, 224, 224, 3])\n",
            "Applying ColorJitter(brightness=(0.8, 1.2), contrast=(0.8, 1.2), saturation=(0.8, 1.2), hue=(-0.1, 0.1)) to image of type <class 'torch.Tensor'>\n",
            "Applying RandomResizedCrop(size=(224, 224), scale=(1, 1), ratio=(0.75, 1.3333), interpolation=bilinear, antialias=True) to image of type <class 'torch.Tensor'>\n",
            "torch.Size([3, 3, 224, 224])\n",
            "Applying ColorJitter(brightness=(0.8, 1.2), contrast=(0.8, 1.2), saturation=(0.8, 1.2), hue=(-0.1, 0.1)) to image of type <class 'torch.Tensor'>\n",
            "Applying RandomPerspective(p=0.8) to image of type <class 'torch.Tensor'>\n",
            "torch.Size([3, 3, 224, 224])\n",
            "Applying GaussianBlur(kernel_size=(5, 5), sigma=(0.1, 2.0)) to image of type <class 'torch.Tensor'>\n",
            "Applying ColorJitter(brightness=(0.8, 1.2), contrast=(0.8, 1.2), saturation=(0.8, 1.2), hue=(-0.1, 0.1)) to image of type <class 'torch.Tensor'>\n",
            "torch.Size([3, 3, 224, 224])\n",
            "Applying ColorJitter(brightness=(0.8, 1.2), contrast=(0.8, 1.2), saturation=(0.8, 1.2), hue=(-0.1, 0.1)) to image of type <class 'torch.Tensor'>\n",
            "Applying RandomPerspective(p=0.8) to image of type <class 'torch.Tensor'>\n",
            "torch.Size([3, 3, 224, 224])\n"
          ]
        },
        {
          "output_type": "stream",
          "name": "stderr",
          "text": [
            "\r  9%|▉         | 91/1000 [00:52<08:11,  1.85it/s]"
          ]
        },
        {
          "output_type": "stream",
          "name": "stdout",
          "text": [
            "image shape: torch.Size([1, 224, 224, 3])\n",
            "image shape: torch.Size([1, 224, 224, 3])\n",
            "image shape: torch.Size([1, 224, 224, 3])\n",
            "Applying GaussianBlur(kernel_size=(5, 5), sigma=(0.1, 2.0)) to image of type <class 'torch.Tensor'>\n",
            "Applying RandomPerspective(p=0.8) to image of type <class 'torch.Tensor'>\n",
            "torch.Size([3, 3, 224, 224])\n",
            "Applying GaussianBlur(kernel_size=(5, 5), sigma=(0.1, 2.0)) to image of type <class 'torch.Tensor'>\n",
            "Applying ColorJitter(brightness=(0.8, 1.2), contrast=(0.8, 1.2), saturation=(0.8, 1.2), hue=(-0.1, 0.1)) to image of type <class 'torch.Tensor'>\n",
            "torch.Size([3, 3, 224, 224])\n",
            "Applying RandomResizedCrop(size=(224, 224), scale=(1, 1), ratio=(0.75, 1.3333), interpolation=bilinear, antialias=True) to image of type <class 'torch.Tensor'>\n",
            "Applying GaussianBlur(kernel_size=(5, 5), sigma=(0.1, 2.0)) to image of type <class 'torch.Tensor'>\n",
            "torch.Size([3, 3, 224, 224])\n",
            "Applying RandomPerspective(p=0.8) to image of type <class 'torch.Tensor'>\n",
            "Applying RandomResizedCrop(size=(224, 224), scale=(1, 1), ratio=(0.75, 1.3333), interpolation=bilinear, antialias=True) to image of type <class 'torch.Tensor'>\n",
            "torch.Size([3, 3, 224, 224])\n"
          ]
        },
        {
          "output_type": "stream",
          "name": "stderr",
          "text": [
            "\r  9%|▉         | 92/1000 [00:52<08:10,  1.85it/s]"
          ]
        },
        {
          "output_type": "stream",
          "name": "stdout",
          "text": [
            "image shape: torch.Size([1, 224, 224, 3])\n",
            "image shape: torch.Size([1, 224, 224, 3])\n",
            "image shape: torch.Size([1, 224, 224, 3])\n",
            "Applying GaussianBlur(kernel_size=(5, 5), sigma=(0.1, 2.0)) to image of type <class 'torch.Tensor'>\n",
            "Applying RandomPerspective(p=0.8) to image of type <class 'torch.Tensor'>\n",
            "torch.Size([3, 3, 224, 224])\n",
            "Applying ColorJitter(brightness=(0.8, 1.2), contrast=(0.8, 1.2), saturation=(0.8, 1.2), hue=(-0.1, 0.1)) to image of type <class 'torch.Tensor'>\n",
            "Applying GaussianBlur(kernel_size=(5, 5), sigma=(0.1, 2.0)) to image of type <class 'torch.Tensor'>\n",
            "torch.Size([3, 3, 224, 224])\n",
            "Applying RandomPerspective(p=0.8) to image of type <class 'torch.Tensor'>\n",
            "Applying ColorJitter(brightness=(0.8, 1.2), contrast=(0.8, 1.2), saturation=(0.8, 1.2), hue=(-0.1, 0.1)) to image of type <class 'torch.Tensor'>\n",
            "torch.Size([3, 3, 224, 224])\n",
            "Applying RandomPerspective(p=0.8) to image of type <class 'torch.Tensor'>\n",
            "Applying ColorJitter(brightness=(0.8, 1.2), contrast=(0.8, 1.2), saturation=(0.8, 1.2), hue=(-0.1, 0.1)) to image of type <class 'torch.Tensor'>\n",
            "torch.Size([3, 3, 224, 224])\n"
          ]
        },
        {
          "output_type": "stream",
          "name": "stderr",
          "text": [
            "\r  9%|▉         | 93/1000 [00:53<08:10,  1.85it/s]"
          ]
        },
        {
          "output_type": "stream",
          "name": "stdout",
          "text": [
            "image shape: torch.Size([1, 224, 224, 3])\n",
            "image shape: torch.Size([1, 224, 224, 3])\n",
            "image shape: torch.Size([1, 224, 224, 3])\n",
            "Applying RandomPerspective(p=0.8) to image of type <class 'torch.Tensor'>\n",
            "Applying ColorJitter(brightness=(0.8, 1.2), contrast=(0.8, 1.2), saturation=(0.8, 1.2), hue=(-0.1, 0.1)) to image of type <class 'torch.Tensor'>\n",
            "torch.Size([3, 3, 224, 224])\n",
            "Applying GaussianBlur(kernel_size=(5, 5), sigma=(0.1, 2.0)) to image of type <class 'torch.Tensor'>\n",
            "Applying ColorJitter(brightness=(0.8, 1.2), contrast=(0.8, 1.2), saturation=(0.8, 1.2), hue=(-0.1, 0.1)) to image of type <class 'torch.Tensor'>\n",
            "torch.Size([3, 3, 224, 224])\n",
            "Applying RandomPerspective(p=0.8) to image of type <class 'torch.Tensor'>\n",
            "Applying ColorJitter(brightness=(0.8, 1.2), contrast=(0.8, 1.2), saturation=(0.8, 1.2), hue=(-0.1, 0.1)) to image of type <class 'torch.Tensor'>\n",
            "torch.Size([3, 3, 224, 224])\n",
            "Applying ColorJitter(brightness=(0.8, 1.2), contrast=(0.8, 1.2), saturation=(0.8, 1.2), hue=(-0.1, 0.1)) to image of type <class 'torch.Tensor'>\n",
            "Applying RandomResizedCrop(size=(224, 224), scale=(1, 1), ratio=(0.75, 1.3333), interpolation=bilinear, antialias=True) to image of type <class 'torch.Tensor'>\n",
            "torch.Size([3, 3, 224, 224])\n"
          ]
        },
        {
          "output_type": "stream",
          "name": "stderr",
          "text": [
            "\r  9%|▉         | 94/1000 [00:53<08:16,  1.82it/s]"
          ]
        },
        {
          "output_type": "stream",
          "name": "stdout",
          "text": [
            "image shape: torch.Size([1, 224, 224, 3])\n",
            "image shape: torch.Size([1, 224, 224, 3])\n",
            "image shape: torch.Size([1, 224, 224, 3])\n",
            "Applying ColorJitter(brightness=(0.8, 1.2), contrast=(0.8, 1.2), saturation=(0.8, 1.2), hue=(-0.1, 0.1)) to image of type <class 'torch.Tensor'>\n",
            "Applying GaussianBlur(kernel_size=(5, 5), sigma=(0.1, 2.0)) to image of type <class 'torch.Tensor'>\n",
            "torch.Size([3, 3, 224, 224])\n",
            "Applying RandomResizedCrop(size=(224, 224), scale=(1, 1), ratio=(0.75, 1.3333), interpolation=bilinear, antialias=True) to image of type <class 'torch.Tensor'>\n",
            "Applying RandomPerspective(p=0.8) to image of type <class 'torch.Tensor'>\n",
            "torch.Size([3, 3, 224, 224])\n",
            "Applying ColorJitter(brightness=(0.8, 1.2), contrast=(0.8, 1.2), saturation=(0.8, 1.2), hue=(-0.1, 0.1)) to image of type <class 'torch.Tensor'>\n",
            "Applying RandomResizedCrop(size=(224, 224), scale=(1, 1), ratio=(0.75, 1.3333), interpolation=bilinear, antialias=True) to image of type <class 'torch.Tensor'>\n",
            "torch.Size([3, 3, 224, 224])\n",
            "Applying ColorJitter(brightness=(0.8, 1.2), contrast=(0.8, 1.2), saturation=(0.8, 1.2), hue=(-0.1, 0.1)) to image of type <class 'torch.Tensor'>\n",
            "Applying RandomPerspective(p=0.8) to image of type <class 'torch.Tensor'>\n",
            "torch.Size([3, 3, 224, 224])\n"
          ]
        },
        {
          "output_type": "stream",
          "name": "stderr",
          "text": [
            "\r 10%|▉         | 95/1000 [00:54<08:18,  1.82it/s]"
          ]
        },
        {
          "output_type": "stream",
          "name": "stdout",
          "text": [
            "image shape: torch.Size([1, 224, 224, 3])\n",
            "image shape: torch.Size([1, 224, 224, 3])\n",
            "image shape: torch.Size([1, 224, 224, 3])\n",
            "Applying GaussianBlur(kernel_size=(5, 5), sigma=(0.1, 2.0)) to image of type <class 'torch.Tensor'>\n",
            "Applying ColorJitter(brightness=(0.8, 1.2), contrast=(0.8, 1.2), saturation=(0.8, 1.2), hue=(-0.1, 0.1)) to image of type <class 'torch.Tensor'>\n",
            "torch.Size([3, 3, 224, 224])\n",
            "Applying RandomPerspective(p=0.8) to image of type <class 'torch.Tensor'>\n",
            "Applying RandomResizedCrop(size=(224, 224), scale=(1, 1), ratio=(0.75, 1.3333), interpolation=bilinear, antialias=True) to image of type <class 'torch.Tensor'>\n",
            "torch.Size([3, 3, 224, 224])\n",
            "Applying ColorJitter(brightness=(0.8, 1.2), contrast=(0.8, 1.2), saturation=(0.8, 1.2), hue=(-0.1, 0.1)) to image of type <class 'torch.Tensor'>\n",
            "Applying GaussianBlur(kernel_size=(5, 5), sigma=(0.1, 2.0)) to image of type <class 'torch.Tensor'>\n",
            "torch.Size([3, 3, 224, 224])\n",
            "Applying ColorJitter(brightness=(0.8, 1.2), contrast=(0.8, 1.2), saturation=(0.8, 1.2), hue=(-0.1, 0.1)) to image of type <class 'torch.Tensor'>\n",
            "Applying GaussianBlur(kernel_size=(5, 5), sigma=(0.1, 2.0)) to image of type <class 'torch.Tensor'>\n",
            "torch.Size([3, 3, 224, 224])\n"
          ]
        },
        {
          "output_type": "stream",
          "name": "stderr",
          "text": [
            "\r 10%|▉         | 96/1000 [00:54<08:20,  1.81it/s]"
          ]
        },
        {
          "output_type": "stream",
          "name": "stdout",
          "text": [
            "image shape: torch.Size([1, 224, 224, 3])\n",
            "image shape: torch.Size([1, 224, 224, 3])\n",
            "image shape: torch.Size([1, 224, 224, 3])\n",
            "Applying ColorJitter(brightness=(0.8, 1.2), contrast=(0.8, 1.2), saturation=(0.8, 1.2), hue=(-0.1, 0.1)) to image of type <class 'torch.Tensor'>\n",
            "Applying GaussianBlur(kernel_size=(5, 5), sigma=(0.1, 2.0)) to image of type <class 'torch.Tensor'>\n",
            "torch.Size([3, 3, 224, 224])\n",
            "Applying RandomResizedCrop(size=(224, 224), scale=(1, 1), ratio=(0.75, 1.3333), interpolation=bilinear, antialias=True) to image of type <class 'torch.Tensor'>\n",
            "Applying RandomPerspective(p=0.8) to image of type <class 'torch.Tensor'>\n",
            "torch.Size([3, 3, 224, 224])\n",
            "Applying ColorJitter(brightness=(0.8, 1.2), contrast=(0.8, 1.2), saturation=(0.8, 1.2), hue=(-0.1, 0.1)) to image of type <class 'torch.Tensor'>\n",
            "Applying GaussianBlur(kernel_size=(5, 5), sigma=(0.1, 2.0)) to image of type <class 'torch.Tensor'>\n",
            "torch.Size([3, 3, 224, 224])\n",
            "Applying RandomResizedCrop(size=(224, 224), scale=(1, 1), ratio=(0.75, 1.3333), interpolation=bilinear, antialias=True) to image of type <class 'torch.Tensor'>\n",
            "Applying GaussianBlur(kernel_size=(5, 5), sigma=(0.1, 2.0)) to image of type <class 'torch.Tensor'>\n",
            "torch.Size([3, 3, 224, 224])\n"
          ]
        },
        {
          "output_type": "stream",
          "name": "stderr",
          "text": [
            "\r 10%|▉         | 97/1000 [00:55<08:18,  1.81it/s]"
          ]
        },
        {
          "output_type": "stream",
          "name": "stdout",
          "text": [
            "image shape: torch.Size([1, 224, 224, 3])\n",
            "image shape: torch.Size([1, 224, 224, 3])\n",
            "image shape: torch.Size([1, 224, 224, 3])\n",
            "Applying RandomPerspective(p=0.8) to image of type <class 'torch.Tensor'>\n",
            "Applying GaussianBlur(kernel_size=(5, 5), sigma=(0.1, 2.0)) to image of type <class 'torch.Tensor'>\n",
            "torch.Size([3, 3, 224, 224])\n",
            "Applying ColorJitter(brightness=(0.8, 1.2), contrast=(0.8, 1.2), saturation=(0.8, 1.2), hue=(-0.1, 0.1)) to image of type <class 'torch.Tensor'>\n",
            "Applying RandomPerspective(p=0.8) to image of type <class 'torch.Tensor'>\n",
            "torch.Size([3, 3, 224, 224])\n",
            "Applying GaussianBlur(kernel_size=(5, 5), sigma=(0.1, 2.0)) to image of type <class 'torch.Tensor'>\n",
            "Applying RandomResizedCrop(size=(224, 224), scale=(1, 1), ratio=(0.75, 1.3333), interpolation=bilinear, antialias=True) to image of type <class 'torch.Tensor'>\n",
            "torch.Size([3, 3, 224, 224])\n",
            "Applying RandomResizedCrop(size=(224, 224), scale=(1, 1), ratio=(0.75, 1.3333), interpolation=bilinear, antialias=True) to image of type <class 'torch.Tensor'>\n",
            "Applying RandomPerspective(p=0.8) to image of type <class 'torch.Tensor'>\n",
            "torch.Size([3, 3, 224, 224])\n"
          ]
        },
        {
          "output_type": "stream",
          "name": "stderr",
          "text": [
            "\r 10%|▉         | 98/1000 [00:56<08:21,  1.80it/s]"
          ]
        },
        {
          "output_type": "stream",
          "name": "stdout",
          "text": [
            "image shape: torch.Size([1, 224, 224, 3])\n",
            "image shape: torch.Size([1, 224, 224, 3])\n",
            "image shape: torch.Size([1, 224, 224, 3])\n",
            "Applying RandomPerspective(p=0.8) to image of type <class 'torch.Tensor'>\n",
            "Applying ColorJitter(brightness=(0.8, 1.2), contrast=(0.8, 1.2), saturation=(0.8, 1.2), hue=(-0.1, 0.1)) to image of type <class 'torch.Tensor'>\n",
            "torch.Size([3, 3, 224, 224])\n",
            "Applying GaussianBlur(kernel_size=(5, 5), sigma=(0.1, 2.0)) to image of type <class 'torch.Tensor'>\n",
            "Applying ColorJitter(brightness=(0.8, 1.2), contrast=(0.8, 1.2), saturation=(0.8, 1.2), hue=(-0.1, 0.1)) to image of type <class 'torch.Tensor'>\n",
            "torch.Size([3, 3, 224, 224])\n",
            "Applying RandomPerspective(p=0.8) to image of type <class 'torch.Tensor'>\n",
            "Applying RandomResizedCrop(size=(224, 224), scale=(1, 1), ratio=(0.75, 1.3333), interpolation=bilinear, antialias=True) to image of type <class 'torch.Tensor'>\n",
            "torch.Size([3, 3, 224, 224])\n",
            "Applying RandomResizedCrop(size=(224, 224), scale=(1, 1), ratio=(0.75, 1.3333), interpolation=bilinear, antialias=True) to image of type <class 'torch.Tensor'>\n",
            "Applying ColorJitter(brightness=(0.8, 1.2), contrast=(0.8, 1.2), saturation=(0.8, 1.2), hue=(-0.1, 0.1)) to image of type <class 'torch.Tensor'>\n",
            "torch.Size([3, 3, 224, 224])\n"
          ]
        },
        {
          "output_type": "stream",
          "name": "stderr",
          "text": [
            "\r 10%|▉         | 99/1000 [00:56<08:23,  1.79it/s]"
          ]
        },
        {
          "output_type": "stream",
          "name": "stdout",
          "text": [
            "image shape: torch.Size([1, 224, 224, 3])\n",
            "image shape: torch.Size([1, 224, 224, 3])\n",
            "image shape: torch.Size([1, 224, 224, 3])\n",
            "Applying GaussianBlur(kernel_size=(5, 5), sigma=(0.1, 2.0)) to image of type <class 'torch.Tensor'>\n",
            "Applying RandomResizedCrop(size=(224, 224), scale=(1, 1), ratio=(0.75, 1.3333), interpolation=bilinear, antialias=True) to image of type <class 'torch.Tensor'>\n",
            "torch.Size([3, 3, 224, 224])\n",
            "Applying RandomResizedCrop(size=(224, 224), scale=(1, 1), ratio=(0.75, 1.3333), interpolation=bilinear, antialias=True) to image of type <class 'torch.Tensor'>\n",
            "Applying ColorJitter(brightness=(0.8, 1.2), contrast=(0.8, 1.2), saturation=(0.8, 1.2), hue=(-0.1, 0.1)) to image of type <class 'torch.Tensor'>\n",
            "torch.Size([3, 3, 224, 224])\n",
            "Applying GaussianBlur(kernel_size=(5, 5), sigma=(0.1, 2.0)) to image of type <class 'torch.Tensor'>\n",
            "Applying RandomResizedCrop(size=(224, 224), scale=(1, 1), ratio=(0.75, 1.3333), interpolation=bilinear, antialias=True) to image of type <class 'torch.Tensor'>\n",
            "torch.Size([3, 3, 224, 224])\n",
            "Applying RandomResizedCrop(size=(224, 224), scale=(1, 1), ratio=(0.75, 1.3333), interpolation=bilinear, antialias=True) to image of type <class 'torch.Tensor'>\n",
            "Applying GaussianBlur(kernel_size=(5, 5), sigma=(0.1, 2.0)) to image of type <class 'torch.Tensor'>\n",
            "torch.Size([3, 3, 224, 224])\n"
          ]
        },
        {
          "output_type": "stream",
          "name": "stderr",
          "text": [
            "\r 10%|█         | 100/1000 [00:57<08:16,  1.81it/s]"
          ]
        },
        {
          "output_type": "stream",
          "name": "stdout",
          "text": [
            "image shape: torch.Size([1, 224, 224, 3])\n",
            "image shape: torch.Size([1, 224, 224, 3])\n",
            "image shape: torch.Size([1, 224, 224, 3])\n",
            "Applying ColorJitter(brightness=(0.8, 1.2), contrast=(0.8, 1.2), saturation=(0.8, 1.2), hue=(-0.1, 0.1)) to image of type <class 'torch.Tensor'>\n",
            "Applying RandomPerspective(p=0.8) to image of type <class 'torch.Tensor'>\n",
            "torch.Size([3, 3, 224, 224])\n",
            "Applying RandomPerspective(p=0.8) to image of type <class 'torch.Tensor'>\n",
            "Applying RandomResizedCrop(size=(224, 224), scale=(1, 1), ratio=(0.75, 1.3333), interpolation=bilinear, antialias=True) to image of type <class 'torch.Tensor'>\n",
            "torch.Size([3, 3, 224, 224])\n",
            "Applying ColorJitter(brightness=(0.8, 1.2), contrast=(0.8, 1.2), saturation=(0.8, 1.2), hue=(-0.1, 0.1)) to image of type <class 'torch.Tensor'>\n",
            "Applying RandomResizedCrop(size=(224, 224), scale=(1, 1), ratio=(0.75, 1.3333), interpolation=bilinear, antialias=True) to image of type <class 'torch.Tensor'>\n",
            "torch.Size([3, 3, 224, 224])\n",
            "Applying GaussianBlur(kernel_size=(5, 5), sigma=(0.1, 2.0)) to image of type <class 'torch.Tensor'>\n",
            "Applying RandomPerspective(p=0.8) to image of type <class 'torch.Tensor'>\n",
            "torch.Size([3, 3, 224, 224])\n"
          ]
        },
        {
          "output_type": "stream",
          "name": "stderr",
          "text": [
            "\r 10%|█         | 101/1000 [00:57<08:13,  1.82it/s]"
          ]
        },
        {
          "output_type": "stream",
          "name": "stdout",
          "text": [
            "Last 100 CLIP score: nan\n",
            "image shape: torch.Size([1, 224, 224, 3])\n",
            "image shape: torch.Size([1, 224, 224, 3])\n",
            "image shape: torch.Size([1, 224, 224, 3])\n",
            "Applying ColorJitter(brightness=(0.8, 1.2), contrast=(0.8, 1.2), saturation=(0.8, 1.2), hue=(-0.1, 0.1)) to image of type <class 'torch.Tensor'>\n",
            "Applying RandomPerspective(p=0.8) to image of type <class 'torch.Tensor'>\n",
            "torch.Size([3, 3, 224, 224])\n",
            "Applying GaussianBlur(kernel_size=(5, 5), sigma=(0.1, 2.0)) to image of type <class 'torch.Tensor'>\n",
            "Applying ColorJitter(brightness=(0.8, 1.2), contrast=(0.8, 1.2), saturation=(0.8, 1.2), hue=(-0.1, 0.1)) to image of type <class 'torch.Tensor'>\n",
            "torch.Size([3, 3, 224, 224])\n",
            "Applying GaussianBlur(kernel_size=(5, 5), sigma=(0.1, 2.0)) to image of type <class 'torch.Tensor'>\n",
            "Applying ColorJitter(brightness=(0.8, 1.2), contrast=(0.8, 1.2), saturation=(0.8, 1.2), hue=(-0.1, 0.1)) to image of type <class 'torch.Tensor'>\n",
            "torch.Size([3, 3, 224, 224])\n",
            "Applying GaussianBlur(kernel_size=(5, 5), sigma=(0.1, 2.0)) to image of type <class 'torch.Tensor'>\n",
            "Applying ColorJitter(brightness=(0.8, 1.2), contrast=(0.8, 1.2), saturation=(0.8, 1.2), hue=(-0.1, 0.1)) to image of type <class 'torch.Tensor'>\n",
            "torch.Size([3, 3, 224, 224])\n"
          ]
        },
        {
          "output_type": "stream",
          "name": "stderr",
          "text": [
            "\r 10%|█         | 102/1000 [00:58<08:13,  1.82it/s]"
          ]
        },
        {
          "output_type": "stream",
          "name": "stdout",
          "text": [
            "image shape: torch.Size([1, 224, 224, 3])\n",
            "image shape: torch.Size([1, 224, 224, 3])\n",
            "image shape: torch.Size([1, 224, 224, 3])\n",
            "Applying RandomResizedCrop(size=(224, 224), scale=(1, 1), ratio=(0.75, 1.3333), interpolation=bilinear, antialias=True) to image of type <class 'torch.Tensor'>\n",
            "Applying RandomPerspective(p=0.8) to image of type <class 'torch.Tensor'>\n",
            "torch.Size([3, 3, 224, 224])\n",
            "Applying RandomResizedCrop(size=(224, 224), scale=(1, 1), ratio=(0.75, 1.3333), interpolation=bilinear, antialias=True) to image of type <class 'torch.Tensor'>\n",
            "Applying GaussianBlur(kernel_size=(5, 5), sigma=(0.1, 2.0)) to image of type <class 'torch.Tensor'>\n",
            "torch.Size([3, 3, 224, 224])\n",
            "Applying ColorJitter(brightness=(0.8, 1.2), contrast=(0.8, 1.2), saturation=(0.8, 1.2), hue=(-0.1, 0.1)) to image of type <class 'torch.Tensor'>\n",
            "Applying GaussianBlur(kernel_size=(5, 5), sigma=(0.1, 2.0)) to image of type <class 'torch.Tensor'>\n",
            "torch.Size([3, 3, 224, 224])\n",
            "Applying RandomResizedCrop(size=(224, 224), scale=(1, 1), ratio=(0.75, 1.3333), interpolation=bilinear, antialias=True) to image of type <class 'torch.Tensor'>\n",
            "Applying GaussianBlur(kernel_size=(5, 5), sigma=(0.1, 2.0)) to image of type <class 'torch.Tensor'>\n",
            "torch.Size([3, 3, 224, 224])\n"
          ]
        },
        {
          "output_type": "stream",
          "name": "stderr",
          "text": [
            "\r 10%|█         | 103/1000 [00:58<08:08,  1.84it/s]"
          ]
        },
        {
          "output_type": "stream",
          "name": "stdout",
          "text": [
            "image shape: torch.Size([1, 224, 224, 3])\n",
            "image shape: torch.Size([1, 224, 224, 3])\n",
            "image shape: torch.Size([1, 224, 224, 3])\n",
            "Applying ColorJitter(brightness=(0.8, 1.2), contrast=(0.8, 1.2), saturation=(0.8, 1.2), hue=(-0.1, 0.1)) to image of type <class 'torch.Tensor'>\n",
            "Applying RandomResizedCrop(size=(224, 224), scale=(1, 1), ratio=(0.75, 1.3333), interpolation=bilinear, antialias=True) to image of type <class 'torch.Tensor'>\n",
            "torch.Size([3, 3, 224, 224])\n",
            "Applying RandomResizedCrop(size=(224, 224), scale=(1, 1), ratio=(0.75, 1.3333), interpolation=bilinear, antialias=True) to image of type <class 'torch.Tensor'>\n",
            "Applying GaussianBlur(kernel_size=(5, 5), sigma=(0.1, 2.0)) to image of type <class 'torch.Tensor'>\n",
            "torch.Size([3, 3, 224, 224])\n",
            "Applying RandomResizedCrop(size=(224, 224), scale=(1, 1), ratio=(0.75, 1.3333), interpolation=bilinear, antialias=True) to image of type <class 'torch.Tensor'>\n",
            "Applying ColorJitter(brightness=(0.8, 1.2), contrast=(0.8, 1.2), saturation=(0.8, 1.2), hue=(-0.1, 0.1)) to image of type <class 'torch.Tensor'>\n",
            "torch.Size([3, 3, 224, 224])\n",
            "Applying GaussianBlur(kernel_size=(5, 5), sigma=(0.1, 2.0)) to image of type <class 'torch.Tensor'>\n",
            "Applying RandomPerspective(p=0.8) to image of type <class 'torch.Tensor'>\n",
            "torch.Size([3, 3, 224, 224])\n"
          ]
        },
        {
          "output_type": "stream",
          "name": "stderr",
          "text": [
            "\r 10%|█         | 104/1000 [00:59<08:05,  1.84it/s]"
          ]
        },
        {
          "output_type": "stream",
          "name": "stdout",
          "text": [
            "image shape: torch.Size([1, 224, 224, 3])\n",
            "image shape: torch.Size([1, 224, 224, 3])\n",
            "image shape: torch.Size([1, 224, 224, 3])\n",
            "Applying GaussianBlur(kernel_size=(5, 5), sigma=(0.1, 2.0)) to image of type <class 'torch.Tensor'>\n",
            "Applying ColorJitter(brightness=(0.8, 1.2), contrast=(0.8, 1.2), saturation=(0.8, 1.2), hue=(-0.1, 0.1)) to image of type <class 'torch.Tensor'>\n",
            "torch.Size([3, 3, 224, 224])\n",
            "Applying RandomResizedCrop(size=(224, 224), scale=(1, 1), ratio=(0.75, 1.3333), interpolation=bilinear, antialias=True) to image of type <class 'torch.Tensor'>\n",
            "Applying GaussianBlur(kernel_size=(5, 5), sigma=(0.1, 2.0)) to image of type <class 'torch.Tensor'>\n",
            "torch.Size([3, 3, 224, 224])\n",
            "Applying RandomPerspective(p=0.8) to image of type <class 'torch.Tensor'>\n",
            "Applying GaussianBlur(kernel_size=(5, 5), sigma=(0.1, 2.0)) to image of type <class 'torch.Tensor'>\n",
            "torch.Size([3, 3, 224, 224])\n",
            "Applying RandomPerspective(p=0.8) to image of type <class 'torch.Tensor'>\n",
            "Applying GaussianBlur(kernel_size=(5, 5), sigma=(0.1, 2.0)) to image of type <class 'torch.Tensor'>\n",
            "torch.Size([3, 3, 224, 224])\n"
          ]
        },
        {
          "output_type": "stream",
          "name": "stderr",
          "text": [
            "\r 10%|█         | 105/1000 [00:59<08:04,  1.85it/s]"
          ]
        },
        {
          "output_type": "stream",
          "name": "stdout",
          "text": [
            "image shape: torch.Size([1, 224, 224, 3])\n",
            "image shape: torch.Size([1, 224, 224, 3])\n",
            "image shape: torch.Size([1, 224, 224, 3])\n",
            "Applying GaussianBlur(kernel_size=(5, 5), sigma=(0.1, 2.0)) to image of type <class 'torch.Tensor'>\n",
            "Applying RandomResizedCrop(size=(224, 224), scale=(1, 1), ratio=(0.75, 1.3333), interpolation=bilinear, antialias=True) to image of type <class 'torch.Tensor'>\n",
            "torch.Size([3, 3, 224, 224])\n",
            "Applying ColorJitter(brightness=(0.8, 1.2), contrast=(0.8, 1.2), saturation=(0.8, 1.2), hue=(-0.1, 0.1)) to image of type <class 'torch.Tensor'>\n",
            "Applying GaussianBlur(kernel_size=(5, 5), sigma=(0.1, 2.0)) to image of type <class 'torch.Tensor'>\n",
            "torch.Size([3, 3, 224, 224])\n",
            "Applying ColorJitter(brightness=(0.8, 1.2), contrast=(0.8, 1.2), saturation=(0.8, 1.2), hue=(-0.1, 0.1)) to image of type <class 'torch.Tensor'>\n",
            "Applying GaussianBlur(kernel_size=(5, 5), sigma=(0.1, 2.0)) to image of type <class 'torch.Tensor'>\n",
            "torch.Size([3, 3, 224, 224])\n",
            "Applying RandomResizedCrop(size=(224, 224), scale=(1, 1), ratio=(0.75, 1.3333), interpolation=bilinear, antialias=True) to image of type <class 'torch.Tensor'>\n",
            "Applying RandomPerspective(p=0.8) to image of type <class 'torch.Tensor'>\n",
            "torch.Size([3, 3, 224, 224])\n"
          ]
        },
        {
          "output_type": "stream",
          "name": "stderr",
          "text": [
            "\r 11%|█         | 106/1000 [01:00<08:03,  1.85it/s]"
          ]
        },
        {
          "output_type": "stream",
          "name": "stdout",
          "text": [
            "image shape: torch.Size([1, 224, 224, 3])\n",
            "image shape: torch.Size([1, 224, 224, 3])\n",
            "image shape: torch.Size([1, 224, 224, 3])\n",
            "Applying ColorJitter(brightness=(0.8, 1.2), contrast=(0.8, 1.2), saturation=(0.8, 1.2), hue=(-0.1, 0.1)) to image of type <class 'torch.Tensor'>\n",
            "Applying RandomPerspective(p=0.8) to image of type <class 'torch.Tensor'>\n",
            "torch.Size([3, 3, 224, 224])\n",
            "Applying ColorJitter(brightness=(0.8, 1.2), contrast=(0.8, 1.2), saturation=(0.8, 1.2), hue=(-0.1, 0.1)) to image of type <class 'torch.Tensor'>\n",
            "Applying GaussianBlur(kernel_size=(5, 5), sigma=(0.1, 2.0)) to image of type <class 'torch.Tensor'>\n",
            "torch.Size([3, 3, 224, 224])\n",
            "Applying ColorJitter(brightness=(0.8, 1.2), contrast=(0.8, 1.2), saturation=(0.8, 1.2), hue=(-0.1, 0.1)) to image of type <class 'torch.Tensor'>\n",
            "Applying RandomResizedCrop(size=(224, 224), scale=(1, 1), ratio=(0.75, 1.3333), interpolation=bilinear, antialias=True) to image of type <class 'torch.Tensor'>\n",
            "torch.Size([3, 3, 224, 224])\n",
            "Applying RandomResizedCrop(size=(224, 224), scale=(1, 1), ratio=(0.75, 1.3333), interpolation=bilinear, antialias=True) to image of type <class 'torch.Tensor'>\n",
            "Applying GaussianBlur(kernel_size=(5, 5), sigma=(0.1, 2.0)) to image of type <class 'torch.Tensor'>\n",
            "torch.Size([3, 3, 224, 224])\n"
          ]
        },
        {
          "output_type": "stream",
          "name": "stderr",
          "text": [
            "\r 11%|█         | 107/1000 [01:00<08:03,  1.85it/s]"
          ]
        },
        {
          "output_type": "stream",
          "name": "stdout",
          "text": [
            "image shape: torch.Size([1, 224, 224, 3])\n",
            "image shape: torch.Size([1, 224, 224, 3])\n",
            "image shape: torch.Size([1, 224, 224, 3])\n",
            "Applying RandomPerspective(p=0.8) to image of type <class 'torch.Tensor'>\n",
            "Applying GaussianBlur(kernel_size=(5, 5), sigma=(0.1, 2.0)) to image of type <class 'torch.Tensor'>\n",
            "torch.Size([3, 3, 224, 224])\n",
            "Applying RandomPerspective(p=0.8) to image of type <class 'torch.Tensor'>\n",
            "Applying ColorJitter(brightness=(0.8, 1.2), contrast=(0.8, 1.2), saturation=(0.8, 1.2), hue=(-0.1, 0.1)) to image of type <class 'torch.Tensor'>\n",
            "torch.Size([3, 3, 224, 224])\n",
            "Applying RandomResizedCrop(size=(224, 224), scale=(1, 1), ratio=(0.75, 1.3333), interpolation=bilinear, antialias=True) to image of type <class 'torch.Tensor'>\n",
            "Applying ColorJitter(brightness=(0.8, 1.2), contrast=(0.8, 1.2), saturation=(0.8, 1.2), hue=(-0.1, 0.1)) to image of type <class 'torch.Tensor'>\n",
            "torch.Size([3, 3, 224, 224])\n",
            "Applying RandomPerspective(p=0.8) to image of type <class 'torch.Tensor'>\n",
            "Applying GaussianBlur(kernel_size=(5, 5), sigma=(0.1, 2.0)) to image of type <class 'torch.Tensor'>\n",
            "torch.Size([3, 3, 224, 224])\n"
          ]
        },
        {
          "output_type": "stream",
          "name": "stderr",
          "text": [
            "\r 11%|█         | 108/1000 [01:01<08:03,  1.85it/s]"
          ]
        },
        {
          "output_type": "stream",
          "name": "stdout",
          "text": [
            "image shape: torch.Size([1, 224, 224, 3])\n",
            "image shape: torch.Size([1, 224, 224, 3])\n",
            "image shape: torch.Size([1, 224, 224, 3])\n",
            "Applying GaussianBlur(kernel_size=(5, 5), sigma=(0.1, 2.0)) to image of type <class 'torch.Tensor'>\n",
            "Applying ColorJitter(brightness=(0.8, 1.2), contrast=(0.8, 1.2), saturation=(0.8, 1.2), hue=(-0.1, 0.1)) to image of type <class 'torch.Tensor'>\n",
            "torch.Size([3, 3, 224, 224])\n",
            "Applying GaussianBlur(kernel_size=(5, 5), sigma=(0.1, 2.0)) to image of type <class 'torch.Tensor'>\n",
            "Applying ColorJitter(brightness=(0.8, 1.2), contrast=(0.8, 1.2), saturation=(0.8, 1.2), hue=(-0.1, 0.1)) to image of type <class 'torch.Tensor'>\n",
            "torch.Size([3, 3, 224, 224])\n",
            "Applying RandomResizedCrop(size=(224, 224), scale=(1, 1), ratio=(0.75, 1.3333), interpolation=bilinear, antialias=True) to image of type <class 'torch.Tensor'>\n",
            "Applying RandomPerspective(p=0.8) to image of type <class 'torch.Tensor'>\n",
            "torch.Size([3, 3, 224, 224])\n",
            "Applying RandomResizedCrop(size=(224, 224), scale=(1, 1), ratio=(0.75, 1.3333), interpolation=bilinear, antialias=True) to image of type <class 'torch.Tensor'>\n",
            "Applying ColorJitter(brightness=(0.8, 1.2), contrast=(0.8, 1.2), saturation=(0.8, 1.2), hue=(-0.1, 0.1)) to image of type <class 'torch.Tensor'>\n",
            "torch.Size([3, 3, 224, 224])\n"
          ]
        },
        {
          "output_type": "stream",
          "name": "stderr",
          "text": [
            "\r 11%|█         | 109/1000 [01:02<08:02,  1.84it/s]"
          ]
        },
        {
          "output_type": "stream",
          "name": "stdout",
          "text": [
            "image shape: torch.Size([1, 224, 224, 3])\n",
            "image shape: torch.Size([1, 224, 224, 3])\n",
            "image shape: torch.Size([1, 224, 224, 3])\n",
            "Applying RandomPerspective(p=0.8) to image of type <class 'torch.Tensor'>\n",
            "Applying GaussianBlur(kernel_size=(5, 5), sigma=(0.1, 2.0)) to image of type <class 'torch.Tensor'>\n",
            "torch.Size([3, 3, 224, 224])\n",
            "Applying RandomPerspective(p=0.8) to image of type <class 'torch.Tensor'>\n",
            "Applying RandomResizedCrop(size=(224, 224), scale=(1, 1), ratio=(0.75, 1.3333), interpolation=bilinear, antialias=True) to image of type <class 'torch.Tensor'>\n",
            "torch.Size([3, 3, 224, 224])\n",
            "Applying RandomResizedCrop(size=(224, 224), scale=(1, 1), ratio=(0.75, 1.3333), interpolation=bilinear, antialias=True) to image of type <class 'torch.Tensor'>\n",
            "Applying GaussianBlur(kernel_size=(5, 5), sigma=(0.1, 2.0)) to image of type <class 'torch.Tensor'>\n",
            "torch.Size([3, 3, 224, 224])\n",
            "Applying RandomResizedCrop(size=(224, 224), scale=(1, 1), ratio=(0.75, 1.3333), interpolation=bilinear, antialias=True) to image of type <class 'torch.Tensor'>\n",
            "Applying RandomPerspective(p=0.8) to image of type <class 'torch.Tensor'>\n",
            "torch.Size([3, 3, 224, 224])\n"
          ]
        },
        {
          "output_type": "stream",
          "name": "stderr",
          "text": [
            "\r 11%|█         | 110/1000 [01:02<08:00,  1.85it/s]"
          ]
        },
        {
          "output_type": "stream",
          "name": "stdout",
          "text": [
            "image shape: torch.Size([1, 224, 224, 3])\n",
            "image shape: torch.Size([1, 224, 224, 3])\n",
            "image shape: torch.Size([1, 224, 224, 3])\n",
            "Applying RandomPerspective(p=0.8) to image of type <class 'torch.Tensor'>\n",
            "Applying GaussianBlur(kernel_size=(5, 5), sigma=(0.1, 2.0)) to image of type <class 'torch.Tensor'>\n",
            "torch.Size([3, 3, 224, 224])\n",
            "Applying RandomResizedCrop(size=(224, 224), scale=(1, 1), ratio=(0.75, 1.3333), interpolation=bilinear, antialias=True) to image of type <class 'torch.Tensor'>\n",
            "Applying GaussianBlur(kernel_size=(5, 5), sigma=(0.1, 2.0)) to image of type <class 'torch.Tensor'>\n",
            "torch.Size([3, 3, 224, 224])\n",
            "Applying GaussianBlur(kernel_size=(5, 5), sigma=(0.1, 2.0)) to image of type <class 'torch.Tensor'>\n",
            "Applying RandomPerspective(p=0.8) to image of type <class 'torch.Tensor'>\n",
            "torch.Size([3, 3, 224, 224])\n",
            "Applying GaussianBlur(kernel_size=(5, 5), sigma=(0.1, 2.0)) to image of type <class 'torch.Tensor'>\n",
            "Applying ColorJitter(brightness=(0.8, 1.2), contrast=(0.8, 1.2), saturation=(0.8, 1.2), hue=(-0.1, 0.1)) to image of type <class 'torch.Tensor'>\n",
            "torch.Size([3, 3, 224, 224])\n"
          ]
        },
        {
          "output_type": "stream",
          "name": "stderr",
          "text": [
            "\r 11%|█         | 111/1000 [01:03<07:59,  1.85it/s]"
          ]
        },
        {
          "output_type": "stream",
          "name": "stdout",
          "text": [
            "image shape: torch.Size([1, 224, 224, 3])\n",
            "image shape: torch.Size([1, 224, 224, 3])\n",
            "image shape: torch.Size([1, 224, 224, 3])\n",
            "Applying ColorJitter(brightness=(0.8, 1.2), contrast=(0.8, 1.2), saturation=(0.8, 1.2), hue=(-0.1, 0.1)) to image of type <class 'torch.Tensor'>\n",
            "Applying RandomPerspective(p=0.8) to image of type <class 'torch.Tensor'>\n",
            "torch.Size([3, 3, 224, 224])\n",
            "Applying GaussianBlur(kernel_size=(5, 5), sigma=(0.1, 2.0)) to image of type <class 'torch.Tensor'>\n",
            "Applying RandomPerspective(p=0.8) to image of type <class 'torch.Tensor'>\n",
            "torch.Size([3, 3, 224, 224])\n",
            "Applying GaussianBlur(kernel_size=(5, 5), sigma=(0.1, 2.0)) to image of type <class 'torch.Tensor'>\n",
            "Applying RandomResizedCrop(size=(224, 224), scale=(1, 1), ratio=(0.75, 1.3333), interpolation=bilinear, antialias=True) to image of type <class 'torch.Tensor'>\n",
            "torch.Size([3, 3, 224, 224])\n",
            "Applying GaussianBlur(kernel_size=(5, 5), sigma=(0.1, 2.0)) to image of type <class 'torch.Tensor'>\n",
            "Applying ColorJitter(brightness=(0.8, 1.2), contrast=(0.8, 1.2), saturation=(0.8, 1.2), hue=(-0.1, 0.1)) to image of type <class 'torch.Tensor'>\n",
            "torch.Size([3, 3, 224, 224])\n"
          ]
        },
        {
          "output_type": "stream",
          "name": "stderr",
          "text": [
            "\r 11%|█         | 112/1000 [01:03<07:59,  1.85it/s]"
          ]
        },
        {
          "output_type": "stream",
          "name": "stdout",
          "text": [
            "image shape: torch.Size([1, 224, 224, 3])\n",
            "image shape: torch.Size([1, 224, 224, 3])\n",
            "image shape: torch.Size([1, 224, 224, 3])\n",
            "Applying GaussianBlur(kernel_size=(5, 5), sigma=(0.1, 2.0)) to image of type <class 'torch.Tensor'>\n",
            "Applying ColorJitter(brightness=(0.8, 1.2), contrast=(0.8, 1.2), saturation=(0.8, 1.2), hue=(-0.1, 0.1)) to image of type <class 'torch.Tensor'>\n",
            "torch.Size([3, 3, 224, 224])\n",
            "Applying RandomPerspective(p=0.8) to image of type <class 'torch.Tensor'>\n",
            "Applying GaussianBlur(kernel_size=(5, 5), sigma=(0.1, 2.0)) to image of type <class 'torch.Tensor'>\n",
            "torch.Size([3, 3, 224, 224])\n",
            "Applying RandomResizedCrop(size=(224, 224), scale=(1, 1), ratio=(0.75, 1.3333), interpolation=bilinear, antialias=True) to image of type <class 'torch.Tensor'>\n",
            "Applying GaussianBlur(kernel_size=(5, 5), sigma=(0.1, 2.0)) to image of type <class 'torch.Tensor'>\n",
            "torch.Size([3, 3, 224, 224])\n",
            "Applying RandomPerspective(p=0.8) to image of type <class 'torch.Tensor'>\n",
            "Applying ColorJitter(brightness=(0.8, 1.2), contrast=(0.8, 1.2), saturation=(0.8, 1.2), hue=(-0.1, 0.1)) to image of type <class 'torch.Tensor'>\n",
            "torch.Size([3, 3, 224, 224])\n"
          ]
        },
        {
          "output_type": "stream",
          "name": "stderr",
          "text": [
            "\r 11%|█▏        | 113/1000 [01:04<07:58,  1.85it/s]"
          ]
        },
        {
          "output_type": "stream",
          "name": "stdout",
          "text": [
            "image shape: torch.Size([1, 224, 224, 3])\n",
            "image shape: torch.Size([1, 224, 224, 3])\n",
            "image shape: torch.Size([1, 224, 224, 3])\n",
            "Applying GaussianBlur(kernel_size=(5, 5), sigma=(0.1, 2.0)) to image of type <class 'torch.Tensor'>\n",
            "Applying ColorJitter(brightness=(0.8, 1.2), contrast=(0.8, 1.2), saturation=(0.8, 1.2), hue=(-0.1, 0.1)) to image of type <class 'torch.Tensor'>\n",
            "torch.Size([3, 3, 224, 224])\n",
            "Applying GaussianBlur(kernel_size=(5, 5), sigma=(0.1, 2.0)) to image of type <class 'torch.Tensor'>\n",
            "Applying RandomPerspective(p=0.8) to image of type <class 'torch.Tensor'>\n",
            "torch.Size([3, 3, 224, 224])\n",
            "Applying RandomResizedCrop(size=(224, 224), scale=(1, 1), ratio=(0.75, 1.3333), interpolation=bilinear, antialias=True) to image of type <class 'torch.Tensor'>\n",
            "Applying ColorJitter(brightness=(0.8, 1.2), contrast=(0.8, 1.2), saturation=(0.8, 1.2), hue=(-0.1, 0.1)) to image of type <class 'torch.Tensor'>\n",
            "torch.Size([3, 3, 224, 224])\n",
            "Applying RandomResizedCrop(size=(224, 224), scale=(1, 1), ratio=(0.75, 1.3333), interpolation=bilinear, antialias=True) to image of type <class 'torch.Tensor'>\n",
            "Applying ColorJitter(brightness=(0.8, 1.2), contrast=(0.8, 1.2), saturation=(0.8, 1.2), hue=(-0.1, 0.1)) to image of type <class 'torch.Tensor'>\n",
            "torch.Size([3, 3, 224, 224])\n"
          ]
        },
        {
          "output_type": "stream",
          "name": "stderr",
          "text": [
            "\r 11%|█▏        | 114/1000 [01:04<07:58,  1.85it/s]"
          ]
        },
        {
          "output_type": "stream",
          "name": "stdout",
          "text": [
            "image shape: torch.Size([1, 224, 224, 3])\n",
            "image shape: torch.Size([1, 224, 224, 3])\n",
            "image shape: torch.Size([1, 224, 224, 3])\n",
            "Applying RandomPerspective(p=0.8) to image of type <class 'torch.Tensor'>\n",
            "Applying ColorJitter(brightness=(0.8, 1.2), contrast=(0.8, 1.2), saturation=(0.8, 1.2), hue=(-0.1, 0.1)) to image of type <class 'torch.Tensor'>\n",
            "torch.Size([3, 3, 224, 224])\n",
            "Applying RandomResizedCrop(size=(224, 224), scale=(1, 1), ratio=(0.75, 1.3333), interpolation=bilinear, antialias=True) to image of type <class 'torch.Tensor'>\n",
            "Applying ColorJitter(brightness=(0.8, 1.2), contrast=(0.8, 1.2), saturation=(0.8, 1.2), hue=(-0.1, 0.1)) to image of type <class 'torch.Tensor'>\n",
            "torch.Size([3, 3, 224, 224])\n",
            "Applying RandomResizedCrop(size=(224, 224), scale=(1, 1), ratio=(0.75, 1.3333), interpolation=bilinear, antialias=True) to image of type <class 'torch.Tensor'>\n",
            "Applying RandomPerspective(p=0.8) to image of type <class 'torch.Tensor'>\n",
            "torch.Size([3, 3, 224, 224])\n",
            "Applying GaussianBlur(kernel_size=(5, 5), sigma=(0.1, 2.0)) to image of type <class 'torch.Tensor'>\n",
            "Applying ColorJitter(brightness=(0.8, 1.2), contrast=(0.8, 1.2), saturation=(0.8, 1.2), hue=(-0.1, 0.1)) to image of type <class 'torch.Tensor'>\n",
            "torch.Size([3, 3, 224, 224])\n"
          ]
        },
        {
          "output_type": "stream",
          "name": "stderr",
          "text": [
            "\r 12%|█▏        | 115/1000 [01:05<07:58,  1.85it/s]"
          ]
        },
        {
          "output_type": "stream",
          "name": "stdout",
          "text": [
            "image shape: torch.Size([1, 224, 224, 3])\n",
            "image shape: torch.Size([1, 224, 224, 3])\n",
            "image shape: torch.Size([1, 224, 224, 3])\n",
            "Applying RandomResizedCrop(size=(224, 224), scale=(1, 1), ratio=(0.75, 1.3333), interpolation=bilinear, antialias=True) to image of type <class 'torch.Tensor'>\n",
            "Applying GaussianBlur(kernel_size=(5, 5), sigma=(0.1, 2.0)) to image of type <class 'torch.Tensor'>\n",
            "torch.Size([3, 3, 224, 224])\n",
            "Applying RandomPerspective(p=0.8) to image of type <class 'torch.Tensor'>\n",
            "Applying GaussianBlur(kernel_size=(5, 5), sigma=(0.1, 2.0)) to image of type <class 'torch.Tensor'>\n",
            "torch.Size([3, 3, 224, 224])\n",
            "Applying GaussianBlur(kernel_size=(5, 5), sigma=(0.1, 2.0)) to image of type <class 'torch.Tensor'>\n",
            "Applying RandomPerspective(p=0.8) to image of type <class 'torch.Tensor'>\n",
            "torch.Size([3, 3, 224, 224])\n",
            "Applying GaussianBlur(kernel_size=(5, 5), sigma=(0.1, 2.0)) to image of type <class 'torch.Tensor'>\n",
            "Applying RandomResizedCrop(size=(224, 224), scale=(1, 1), ratio=(0.75, 1.3333), interpolation=bilinear, antialias=True) to image of type <class 'torch.Tensor'>\n",
            "torch.Size([3, 3, 224, 224])\n"
          ]
        },
        {
          "output_type": "stream",
          "name": "stderr",
          "text": [
            "\r 12%|█▏        | 116/1000 [01:05<07:55,  1.86it/s]"
          ]
        },
        {
          "output_type": "stream",
          "name": "stdout",
          "text": [
            "image shape: torch.Size([1, 224, 224, 3])\n",
            "image shape: torch.Size([1, 224, 224, 3])\n",
            "image shape: torch.Size([1, 224, 224, 3])\n",
            "Applying ColorJitter(brightness=(0.8, 1.2), contrast=(0.8, 1.2), saturation=(0.8, 1.2), hue=(-0.1, 0.1)) to image of type <class 'torch.Tensor'>\n",
            "Applying GaussianBlur(kernel_size=(5, 5), sigma=(0.1, 2.0)) to image of type <class 'torch.Tensor'>\n",
            "torch.Size([3, 3, 224, 224])\n",
            "Applying ColorJitter(brightness=(0.8, 1.2), contrast=(0.8, 1.2), saturation=(0.8, 1.2), hue=(-0.1, 0.1)) to image of type <class 'torch.Tensor'>\n",
            "Applying GaussianBlur(kernel_size=(5, 5), sigma=(0.1, 2.0)) to image of type <class 'torch.Tensor'>\n",
            "torch.Size([3, 3, 224, 224])\n",
            "Applying GaussianBlur(kernel_size=(5, 5), sigma=(0.1, 2.0)) to image of type <class 'torch.Tensor'>\n",
            "Applying RandomPerspective(p=0.8) to image of type <class 'torch.Tensor'>\n",
            "torch.Size([3, 3, 224, 224])\n",
            "Applying GaussianBlur(kernel_size=(5, 5), sigma=(0.1, 2.0)) to image of type <class 'torch.Tensor'>\n",
            "Applying RandomResizedCrop(size=(224, 224), scale=(1, 1), ratio=(0.75, 1.3333), interpolation=bilinear, antialias=True) to image of type <class 'torch.Tensor'>\n",
            "torch.Size([3, 3, 224, 224])\n"
          ]
        },
        {
          "output_type": "stream",
          "name": "stderr",
          "text": [
            "\r 12%|█▏        | 117/1000 [01:06<07:56,  1.85it/s]"
          ]
        },
        {
          "output_type": "stream",
          "name": "stdout",
          "text": [
            "image shape: torch.Size([1, 224, 224, 3])\n",
            "image shape: torch.Size([1, 224, 224, 3])\n",
            "image shape: torch.Size([1, 224, 224, 3])\n",
            "Applying RandomResizedCrop(size=(224, 224), scale=(1, 1), ratio=(0.75, 1.3333), interpolation=bilinear, antialias=True) to image of type <class 'torch.Tensor'>\n",
            "Applying RandomPerspective(p=0.8) to image of type <class 'torch.Tensor'>\n",
            "torch.Size([3, 3, 224, 224])\n",
            "Applying ColorJitter(brightness=(0.8, 1.2), contrast=(0.8, 1.2), saturation=(0.8, 1.2), hue=(-0.1, 0.1)) to image of type <class 'torch.Tensor'>\n",
            "Applying RandomPerspective(p=0.8) to image of type <class 'torch.Tensor'>\n",
            "torch.Size([3, 3, 224, 224])\n",
            "Applying ColorJitter(brightness=(0.8, 1.2), contrast=(0.8, 1.2), saturation=(0.8, 1.2), hue=(-0.1, 0.1)) to image of type <class 'torch.Tensor'>\n",
            "Applying GaussianBlur(kernel_size=(5, 5), sigma=(0.1, 2.0)) to image of type <class 'torch.Tensor'>\n",
            "torch.Size([3, 3, 224, 224])\n",
            "Applying RandomResizedCrop(size=(224, 224), scale=(1, 1), ratio=(0.75, 1.3333), interpolation=bilinear, antialias=True) to image of type <class 'torch.Tensor'>\n",
            "Applying RandomPerspective(p=0.8) to image of type <class 'torch.Tensor'>\n",
            "torch.Size([3, 3, 224, 224])\n"
          ]
        },
        {
          "output_type": "stream",
          "name": "stderr",
          "text": [
            "\r 12%|█▏        | 118/1000 [01:06<07:56,  1.85it/s]"
          ]
        },
        {
          "output_type": "stream",
          "name": "stdout",
          "text": [
            "image shape: torch.Size([1, 224, 224, 3])\n",
            "image shape: torch.Size([1, 224, 224, 3])\n",
            "image shape: torch.Size([1, 224, 224, 3])\n",
            "Applying GaussianBlur(kernel_size=(5, 5), sigma=(0.1, 2.0)) to image of type <class 'torch.Tensor'>\n",
            "Applying RandomResizedCrop(size=(224, 224), scale=(1, 1), ratio=(0.75, 1.3333), interpolation=bilinear, antialias=True) to image of type <class 'torch.Tensor'>\n",
            "torch.Size([3, 3, 224, 224])\n",
            "Applying ColorJitter(brightness=(0.8, 1.2), contrast=(0.8, 1.2), saturation=(0.8, 1.2), hue=(-0.1, 0.1)) to image of type <class 'torch.Tensor'>\n",
            "Applying RandomResizedCrop(size=(224, 224), scale=(1, 1), ratio=(0.75, 1.3333), interpolation=bilinear, antialias=True) to image of type <class 'torch.Tensor'>\n",
            "torch.Size([3, 3, 224, 224])\n",
            "Applying GaussianBlur(kernel_size=(5, 5), sigma=(0.1, 2.0)) to image of type <class 'torch.Tensor'>\n",
            "Applying RandomResizedCrop(size=(224, 224), scale=(1, 1), ratio=(0.75, 1.3333), interpolation=bilinear, antialias=True) to image of type <class 'torch.Tensor'>\n",
            "torch.Size([3, 3, 224, 224])\n",
            "Applying ColorJitter(brightness=(0.8, 1.2), contrast=(0.8, 1.2), saturation=(0.8, 1.2), hue=(-0.1, 0.1)) to image of type <class 'torch.Tensor'>\n",
            "Applying GaussianBlur(kernel_size=(5, 5), sigma=(0.1, 2.0)) to image of type <class 'torch.Tensor'>\n",
            "torch.Size([3, 3, 224, 224])\n"
          ]
        },
        {
          "output_type": "stream",
          "name": "stderr",
          "text": [
            "\r 12%|█▏        | 119/1000 [01:07<07:59,  1.84it/s]"
          ]
        },
        {
          "output_type": "stream",
          "name": "stdout",
          "text": [
            "image shape: torch.Size([1, 224, 224, 3])\n",
            "image shape: torch.Size([1, 224, 224, 3])\n",
            "image shape: torch.Size([1, 224, 224, 3])\n",
            "Applying RandomPerspective(p=0.8) to image of type <class 'torch.Tensor'>\n",
            "Applying GaussianBlur(kernel_size=(5, 5), sigma=(0.1, 2.0)) to image of type <class 'torch.Tensor'>\n",
            "torch.Size([3, 3, 224, 224])\n",
            "Applying RandomPerspective(p=0.8) to image of type <class 'torch.Tensor'>\n",
            "Applying ColorJitter(brightness=(0.8, 1.2), contrast=(0.8, 1.2), saturation=(0.8, 1.2), hue=(-0.1, 0.1)) to image of type <class 'torch.Tensor'>\n",
            "torch.Size([3, 3, 224, 224])\n",
            "Applying GaussianBlur(kernel_size=(5, 5), sigma=(0.1, 2.0)) to image of type <class 'torch.Tensor'>\n",
            "Applying ColorJitter(brightness=(0.8, 1.2), contrast=(0.8, 1.2), saturation=(0.8, 1.2), hue=(-0.1, 0.1)) to image of type <class 'torch.Tensor'>\n",
            "torch.Size([3, 3, 224, 224])\n",
            "Applying ColorJitter(brightness=(0.8, 1.2), contrast=(0.8, 1.2), saturation=(0.8, 1.2), hue=(-0.1, 0.1)) to image of type <class 'torch.Tensor'>\n",
            "Applying GaussianBlur(kernel_size=(5, 5), sigma=(0.1, 2.0)) to image of type <class 'torch.Tensor'>\n",
            "torch.Size([3, 3, 224, 224])\n"
          ]
        },
        {
          "output_type": "stream",
          "name": "stderr",
          "text": [
            "\r 12%|█▏        | 120/1000 [01:08<08:02,  1.83it/s]"
          ]
        },
        {
          "output_type": "stream",
          "name": "stdout",
          "text": [
            "image shape: torch.Size([1, 224, 224, 3])\n",
            "image shape: torch.Size([1, 224, 224, 3])\n",
            "image shape: torch.Size([1, 224, 224, 3])\n",
            "Applying ColorJitter(brightness=(0.8, 1.2), contrast=(0.8, 1.2), saturation=(0.8, 1.2), hue=(-0.1, 0.1)) to image of type <class 'torch.Tensor'>\n",
            "Applying GaussianBlur(kernel_size=(5, 5), sigma=(0.1, 2.0)) to image of type <class 'torch.Tensor'>\n",
            "torch.Size([3, 3, 224, 224])\n",
            "Applying ColorJitter(brightness=(0.8, 1.2), contrast=(0.8, 1.2), saturation=(0.8, 1.2), hue=(-0.1, 0.1)) to image of type <class 'torch.Tensor'>\n",
            "Applying RandomPerspective(p=0.8) to image of type <class 'torch.Tensor'>\n",
            "torch.Size([3, 3, 224, 224])\n",
            "Applying ColorJitter(brightness=(0.8, 1.2), contrast=(0.8, 1.2), saturation=(0.8, 1.2), hue=(-0.1, 0.1)) to image of type <class 'torch.Tensor'>\n",
            "Applying RandomResizedCrop(size=(224, 224), scale=(1, 1), ratio=(0.75, 1.3333), interpolation=bilinear, antialias=True) to image of type <class 'torch.Tensor'>\n",
            "torch.Size([3, 3, 224, 224])\n",
            "Applying RandomPerspective(p=0.8) to image of type <class 'torch.Tensor'>\n",
            "Applying ColorJitter(brightness=(0.8, 1.2), contrast=(0.8, 1.2), saturation=(0.8, 1.2), hue=(-0.1, 0.1)) to image of type <class 'torch.Tensor'>\n",
            "torch.Size([3, 3, 224, 224])\n"
          ]
        },
        {
          "output_type": "stream",
          "name": "stderr",
          "text": [
            "\r 12%|█▏        | 121/1000 [01:08<08:08,  1.80it/s]"
          ]
        },
        {
          "output_type": "stream",
          "name": "stdout",
          "text": [
            "image shape: torch.Size([1, 224, 224, 3])\n",
            "image shape: torch.Size([1, 224, 224, 3])\n",
            "image shape: torch.Size([1, 224, 224, 3])\n",
            "Applying RandomPerspective(p=0.8) to image of type <class 'torch.Tensor'>\n",
            "Applying GaussianBlur(kernel_size=(5, 5), sigma=(0.1, 2.0)) to image of type <class 'torch.Tensor'>\n",
            "torch.Size([3, 3, 224, 224])\n",
            "Applying RandomPerspective(p=0.8) to image of type <class 'torch.Tensor'>\n",
            "Applying RandomResizedCrop(size=(224, 224), scale=(1, 1), ratio=(0.75, 1.3333), interpolation=bilinear, antialias=True) to image of type <class 'torch.Tensor'>\n",
            "torch.Size([3, 3, 224, 224])\n",
            "Applying RandomPerspective(p=0.8) to image of type <class 'torch.Tensor'>\n",
            "Applying GaussianBlur(kernel_size=(5, 5), sigma=(0.1, 2.0)) to image of type <class 'torch.Tensor'>\n",
            "torch.Size([3, 3, 224, 224])\n",
            "Applying RandomPerspective(p=0.8) to image of type <class 'torch.Tensor'>\n",
            "Applying GaussianBlur(kernel_size=(5, 5), sigma=(0.1, 2.0)) to image of type <class 'torch.Tensor'>\n",
            "torch.Size([3, 3, 224, 224])\n"
          ]
        },
        {
          "output_type": "stream",
          "name": "stderr",
          "text": [
            "\r 12%|█▏        | 122/1000 [01:09<08:09,  1.79it/s]"
          ]
        },
        {
          "output_type": "stream",
          "name": "stdout",
          "text": [
            "image shape: torch.Size([1, 224, 224, 3])\n",
            "image shape: torch.Size([1, 224, 224, 3])\n",
            "image shape: torch.Size([1, 224, 224, 3])\n",
            "Applying GaussianBlur(kernel_size=(5, 5), sigma=(0.1, 2.0)) to image of type <class 'torch.Tensor'>\n",
            "Applying RandomResizedCrop(size=(224, 224), scale=(1, 1), ratio=(0.75, 1.3333), interpolation=bilinear, antialias=True) to image of type <class 'torch.Tensor'>\n",
            "torch.Size([3, 3, 224, 224])\n",
            "Applying GaussianBlur(kernel_size=(5, 5), sigma=(0.1, 2.0)) to image of type <class 'torch.Tensor'>\n",
            "Applying RandomPerspective(p=0.8) to image of type <class 'torch.Tensor'>\n",
            "torch.Size([3, 3, 224, 224])\n",
            "Applying GaussianBlur(kernel_size=(5, 5), sigma=(0.1, 2.0)) to image of type <class 'torch.Tensor'>\n",
            "Applying ColorJitter(brightness=(0.8, 1.2), contrast=(0.8, 1.2), saturation=(0.8, 1.2), hue=(-0.1, 0.1)) to image of type <class 'torch.Tensor'>\n",
            "torch.Size([3, 3, 224, 224])\n",
            "Applying RandomPerspective(p=0.8) to image of type <class 'torch.Tensor'>\n",
            "Applying GaussianBlur(kernel_size=(5, 5), sigma=(0.1, 2.0)) to image of type <class 'torch.Tensor'>\n",
            "torch.Size([3, 3, 224, 224])\n"
          ]
        },
        {
          "output_type": "stream",
          "name": "stderr",
          "text": [
            "\r 12%|█▏        | 123/1000 [01:09<08:11,  1.78it/s]"
          ]
        },
        {
          "output_type": "stream",
          "name": "stdout",
          "text": [
            "image shape: torch.Size([1, 224, 224, 3])\n",
            "image shape: torch.Size([1, 224, 224, 3])\n",
            "image shape: torch.Size([1, 224, 224, 3])\n",
            "Applying GaussianBlur(kernel_size=(5, 5), sigma=(0.1, 2.0)) to image of type <class 'torch.Tensor'>\n",
            "Applying ColorJitter(brightness=(0.8, 1.2), contrast=(0.8, 1.2), saturation=(0.8, 1.2), hue=(-0.1, 0.1)) to image of type <class 'torch.Tensor'>\n",
            "torch.Size([3, 3, 224, 224])\n",
            "Applying RandomPerspective(p=0.8) to image of type <class 'torch.Tensor'>\n",
            "Applying RandomResizedCrop(size=(224, 224), scale=(1, 1), ratio=(0.75, 1.3333), interpolation=bilinear, antialias=True) to image of type <class 'torch.Tensor'>\n",
            "torch.Size([3, 3, 224, 224])\n",
            "Applying ColorJitter(brightness=(0.8, 1.2), contrast=(0.8, 1.2), saturation=(0.8, 1.2), hue=(-0.1, 0.1)) to image of type <class 'torch.Tensor'>\n",
            "Applying RandomPerspective(p=0.8) to image of type <class 'torch.Tensor'>\n",
            "torch.Size([3, 3, 224, 224])\n",
            "Applying GaussianBlur(kernel_size=(5, 5), sigma=(0.1, 2.0)) to image of type <class 'torch.Tensor'>\n",
            "Applying RandomResizedCrop(size=(224, 224), scale=(1, 1), ratio=(0.75, 1.3333), interpolation=bilinear, antialias=True) to image of type <class 'torch.Tensor'>\n",
            "torch.Size([3, 3, 224, 224])\n"
          ]
        },
        {
          "output_type": "stream",
          "name": "stderr",
          "text": [
            "\r 12%|█▏        | 124/1000 [01:10<08:17,  1.76it/s]"
          ]
        },
        {
          "output_type": "stream",
          "name": "stdout",
          "text": [
            "image shape: torch.Size([1, 224, 224, 3])\n",
            "image shape: torch.Size([1, 224, 224, 3])\n",
            "image shape: torch.Size([1, 224, 224, 3])\n",
            "Applying GaussianBlur(kernel_size=(5, 5), sigma=(0.1, 2.0)) to image of type <class 'torch.Tensor'>\n",
            "Applying RandomResizedCrop(size=(224, 224), scale=(1, 1), ratio=(0.75, 1.3333), interpolation=bilinear, antialias=True) to image of type <class 'torch.Tensor'>\n",
            "torch.Size([3, 3, 224, 224])\n",
            "Applying RandomPerspective(p=0.8) to image of type <class 'torch.Tensor'>\n",
            "Applying GaussianBlur(kernel_size=(5, 5), sigma=(0.1, 2.0)) to image of type <class 'torch.Tensor'>\n",
            "torch.Size([3, 3, 224, 224])\n",
            "Applying GaussianBlur(kernel_size=(5, 5), sigma=(0.1, 2.0)) to image of type <class 'torch.Tensor'>\n",
            "Applying RandomPerspective(p=0.8) to image of type <class 'torch.Tensor'>\n",
            "torch.Size([3, 3, 224, 224])\n",
            "Applying GaussianBlur(kernel_size=(5, 5), sigma=(0.1, 2.0)) to image of type <class 'torch.Tensor'>\n",
            "Applying ColorJitter(brightness=(0.8, 1.2), contrast=(0.8, 1.2), saturation=(0.8, 1.2), hue=(-0.1, 0.1)) to image of type <class 'torch.Tensor'>\n",
            "torch.Size([3, 3, 224, 224])\n"
          ]
        },
        {
          "output_type": "stream",
          "name": "stderr",
          "text": [
            "\r 12%|█▎        | 125/1000 [01:10<08:09,  1.79it/s]"
          ]
        },
        {
          "output_type": "stream",
          "name": "stdout",
          "text": [
            "image shape: torch.Size([1, 224, 224, 3])\n",
            "image shape: torch.Size([1, 224, 224, 3])\n",
            "image shape: torch.Size([1, 224, 224, 3])\n",
            "Applying ColorJitter(brightness=(0.8, 1.2), contrast=(0.8, 1.2), saturation=(0.8, 1.2), hue=(-0.1, 0.1)) to image of type <class 'torch.Tensor'>\n",
            "Applying GaussianBlur(kernel_size=(5, 5), sigma=(0.1, 2.0)) to image of type <class 'torch.Tensor'>\n",
            "torch.Size([3, 3, 224, 224])\n",
            "Applying RandomResizedCrop(size=(224, 224), scale=(1, 1), ratio=(0.75, 1.3333), interpolation=bilinear, antialias=True) to image of type <class 'torch.Tensor'>\n",
            "Applying GaussianBlur(kernel_size=(5, 5), sigma=(0.1, 2.0)) to image of type <class 'torch.Tensor'>\n",
            "torch.Size([3, 3, 224, 224])\n",
            "Applying RandomPerspective(p=0.8) to image of type <class 'torch.Tensor'>\n",
            "Applying RandomResizedCrop(size=(224, 224), scale=(1, 1), ratio=(0.75, 1.3333), interpolation=bilinear, antialias=True) to image of type <class 'torch.Tensor'>\n",
            "torch.Size([3, 3, 224, 224])\n",
            "Applying GaussianBlur(kernel_size=(5, 5), sigma=(0.1, 2.0)) to image of type <class 'torch.Tensor'>\n",
            "Applying RandomResizedCrop(size=(224, 224), scale=(1, 1), ratio=(0.75, 1.3333), interpolation=bilinear, antialias=True) to image of type <class 'torch.Tensor'>\n",
            "torch.Size([3, 3, 224, 224])\n"
          ]
        },
        {
          "output_type": "stream",
          "name": "stderr",
          "text": [
            "\r 13%|█▎        | 126/1000 [01:11<08:03,  1.81it/s]"
          ]
        },
        {
          "output_type": "stream",
          "name": "stdout",
          "text": [
            "image shape: torch.Size([1, 224, 224, 3])\n",
            "image shape: torch.Size([1, 224, 224, 3])\n",
            "image shape: torch.Size([1, 224, 224, 3])\n",
            "Applying GaussianBlur(kernel_size=(5, 5), sigma=(0.1, 2.0)) to image of type <class 'torch.Tensor'>\n",
            "Applying RandomResizedCrop(size=(224, 224), scale=(1, 1), ratio=(0.75, 1.3333), interpolation=bilinear, antialias=True) to image of type <class 'torch.Tensor'>\n",
            "torch.Size([3, 3, 224, 224])\n",
            "Applying ColorJitter(brightness=(0.8, 1.2), contrast=(0.8, 1.2), saturation=(0.8, 1.2), hue=(-0.1, 0.1)) to image of type <class 'torch.Tensor'>\n",
            "Applying GaussianBlur(kernel_size=(5, 5), sigma=(0.1, 2.0)) to image of type <class 'torch.Tensor'>\n",
            "torch.Size([3, 3, 224, 224])\n",
            "Applying ColorJitter(brightness=(0.8, 1.2), contrast=(0.8, 1.2), saturation=(0.8, 1.2), hue=(-0.1, 0.1)) to image of type <class 'torch.Tensor'>\n",
            "Applying RandomResizedCrop(size=(224, 224), scale=(1, 1), ratio=(0.75, 1.3333), interpolation=bilinear, antialias=True) to image of type <class 'torch.Tensor'>\n",
            "torch.Size([3, 3, 224, 224])\n",
            "Applying GaussianBlur(kernel_size=(5, 5), sigma=(0.1, 2.0)) to image of type <class 'torch.Tensor'>\n",
            "Applying ColorJitter(brightness=(0.8, 1.2), contrast=(0.8, 1.2), saturation=(0.8, 1.2), hue=(-0.1, 0.1)) to image of type <class 'torch.Tensor'>\n",
            "torch.Size([3, 3, 224, 224])\n"
          ]
        },
        {
          "output_type": "stream",
          "name": "stderr",
          "text": [
            "\r 13%|█▎        | 127/1000 [01:11<08:00,  1.82it/s]"
          ]
        },
        {
          "output_type": "stream",
          "name": "stdout",
          "text": [
            "image shape: torch.Size([1, 224, 224, 3])\n",
            "image shape: torch.Size([1, 224, 224, 3])\n",
            "image shape: torch.Size([1, 224, 224, 3])\n",
            "Applying RandomPerspective(p=0.8) to image of type <class 'torch.Tensor'>\n",
            "Applying GaussianBlur(kernel_size=(5, 5), sigma=(0.1, 2.0)) to image of type <class 'torch.Tensor'>\n",
            "torch.Size([3, 3, 224, 224])\n",
            "Applying GaussianBlur(kernel_size=(5, 5), sigma=(0.1, 2.0)) to image of type <class 'torch.Tensor'>\n",
            "Applying RandomPerspective(p=0.8) to image of type <class 'torch.Tensor'>\n",
            "torch.Size([3, 3, 224, 224])\n",
            "Applying RandomResizedCrop(size=(224, 224), scale=(1, 1), ratio=(0.75, 1.3333), interpolation=bilinear, antialias=True) to image of type <class 'torch.Tensor'>\n",
            "Applying ColorJitter(brightness=(0.8, 1.2), contrast=(0.8, 1.2), saturation=(0.8, 1.2), hue=(-0.1, 0.1)) to image of type <class 'torch.Tensor'>\n",
            "torch.Size([3, 3, 224, 224])\n",
            "Applying GaussianBlur(kernel_size=(5, 5), sigma=(0.1, 2.0)) to image of type <class 'torch.Tensor'>\n",
            "Applying ColorJitter(brightness=(0.8, 1.2), contrast=(0.8, 1.2), saturation=(0.8, 1.2), hue=(-0.1, 0.1)) to image of type <class 'torch.Tensor'>\n",
            "torch.Size([3, 3, 224, 224])\n"
          ]
        },
        {
          "output_type": "stream",
          "name": "stderr",
          "text": [
            "\r 13%|█▎        | 128/1000 [01:12<07:58,  1.82it/s]"
          ]
        },
        {
          "output_type": "stream",
          "name": "stdout",
          "text": [
            "image shape: torch.Size([1, 224, 224, 3])\n",
            "image shape: torch.Size([1, 224, 224, 3])\n",
            "image shape: torch.Size([1, 224, 224, 3])\n",
            "Applying GaussianBlur(kernel_size=(5, 5), sigma=(0.1, 2.0)) to image of type <class 'torch.Tensor'>\n",
            "Applying RandomPerspective(p=0.8) to image of type <class 'torch.Tensor'>\n",
            "torch.Size([3, 3, 224, 224])\n",
            "Applying RandomResizedCrop(size=(224, 224), scale=(1, 1), ratio=(0.75, 1.3333), interpolation=bilinear, antialias=True) to image of type <class 'torch.Tensor'>\n",
            "Applying RandomPerspective(p=0.8) to image of type <class 'torch.Tensor'>\n",
            "torch.Size([3, 3, 224, 224])\n",
            "Applying RandomResizedCrop(size=(224, 224), scale=(1, 1), ratio=(0.75, 1.3333), interpolation=bilinear, antialias=True) to image of type <class 'torch.Tensor'>\n",
            "Applying GaussianBlur(kernel_size=(5, 5), sigma=(0.1, 2.0)) to image of type <class 'torch.Tensor'>\n",
            "torch.Size([3, 3, 224, 224])\n",
            "Applying RandomPerspective(p=0.8) to image of type <class 'torch.Tensor'>\n",
            "Applying RandomResizedCrop(size=(224, 224), scale=(1, 1), ratio=(0.75, 1.3333), interpolation=bilinear, antialias=True) to image of type <class 'torch.Tensor'>\n",
            "torch.Size([3, 3, 224, 224])\n"
          ]
        },
        {
          "output_type": "stream",
          "name": "stderr",
          "text": [
            "\r 13%|█▎        | 129/1000 [01:13<07:55,  1.83it/s]"
          ]
        },
        {
          "output_type": "stream",
          "name": "stdout",
          "text": [
            "image shape: torch.Size([1, 224, 224, 3])\n",
            "image shape: torch.Size([1, 224, 224, 3])\n",
            "image shape: torch.Size([1, 224, 224, 3])\n",
            "Applying RandomResizedCrop(size=(224, 224), scale=(1, 1), ratio=(0.75, 1.3333), interpolation=bilinear, antialias=True) to image of type <class 'torch.Tensor'>\n",
            "Applying ColorJitter(brightness=(0.8, 1.2), contrast=(0.8, 1.2), saturation=(0.8, 1.2), hue=(-0.1, 0.1)) to image of type <class 'torch.Tensor'>\n",
            "torch.Size([3, 3, 224, 224])\n",
            "Applying RandomResizedCrop(size=(224, 224), scale=(1, 1), ratio=(0.75, 1.3333), interpolation=bilinear, antialias=True) to image of type <class 'torch.Tensor'>\n",
            "Applying RandomPerspective(p=0.8) to image of type <class 'torch.Tensor'>\n",
            "torch.Size([3, 3, 224, 224])\n",
            "Applying RandomResizedCrop(size=(224, 224), scale=(1, 1), ratio=(0.75, 1.3333), interpolation=bilinear, antialias=True) to image of type <class 'torch.Tensor'>\n",
            "Applying ColorJitter(brightness=(0.8, 1.2), contrast=(0.8, 1.2), saturation=(0.8, 1.2), hue=(-0.1, 0.1)) to image of type <class 'torch.Tensor'>\n",
            "torch.Size([3, 3, 224, 224])\n",
            "Applying ColorJitter(brightness=(0.8, 1.2), contrast=(0.8, 1.2), saturation=(0.8, 1.2), hue=(-0.1, 0.1)) to image of type <class 'torch.Tensor'>\n",
            "Applying RandomPerspective(p=0.8) to image of type <class 'torch.Tensor'>\n",
            "torch.Size([3, 3, 224, 224])\n"
          ]
        },
        {
          "output_type": "stream",
          "name": "stderr",
          "text": [
            "\r 13%|█▎        | 130/1000 [01:13<07:56,  1.83it/s]"
          ]
        },
        {
          "output_type": "stream",
          "name": "stdout",
          "text": [
            "image shape: torch.Size([1, 224, 224, 3])\n",
            "image shape: torch.Size([1, 224, 224, 3])\n",
            "image shape: torch.Size([1, 224, 224, 3])\n",
            "Applying RandomPerspective(p=0.8) to image of type <class 'torch.Tensor'>\n",
            "Applying RandomResizedCrop(size=(224, 224), scale=(1, 1), ratio=(0.75, 1.3333), interpolation=bilinear, antialias=True) to image of type <class 'torch.Tensor'>\n",
            "torch.Size([3, 3, 224, 224])\n",
            "Applying RandomResizedCrop(size=(224, 224), scale=(1, 1), ratio=(0.75, 1.3333), interpolation=bilinear, antialias=True) to image of type <class 'torch.Tensor'>\n",
            "Applying ColorJitter(brightness=(0.8, 1.2), contrast=(0.8, 1.2), saturation=(0.8, 1.2), hue=(-0.1, 0.1)) to image of type <class 'torch.Tensor'>\n",
            "torch.Size([3, 3, 224, 224])\n",
            "Applying RandomResizedCrop(size=(224, 224), scale=(1, 1), ratio=(0.75, 1.3333), interpolation=bilinear, antialias=True) to image of type <class 'torch.Tensor'>\n",
            "Applying ColorJitter(brightness=(0.8, 1.2), contrast=(0.8, 1.2), saturation=(0.8, 1.2), hue=(-0.1, 0.1)) to image of type <class 'torch.Tensor'>\n",
            "torch.Size([3, 3, 224, 224])\n",
            "Applying RandomPerspective(p=0.8) to image of type <class 'torch.Tensor'>\n",
            "Applying ColorJitter(brightness=(0.8, 1.2), contrast=(0.8, 1.2), saturation=(0.8, 1.2), hue=(-0.1, 0.1)) to image of type <class 'torch.Tensor'>\n",
            "torch.Size([3, 3, 224, 224])\n"
          ]
        },
        {
          "output_type": "stream",
          "name": "stderr",
          "text": [
            "\r 13%|█▎        | 131/1000 [01:14<07:55,  1.83it/s]"
          ]
        },
        {
          "output_type": "stream",
          "name": "stdout",
          "text": [
            "image shape: torch.Size([1, 224, 224, 3])\n",
            "image shape: torch.Size([1, 224, 224, 3])\n",
            "image shape: torch.Size([1, 224, 224, 3])\n",
            "Applying GaussianBlur(kernel_size=(5, 5), sigma=(0.1, 2.0)) to image of type <class 'torch.Tensor'>\n",
            "Applying RandomResizedCrop(size=(224, 224), scale=(1, 1), ratio=(0.75, 1.3333), interpolation=bilinear, antialias=True) to image of type <class 'torch.Tensor'>\n",
            "torch.Size([3, 3, 224, 224])\n",
            "Applying ColorJitter(brightness=(0.8, 1.2), contrast=(0.8, 1.2), saturation=(0.8, 1.2), hue=(-0.1, 0.1)) to image of type <class 'torch.Tensor'>\n",
            "Applying RandomPerspective(p=0.8) to image of type <class 'torch.Tensor'>\n",
            "torch.Size([3, 3, 224, 224])\n",
            "Applying GaussianBlur(kernel_size=(5, 5), sigma=(0.1, 2.0)) to image of type <class 'torch.Tensor'>\n",
            "Applying RandomPerspective(p=0.8) to image of type <class 'torch.Tensor'>\n",
            "torch.Size([3, 3, 224, 224])\n",
            "Applying ColorJitter(brightness=(0.8, 1.2), contrast=(0.8, 1.2), saturation=(0.8, 1.2), hue=(-0.1, 0.1)) to image of type <class 'torch.Tensor'>\n",
            "Applying RandomResizedCrop(size=(224, 224), scale=(1, 1), ratio=(0.75, 1.3333), interpolation=bilinear, antialias=True) to image of type <class 'torch.Tensor'>\n",
            "torch.Size([3, 3, 224, 224])\n"
          ]
        },
        {
          "output_type": "stream",
          "name": "stderr",
          "text": [
            "\r 13%|█▎        | 132/1000 [01:14<07:54,  1.83it/s]"
          ]
        },
        {
          "output_type": "stream",
          "name": "stdout",
          "text": [
            "image shape: torch.Size([1, 224, 224, 3])\n",
            "image shape: torch.Size([1, 224, 224, 3])\n",
            "image shape: torch.Size([1, 224, 224, 3])\n",
            "Applying ColorJitter(brightness=(0.8, 1.2), contrast=(0.8, 1.2), saturation=(0.8, 1.2), hue=(-0.1, 0.1)) to image of type <class 'torch.Tensor'>\n",
            "Applying RandomResizedCrop(size=(224, 224), scale=(1, 1), ratio=(0.75, 1.3333), interpolation=bilinear, antialias=True) to image of type <class 'torch.Tensor'>\n",
            "torch.Size([3, 3, 224, 224])\n",
            "Applying GaussianBlur(kernel_size=(5, 5), sigma=(0.1, 2.0)) to image of type <class 'torch.Tensor'>\n",
            "Applying RandomPerspective(p=0.8) to image of type <class 'torch.Tensor'>\n",
            "torch.Size([3, 3, 224, 224])\n",
            "Applying ColorJitter(brightness=(0.8, 1.2), contrast=(0.8, 1.2), saturation=(0.8, 1.2), hue=(-0.1, 0.1)) to image of type <class 'torch.Tensor'>\n",
            "Applying GaussianBlur(kernel_size=(5, 5), sigma=(0.1, 2.0)) to image of type <class 'torch.Tensor'>\n",
            "torch.Size([3, 3, 224, 224])\n",
            "Applying ColorJitter(brightness=(0.8, 1.2), contrast=(0.8, 1.2), saturation=(0.8, 1.2), hue=(-0.1, 0.1)) to image of type <class 'torch.Tensor'>\n",
            "Applying RandomResizedCrop(size=(224, 224), scale=(1, 1), ratio=(0.75, 1.3333), interpolation=bilinear, antialias=True) to image of type <class 'torch.Tensor'>\n",
            "torch.Size([3, 3, 224, 224])\n"
          ]
        },
        {
          "output_type": "stream",
          "name": "stderr",
          "text": [
            "\r 13%|█▎        | 133/1000 [01:15<08:07,  1.78it/s]"
          ]
        },
        {
          "output_type": "stream",
          "name": "stdout",
          "text": [
            "image shape: torch.Size([1, 224, 224, 3])\n",
            "image shape: torch.Size([1, 224, 224, 3])\n",
            "image shape: torch.Size([1, 224, 224, 3])\n",
            "Applying GaussianBlur(kernel_size=(5, 5), sigma=(0.1, 2.0)) to image of type <class 'torch.Tensor'>\n",
            "Applying RandomPerspective(p=0.8) to image of type <class 'torch.Tensor'>\n",
            "torch.Size([3, 3, 224, 224])\n",
            "Applying RandomPerspective(p=0.8) to image of type <class 'torch.Tensor'>\n",
            "Applying ColorJitter(brightness=(0.8, 1.2), contrast=(0.8, 1.2), saturation=(0.8, 1.2), hue=(-0.1, 0.1)) to image of type <class 'torch.Tensor'>\n",
            "torch.Size([3, 3, 224, 224])\n",
            "Applying RandomPerspective(p=0.8) to image of type <class 'torch.Tensor'>\n",
            "Applying GaussianBlur(kernel_size=(5, 5), sigma=(0.1, 2.0)) to image of type <class 'torch.Tensor'>\n",
            "torch.Size([3, 3, 224, 224])\n",
            "Applying RandomResizedCrop(size=(224, 224), scale=(1, 1), ratio=(0.75, 1.3333), interpolation=bilinear, antialias=True) to image of type <class 'torch.Tensor'>\n",
            "Applying ColorJitter(brightness=(0.8, 1.2), contrast=(0.8, 1.2), saturation=(0.8, 1.2), hue=(-0.1, 0.1)) to image of type <class 'torch.Tensor'>\n",
            "torch.Size([3, 3, 224, 224])\n"
          ]
        },
        {
          "output_type": "stream",
          "name": "stderr",
          "text": [
            "\r 13%|█▎        | 134/1000 [01:15<08:12,  1.76it/s]"
          ]
        },
        {
          "output_type": "stream",
          "name": "stdout",
          "text": [
            "image shape: torch.Size([1, 224, 224, 3])\n",
            "image shape: torch.Size([1, 224, 224, 3])\n",
            "image shape: torch.Size([1, 224, 224, 3])\n",
            "Applying RandomPerspective(p=0.8) to image of type <class 'torch.Tensor'>\n",
            "Applying GaussianBlur(kernel_size=(5, 5), sigma=(0.1, 2.0)) to image of type <class 'torch.Tensor'>\n",
            "torch.Size([3, 3, 224, 224])\n",
            "Applying ColorJitter(brightness=(0.8, 1.2), contrast=(0.8, 1.2), saturation=(0.8, 1.2), hue=(-0.1, 0.1)) to image of type <class 'torch.Tensor'>\n",
            "Applying RandomResizedCrop(size=(224, 224), scale=(1, 1), ratio=(0.75, 1.3333), interpolation=bilinear, antialias=True) to image of type <class 'torch.Tensor'>\n",
            "torch.Size([3, 3, 224, 224])\n",
            "Applying GaussianBlur(kernel_size=(5, 5), sigma=(0.1, 2.0)) to image of type <class 'torch.Tensor'>\n",
            "Applying ColorJitter(brightness=(0.8, 1.2), contrast=(0.8, 1.2), saturation=(0.8, 1.2), hue=(-0.1, 0.1)) to image of type <class 'torch.Tensor'>\n",
            "torch.Size([3, 3, 224, 224])\n",
            "Applying RandomPerspective(p=0.8) to image of type <class 'torch.Tensor'>\n",
            "Applying GaussianBlur(kernel_size=(5, 5), sigma=(0.1, 2.0)) to image of type <class 'torch.Tensor'>\n",
            "torch.Size([3, 3, 224, 224])\n"
          ]
        },
        {
          "output_type": "stream",
          "name": "stderr",
          "text": [
            "\r 14%|█▎        | 135/1000 [01:16<08:06,  1.78it/s]"
          ]
        },
        {
          "output_type": "stream",
          "name": "stdout",
          "text": [
            "image shape: torch.Size([1, 224, 224, 3])\n",
            "image shape: torch.Size([1, 224, 224, 3])\n",
            "image shape: torch.Size([1, 224, 224, 3])\n",
            "Applying GaussianBlur(kernel_size=(5, 5), sigma=(0.1, 2.0)) to image of type <class 'torch.Tensor'>\n",
            "Applying RandomPerspective(p=0.8) to image of type <class 'torch.Tensor'>\n",
            "torch.Size([3, 3, 224, 224])\n",
            "Applying RandomPerspective(p=0.8) to image of type <class 'torch.Tensor'>\n",
            "Applying ColorJitter(brightness=(0.8, 1.2), contrast=(0.8, 1.2), saturation=(0.8, 1.2), hue=(-0.1, 0.1)) to image of type <class 'torch.Tensor'>\n",
            "torch.Size([3, 3, 224, 224])\n",
            "Applying RandomPerspective(p=0.8) to image of type <class 'torch.Tensor'>\n",
            "Applying RandomResizedCrop(size=(224, 224), scale=(1, 1), ratio=(0.75, 1.3333), interpolation=bilinear, antialias=True) to image of type <class 'torch.Tensor'>\n",
            "torch.Size([3, 3, 224, 224])\n",
            "Applying GaussianBlur(kernel_size=(5, 5), sigma=(0.1, 2.0)) to image of type <class 'torch.Tensor'>\n",
            "Applying ColorJitter(brightness=(0.8, 1.2), contrast=(0.8, 1.2), saturation=(0.8, 1.2), hue=(-0.1, 0.1)) to image of type <class 'torch.Tensor'>\n",
            "torch.Size([3, 3, 224, 224])\n"
          ]
        },
        {
          "output_type": "stream",
          "name": "stderr",
          "text": [
            "\r 14%|█▎        | 136/1000 [01:16<08:00,  1.80it/s]"
          ]
        },
        {
          "output_type": "stream",
          "name": "stdout",
          "text": [
            "image shape: torch.Size([1, 224, 224, 3])\n",
            "image shape: torch.Size([1, 224, 224, 3])\n",
            "image shape: torch.Size([1, 224, 224, 3])\n",
            "Applying RandomResizedCrop(size=(224, 224), scale=(1, 1), ratio=(0.75, 1.3333), interpolation=bilinear, antialias=True) to image of type <class 'torch.Tensor'>\n",
            "Applying GaussianBlur(kernel_size=(5, 5), sigma=(0.1, 2.0)) to image of type <class 'torch.Tensor'>\n",
            "torch.Size([3, 3, 224, 224])\n",
            "Applying GaussianBlur(kernel_size=(5, 5), sigma=(0.1, 2.0)) to image of type <class 'torch.Tensor'>\n",
            "Applying RandomPerspective(p=0.8) to image of type <class 'torch.Tensor'>\n",
            "torch.Size([3, 3, 224, 224])\n",
            "Applying RandomPerspective(p=0.8) to image of type <class 'torch.Tensor'>\n",
            "Applying GaussianBlur(kernel_size=(5, 5), sigma=(0.1, 2.0)) to image of type <class 'torch.Tensor'>\n",
            "torch.Size([3, 3, 224, 224])\n",
            "Applying RandomPerspective(p=0.8) to image of type <class 'torch.Tensor'>\n",
            "Applying GaussianBlur(kernel_size=(5, 5), sigma=(0.1, 2.0)) to image of type <class 'torch.Tensor'>\n",
            "torch.Size([3, 3, 224, 224])\n"
          ]
        },
        {
          "output_type": "stream",
          "name": "stderr",
          "text": [
            "\r 14%|█▎        | 137/1000 [01:17<07:56,  1.81it/s]"
          ]
        },
        {
          "output_type": "stream",
          "name": "stdout",
          "text": [
            "image shape: torch.Size([1, 224, 224, 3])\n",
            "image shape: torch.Size([1, 224, 224, 3])\n",
            "image shape: torch.Size([1, 224, 224, 3])\n",
            "Applying RandomPerspective(p=0.8) to image of type <class 'torch.Tensor'>\n",
            "Applying RandomResizedCrop(size=(224, 224), scale=(1, 1), ratio=(0.75, 1.3333), interpolation=bilinear, antialias=True) to image of type <class 'torch.Tensor'>\n",
            "torch.Size([3, 3, 224, 224])\n",
            "Applying GaussianBlur(kernel_size=(5, 5), sigma=(0.1, 2.0)) to image of type <class 'torch.Tensor'>\n",
            "Applying ColorJitter(brightness=(0.8, 1.2), contrast=(0.8, 1.2), saturation=(0.8, 1.2), hue=(-0.1, 0.1)) to image of type <class 'torch.Tensor'>\n",
            "torch.Size([3, 3, 224, 224])\n",
            "Applying RandomResizedCrop(size=(224, 224), scale=(1, 1), ratio=(0.75, 1.3333), interpolation=bilinear, antialias=True) to image of type <class 'torch.Tensor'>\n",
            "Applying RandomPerspective(p=0.8) to image of type <class 'torch.Tensor'>\n",
            "torch.Size([3, 3, 224, 224])\n",
            "Applying RandomResizedCrop(size=(224, 224), scale=(1, 1), ratio=(0.75, 1.3333), interpolation=bilinear, antialias=True) to image of type <class 'torch.Tensor'>\n",
            "Applying RandomPerspective(p=0.8) to image of type <class 'torch.Tensor'>\n",
            "torch.Size([3, 3, 224, 224])\n"
          ]
        },
        {
          "output_type": "stream",
          "name": "stderr",
          "text": [
            "\r 14%|█▍        | 138/1000 [01:18<07:53,  1.82it/s]"
          ]
        },
        {
          "output_type": "stream",
          "name": "stdout",
          "text": [
            "image shape: torch.Size([1, 224, 224, 3])\n",
            "image shape: torch.Size([1, 224, 224, 3])\n",
            "image shape: torch.Size([1, 224, 224, 3])\n",
            "Applying GaussianBlur(kernel_size=(5, 5), sigma=(0.1, 2.0)) to image of type <class 'torch.Tensor'>\n",
            "Applying ColorJitter(brightness=(0.8, 1.2), contrast=(0.8, 1.2), saturation=(0.8, 1.2), hue=(-0.1, 0.1)) to image of type <class 'torch.Tensor'>\n",
            "torch.Size([3, 3, 224, 224])\n",
            "Applying ColorJitter(brightness=(0.8, 1.2), contrast=(0.8, 1.2), saturation=(0.8, 1.2), hue=(-0.1, 0.1)) to image of type <class 'torch.Tensor'>\n",
            "Applying RandomPerspective(p=0.8) to image of type <class 'torch.Tensor'>\n",
            "torch.Size([3, 3, 224, 224])\n",
            "Applying RandomPerspective(p=0.8) to image of type <class 'torch.Tensor'>\n",
            "Applying RandomResizedCrop(size=(224, 224), scale=(1, 1), ratio=(0.75, 1.3333), interpolation=bilinear, antialias=True) to image of type <class 'torch.Tensor'>\n",
            "torch.Size([3, 3, 224, 224])\n",
            "Applying ColorJitter(brightness=(0.8, 1.2), contrast=(0.8, 1.2), saturation=(0.8, 1.2), hue=(-0.1, 0.1)) to image of type <class 'torch.Tensor'>\n",
            "Applying RandomPerspective(p=0.8) to image of type <class 'torch.Tensor'>\n",
            "torch.Size([3, 3, 224, 224])\n"
          ]
        },
        {
          "output_type": "stream",
          "name": "stderr",
          "text": [
            "\r 14%|█▍        | 139/1000 [01:18<07:57,  1.80it/s]"
          ]
        },
        {
          "output_type": "stream",
          "name": "stdout",
          "text": [
            "image shape: torch.Size([1, 224, 224, 3])\n",
            "image shape: torch.Size([1, 224, 224, 3])\n",
            "image shape: torch.Size([1, 224, 224, 3])\n",
            "Applying RandomPerspective(p=0.8) to image of type <class 'torch.Tensor'>\n",
            "Applying GaussianBlur(kernel_size=(5, 5), sigma=(0.1, 2.0)) to image of type <class 'torch.Tensor'>\n",
            "torch.Size([3, 3, 224, 224])\n",
            "Applying ColorJitter(brightness=(0.8, 1.2), contrast=(0.8, 1.2), saturation=(0.8, 1.2), hue=(-0.1, 0.1)) to image of type <class 'torch.Tensor'>\n",
            "Applying RandomPerspective(p=0.8) to image of type <class 'torch.Tensor'>\n",
            "torch.Size([3, 3, 224, 224])\n",
            "Applying RandomResizedCrop(size=(224, 224), scale=(1, 1), ratio=(0.75, 1.3333), interpolation=bilinear, antialias=True) to image of type <class 'torch.Tensor'>\n",
            "Applying RandomPerspective(p=0.8) to image of type <class 'torch.Tensor'>\n",
            "torch.Size([3, 3, 224, 224])\n",
            "Applying RandomResizedCrop(size=(224, 224), scale=(1, 1), ratio=(0.75, 1.3333), interpolation=bilinear, antialias=True) to image of type <class 'torch.Tensor'>\n",
            "Applying ColorJitter(brightness=(0.8, 1.2), contrast=(0.8, 1.2), saturation=(0.8, 1.2), hue=(-0.1, 0.1)) to image of type <class 'torch.Tensor'>\n",
            "torch.Size([3, 3, 224, 224])\n"
          ]
        },
        {
          "output_type": "stream",
          "name": "stderr",
          "text": [
            "\r 14%|█▍        | 140/1000 [01:19<07:55,  1.81it/s]"
          ]
        },
        {
          "output_type": "stream",
          "name": "stdout",
          "text": [
            "image shape: torch.Size([1, 224, 224, 3])\n",
            "image shape: torch.Size([1, 224, 224, 3])\n",
            "image shape: torch.Size([1, 224, 224, 3])\n",
            "Applying GaussianBlur(kernel_size=(5, 5), sigma=(0.1, 2.0)) to image of type <class 'torch.Tensor'>\n",
            "Applying RandomResizedCrop(size=(224, 224), scale=(1, 1), ratio=(0.75, 1.3333), interpolation=bilinear, antialias=True) to image of type <class 'torch.Tensor'>\n",
            "torch.Size([3, 3, 224, 224])\n",
            "Applying RandomPerspective(p=0.8) to image of type <class 'torch.Tensor'>\n",
            "Applying GaussianBlur(kernel_size=(5, 5), sigma=(0.1, 2.0)) to image of type <class 'torch.Tensor'>\n",
            "torch.Size([3, 3, 224, 224])\n",
            "Applying ColorJitter(brightness=(0.8, 1.2), contrast=(0.8, 1.2), saturation=(0.8, 1.2), hue=(-0.1, 0.1)) to image of type <class 'torch.Tensor'>\n",
            "Applying RandomResizedCrop(size=(224, 224), scale=(1, 1), ratio=(0.75, 1.3333), interpolation=bilinear, antialias=True) to image of type <class 'torch.Tensor'>\n",
            "torch.Size([3, 3, 224, 224])\n",
            "Applying RandomPerspective(p=0.8) to image of type <class 'torch.Tensor'>\n",
            "Applying ColorJitter(brightness=(0.8, 1.2), contrast=(0.8, 1.2), saturation=(0.8, 1.2), hue=(-0.1, 0.1)) to image of type <class 'torch.Tensor'>\n",
            "torch.Size([3, 3, 224, 224])\n"
          ]
        },
        {
          "output_type": "stream",
          "name": "stderr",
          "text": [
            "\r 14%|█▍        | 141/1000 [01:19<07:54,  1.81it/s]"
          ]
        },
        {
          "output_type": "stream",
          "name": "stdout",
          "text": [
            "image shape: torch.Size([1, 224, 224, 3])\n",
            "image shape: torch.Size([1, 224, 224, 3])\n",
            "image shape: torch.Size([1, 224, 224, 3])\n",
            "Applying GaussianBlur(kernel_size=(5, 5), sigma=(0.1, 2.0)) to image of type <class 'torch.Tensor'>\n",
            "Applying RandomResizedCrop(size=(224, 224), scale=(1, 1), ratio=(0.75, 1.3333), interpolation=bilinear, antialias=True) to image of type <class 'torch.Tensor'>\n",
            "torch.Size([3, 3, 224, 224])\n",
            "Applying ColorJitter(brightness=(0.8, 1.2), contrast=(0.8, 1.2), saturation=(0.8, 1.2), hue=(-0.1, 0.1)) to image of type <class 'torch.Tensor'>\n",
            "Applying RandomResizedCrop(size=(224, 224), scale=(1, 1), ratio=(0.75, 1.3333), interpolation=bilinear, antialias=True) to image of type <class 'torch.Tensor'>\n",
            "torch.Size([3, 3, 224, 224])\n",
            "Applying RandomPerspective(p=0.8) to image of type <class 'torch.Tensor'>\n",
            "Applying GaussianBlur(kernel_size=(5, 5), sigma=(0.1, 2.0)) to image of type <class 'torch.Tensor'>\n",
            "torch.Size([3, 3, 224, 224])\n",
            "Applying RandomPerspective(p=0.8) to image of type <class 'torch.Tensor'>\n",
            "Applying RandomResizedCrop(size=(224, 224), scale=(1, 1), ratio=(0.75, 1.3333), interpolation=bilinear, antialias=True) to image of type <class 'torch.Tensor'>\n",
            "torch.Size([3, 3, 224, 224])\n"
          ]
        },
        {
          "output_type": "stream",
          "name": "stderr",
          "text": [
            "\r 14%|█▍        | 142/1000 [01:20<07:51,  1.82it/s]"
          ]
        },
        {
          "output_type": "stream",
          "name": "stdout",
          "text": [
            "image shape: torch.Size([1, 224, 224, 3])\n",
            "image shape: torch.Size([1, 224, 224, 3])\n",
            "image shape: torch.Size([1, 224, 224, 3])\n",
            "Applying RandomPerspective(p=0.8) to image of type <class 'torch.Tensor'>\n",
            "Applying ColorJitter(brightness=(0.8, 1.2), contrast=(0.8, 1.2), saturation=(0.8, 1.2), hue=(-0.1, 0.1)) to image of type <class 'torch.Tensor'>\n",
            "torch.Size([3, 3, 224, 224])\n",
            "Applying RandomPerspective(p=0.8) to image of type <class 'torch.Tensor'>\n",
            "Applying GaussianBlur(kernel_size=(5, 5), sigma=(0.1, 2.0)) to image of type <class 'torch.Tensor'>\n",
            "torch.Size([3, 3, 224, 224])\n",
            "Applying RandomPerspective(p=0.8) to image of type <class 'torch.Tensor'>\n",
            "Applying RandomResizedCrop(size=(224, 224), scale=(1, 1), ratio=(0.75, 1.3333), interpolation=bilinear, antialias=True) to image of type <class 'torch.Tensor'>\n",
            "torch.Size([3, 3, 224, 224])\n",
            "Applying GaussianBlur(kernel_size=(5, 5), sigma=(0.1, 2.0)) to image of type <class 'torch.Tensor'>\n",
            "Applying RandomResizedCrop(size=(224, 224), scale=(1, 1), ratio=(0.75, 1.3333), interpolation=bilinear, antialias=True) to image of type <class 'torch.Tensor'>\n",
            "torch.Size([3, 3, 224, 224])\n"
          ]
        },
        {
          "output_type": "stream",
          "name": "stderr",
          "text": [
            "\r 14%|█▍        | 143/1000 [01:20<07:55,  1.80it/s]"
          ]
        },
        {
          "output_type": "stream",
          "name": "stdout",
          "text": [
            "image shape: torch.Size([1, 224, 224, 3])\n",
            "image shape: torch.Size([1, 224, 224, 3])\n",
            "image shape: torch.Size([1, 224, 224, 3])\n",
            "Applying ColorJitter(brightness=(0.8, 1.2), contrast=(0.8, 1.2), saturation=(0.8, 1.2), hue=(-0.1, 0.1)) to image of type <class 'torch.Tensor'>\n",
            "Applying RandomResizedCrop(size=(224, 224), scale=(1, 1), ratio=(0.75, 1.3333), interpolation=bilinear, antialias=True) to image of type <class 'torch.Tensor'>\n",
            "torch.Size([3, 3, 224, 224])\n",
            "Applying GaussianBlur(kernel_size=(5, 5), sigma=(0.1, 2.0)) to image of type <class 'torch.Tensor'>\n",
            "Applying RandomPerspective(p=0.8) to image of type <class 'torch.Tensor'>\n",
            "torch.Size([3, 3, 224, 224])\n",
            "Applying RandomPerspective(p=0.8) to image of type <class 'torch.Tensor'>\n",
            "Applying RandomResizedCrop(size=(224, 224), scale=(1, 1), ratio=(0.75, 1.3333), interpolation=bilinear, antialias=True) to image of type <class 'torch.Tensor'>\n",
            "torch.Size([3, 3, 224, 224])\n",
            "Applying GaussianBlur(kernel_size=(5, 5), sigma=(0.1, 2.0)) to image of type <class 'torch.Tensor'>\n",
            "Applying RandomResizedCrop(size=(224, 224), scale=(1, 1), ratio=(0.75, 1.3333), interpolation=bilinear, antialias=True) to image of type <class 'torch.Tensor'>\n",
            "torch.Size([3, 3, 224, 224])\n"
          ]
        },
        {
          "output_type": "stream",
          "name": "stderr",
          "text": [
            "\r 14%|█▍        | 144/1000 [01:21<07:56,  1.80it/s]"
          ]
        },
        {
          "output_type": "stream",
          "name": "stdout",
          "text": [
            "image shape: torch.Size([1, 224, 224, 3])\n",
            "image shape: torch.Size([1, 224, 224, 3])\n",
            "image shape: torch.Size([1, 224, 224, 3])\n",
            "Applying RandomPerspective(p=0.8) to image of type <class 'torch.Tensor'>\n",
            "Applying GaussianBlur(kernel_size=(5, 5), sigma=(0.1, 2.0)) to image of type <class 'torch.Tensor'>\n",
            "torch.Size([3, 3, 224, 224])\n",
            "Applying RandomResizedCrop(size=(224, 224), scale=(1, 1), ratio=(0.75, 1.3333), interpolation=bilinear, antialias=True) to image of type <class 'torch.Tensor'>\n",
            "Applying ColorJitter(brightness=(0.8, 1.2), contrast=(0.8, 1.2), saturation=(0.8, 1.2), hue=(-0.1, 0.1)) to image of type <class 'torch.Tensor'>\n",
            "torch.Size([3, 3, 224, 224])\n",
            "Applying RandomPerspective(p=0.8) to image of type <class 'torch.Tensor'>\n",
            "Applying GaussianBlur(kernel_size=(5, 5), sigma=(0.1, 2.0)) to image of type <class 'torch.Tensor'>\n",
            "torch.Size([3, 3, 224, 224])\n",
            "Applying RandomPerspective(p=0.8) to image of type <class 'torch.Tensor'>\n",
            "Applying GaussianBlur(kernel_size=(5, 5), sigma=(0.1, 2.0)) to image of type <class 'torch.Tensor'>\n",
            "torch.Size([3, 3, 224, 224])\n"
          ]
        },
        {
          "output_type": "stream",
          "name": "stderr",
          "text": [
            "\r 14%|█▍        | 145/1000 [01:21<08:00,  1.78it/s]"
          ]
        },
        {
          "output_type": "stream",
          "name": "stdout",
          "text": [
            "image shape: torch.Size([1, 224, 224, 3])\n",
            "image shape: torch.Size([1, 224, 224, 3])\n",
            "image shape: torch.Size([1, 224, 224, 3])\n",
            "Applying GaussianBlur(kernel_size=(5, 5), sigma=(0.1, 2.0)) to image of type <class 'torch.Tensor'>\n",
            "Applying RandomPerspective(p=0.8) to image of type <class 'torch.Tensor'>\n",
            "torch.Size([3, 3, 224, 224])\n",
            "Applying RandomPerspective(p=0.8) to image of type <class 'torch.Tensor'>\n",
            "Applying RandomResizedCrop(size=(224, 224), scale=(1, 1), ratio=(0.75, 1.3333), interpolation=bilinear, antialias=True) to image of type <class 'torch.Tensor'>\n",
            "torch.Size([3, 3, 224, 224])\n",
            "Applying ColorJitter(brightness=(0.8, 1.2), contrast=(0.8, 1.2), saturation=(0.8, 1.2), hue=(-0.1, 0.1)) to image of type <class 'torch.Tensor'>\n",
            "Applying GaussianBlur(kernel_size=(5, 5), sigma=(0.1, 2.0)) to image of type <class 'torch.Tensor'>\n",
            "torch.Size([3, 3, 224, 224])\n",
            "Applying RandomResizedCrop(size=(224, 224), scale=(1, 1), ratio=(0.75, 1.3333), interpolation=bilinear, antialias=True) to image of type <class 'torch.Tensor'>\n",
            "Applying RandomPerspective(p=0.8) to image of type <class 'torch.Tensor'>\n",
            "torch.Size([3, 3, 224, 224])\n"
          ]
        },
        {
          "output_type": "stream",
          "name": "stderr",
          "text": [
            "\r 15%|█▍        | 146/1000 [01:22<07:58,  1.79it/s]"
          ]
        },
        {
          "output_type": "stream",
          "name": "stdout",
          "text": [
            "image shape: torch.Size([1, 224, 224, 3])\n",
            "image shape: torch.Size([1, 224, 224, 3])\n",
            "image shape: torch.Size([1, 224, 224, 3])\n",
            "Applying RandomPerspective(p=0.8) to image of type <class 'torch.Tensor'>\n",
            "Applying GaussianBlur(kernel_size=(5, 5), sigma=(0.1, 2.0)) to image of type <class 'torch.Tensor'>\n",
            "torch.Size([3, 3, 224, 224])\n",
            "Applying ColorJitter(brightness=(0.8, 1.2), contrast=(0.8, 1.2), saturation=(0.8, 1.2), hue=(-0.1, 0.1)) to image of type <class 'torch.Tensor'>\n",
            "Applying RandomPerspective(p=0.8) to image of type <class 'torch.Tensor'>\n",
            "torch.Size([3, 3, 224, 224])\n",
            "Applying RandomResizedCrop(size=(224, 224), scale=(1, 1), ratio=(0.75, 1.3333), interpolation=bilinear, antialias=True) to image of type <class 'torch.Tensor'>\n",
            "Applying RandomPerspective(p=0.8) to image of type <class 'torch.Tensor'>\n",
            "torch.Size([3, 3, 224, 224])\n",
            "Applying GaussianBlur(kernel_size=(5, 5), sigma=(0.1, 2.0)) to image of type <class 'torch.Tensor'>\n",
            "Applying RandomPerspective(p=0.8) to image of type <class 'torch.Tensor'>\n",
            "torch.Size([3, 3, 224, 224])\n"
          ]
        },
        {
          "output_type": "stream",
          "name": "stderr",
          "text": [
            "\r 15%|█▍        | 147/1000 [01:23<07:58,  1.78it/s]"
          ]
        },
        {
          "output_type": "stream",
          "name": "stdout",
          "text": [
            "image shape: torch.Size([1, 224, 224, 3])\n",
            "image shape: torch.Size([1, 224, 224, 3])\n",
            "image shape: torch.Size([1, 224, 224, 3])\n",
            "Applying RandomPerspective(p=0.8) to image of type <class 'torch.Tensor'>\n",
            "Applying GaussianBlur(kernel_size=(5, 5), sigma=(0.1, 2.0)) to image of type <class 'torch.Tensor'>\n",
            "torch.Size([3, 3, 224, 224])\n",
            "Applying GaussianBlur(kernel_size=(5, 5), sigma=(0.1, 2.0)) to image of type <class 'torch.Tensor'>\n",
            "Applying RandomResizedCrop(size=(224, 224), scale=(1, 1), ratio=(0.75, 1.3333), interpolation=bilinear, antialias=True) to image of type <class 'torch.Tensor'>\n",
            "torch.Size([3, 3, 224, 224])\n",
            "Applying ColorJitter(brightness=(0.8, 1.2), contrast=(0.8, 1.2), saturation=(0.8, 1.2), hue=(-0.1, 0.1)) to image of type <class 'torch.Tensor'>\n",
            "Applying RandomResizedCrop(size=(224, 224), scale=(1, 1), ratio=(0.75, 1.3333), interpolation=bilinear, antialias=True) to image of type <class 'torch.Tensor'>\n",
            "torch.Size([3, 3, 224, 224])\n",
            "Applying RandomResizedCrop(size=(224, 224), scale=(1, 1), ratio=(0.75, 1.3333), interpolation=bilinear, antialias=True) to image of type <class 'torch.Tensor'>\n",
            "Applying ColorJitter(brightness=(0.8, 1.2), contrast=(0.8, 1.2), saturation=(0.8, 1.2), hue=(-0.1, 0.1)) to image of type <class 'torch.Tensor'>\n",
            "torch.Size([3, 3, 224, 224])\n"
          ]
        },
        {
          "output_type": "stream",
          "name": "stderr",
          "text": [
            "\r 15%|█▍        | 148/1000 [01:23<08:03,  1.76it/s]"
          ]
        },
        {
          "output_type": "stream",
          "name": "stdout",
          "text": [
            "image shape: torch.Size([1, 224, 224, 3])\n",
            "image shape: torch.Size([1, 224, 224, 3])\n",
            "image shape: torch.Size([1, 224, 224, 3])\n",
            "Applying GaussianBlur(kernel_size=(5, 5), sigma=(0.1, 2.0)) to image of type <class 'torch.Tensor'>\n",
            "Applying RandomResizedCrop(size=(224, 224), scale=(1, 1), ratio=(0.75, 1.3333), interpolation=bilinear, antialias=True) to image of type <class 'torch.Tensor'>\n",
            "torch.Size([3, 3, 224, 224])\n",
            "Applying RandomResizedCrop(size=(224, 224), scale=(1, 1), ratio=(0.75, 1.3333), interpolation=bilinear, antialias=True) to image of type <class 'torch.Tensor'>\n",
            "Applying GaussianBlur(kernel_size=(5, 5), sigma=(0.1, 2.0)) to image of type <class 'torch.Tensor'>\n",
            "torch.Size([3, 3, 224, 224])\n",
            "Applying ColorJitter(brightness=(0.8, 1.2), contrast=(0.8, 1.2), saturation=(0.8, 1.2), hue=(-0.1, 0.1)) to image of type <class 'torch.Tensor'>\n",
            "Applying GaussianBlur(kernel_size=(5, 5), sigma=(0.1, 2.0)) to image of type <class 'torch.Tensor'>\n",
            "torch.Size([3, 3, 224, 224])\n",
            "Applying GaussianBlur(kernel_size=(5, 5), sigma=(0.1, 2.0)) to image of type <class 'torch.Tensor'>\n",
            "Applying ColorJitter(brightness=(0.8, 1.2), contrast=(0.8, 1.2), saturation=(0.8, 1.2), hue=(-0.1, 0.1)) to image of type <class 'torch.Tensor'>\n",
            "torch.Size([3, 3, 224, 224])\n"
          ]
        },
        {
          "output_type": "stream",
          "name": "stderr",
          "text": [
            "\r 15%|█▍        | 149/1000 [01:24<08:05,  1.75it/s]"
          ]
        },
        {
          "output_type": "stream",
          "name": "stdout",
          "text": [
            "image shape: torch.Size([1, 224, 224, 3])\n",
            "image shape: torch.Size([1, 224, 224, 3])\n",
            "image shape: torch.Size([1, 224, 224, 3])\n",
            "Applying GaussianBlur(kernel_size=(5, 5), sigma=(0.1, 2.0)) to image of type <class 'torch.Tensor'>\n",
            "Applying RandomPerspective(p=0.8) to image of type <class 'torch.Tensor'>\n",
            "torch.Size([3, 3, 224, 224])\n",
            "Applying ColorJitter(brightness=(0.8, 1.2), contrast=(0.8, 1.2), saturation=(0.8, 1.2), hue=(-0.1, 0.1)) to image of type <class 'torch.Tensor'>\n",
            "Applying GaussianBlur(kernel_size=(5, 5), sigma=(0.1, 2.0)) to image of type <class 'torch.Tensor'>\n",
            "torch.Size([3, 3, 224, 224])\n",
            "Applying RandomResizedCrop(size=(224, 224), scale=(1, 1), ratio=(0.75, 1.3333), interpolation=bilinear, antialias=True) to image of type <class 'torch.Tensor'>\n",
            "Applying ColorJitter(brightness=(0.8, 1.2), contrast=(0.8, 1.2), saturation=(0.8, 1.2), hue=(-0.1, 0.1)) to image of type <class 'torch.Tensor'>\n",
            "torch.Size([3, 3, 224, 224])\n",
            "Applying GaussianBlur(kernel_size=(5, 5), sigma=(0.1, 2.0)) to image of type <class 'torch.Tensor'>\n",
            "Applying ColorJitter(brightness=(0.8, 1.2), contrast=(0.8, 1.2), saturation=(0.8, 1.2), hue=(-0.1, 0.1)) to image of type <class 'torch.Tensor'>\n",
            "torch.Size([3, 3, 224, 224])\n"
          ]
        },
        {
          "output_type": "stream",
          "name": "stderr",
          "text": [
            "\r 15%|█▌        | 150/1000 [01:24<07:59,  1.77it/s]"
          ]
        },
        {
          "output_type": "stream",
          "name": "stdout",
          "text": [
            "image shape: torch.Size([1, 224, 224, 3])\n",
            "image shape: torch.Size([1, 224, 224, 3])\n",
            "image shape: torch.Size([1, 224, 224, 3])\n",
            "Applying RandomResizedCrop(size=(224, 224), scale=(1, 1), ratio=(0.75, 1.3333), interpolation=bilinear, antialias=True) to image of type <class 'torch.Tensor'>\n",
            "Applying RandomPerspective(p=0.8) to image of type <class 'torch.Tensor'>\n",
            "torch.Size([3, 3, 224, 224])\n",
            "Applying RandomPerspective(p=0.8) to image of type <class 'torch.Tensor'>\n",
            "Applying RandomResizedCrop(size=(224, 224), scale=(1, 1), ratio=(0.75, 1.3333), interpolation=bilinear, antialias=True) to image of type <class 'torch.Tensor'>\n",
            "torch.Size([3, 3, 224, 224])\n",
            "Applying GaussianBlur(kernel_size=(5, 5), sigma=(0.1, 2.0)) to image of type <class 'torch.Tensor'>\n",
            "Applying ColorJitter(brightness=(0.8, 1.2), contrast=(0.8, 1.2), saturation=(0.8, 1.2), hue=(-0.1, 0.1)) to image of type <class 'torch.Tensor'>\n",
            "torch.Size([3, 3, 224, 224])\n",
            "Applying ColorJitter(brightness=(0.8, 1.2), contrast=(0.8, 1.2), saturation=(0.8, 1.2), hue=(-0.1, 0.1)) to image of type <class 'torch.Tensor'>\n",
            "Applying GaussianBlur(kernel_size=(5, 5), sigma=(0.1, 2.0)) to image of type <class 'torch.Tensor'>\n",
            "torch.Size([3, 3, 224, 224])\n"
          ]
        },
        {
          "output_type": "stream",
          "name": "stderr",
          "text": [
            "\r 15%|█▌        | 151/1000 [01:25<07:54,  1.79it/s]"
          ]
        },
        {
          "output_type": "stream",
          "name": "stdout",
          "text": [
            "image shape: torch.Size([1, 224, 224, 3])\n",
            "image shape: torch.Size([1, 224, 224, 3])\n",
            "image shape: torch.Size([1, 224, 224, 3])\n",
            "Applying RandomResizedCrop(size=(224, 224), scale=(1, 1), ratio=(0.75, 1.3333), interpolation=bilinear, antialias=True) to image of type <class 'torch.Tensor'>\n",
            "Applying RandomPerspective(p=0.8) to image of type <class 'torch.Tensor'>\n",
            "torch.Size([3, 3, 224, 224])\n",
            "Applying RandomPerspective(p=0.8) to image of type <class 'torch.Tensor'>\n",
            "Applying GaussianBlur(kernel_size=(5, 5), sigma=(0.1, 2.0)) to image of type <class 'torch.Tensor'>\n",
            "torch.Size([3, 3, 224, 224])\n",
            "Applying RandomPerspective(p=0.8) to image of type <class 'torch.Tensor'>\n",
            "Applying RandomResizedCrop(size=(224, 224), scale=(1, 1), ratio=(0.75, 1.3333), interpolation=bilinear, antialias=True) to image of type <class 'torch.Tensor'>\n",
            "torch.Size([3, 3, 224, 224])\n",
            "Applying GaussianBlur(kernel_size=(5, 5), sigma=(0.1, 2.0)) to image of type <class 'torch.Tensor'>\n",
            "Applying ColorJitter(brightness=(0.8, 1.2), contrast=(0.8, 1.2), saturation=(0.8, 1.2), hue=(-0.1, 0.1)) to image of type <class 'torch.Tensor'>\n",
            "torch.Size([3, 3, 224, 224])\n"
          ]
        },
        {
          "output_type": "stream",
          "name": "stderr",
          "text": [
            "\r 15%|█▌        | 152/1000 [01:25<07:51,  1.80it/s]"
          ]
        },
        {
          "output_type": "stream",
          "name": "stdout",
          "text": [
            "image shape: torch.Size([1, 224, 224, 3])\n",
            "image shape: torch.Size([1, 224, 224, 3])\n",
            "image shape: torch.Size([1, 224, 224, 3])\n",
            "Applying ColorJitter(brightness=(0.8, 1.2), contrast=(0.8, 1.2), saturation=(0.8, 1.2), hue=(-0.1, 0.1)) to image of type <class 'torch.Tensor'>\n",
            "Applying RandomResizedCrop(size=(224, 224), scale=(1, 1), ratio=(0.75, 1.3333), interpolation=bilinear, antialias=True) to image of type <class 'torch.Tensor'>\n",
            "torch.Size([3, 3, 224, 224])\n",
            "Applying GaussianBlur(kernel_size=(5, 5), sigma=(0.1, 2.0)) to image of type <class 'torch.Tensor'>\n",
            "Applying RandomResizedCrop(size=(224, 224), scale=(1, 1), ratio=(0.75, 1.3333), interpolation=bilinear, antialias=True) to image of type <class 'torch.Tensor'>\n",
            "torch.Size([3, 3, 224, 224])\n",
            "Applying ColorJitter(brightness=(0.8, 1.2), contrast=(0.8, 1.2), saturation=(0.8, 1.2), hue=(-0.1, 0.1)) to image of type <class 'torch.Tensor'>\n",
            "Applying RandomPerspective(p=0.8) to image of type <class 'torch.Tensor'>\n",
            "torch.Size([3, 3, 224, 224])\n",
            "Applying RandomResizedCrop(size=(224, 224), scale=(1, 1), ratio=(0.75, 1.3333), interpolation=bilinear, antialias=True) to image of type <class 'torch.Tensor'>\n",
            "Applying GaussianBlur(kernel_size=(5, 5), sigma=(0.1, 2.0)) to image of type <class 'torch.Tensor'>\n",
            "torch.Size([3, 3, 224, 224])\n"
          ]
        },
        {
          "output_type": "stream",
          "name": "stderr",
          "text": [
            "\r 15%|█▌        | 153/1000 [01:26<07:47,  1.81it/s]"
          ]
        },
        {
          "output_type": "stream",
          "name": "stdout",
          "text": [
            "image shape: torch.Size([1, 224, 224, 3])\n",
            "image shape: torch.Size([1, 224, 224, 3])\n",
            "image shape: torch.Size([1, 224, 224, 3])\n",
            "Applying RandomPerspective(p=0.8) to image of type <class 'torch.Tensor'>\n",
            "Applying RandomResizedCrop(size=(224, 224), scale=(1, 1), ratio=(0.75, 1.3333), interpolation=bilinear, antialias=True) to image of type <class 'torch.Tensor'>\n",
            "torch.Size([3, 3, 224, 224])\n",
            "Applying ColorJitter(brightness=(0.8, 1.2), contrast=(0.8, 1.2), saturation=(0.8, 1.2), hue=(-0.1, 0.1)) to image of type <class 'torch.Tensor'>\n",
            "Applying RandomPerspective(p=0.8) to image of type <class 'torch.Tensor'>\n",
            "torch.Size([3, 3, 224, 224])\n",
            "Applying ColorJitter(brightness=(0.8, 1.2), contrast=(0.8, 1.2), saturation=(0.8, 1.2), hue=(-0.1, 0.1)) to image of type <class 'torch.Tensor'>\n",
            "Applying RandomResizedCrop(size=(224, 224), scale=(1, 1), ratio=(0.75, 1.3333), interpolation=bilinear, antialias=True) to image of type <class 'torch.Tensor'>\n",
            "torch.Size([3, 3, 224, 224])\n",
            "Applying ColorJitter(brightness=(0.8, 1.2), contrast=(0.8, 1.2), saturation=(0.8, 1.2), hue=(-0.1, 0.1)) to image of type <class 'torch.Tensor'>\n",
            "Applying RandomPerspective(p=0.8) to image of type <class 'torch.Tensor'>\n",
            "torch.Size([3, 3, 224, 224])\n"
          ]
        },
        {
          "output_type": "stream",
          "name": "stderr",
          "text": [
            "\r 15%|█▌        | 154/1000 [01:26<07:49,  1.80it/s]"
          ]
        },
        {
          "output_type": "stream",
          "name": "stdout",
          "text": [
            "image shape: torch.Size([1, 224, 224, 3])\n",
            "image shape: torch.Size([1, 224, 224, 3])\n",
            "image shape: torch.Size([1, 224, 224, 3])\n",
            "Applying ColorJitter(brightness=(0.8, 1.2), contrast=(0.8, 1.2), saturation=(0.8, 1.2), hue=(-0.1, 0.1)) to image of type <class 'torch.Tensor'>\n",
            "Applying RandomResizedCrop(size=(224, 224), scale=(1, 1), ratio=(0.75, 1.3333), interpolation=bilinear, antialias=True) to image of type <class 'torch.Tensor'>\n",
            "torch.Size([3, 3, 224, 224])\n",
            "Applying RandomPerspective(p=0.8) to image of type <class 'torch.Tensor'>\n",
            "Applying RandomResizedCrop(size=(224, 224), scale=(1, 1), ratio=(0.75, 1.3333), interpolation=bilinear, antialias=True) to image of type <class 'torch.Tensor'>\n",
            "torch.Size([3, 3, 224, 224])\n",
            "Applying RandomResizedCrop(size=(224, 224), scale=(1, 1), ratio=(0.75, 1.3333), interpolation=bilinear, antialias=True) to image of type <class 'torch.Tensor'>\n",
            "Applying ColorJitter(brightness=(0.8, 1.2), contrast=(0.8, 1.2), saturation=(0.8, 1.2), hue=(-0.1, 0.1)) to image of type <class 'torch.Tensor'>\n",
            "torch.Size([3, 3, 224, 224])\n",
            "Applying ColorJitter(brightness=(0.8, 1.2), contrast=(0.8, 1.2), saturation=(0.8, 1.2), hue=(-0.1, 0.1)) to image of type <class 'torch.Tensor'>\n",
            "Applying RandomResizedCrop(size=(224, 224), scale=(1, 1), ratio=(0.75, 1.3333), interpolation=bilinear, antialias=True) to image of type <class 'torch.Tensor'>\n",
            "torch.Size([3, 3, 224, 224])\n"
          ]
        },
        {
          "output_type": "stream",
          "name": "stderr",
          "text": [
            "\r 16%|█▌        | 155/1000 [01:27<07:47,  1.81it/s]"
          ]
        },
        {
          "output_type": "stream",
          "name": "stdout",
          "text": [
            "image shape: torch.Size([1, 224, 224, 3])\n",
            "image shape: torch.Size([1, 224, 224, 3])\n",
            "image shape: torch.Size([1, 224, 224, 3])\n",
            "Applying RandomPerspective(p=0.8) to image of type <class 'torch.Tensor'>\n",
            "Applying RandomResizedCrop(size=(224, 224), scale=(1, 1), ratio=(0.75, 1.3333), interpolation=bilinear, antialias=True) to image of type <class 'torch.Tensor'>\n",
            "torch.Size([3, 3, 224, 224])\n",
            "Applying RandomResizedCrop(size=(224, 224), scale=(1, 1), ratio=(0.75, 1.3333), interpolation=bilinear, antialias=True) to image of type <class 'torch.Tensor'>\n",
            "Applying RandomPerspective(p=0.8) to image of type <class 'torch.Tensor'>\n",
            "torch.Size([3, 3, 224, 224])\n",
            "Applying RandomResizedCrop(size=(224, 224), scale=(1, 1), ratio=(0.75, 1.3333), interpolation=bilinear, antialias=True) to image of type <class 'torch.Tensor'>\n",
            "Applying GaussianBlur(kernel_size=(5, 5), sigma=(0.1, 2.0)) to image of type <class 'torch.Tensor'>\n",
            "torch.Size([3, 3, 224, 224])\n",
            "Applying RandomResizedCrop(size=(224, 224), scale=(1, 1), ratio=(0.75, 1.3333), interpolation=bilinear, antialias=True) to image of type <class 'torch.Tensor'>\n",
            "Applying ColorJitter(brightness=(0.8, 1.2), contrast=(0.8, 1.2), saturation=(0.8, 1.2), hue=(-0.1, 0.1)) to image of type <class 'torch.Tensor'>\n",
            "torch.Size([3, 3, 224, 224])\n"
          ]
        },
        {
          "output_type": "stream",
          "name": "stderr",
          "text": [
            "\r 16%|█▌        | 156/1000 [01:28<07:45,  1.81it/s]"
          ]
        },
        {
          "output_type": "stream",
          "name": "stdout",
          "text": [
            "image shape: torch.Size([1, 224, 224, 3])\n",
            "image shape: torch.Size([1, 224, 224, 3])\n",
            "image shape: torch.Size([1, 224, 224, 3])\n",
            "Applying ColorJitter(brightness=(0.8, 1.2), contrast=(0.8, 1.2), saturation=(0.8, 1.2), hue=(-0.1, 0.1)) to image of type <class 'torch.Tensor'>\n",
            "Applying RandomPerspective(p=0.8) to image of type <class 'torch.Tensor'>\n",
            "torch.Size([3, 3, 224, 224])\n",
            "Applying RandomPerspective(p=0.8) to image of type <class 'torch.Tensor'>\n",
            "Applying RandomResizedCrop(size=(224, 224), scale=(1, 1), ratio=(0.75, 1.3333), interpolation=bilinear, antialias=True) to image of type <class 'torch.Tensor'>\n",
            "torch.Size([3, 3, 224, 224])\n",
            "Applying ColorJitter(brightness=(0.8, 1.2), contrast=(0.8, 1.2), saturation=(0.8, 1.2), hue=(-0.1, 0.1)) to image of type <class 'torch.Tensor'>\n",
            "Applying GaussianBlur(kernel_size=(5, 5), sigma=(0.1, 2.0)) to image of type <class 'torch.Tensor'>\n",
            "torch.Size([3, 3, 224, 224])\n",
            "Applying RandomResizedCrop(size=(224, 224), scale=(1, 1), ratio=(0.75, 1.3333), interpolation=bilinear, antialias=True) to image of type <class 'torch.Tensor'>\n",
            "Applying GaussianBlur(kernel_size=(5, 5), sigma=(0.1, 2.0)) to image of type <class 'torch.Tensor'>\n",
            "torch.Size([3, 3, 224, 224])\n"
          ]
        },
        {
          "output_type": "stream",
          "name": "stderr",
          "text": [
            "\r 16%|█▌        | 157/1000 [01:28<07:44,  1.81it/s]"
          ]
        },
        {
          "output_type": "stream",
          "name": "stdout",
          "text": [
            "image shape: torch.Size([1, 224, 224, 3])\n",
            "image shape: torch.Size([1, 224, 224, 3])\n",
            "image shape: torch.Size([1, 224, 224, 3])\n",
            "Applying GaussianBlur(kernel_size=(5, 5), sigma=(0.1, 2.0)) to image of type <class 'torch.Tensor'>\n",
            "Applying RandomPerspective(p=0.8) to image of type <class 'torch.Tensor'>\n",
            "torch.Size([3, 3, 224, 224])\n",
            "Applying RandomResizedCrop(size=(224, 224), scale=(1, 1), ratio=(0.75, 1.3333), interpolation=bilinear, antialias=True) to image of type <class 'torch.Tensor'>\n",
            "Applying RandomPerspective(p=0.8) to image of type <class 'torch.Tensor'>\n",
            "torch.Size([3, 3, 224, 224])\n",
            "Applying RandomResizedCrop(size=(224, 224), scale=(1, 1), ratio=(0.75, 1.3333), interpolation=bilinear, antialias=True) to image of type <class 'torch.Tensor'>\n",
            "Applying ColorJitter(brightness=(0.8, 1.2), contrast=(0.8, 1.2), saturation=(0.8, 1.2), hue=(-0.1, 0.1)) to image of type <class 'torch.Tensor'>\n",
            "torch.Size([3, 3, 224, 224])\n",
            "Applying GaussianBlur(kernel_size=(5, 5), sigma=(0.1, 2.0)) to image of type <class 'torch.Tensor'>\n",
            "Applying ColorJitter(brightness=(0.8, 1.2), contrast=(0.8, 1.2), saturation=(0.8, 1.2), hue=(-0.1, 0.1)) to image of type <class 'torch.Tensor'>\n",
            "torch.Size([3, 3, 224, 224])\n"
          ]
        },
        {
          "output_type": "stream",
          "name": "stderr",
          "text": [
            "\r 16%|█▌        | 158/1000 [01:29<07:44,  1.81it/s]"
          ]
        },
        {
          "output_type": "stream",
          "name": "stdout",
          "text": [
            "image shape: torch.Size([1, 224, 224, 3])\n",
            "image shape: torch.Size([1, 224, 224, 3])\n",
            "image shape: torch.Size([1, 224, 224, 3])\n",
            "Applying RandomResizedCrop(size=(224, 224), scale=(1, 1), ratio=(0.75, 1.3333), interpolation=bilinear, antialias=True) to image of type <class 'torch.Tensor'>\n",
            "Applying ColorJitter(brightness=(0.8, 1.2), contrast=(0.8, 1.2), saturation=(0.8, 1.2), hue=(-0.1, 0.1)) to image of type <class 'torch.Tensor'>\n",
            "torch.Size([3, 3, 224, 224])\n",
            "Applying ColorJitter(brightness=(0.8, 1.2), contrast=(0.8, 1.2), saturation=(0.8, 1.2), hue=(-0.1, 0.1)) to image of type <class 'torch.Tensor'>\n",
            "Applying RandomPerspective(p=0.8) to image of type <class 'torch.Tensor'>\n",
            "torch.Size([3, 3, 224, 224])\n",
            "Applying RandomResizedCrop(size=(224, 224), scale=(1, 1), ratio=(0.75, 1.3333), interpolation=bilinear, antialias=True) to image of type <class 'torch.Tensor'>\n",
            "Applying RandomPerspective(p=0.8) to image of type <class 'torch.Tensor'>\n",
            "torch.Size([3, 3, 224, 224])\n",
            "Applying RandomPerspective(p=0.8) to image of type <class 'torch.Tensor'>\n",
            "Applying ColorJitter(brightness=(0.8, 1.2), contrast=(0.8, 1.2), saturation=(0.8, 1.2), hue=(-0.1, 0.1)) to image of type <class 'torch.Tensor'>\n",
            "torch.Size([3, 3, 224, 224])\n"
          ]
        },
        {
          "output_type": "stream",
          "name": "stderr",
          "text": [
            "\r 16%|█▌        | 159/1000 [01:29<07:44,  1.81it/s]"
          ]
        },
        {
          "output_type": "stream",
          "name": "stdout",
          "text": [
            "image shape: torch.Size([1, 224, 224, 3])\n",
            "image shape: torch.Size([1, 224, 224, 3])\n",
            "image shape: torch.Size([1, 224, 224, 3])\n",
            "Applying RandomResizedCrop(size=(224, 224), scale=(1, 1), ratio=(0.75, 1.3333), interpolation=bilinear, antialias=True) to image of type <class 'torch.Tensor'>\n",
            "Applying GaussianBlur(kernel_size=(5, 5), sigma=(0.1, 2.0)) to image of type <class 'torch.Tensor'>\n",
            "torch.Size([3, 3, 224, 224])\n",
            "Applying GaussianBlur(kernel_size=(5, 5), sigma=(0.1, 2.0)) to image of type <class 'torch.Tensor'>\n",
            "Applying ColorJitter(brightness=(0.8, 1.2), contrast=(0.8, 1.2), saturation=(0.8, 1.2), hue=(-0.1, 0.1)) to image of type <class 'torch.Tensor'>\n",
            "torch.Size([3, 3, 224, 224])\n",
            "Applying GaussianBlur(kernel_size=(5, 5), sigma=(0.1, 2.0)) to image of type <class 'torch.Tensor'>\n",
            "Applying RandomPerspective(p=0.8) to image of type <class 'torch.Tensor'>\n",
            "torch.Size([3, 3, 224, 224])\n",
            "Applying RandomResizedCrop(size=(224, 224), scale=(1, 1), ratio=(0.75, 1.3333), interpolation=bilinear, antialias=True) to image of type <class 'torch.Tensor'>\n",
            "Applying ColorJitter(brightness=(0.8, 1.2), contrast=(0.8, 1.2), saturation=(0.8, 1.2), hue=(-0.1, 0.1)) to image of type <class 'torch.Tensor'>\n",
            "torch.Size([3, 3, 224, 224])\n"
          ]
        },
        {
          "output_type": "stream",
          "name": "stderr",
          "text": [
            "\r 16%|█▌        | 160/1000 [01:30<07:42,  1.82it/s]"
          ]
        },
        {
          "output_type": "stream",
          "name": "stdout",
          "text": [
            "image shape: torch.Size([1, 224, 224, 3])\n",
            "image shape: torch.Size([1, 224, 224, 3])\n",
            "image shape: torch.Size([1, 224, 224, 3])\n",
            "Applying GaussianBlur(kernel_size=(5, 5), sigma=(0.1, 2.0)) to image of type <class 'torch.Tensor'>\n",
            "Applying RandomResizedCrop(size=(224, 224), scale=(1, 1), ratio=(0.75, 1.3333), interpolation=bilinear, antialias=True) to image of type <class 'torch.Tensor'>\n",
            "torch.Size([3, 3, 224, 224])\n",
            "Applying RandomResizedCrop(size=(224, 224), scale=(1, 1), ratio=(0.75, 1.3333), interpolation=bilinear, antialias=True) to image of type <class 'torch.Tensor'>\n",
            "Applying ColorJitter(brightness=(0.8, 1.2), contrast=(0.8, 1.2), saturation=(0.8, 1.2), hue=(-0.1, 0.1)) to image of type <class 'torch.Tensor'>\n",
            "torch.Size([3, 3, 224, 224])\n",
            "Applying ColorJitter(brightness=(0.8, 1.2), contrast=(0.8, 1.2), saturation=(0.8, 1.2), hue=(-0.1, 0.1)) to image of type <class 'torch.Tensor'>\n",
            "Applying RandomResizedCrop(size=(224, 224), scale=(1, 1), ratio=(0.75, 1.3333), interpolation=bilinear, antialias=True) to image of type <class 'torch.Tensor'>\n",
            "torch.Size([3, 3, 224, 224])\n",
            "Applying ColorJitter(brightness=(0.8, 1.2), contrast=(0.8, 1.2), saturation=(0.8, 1.2), hue=(-0.1, 0.1)) to image of type <class 'torch.Tensor'>\n",
            "Applying GaussianBlur(kernel_size=(5, 5), sigma=(0.1, 2.0)) to image of type <class 'torch.Tensor'>\n",
            "torch.Size([3, 3, 224, 224])\n"
          ]
        },
        {
          "output_type": "stream",
          "name": "stderr",
          "text": [
            "\r 16%|█▌        | 161/1000 [01:30<07:41,  1.82it/s]"
          ]
        },
        {
          "output_type": "stream",
          "name": "stdout",
          "text": [
            "image shape: torch.Size([1, 224, 224, 3])\n",
            "image shape: torch.Size([1, 224, 224, 3])\n",
            "image shape: torch.Size([1, 224, 224, 3])\n",
            "Applying RandomPerspective(p=0.8) to image of type <class 'torch.Tensor'>\n",
            "Applying ColorJitter(brightness=(0.8, 1.2), contrast=(0.8, 1.2), saturation=(0.8, 1.2), hue=(-0.1, 0.1)) to image of type <class 'torch.Tensor'>\n",
            "torch.Size([3, 3, 224, 224])\n",
            "Applying RandomPerspective(p=0.8) to image of type <class 'torch.Tensor'>\n",
            "Applying ColorJitter(brightness=(0.8, 1.2), contrast=(0.8, 1.2), saturation=(0.8, 1.2), hue=(-0.1, 0.1)) to image of type <class 'torch.Tensor'>\n",
            "torch.Size([3, 3, 224, 224])\n",
            "Applying GaussianBlur(kernel_size=(5, 5), sigma=(0.1, 2.0)) to image of type <class 'torch.Tensor'>\n",
            "Applying RandomResizedCrop(size=(224, 224), scale=(1, 1), ratio=(0.75, 1.3333), interpolation=bilinear, antialias=True) to image of type <class 'torch.Tensor'>\n",
            "torch.Size([3, 3, 224, 224])\n",
            "Applying RandomResizedCrop(size=(224, 224), scale=(1, 1), ratio=(0.75, 1.3333), interpolation=bilinear, antialias=True) to image of type <class 'torch.Tensor'>\n",
            "Applying RandomPerspective(p=0.8) to image of type <class 'torch.Tensor'>\n",
            "torch.Size([3, 3, 224, 224])\n"
          ]
        },
        {
          "output_type": "stream",
          "name": "stderr",
          "text": [
            "\r 16%|█▌        | 162/1000 [01:31<07:40,  1.82it/s]"
          ]
        },
        {
          "output_type": "stream",
          "name": "stdout",
          "text": [
            "image shape: torch.Size([1, 224, 224, 3])\n",
            "image shape: torch.Size([1, 224, 224, 3])\n",
            "image shape: torch.Size([1, 224, 224, 3])\n",
            "Applying ColorJitter(brightness=(0.8, 1.2), contrast=(0.8, 1.2), saturation=(0.8, 1.2), hue=(-0.1, 0.1)) to image of type <class 'torch.Tensor'>\n",
            "Applying GaussianBlur(kernel_size=(5, 5), sigma=(0.1, 2.0)) to image of type <class 'torch.Tensor'>\n",
            "torch.Size([3, 3, 224, 224])\n",
            "Applying GaussianBlur(kernel_size=(5, 5), sigma=(0.1, 2.0)) to image of type <class 'torch.Tensor'>\n",
            "Applying RandomResizedCrop(size=(224, 224), scale=(1, 1), ratio=(0.75, 1.3333), interpolation=bilinear, antialias=True) to image of type <class 'torch.Tensor'>\n",
            "torch.Size([3, 3, 224, 224])\n",
            "Applying GaussianBlur(kernel_size=(5, 5), sigma=(0.1, 2.0)) to image of type <class 'torch.Tensor'>\n",
            "Applying ColorJitter(brightness=(0.8, 1.2), contrast=(0.8, 1.2), saturation=(0.8, 1.2), hue=(-0.1, 0.1)) to image of type <class 'torch.Tensor'>\n",
            "torch.Size([3, 3, 224, 224])\n",
            "Applying GaussianBlur(kernel_size=(5, 5), sigma=(0.1, 2.0)) to image of type <class 'torch.Tensor'>\n",
            "Applying ColorJitter(brightness=(0.8, 1.2), contrast=(0.8, 1.2), saturation=(0.8, 1.2), hue=(-0.1, 0.1)) to image of type <class 'torch.Tensor'>\n",
            "torch.Size([3, 3, 224, 224])\n"
          ]
        },
        {
          "output_type": "stream",
          "name": "stderr",
          "text": [
            "\r 16%|█▋        | 163/1000 [01:31<07:41,  1.81it/s]"
          ]
        },
        {
          "output_type": "stream",
          "name": "stdout",
          "text": [
            "image shape: torch.Size([1, 224, 224, 3])\n",
            "image shape: torch.Size([1, 224, 224, 3])\n",
            "image shape: torch.Size([1, 224, 224, 3])\n",
            "Applying GaussianBlur(kernel_size=(5, 5), sigma=(0.1, 2.0)) to image of type <class 'torch.Tensor'>\n",
            "Applying RandomPerspective(p=0.8) to image of type <class 'torch.Tensor'>\n",
            "torch.Size([3, 3, 224, 224])\n",
            "Applying RandomResizedCrop(size=(224, 224), scale=(1, 1), ratio=(0.75, 1.3333), interpolation=bilinear, antialias=True) to image of type <class 'torch.Tensor'>\n",
            "Applying ColorJitter(brightness=(0.8, 1.2), contrast=(0.8, 1.2), saturation=(0.8, 1.2), hue=(-0.1, 0.1)) to image of type <class 'torch.Tensor'>\n",
            "torch.Size([3, 3, 224, 224])\n",
            "Applying GaussianBlur(kernel_size=(5, 5), sigma=(0.1, 2.0)) to image of type <class 'torch.Tensor'>\n",
            "Applying ColorJitter(brightness=(0.8, 1.2), contrast=(0.8, 1.2), saturation=(0.8, 1.2), hue=(-0.1, 0.1)) to image of type <class 'torch.Tensor'>\n",
            "torch.Size([3, 3, 224, 224])\n",
            "Applying RandomPerspective(p=0.8) to image of type <class 'torch.Tensor'>\n",
            "Applying ColorJitter(brightness=(0.8, 1.2), contrast=(0.8, 1.2), saturation=(0.8, 1.2), hue=(-0.1, 0.1)) to image of type <class 'torch.Tensor'>\n",
            "torch.Size([3, 3, 224, 224])\n"
          ]
        },
        {
          "output_type": "stream",
          "name": "stderr",
          "text": [
            "\r 16%|█▋        | 164/1000 [01:32<08:10,  1.70it/s]"
          ]
        },
        {
          "output_type": "stream",
          "name": "stdout",
          "text": [
            "image shape: torch.Size([1, 224, 224, 3])\n",
            "image shape: torch.Size([1, 224, 224, 3])\n",
            "image shape: torch.Size([1, 224, 224, 3])\n",
            "Applying ColorJitter(brightness=(0.8, 1.2), contrast=(0.8, 1.2), saturation=(0.8, 1.2), hue=(-0.1, 0.1)) to image of type <class 'torch.Tensor'>\n",
            "Applying RandomPerspective(p=0.8) to image of type <class 'torch.Tensor'>\n",
            "torch.Size([3, 3, 224, 224])\n",
            "Applying GaussianBlur(kernel_size=(5, 5), sigma=(0.1, 2.0)) to image of type <class 'torch.Tensor'>\n",
            "Applying RandomResizedCrop(size=(224, 224), scale=(1, 1), ratio=(0.75, 1.3333), interpolation=bilinear, antialias=True) to image of type <class 'torch.Tensor'>\n",
            "torch.Size([3, 3, 224, 224])\n",
            "Applying RandomResizedCrop(size=(224, 224), scale=(1, 1), ratio=(0.75, 1.3333), interpolation=bilinear, antialias=True) to image of type <class 'torch.Tensor'>\n",
            "Applying GaussianBlur(kernel_size=(5, 5), sigma=(0.1, 2.0)) to image of type <class 'torch.Tensor'>\n",
            "torch.Size([3, 3, 224, 224])\n",
            "Applying RandomResizedCrop(size=(224, 224), scale=(1, 1), ratio=(0.75, 1.3333), interpolation=bilinear, antialias=True) to image of type <class 'torch.Tensor'>\n",
            "Applying ColorJitter(brightness=(0.8, 1.2), contrast=(0.8, 1.2), saturation=(0.8, 1.2), hue=(-0.1, 0.1)) to image of type <class 'torch.Tensor'>\n",
            "torch.Size([3, 3, 224, 224])\n"
          ]
        },
        {
          "output_type": "stream",
          "name": "stderr",
          "text": [
            "\r 16%|█▋        | 165/1000 [01:33<08:02,  1.73it/s]"
          ]
        },
        {
          "output_type": "stream",
          "name": "stdout",
          "text": [
            "image shape: torch.Size([1, 224, 224, 3])\n",
            "image shape: torch.Size([1, 224, 224, 3])\n",
            "image shape: torch.Size([1, 224, 224, 3])\n",
            "Applying RandomResizedCrop(size=(224, 224), scale=(1, 1), ratio=(0.75, 1.3333), interpolation=bilinear, antialias=True) to image of type <class 'torch.Tensor'>\n",
            "Applying RandomPerspective(p=0.8) to image of type <class 'torch.Tensor'>\n",
            "torch.Size([3, 3, 224, 224])\n",
            "Applying RandomPerspective(p=0.8) to image of type <class 'torch.Tensor'>\n",
            "Applying RandomResizedCrop(size=(224, 224), scale=(1, 1), ratio=(0.75, 1.3333), interpolation=bilinear, antialias=True) to image of type <class 'torch.Tensor'>\n",
            "torch.Size([3, 3, 224, 224])\n",
            "Applying RandomResizedCrop(size=(224, 224), scale=(1, 1), ratio=(0.75, 1.3333), interpolation=bilinear, antialias=True) to image of type <class 'torch.Tensor'>\n",
            "Applying RandomPerspective(p=0.8) to image of type <class 'torch.Tensor'>\n",
            "torch.Size([3, 3, 224, 224])\n",
            "Applying RandomPerspective(p=0.8) to image of type <class 'torch.Tensor'>\n",
            "Applying GaussianBlur(kernel_size=(5, 5), sigma=(0.1, 2.0)) to image of type <class 'torch.Tensor'>\n",
            "torch.Size([3, 3, 224, 224])\n"
          ]
        },
        {
          "output_type": "stream",
          "name": "stderr",
          "text": [
            "\r 17%|█▋        | 166/1000 [01:33<08:25,  1.65it/s]"
          ]
        },
        {
          "output_type": "stream",
          "name": "stdout",
          "text": [
            "image shape: torch.Size([1, 224, 224, 3])\n",
            "image shape: torch.Size([1, 224, 224, 3])\n",
            "image shape: torch.Size([1, 224, 224, 3])\n",
            "Applying RandomResizedCrop(size=(224, 224), scale=(1, 1), ratio=(0.75, 1.3333), interpolation=bilinear, antialias=True) to image of type <class 'torch.Tensor'>\n",
            "Applying ColorJitter(brightness=(0.8, 1.2), contrast=(0.8, 1.2), saturation=(0.8, 1.2), hue=(-0.1, 0.1)) to image of type <class 'torch.Tensor'>\n",
            "torch.Size([3, 3, 224, 224])\n",
            "Applying RandomPerspective(p=0.8) to image of type <class 'torch.Tensor'>\n",
            "Applying GaussianBlur(kernel_size=(5, 5), sigma=(0.1, 2.0)) to image of type <class 'torch.Tensor'>\n",
            "torch.Size([3, 3, 224, 224])\n",
            "Applying GaussianBlur(kernel_size=(5, 5), sigma=(0.1, 2.0)) to image of type <class 'torch.Tensor'>\n",
            "Applying RandomPerspective(p=0.8) to image of type <class 'torch.Tensor'>\n",
            "torch.Size([3, 3, 224, 224])\n",
            "Applying RandomResizedCrop(size=(224, 224), scale=(1, 1), ratio=(0.75, 1.3333), interpolation=bilinear, antialias=True) to image of type <class 'torch.Tensor'>\n",
            "Applying ColorJitter(brightness=(0.8, 1.2), contrast=(0.8, 1.2), saturation=(0.8, 1.2), hue=(-0.1, 0.1)) to image of type <class 'torch.Tensor'>\n",
            "torch.Size([3, 3, 224, 224])\n"
          ]
        },
        {
          "output_type": "stream",
          "name": "stderr",
          "text": [
            "\r 17%|█▋        | 167/1000 [01:34<08:14,  1.69it/s]"
          ]
        },
        {
          "output_type": "stream",
          "name": "stdout",
          "text": [
            "image shape: torch.Size([1, 224, 224, 3])\n",
            "image shape: torch.Size([1, 224, 224, 3])\n",
            "image shape: torch.Size([1, 224, 224, 3])\n",
            "Applying RandomPerspective(p=0.8) to image of type <class 'torch.Tensor'>\n",
            "Applying ColorJitter(brightness=(0.8, 1.2), contrast=(0.8, 1.2), saturation=(0.8, 1.2), hue=(-0.1, 0.1)) to image of type <class 'torch.Tensor'>\n",
            "torch.Size([3, 3, 224, 224])\n",
            "Applying RandomResizedCrop(size=(224, 224), scale=(1, 1), ratio=(0.75, 1.3333), interpolation=bilinear, antialias=True) to image of type <class 'torch.Tensor'>\n",
            "Applying RandomPerspective(p=0.8) to image of type <class 'torch.Tensor'>\n",
            "torch.Size([3, 3, 224, 224])\n",
            "Applying ColorJitter(brightness=(0.8, 1.2), contrast=(0.8, 1.2), saturation=(0.8, 1.2), hue=(-0.1, 0.1)) to image of type <class 'torch.Tensor'>\n",
            "Applying RandomResizedCrop(size=(224, 224), scale=(1, 1), ratio=(0.75, 1.3333), interpolation=bilinear, antialias=True) to image of type <class 'torch.Tensor'>\n",
            "torch.Size([3, 3, 224, 224])\n",
            "Applying GaussianBlur(kernel_size=(5, 5), sigma=(0.1, 2.0)) to image of type <class 'torch.Tensor'>\n",
            "Applying RandomResizedCrop(size=(224, 224), scale=(1, 1), ratio=(0.75, 1.3333), interpolation=bilinear, antialias=True) to image of type <class 'torch.Tensor'>\n",
            "torch.Size([3, 3, 224, 224])\n"
          ]
        },
        {
          "output_type": "stream",
          "name": "stderr",
          "text": [
            "\r 17%|█▋        | 168/1000 [01:34<08:04,  1.72it/s]"
          ]
        },
        {
          "output_type": "stream",
          "name": "stdout",
          "text": [
            "image shape: torch.Size([1, 224, 224, 3])\n",
            "image shape: torch.Size([1, 224, 224, 3])\n",
            "image shape: torch.Size([1, 224, 224, 3])\n",
            "Applying RandomResizedCrop(size=(224, 224), scale=(1, 1), ratio=(0.75, 1.3333), interpolation=bilinear, antialias=True) to image of type <class 'torch.Tensor'>\n",
            "Applying ColorJitter(brightness=(0.8, 1.2), contrast=(0.8, 1.2), saturation=(0.8, 1.2), hue=(-0.1, 0.1)) to image of type <class 'torch.Tensor'>\n",
            "torch.Size([3, 3, 224, 224])\n",
            "Applying RandomPerspective(p=0.8) to image of type <class 'torch.Tensor'>\n",
            "Applying RandomResizedCrop(size=(224, 224), scale=(1, 1), ratio=(0.75, 1.3333), interpolation=bilinear, antialias=True) to image of type <class 'torch.Tensor'>\n",
            "torch.Size([3, 3, 224, 224])\n",
            "Applying RandomPerspective(p=0.8) to image of type <class 'torch.Tensor'>\n",
            "Applying GaussianBlur(kernel_size=(5, 5), sigma=(0.1, 2.0)) to image of type <class 'torch.Tensor'>\n",
            "torch.Size([3, 3, 224, 224])\n",
            "Applying ColorJitter(brightness=(0.8, 1.2), contrast=(0.8, 1.2), saturation=(0.8, 1.2), hue=(-0.1, 0.1)) to image of type <class 'torch.Tensor'>\n",
            "Applying GaussianBlur(kernel_size=(5, 5), sigma=(0.1, 2.0)) to image of type <class 'torch.Tensor'>\n",
            "torch.Size([3, 3, 224, 224])\n"
          ]
        },
        {
          "output_type": "stream",
          "name": "stderr",
          "text": [
            "\r 17%|█▋        | 169/1000 [01:35<08:05,  1.71it/s]"
          ]
        },
        {
          "output_type": "stream",
          "name": "stdout",
          "text": [
            "image shape: torch.Size([1, 224, 224, 3])\n",
            "image shape: torch.Size([1, 224, 224, 3])\n",
            "image shape: torch.Size([1, 224, 224, 3])\n",
            "Applying RandomResizedCrop(size=(224, 224), scale=(1, 1), ratio=(0.75, 1.3333), interpolation=bilinear, antialias=True) to image of type <class 'torch.Tensor'>\n",
            "Applying RandomPerspective(p=0.8) to image of type <class 'torch.Tensor'>\n",
            "torch.Size([3, 3, 224, 224])\n",
            "Applying RandomPerspective(p=0.8) to image of type <class 'torch.Tensor'>\n",
            "Applying RandomResizedCrop(size=(224, 224), scale=(1, 1), ratio=(0.75, 1.3333), interpolation=bilinear, antialias=True) to image of type <class 'torch.Tensor'>\n",
            "torch.Size([3, 3, 224, 224])\n",
            "Applying ColorJitter(brightness=(0.8, 1.2), contrast=(0.8, 1.2), saturation=(0.8, 1.2), hue=(-0.1, 0.1)) to image of type <class 'torch.Tensor'>\n",
            "Applying GaussianBlur(kernel_size=(5, 5), sigma=(0.1, 2.0)) to image of type <class 'torch.Tensor'>\n",
            "torch.Size([3, 3, 224, 224])\n",
            "Applying RandomPerspective(p=0.8) to image of type <class 'torch.Tensor'>\n",
            "Applying ColorJitter(brightness=(0.8, 1.2), contrast=(0.8, 1.2), saturation=(0.8, 1.2), hue=(-0.1, 0.1)) to image of type <class 'torch.Tensor'>\n",
            "torch.Size([3, 3, 224, 224])\n"
          ]
        },
        {
          "output_type": "stream",
          "name": "stderr",
          "text": [
            "\r 17%|█▋        | 170/1000 [01:36<07:59,  1.73it/s]"
          ]
        },
        {
          "output_type": "stream",
          "name": "stdout",
          "text": [
            "image shape: torch.Size([1, 224, 224, 3])\n",
            "image shape: torch.Size([1, 224, 224, 3])\n",
            "image shape: torch.Size([1, 224, 224, 3])\n",
            "Applying RandomPerspective(p=0.8) to image of type <class 'torch.Tensor'>\n",
            "Applying RandomResizedCrop(size=(224, 224), scale=(1, 1), ratio=(0.75, 1.3333), interpolation=bilinear, antialias=True) to image of type <class 'torch.Tensor'>\n",
            "torch.Size([3, 3, 224, 224])\n",
            "Applying ColorJitter(brightness=(0.8, 1.2), contrast=(0.8, 1.2), saturation=(0.8, 1.2), hue=(-0.1, 0.1)) to image of type <class 'torch.Tensor'>\n",
            "Applying RandomResizedCrop(size=(224, 224), scale=(1, 1), ratio=(0.75, 1.3333), interpolation=bilinear, antialias=True) to image of type <class 'torch.Tensor'>\n",
            "torch.Size([3, 3, 224, 224])\n",
            "Applying GaussianBlur(kernel_size=(5, 5), sigma=(0.1, 2.0)) to image of type <class 'torch.Tensor'>\n",
            "Applying RandomResizedCrop(size=(224, 224), scale=(1, 1), ratio=(0.75, 1.3333), interpolation=bilinear, antialias=True) to image of type <class 'torch.Tensor'>\n",
            "torch.Size([3, 3, 224, 224])\n",
            "Applying ColorJitter(brightness=(0.8, 1.2), contrast=(0.8, 1.2), saturation=(0.8, 1.2), hue=(-0.1, 0.1)) to image of type <class 'torch.Tensor'>\n",
            "Applying RandomPerspective(p=0.8) to image of type <class 'torch.Tensor'>\n",
            "torch.Size([3, 3, 224, 224])\n"
          ]
        },
        {
          "output_type": "stream",
          "name": "stderr",
          "text": [
            "\r 17%|█▋        | 171/1000 [01:36<07:55,  1.74it/s]"
          ]
        },
        {
          "output_type": "stream",
          "name": "stdout",
          "text": [
            "image shape: torch.Size([1, 224, 224, 3])\n",
            "image shape: torch.Size([1, 224, 224, 3])\n",
            "image shape: torch.Size([1, 224, 224, 3])\n",
            "Applying RandomResizedCrop(size=(224, 224), scale=(1, 1), ratio=(0.75, 1.3333), interpolation=bilinear, antialias=True) to image of type <class 'torch.Tensor'>\n",
            "Applying GaussianBlur(kernel_size=(5, 5), sigma=(0.1, 2.0)) to image of type <class 'torch.Tensor'>\n",
            "torch.Size([3, 3, 224, 224])\n",
            "Applying ColorJitter(brightness=(0.8, 1.2), contrast=(0.8, 1.2), saturation=(0.8, 1.2), hue=(-0.1, 0.1)) to image of type <class 'torch.Tensor'>\n",
            "Applying GaussianBlur(kernel_size=(5, 5), sigma=(0.1, 2.0)) to image of type <class 'torch.Tensor'>\n",
            "torch.Size([3, 3, 224, 224])\n",
            "Applying GaussianBlur(kernel_size=(5, 5), sigma=(0.1, 2.0)) to image of type <class 'torch.Tensor'>\n",
            "Applying ColorJitter(brightness=(0.8, 1.2), contrast=(0.8, 1.2), saturation=(0.8, 1.2), hue=(-0.1, 0.1)) to image of type <class 'torch.Tensor'>\n",
            "torch.Size([3, 3, 224, 224])\n",
            "Applying RandomPerspective(p=0.8) to image of type <class 'torch.Tensor'>\n",
            "Applying RandomResizedCrop(size=(224, 224), scale=(1, 1), ratio=(0.75, 1.3333), interpolation=bilinear, antialias=True) to image of type <class 'torch.Tensor'>\n",
            "torch.Size([3, 3, 224, 224])\n"
          ]
        },
        {
          "output_type": "stream",
          "name": "stderr",
          "text": [
            "\r 17%|█▋        | 172/1000 [01:37<07:55,  1.74it/s]"
          ]
        },
        {
          "output_type": "stream",
          "name": "stdout",
          "text": [
            "image shape: torch.Size([1, 224, 224, 3])\n",
            "image shape: torch.Size([1, 224, 224, 3])\n",
            "image shape: torch.Size([1, 224, 224, 3])\n",
            "Applying RandomPerspective(p=0.8) to image of type <class 'torch.Tensor'>\n",
            "Applying ColorJitter(brightness=(0.8, 1.2), contrast=(0.8, 1.2), saturation=(0.8, 1.2), hue=(-0.1, 0.1)) to image of type <class 'torch.Tensor'>\n",
            "torch.Size([3, 3, 224, 224])\n",
            "Applying RandomPerspective(p=0.8) to image of type <class 'torch.Tensor'>\n",
            "Applying GaussianBlur(kernel_size=(5, 5), sigma=(0.1, 2.0)) to image of type <class 'torch.Tensor'>\n",
            "torch.Size([3, 3, 224, 224])\n",
            "Applying RandomResizedCrop(size=(224, 224), scale=(1, 1), ratio=(0.75, 1.3333), interpolation=bilinear, antialias=True) to image of type <class 'torch.Tensor'>\n",
            "Applying GaussianBlur(kernel_size=(5, 5), sigma=(0.1, 2.0)) to image of type <class 'torch.Tensor'>\n",
            "torch.Size([3, 3, 224, 224])\n",
            "Applying ColorJitter(brightness=(0.8, 1.2), contrast=(0.8, 1.2), saturation=(0.8, 1.2), hue=(-0.1, 0.1)) to image of type <class 'torch.Tensor'>\n",
            "Applying RandomResizedCrop(size=(224, 224), scale=(1, 1), ratio=(0.75, 1.3333), interpolation=bilinear, antialias=True) to image of type <class 'torch.Tensor'>\n",
            "torch.Size([3, 3, 224, 224])\n"
          ]
        },
        {
          "output_type": "stream",
          "name": "stderr",
          "text": [
            "\r 17%|█▋        | 173/1000 [01:37<07:54,  1.74it/s]"
          ]
        },
        {
          "output_type": "stream",
          "name": "stdout",
          "text": [
            "image shape: torch.Size([1, 224, 224, 3])\n",
            "image shape: torch.Size([1, 224, 224, 3])\n",
            "image shape: torch.Size([1, 224, 224, 3])\n",
            "Applying RandomResizedCrop(size=(224, 224), scale=(1, 1), ratio=(0.75, 1.3333), interpolation=bilinear, antialias=True) to image of type <class 'torch.Tensor'>\n",
            "Applying RandomPerspective(p=0.8) to image of type <class 'torch.Tensor'>\n",
            "torch.Size([3, 3, 224, 224])\n",
            "Applying RandomResizedCrop(size=(224, 224), scale=(1, 1), ratio=(0.75, 1.3333), interpolation=bilinear, antialias=True) to image of type <class 'torch.Tensor'>\n",
            "Applying ColorJitter(brightness=(0.8, 1.2), contrast=(0.8, 1.2), saturation=(0.8, 1.2), hue=(-0.1, 0.1)) to image of type <class 'torch.Tensor'>\n",
            "torch.Size([3, 3, 224, 224])\n",
            "Applying GaussianBlur(kernel_size=(5, 5), sigma=(0.1, 2.0)) to image of type <class 'torch.Tensor'>\n",
            "Applying RandomPerspective(p=0.8) to image of type <class 'torch.Tensor'>\n",
            "torch.Size([3, 3, 224, 224])\n",
            "Applying GaussianBlur(kernel_size=(5, 5), sigma=(0.1, 2.0)) to image of type <class 'torch.Tensor'>\n",
            "Applying ColorJitter(brightness=(0.8, 1.2), contrast=(0.8, 1.2), saturation=(0.8, 1.2), hue=(-0.1, 0.1)) to image of type <class 'torch.Tensor'>\n",
            "torch.Size([3, 3, 224, 224])\n"
          ]
        },
        {
          "output_type": "stream",
          "name": "stderr",
          "text": [
            "\r 17%|█▋        | 174/1000 [01:38<07:56,  1.73it/s]"
          ]
        },
        {
          "output_type": "stream",
          "name": "stdout",
          "text": [
            "image shape: torch.Size([1, 224, 224, 3])\n",
            "image shape: torch.Size([1, 224, 224, 3])\n",
            "image shape: torch.Size([1, 224, 224, 3])\n",
            "Applying GaussianBlur(kernel_size=(5, 5), sigma=(0.1, 2.0)) to image of type <class 'torch.Tensor'>\n",
            "Applying ColorJitter(brightness=(0.8, 1.2), contrast=(0.8, 1.2), saturation=(0.8, 1.2), hue=(-0.1, 0.1)) to image of type <class 'torch.Tensor'>\n",
            "torch.Size([3, 3, 224, 224])\n",
            "Applying RandomPerspective(p=0.8) to image of type <class 'torch.Tensor'>\n",
            "Applying RandomResizedCrop(size=(224, 224), scale=(1, 1), ratio=(0.75, 1.3333), interpolation=bilinear, antialias=True) to image of type <class 'torch.Tensor'>\n",
            "torch.Size([3, 3, 224, 224])\n",
            "Applying RandomResizedCrop(size=(224, 224), scale=(1, 1), ratio=(0.75, 1.3333), interpolation=bilinear, antialias=True) to image of type <class 'torch.Tensor'>\n",
            "Applying ColorJitter(brightness=(0.8, 1.2), contrast=(0.8, 1.2), saturation=(0.8, 1.2), hue=(-0.1, 0.1)) to image of type <class 'torch.Tensor'>\n",
            "torch.Size([3, 3, 224, 224])\n",
            "Applying GaussianBlur(kernel_size=(5, 5), sigma=(0.1, 2.0)) to image of type <class 'torch.Tensor'>\n",
            "Applying RandomResizedCrop(size=(224, 224), scale=(1, 1), ratio=(0.75, 1.3333), interpolation=bilinear, antialias=True) to image of type <class 'torch.Tensor'>\n",
            "torch.Size([3, 3, 224, 224])\n"
          ]
        },
        {
          "output_type": "stream",
          "name": "stderr",
          "text": [
            "\r 18%|█▊        | 175/1000 [01:38<07:49,  1.76it/s]"
          ]
        },
        {
          "output_type": "stream",
          "name": "stdout",
          "text": [
            "image shape: torch.Size([1, 224, 224, 3])\n",
            "image shape: torch.Size([1, 224, 224, 3])\n",
            "image shape: torch.Size([1, 224, 224, 3])\n",
            "Applying RandomPerspective(p=0.8) to image of type <class 'torch.Tensor'>\n",
            "Applying GaussianBlur(kernel_size=(5, 5), sigma=(0.1, 2.0)) to image of type <class 'torch.Tensor'>\n",
            "torch.Size([3, 3, 224, 224])\n",
            "Applying GaussianBlur(kernel_size=(5, 5), sigma=(0.1, 2.0)) to image of type <class 'torch.Tensor'>\n",
            "Applying RandomPerspective(p=0.8) to image of type <class 'torch.Tensor'>\n",
            "torch.Size([3, 3, 224, 224])\n",
            "Applying RandomPerspective(p=0.8) to image of type <class 'torch.Tensor'>\n",
            "Applying RandomResizedCrop(size=(224, 224), scale=(1, 1), ratio=(0.75, 1.3333), interpolation=bilinear, antialias=True) to image of type <class 'torch.Tensor'>\n",
            "torch.Size([3, 3, 224, 224])\n",
            "Applying ColorJitter(brightness=(0.8, 1.2), contrast=(0.8, 1.2), saturation=(0.8, 1.2), hue=(-0.1, 0.1)) to image of type <class 'torch.Tensor'>\n",
            "Applying GaussianBlur(kernel_size=(5, 5), sigma=(0.1, 2.0)) to image of type <class 'torch.Tensor'>\n",
            "torch.Size([3, 3, 224, 224])\n"
          ]
        },
        {
          "output_type": "stream",
          "name": "stderr",
          "text": [
            "\r 18%|█▊        | 176/1000 [01:39<07:45,  1.77it/s]"
          ]
        },
        {
          "output_type": "stream",
          "name": "stdout",
          "text": [
            "image shape: torch.Size([1, 224, 224, 3])\n",
            "image shape: torch.Size([1, 224, 224, 3])\n",
            "image shape: torch.Size([1, 224, 224, 3])\n",
            "Applying RandomResizedCrop(size=(224, 224), scale=(1, 1), ratio=(0.75, 1.3333), interpolation=bilinear, antialias=True) to image of type <class 'torch.Tensor'>\n",
            "Applying GaussianBlur(kernel_size=(5, 5), sigma=(0.1, 2.0)) to image of type <class 'torch.Tensor'>\n",
            "torch.Size([3, 3, 224, 224])\n",
            "Applying ColorJitter(brightness=(0.8, 1.2), contrast=(0.8, 1.2), saturation=(0.8, 1.2), hue=(-0.1, 0.1)) to image of type <class 'torch.Tensor'>\n",
            "Applying GaussianBlur(kernel_size=(5, 5), sigma=(0.1, 2.0)) to image of type <class 'torch.Tensor'>\n",
            "torch.Size([3, 3, 224, 224])\n",
            "Applying ColorJitter(brightness=(0.8, 1.2), contrast=(0.8, 1.2), saturation=(0.8, 1.2), hue=(-0.1, 0.1)) to image of type <class 'torch.Tensor'>\n",
            "Applying RandomResizedCrop(size=(224, 224), scale=(1, 1), ratio=(0.75, 1.3333), interpolation=bilinear, antialias=True) to image of type <class 'torch.Tensor'>\n",
            "torch.Size([3, 3, 224, 224])\n",
            "Applying RandomPerspective(p=0.8) to image of type <class 'torch.Tensor'>\n",
            "Applying ColorJitter(brightness=(0.8, 1.2), contrast=(0.8, 1.2), saturation=(0.8, 1.2), hue=(-0.1, 0.1)) to image of type <class 'torch.Tensor'>\n",
            "torch.Size([3, 3, 224, 224])\n"
          ]
        },
        {
          "output_type": "stream",
          "name": "stderr",
          "text": [
            "\r 18%|█▊        | 177/1000 [01:40<07:42,  1.78it/s]"
          ]
        },
        {
          "output_type": "stream",
          "name": "stdout",
          "text": [
            "image shape: torch.Size([1, 224, 224, 3])\n",
            "image shape: torch.Size([1, 224, 224, 3])\n",
            "image shape: torch.Size([1, 224, 224, 3])\n",
            "Applying RandomPerspective(p=0.8) to image of type <class 'torch.Tensor'>\n",
            "Applying RandomResizedCrop(size=(224, 224), scale=(1, 1), ratio=(0.75, 1.3333), interpolation=bilinear, antialias=True) to image of type <class 'torch.Tensor'>\n",
            "torch.Size([3, 3, 224, 224])\n",
            "Applying RandomResizedCrop(size=(224, 224), scale=(1, 1), ratio=(0.75, 1.3333), interpolation=bilinear, antialias=True) to image of type <class 'torch.Tensor'>\n",
            "Applying ColorJitter(brightness=(0.8, 1.2), contrast=(0.8, 1.2), saturation=(0.8, 1.2), hue=(-0.1, 0.1)) to image of type <class 'torch.Tensor'>\n",
            "torch.Size([3, 3, 224, 224])\n",
            "Applying GaussianBlur(kernel_size=(5, 5), sigma=(0.1, 2.0)) to image of type <class 'torch.Tensor'>\n",
            "Applying RandomResizedCrop(size=(224, 224), scale=(1, 1), ratio=(0.75, 1.3333), interpolation=bilinear, antialias=True) to image of type <class 'torch.Tensor'>\n",
            "torch.Size([3, 3, 224, 224])\n",
            "Applying ColorJitter(brightness=(0.8, 1.2), contrast=(0.8, 1.2), saturation=(0.8, 1.2), hue=(-0.1, 0.1)) to image of type <class 'torch.Tensor'>\n",
            "Applying GaussianBlur(kernel_size=(5, 5), sigma=(0.1, 2.0)) to image of type <class 'torch.Tensor'>\n",
            "torch.Size([3, 3, 224, 224])\n"
          ]
        },
        {
          "output_type": "stream",
          "name": "stderr",
          "text": [
            "\r 18%|█▊        | 178/1000 [01:40<07:39,  1.79it/s]"
          ]
        },
        {
          "output_type": "stream",
          "name": "stdout",
          "text": [
            "image shape: torch.Size([1, 224, 224, 3])\n",
            "image shape: torch.Size([1, 224, 224, 3])\n",
            "image shape: torch.Size([1, 224, 224, 3])\n",
            "Applying ColorJitter(brightness=(0.8, 1.2), contrast=(0.8, 1.2), saturation=(0.8, 1.2), hue=(-0.1, 0.1)) to image of type <class 'torch.Tensor'>\n",
            "Applying RandomPerspective(p=0.8) to image of type <class 'torch.Tensor'>\n",
            "torch.Size([3, 3, 224, 224])\n",
            "Applying RandomPerspective(p=0.8) to image of type <class 'torch.Tensor'>\n",
            "Applying RandomResizedCrop(size=(224, 224), scale=(1, 1), ratio=(0.75, 1.3333), interpolation=bilinear, antialias=True) to image of type <class 'torch.Tensor'>\n",
            "torch.Size([3, 3, 224, 224])\n",
            "Applying GaussianBlur(kernel_size=(5, 5), sigma=(0.1, 2.0)) to image of type <class 'torch.Tensor'>\n",
            "Applying RandomPerspective(p=0.8) to image of type <class 'torch.Tensor'>\n",
            "torch.Size([3, 3, 224, 224])\n",
            "Applying RandomResizedCrop(size=(224, 224), scale=(1, 1), ratio=(0.75, 1.3333), interpolation=bilinear, antialias=True) to image of type <class 'torch.Tensor'>\n",
            "Applying ColorJitter(brightness=(0.8, 1.2), contrast=(0.8, 1.2), saturation=(0.8, 1.2), hue=(-0.1, 0.1)) to image of type <class 'torch.Tensor'>\n",
            "torch.Size([3, 3, 224, 224])\n"
          ]
        },
        {
          "output_type": "stream",
          "name": "stderr",
          "text": [
            "\r 18%|█▊        | 179/1000 [01:41<07:37,  1.79it/s]"
          ]
        },
        {
          "output_type": "stream",
          "name": "stdout",
          "text": [
            "image shape: torch.Size([1, 224, 224, 3])\n",
            "image shape: torch.Size([1, 224, 224, 3])\n",
            "image shape: torch.Size([1, 224, 224, 3])\n",
            "Applying RandomResizedCrop(size=(224, 224), scale=(1, 1), ratio=(0.75, 1.3333), interpolation=bilinear, antialias=True) to image of type <class 'torch.Tensor'>\n",
            "Applying ColorJitter(brightness=(0.8, 1.2), contrast=(0.8, 1.2), saturation=(0.8, 1.2), hue=(-0.1, 0.1)) to image of type <class 'torch.Tensor'>\n",
            "torch.Size([3, 3, 224, 224])\n",
            "Applying RandomResizedCrop(size=(224, 224), scale=(1, 1), ratio=(0.75, 1.3333), interpolation=bilinear, antialias=True) to image of type <class 'torch.Tensor'>\n",
            "Applying ColorJitter(brightness=(0.8, 1.2), contrast=(0.8, 1.2), saturation=(0.8, 1.2), hue=(-0.1, 0.1)) to image of type <class 'torch.Tensor'>\n",
            "torch.Size([3, 3, 224, 224])\n",
            "Applying GaussianBlur(kernel_size=(5, 5), sigma=(0.1, 2.0)) to image of type <class 'torch.Tensor'>\n",
            "Applying RandomPerspective(p=0.8) to image of type <class 'torch.Tensor'>\n",
            "torch.Size([3, 3, 224, 224])\n",
            "Applying GaussianBlur(kernel_size=(5, 5), sigma=(0.1, 2.0)) to image of type <class 'torch.Tensor'>\n",
            "Applying RandomPerspective(p=0.8) to image of type <class 'torch.Tensor'>\n",
            "torch.Size([3, 3, 224, 224])\n"
          ]
        },
        {
          "output_type": "stream",
          "name": "stderr",
          "text": [
            "\r 18%|█▊        | 180/1000 [01:41<07:36,  1.80it/s]"
          ]
        },
        {
          "output_type": "stream",
          "name": "stdout",
          "text": [
            "image shape: torch.Size([1, 224, 224, 3])\n",
            "image shape: torch.Size([1, 224, 224, 3])\n",
            "image shape: torch.Size([1, 224, 224, 3])\n",
            "Applying GaussianBlur(kernel_size=(5, 5), sigma=(0.1, 2.0)) to image of type <class 'torch.Tensor'>\n",
            "Applying ColorJitter(brightness=(0.8, 1.2), contrast=(0.8, 1.2), saturation=(0.8, 1.2), hue=(-0.1, 0.1)) to image of type <class 'torch.Tensor'>\n",
            "torch.Size([3, 3, 224, 224])\n",
            "Applying RandomResizedCrop(size=(224, 224), scale=(1, 1), ratio=(0.75, 1.3333), interpolation=bilinear, antialias=True) to image of type <class 'torch.Tensor'>\n",
            "Applying ColorJitter(brightness=(0.8, 1.2), contrast=(0.8, 1.2), saturation=(0.8, 1.2), hue=(-0.1, 0.1)) to image of type <class 'torch.Tensor'>\n",
            "torch.Size([3, 3, 224, 224])\n",
            "Applying RandomResizedCrop(size=(224, 224), scale=(1, 1), ratio=(0.75, 1.3333), interpolation=bilinear, antialias=True) to image of type <class 'torch.Tensor'>\n",
            "Applying ColorJitter(brightness=(0.8, 1.2), contrast=(0.8, 1.2), saturation=(0.8, 1.2), hue=(-0.1, 0.1)) to image of type <class 'torch.Tensor'>\n",
            "torch.Size([3, 3, 224, 224])\n",
            "Applying ColorJitter(brightness=(0.8, 1.2), contrast=(0.8, 1.2), saturation=(0.8, 1.2), hue=(-0.1, 0.1)) to image of type <class 'torch.Tensor'>\n",
            "Applying RandomPerspective(p=0.8) to image of type <class 'torch.Tensor'>\n",
            "torch.Size([3, 3, 224, 224])\n"
          ]
        },
        {
          "output_type": "stream",
          "name": "stderr",
          "text": [
            "\r 18%|█▊        | 181/1000 [01:42<07:35,  1.80it/s]"
          ]
        },
        {
          "output_type": "stream",
          "name": "stdout",
          "text": [
            "image shape: torch.Size([1, 224, 224, 3])\n",
            "image shape: torch.Size([1, 224, 224, 3])\n",
            "image shape: torch.Size([1, 224, 224, 3])\n",
            "Applying GaussianBlur(kernel_size=(5, 5), sigma=(0.1, 2.0)) to image of type <class 'torch.Tensor'>\n",
            "Applying RandomPerspective(p=0.8) to image of type <class 'torch.Tensor'>\n",
            "torch.Size([3, 3, 224, 224])\n",
            "Applying RandomPerspective(p=0.8) to image of type <class 'torch.Tensor'>\n",
            "Applying RandomResizedCrop(size=(224, 224), scale=(1, 1), ratio=(0.75, 1.3333), interpolation=bilinear, antialias=True) to image of type <class 'torch.Tensor'>\n",
            "torch.Size([3, 3, 224, 224])\n",
            "Applying GaussianBlur(kernel_size=(5, 5), sigma=(0.1, 2.0)) to image of type <class 'torch.Tensor'>\n",
            "Applying RandomResizedCrop(size=(224, 224), scale=(1, 1), ratio=(0.75, 1.3333), interpolation=bilinear, antialias=True) to image of type <class 'torch.Tensor'>\n",
            "torch.Size([3, 3, 224, 224])\n",
            "Applying ColorJitter(brightness=(0.8, 1.2), contrast=(0.8, 1.2), saturation=(0.8, 1.2), hue=(-0.1, 0.1)) to image of type <class 'torch.Tensor'>\n",
            "Applying GaussianBlur(kernel_size=(5, 5), sigma=(0.1, 2.0)) to image of type <class 'torch.Tensor'>\n",
            "torch.Size([3, 3, 224, 224])\n"
          ]
        },
        {
          "output_type": "stream",
          "name": "stderr",
          "text": [
            "\r 18%|█▊        | 182/1000 [01:42<07:33,  1.80it/s]"
          ]
        },
        {
          "output_type": "stream",
          "name": "stdout",
          "text": [
            "image shape: torch.Size([1, 224, 224, 3])\n",
            "image shape: torch.Size([1, 224, 224, 3])\n",
            "image shape: torch.Size([1, 224, 224, 3])\n",
            "Applying GaussianBlur(kernel_size=(5, 5), sigma=(0.1, 2.0)) to image of type <class 'torch.Tensor'>\n",
            "Applying RandomPerspective(p=0.8) to image of type <class 'torch.Tensor'>\n",
            "torch.Size([3, 3, 224, 224])\n",
            "Applying RandomResizedCrop(size=(224, 224), scale=(1, 1), ratio=(0.75, 1.3333), interpolation=bilinear, antialias=True) to image of type <class 'torch.Tensor'>\n",
            "Applying ColorJitter(brightness=(0.8, 1.2), contrast=(0.8, 1.2), saturation=(0.8, 1.2), hue=(-0.1, 0.1)) to image of type <class 'torch.Tensor'>\n",
            "torch.Size([3, 3, 224, 224])\n",
            "Applying RandomPerspective(p=0.8) to image of type <class 'torch.Tensor'>\n",
            "Applying GaussianBlur(kernel_size=(5, 5), sigma=(0.1, 2.0)) to image of type <class 'torch.Tensor'>\n",
            "torch.Size([3, 3, 224, 224])\n",
            "Applying RandomPerspective(p=0.8) to image of type <class 'torch.Tensor'>\n",
            "Applying RandomResizedCrop(size=(224, 224), scale=(1, 1), ratio=(0.75, 1.3333), interpolation=bilinear, antialias=True) to image of type <class 'torch.Tensor'>\n",
            "torch.Size([3, 3, 224, 224])\n"
          ]
        },
        {
          "output_type": "stream",
          "name": "stderr",
          "text": [
            "\r 18%|█▊        | 183/1000 [01:43<07:32,  1.81it/s]"
          ]
        },
        {
          "output_type": "stream",
          "name": "stdout",
          "text": [
            "image shape: torch.Size([1, 224, 224, 3])\n",
            "image shape: torch.Size([1, 224, 224, 3])\n",
            "image shape: torch.Size([1, 224, 224, 3])\n",
            "Applying RandomPerspective(p=0.8) to image of type <class 'torch.Tensor'>\n",
            "Applying RandomResizedCrop(size=(224, 224), scale=(1, 1), ratio=(0.75, 1.3333), interpolation=bilinear, antialias=True) to image of type <class 'torch.Tensor'>\n",
            "torch.Size([3, 3, 224, 224])\n",
            "Applying RandomResizedCrop(size=(224, 224), scale=(1, 1), ratio=(0.75, 1.3333), interpolation=bilinear, antialias=True) to image of type <class 'torch.Tensor'>\n",
            "Applying RandomPerspective(p=0.8) to image of type <class 'torch.Tensor'>\n",
            "torch.Size([3, 3, 224, 224])\n",
            "Applying RandomResizedCrop(size=(224, 224), scale=(1, 1), ratio=(0.75, 1.3333), interpolation=bilinear, antialias=True) to image of type <class 'torch.Tensor'>\n",
            "Applying RandomPerspective(p=0.8) to image of type <class 'torch.Tensor'>\n",
            "torch.Size([3, 3, 224, 224])\n",
            "Applying ColorJitter(brightness=(0.8, 1.2), contrast=(0.8, 1.2), saturation=(0.8, 1.2), hue=(-0.1, 0.1)) to image of type <class 'torch.Tensor'>\n",
            "Applying GaussianBlur(kernel_size=(5, 5), sigma=(0.1, 2.0)) to image of type <class 'torch.Tensor'>\n",
            "torch.Size([3, 3, 224, 224])\n"
          ]
        },
        {
          "output_type": "stream",
          "name": "stderr",
          "text": [
            "\r 18%|█▊        | 184/1000 [01:43<07:31,  1.81it/s]"
          ]
        },
        {
          "output_type": "stream",
          "name": "stdout",
          "text": [
            "image shape: torch.Size([1, 224, 224, 3])\n",
            "image shape: torch.Size([1, 224, 224, 3])\n",
            "image shape: torch.Size([1, 224, 224, 3])\n",
            "Applying RandomPerspective(p=0.8) to image of type <class 'torch.Tensor'>\n",
            "Applying GaussianBlur(kernel_size=(5, 5), sigma=(0.1, 2.0)) to image of type <class 'torch.Tensor'>\n",
            "torch.Size([3, 3, 224, 224])\n",
            "Applying ColorJitter(brightness=(0.8, 1.2), contrast=(0.8, 1.2), saturation=(0.8, 1.2), hue=(-0.1, 0.1)) to image of type <class 'torch.Tensor'>\n",
            "Applying RandomResizedCrop(size=(224, 224), scale=(1, 1), ratio=(0.75, 1.3333), interpolation=bilinear, antialias=True) to image of type <class 'torch.Tensor'>\n",
            "torch.Size([3, 3, 224, 224])\n",
            "Applying RandomResizedCrop(size=(224, 224), scale=(1, 1), ratio=(0.75, 1.3333), interpolation=bilinear, antialias=True) to image of type <class 'torch.Tensor'>\n",
            "Applying GaussianBlur(kernel_size=(5, 5), sigma=(0.1, 2.0)) to image of type <class 'torch.Tensor'>\n",
            "torch.Size([3, 3, 224, 224])\n",
            "Applying RandomPerspective(p=0.8) to image of type <class 'torch.Tensor'>\n",
            "Applying RandomResizedCrop(size=(224, 224), scale=(1, 1), ratio=(0.75, 1.3333), interpolation=bilinear, antialias=True) to image of type <class 'torch.Tensor'>\n",
            "torch.Size([3, 3, 224, 224])\n"
          ]
        },
        {
          "output_type": "stream",
          "name": "stderr",
          "text": [
            "\r 18%|█▊        | 185/1000 [01:44<07:30,  1.81it/s]"
          ]
        },
        {
          "output_type": "stream",
          "name": "stdout",
          "text": [
            "image shape: torch.Size([1, 224, 224, 3])\n",
            "image shape: torch.Size([1, 224, 224, 3])\n",
            "image shape: torch.Size([1, 224, 224, 3])\n",
            "Applying ColorJitter(brightness=(0.8, 1.2), contrast=(0.8, 1.2), saturation=(0.8, 1.2), hue=(-0.1, 0.1)) to image of type <class 'torch.Tensor'>\n",
            "Applying RandomPerspective(p=0.8) to image of type <class 'torch.Tensor'>\n",
            "torch.Size([3, 3, 224, 224])\n",
            "Applying ColorJitter(brightness=(0.8, 1.2), contrast=(0.8, 1.2), saturation=(0.8, 1.2), hue=(-0.1, 0.1)) to image of type <class 'torch.Tensor'>\n",
            "Applying RandomPerspective(p=0.8) to image of type <class 'torch.Tensor'>\n",
            "torch.Size([3, 3, 224, 224])\n",
            "Applying RandomResizedCrop(size=(224, 224), scale=(1, 1), ratio=(0.75, 1.3333), interpolation=bilinear, antialias=True) to image of type <class 'torch.Tensor'>\n",
            "Applying GaussianBlur(kernel_size=(5, 5), sigma=(0.1, 2.0)) to image of type <class 'torch.Tensor'>\n",
            "torch.Size([3, 3, 224, 224])\n",
            "Applying GaussianBlur(kernel_size=(5, 5), sigma=(0.1, 2.0)) to image of type <class 'torch.Tensor'>\n",
            "Applying ColorJitter(brightness=(0.8, 1.2), contrast=(0.8, 1.2), saturation=(0.8, 1.2), hue=(-0.1, 0.1)) to image of type <class 'torch.Tensor'>\n",
            "torch.Size([3, 3, 224, 224])\n"
          ]
        },
        {
          "output_type": "stream",
          "name": "stderr",
          "text": [
            "\r 19%|█▊        | 186/1000 [01:45<07:30,  1.81it/s]"
          ]
        },
        {
          "output_type": "stream",
          "name": "stdout",
          "text": [
            "image shape: torch.Size([1, 224, 224, 3])\n",
            "image shape: torch.Size([1, 224, 224, 3])\n",
            "image shape: torch.Size([1, 224, 224, 3])\n",
            "Applying GaussianBlur(kernel_size=(5, 5), sigma=(0.1, 2.0)) to image of type <class 'torch.Tensor'>\n",
            "Applying RandomPerspective(p=0.8) to image of type <class 'torch.Tensor'>\n",
            "torch.Size([3, 3, 224, 224])\n",
            "Applying RandomPerspective(p=0.8) to image of type <class 'torch.Tensor'>\n",
            "Applying GaussianBlur(kernel_size=(5, 5), sigma=(0.1, 2.0)) to image of type <class 'torch.Tensor'>\n",
            "torch.Size([3, 3, 224, 224])\n",
            "Applying RandomPerspective(p=0.8) to image of type <class 'torch.Tensor'>\n",
            "Applying RandomResizedCrop(size=(224, 224), scale=(1, 1), ratio=(0.75, 1.3333), interpolation=bilinear, antialias=True) to image of type <class 'torch.Tensor'>\n",
            "torch.Size([3, 3, 224, 224])\n",
            "Applying GaussianBlur(kernel_size=(5, 5), sigma=(0.1, 2.0)) to image of type <class 'torch.Tensor'>\n",
            "Applying RandomResizedCrop(size=(224, 224), scale=(1, 1), ratio=(0.75, 1.3333), interpolation=bilinear, antialias=True) to image of type <class 'torch.Tensor'>\n",
            "torch.Size([3, 3, 224, 224])\n"
          ]
        },
        {
          "output_type": "stream",
          "name": "stderr",
          "text": [
            "\r 19%|█▊        | 187/1000 [01:45<07:29,  1.81it/s]"
          ]
        },
        {
          "output_type": "stream",
          "name": "stdout",
          "text": [
            "image shape: torch.Size([1, 224, 224, 3])\n",
            "image shape: torch.Size([1, 224, 224, 3])\n",
            "image shape: torch.Size([1, 224, 224, 3])\n",
            "Applying GaussianBlur(kernel_size=(5, 5), sigma=(0.1, 2.0)) to image of type <class 'torch.Tensor'>\n",
            "Applying ColorJitter(brightness=(0.8, 1.2), contrast=(0.8, 1.2), saturation=(0.8, 1.2), hue=(-0.1, 0.1)) to image of type <class 'torch.Tensor'>\n",
            "torch.Size([3, 3, 224, 224])\n",
            "Applying RandomPerspective(p=0.8) to image of type <class 'torch.Tensor'>\n",
            "Applying ColorJitter(brightness=(0.8, 1.2), contrast=(0.8, 1.2), saturation=(0.8, 1.2), hue=(-0.1, 0.1)) to image of type <class 'torch.Tensor'>\n",
            "torch.Size([3, 3, 224, 224])\n",
            "Applying RandomResizedCrop(size=(224, 224), scale=(1, 1), ratio=(0.75, 1.3333), interpolation=bilinear, antialias=True) to image of type <class 'torch.Tensor'>\n",
            "Applying ColorJitter(brightness=(0.8, 1.2), contrast=(0.8, 1.2), saturation=(0.8, 1.2), hue=(-0.1, 0.1)) to image of type <class 'torch.Tensor'>\n",
            "torch.Size([3, 3, 224, 224])\n",
            "Applying RandomResizedCrop(size=(224, 224), scale=(1, 1), ratio=(0.75, 1.3333), interpolation=bilinear, antialias=True) to image of type <class 'torch.Tensor'>\n",
            "Applying ColorJitter(brightness=(0.8, 1.2), contrast=(0.8, 1.2), saturation=(0.8, 1.2), hue=(-0.1, 0.1)) to image of type <class 'torch.Tensor'>\n",
            "torch.Size([3, 3, 224, 224])\n"
          ]
        },
        {
          "output_type": "stream",
          "name": "stderr",
          "text": [
            "\r 19%|█▉        | 188/1000 [01:46<07:31,  1.80it/s]"
          ]
        },
        {
          "output_type": "stream",
          "name": "stdout",
          "text": [
            "image shape: torch.Size([1, 224, 224, 3])\n",
            "image shape: torch.Size([1, 224, 224, 3])\n",
            "image shape: torch.Size([1, 224, 224, 3])\n",
            "Applying GaussianBlur(kernel_size=(5, 5), sigma=(0.1, 2.0)) to image of type <class 'torch.Tensor'>\n",
            "Applying ColorJitter(brightness=(0.8, 1.2), contrast=(0.8, 1.2), saturation=(0.8, 1.2), hue=(-0.1, 0.1)) to image of type <class 'torch.Tensor'>\n",
            "torch.Size([3, 3, 224, 224])\n",
            "Applying RandomResizedCrop(size=(224, 224), scale=(1, 1), ratio=(0.75, 1.3333), interpolation=bilinear, antialias=True) to image of type <class 'torch.Tensor'>\n",
            "Applying GaussianBlur(kernel_size=(5, 5), sigma=(0.1, 2.0)) to image of type <class 'torch.Tensor'>\n",
            "torch.Size([3, 3, 224, 224])\n",
            "Applying RandomPerspective(p=0.8) to image of type <class 'torch.Tensor'>\n",
            "Applying ColorJitter(brightness=(0.8, 1.2), contrast=(0.8, 1.2), saturation=(0.8, 1.2), hue=(-0.1, 0.1)) to image of type <class 'torch.Tensor'>\n",
            "torch.Size([3, 3, 224, 224])\n",
            "Applying RandomResizedCrop(size=(224, 224), scale=(1, 1), ratio=(0.75, 1.3333), interpolation=bilinear, antialias=True) to image of type <class 'torch.Tensor'>\n",
            "Applying RandomPerspective(p=0.8) to image of type <class 'torch.Tensor'>\n",
            "torch.Size([3, 3, 224, 224])\n"
          ]
        },
        {
          "output_type": "stream",
          "name": "stderr",
          "text": [
            "\r 19%|█▉        | 189/1000 [01:46<07:30,  1.80it/s]"
          ]
        },
        {
          "output_type": "stream",
          "name": "stdout",
          "text": [
            "image shape: torch.Size([1, 224, 224, 3])\n",
            "image shape: torch.Size([1, 224, 224, 3])\n",
            "image shape: torch.Size([1, 224, 224, 3])\n",
            "Applying RandomResizedCrop(size=(224, 224), scale=(1, 1), ratio=(0.75, 1.3333), interpolation=bilinear, antialias=True) to image of type <class 'torch.Tensor'>\n",
            "Applying RandomPerspective(p=0.8) to image of type <class 'torch.Tensor'>\n",
            "torch.Size([3, 3, 224, 224])\n",
            "Applying GaussianBlur(kernel_size=(5, 5), sigma=(0.1, 2.0)) to image of type <class 'torch.Tensor'>\n",
            "Applying ColorJitter(brightness=(0.8, 1.2), contrast=(0.8, 1.2), saturation=(0.8, 1.2), hue=(-0.1, 0.1)) to image of type <class 'torch.Tensor'>\n",
            "torch.Size([3, 3, 224, 224])\n",
            "Applying RandomResizedCrop(size=(224, 224), scale=(1, 1), ratio=(0.75, 1.3333), interpolation=bilinear, antialias=True) to image of type <class 'torch.Tensor'>\n",
            "Applying ColorJitter(brightness=(0.8, 1.2), contrast=(0.8, 1.2), saturation=(0.8, 1.2), hue=(-0.1, 0.1)) to image of type <class 'torch.Tensor'>\n",
            "torch.Size([3, 3, 224, 224])\n",
            "Applying ColorJitter(brightness=(0.8, 1.2), contrast=(0.8, 1.2), saturation=(0.8, 1.2), hue=(-0.1, 0.1)) to image of type <class 'torch.Tensor'>\n",
            "Applying GaussianBlur(kernel_size=(5, 5), sigma=(0.1, 2.0)) to image of type <class 'torch.Tensor'>\n",
            "torch.Size([3, 3, 224, 224])\n"
          ]
        },
        {
          "output_type": "stream",
          "name": "stderr",
          "text": [
            "\r 19%|█▉        | 190/1000 [01:47<07:29,  1.80it/s]"
          ]
        },
        {
          "output_type": "stream",
          "name": "stdout",
          "text": [
            "image shape: torch.Size([1, 224, 224, 3])\n",
            "image shape: torch.Size([1, 224, 224, 3])\n",
            "image shape: torch.Size([1, 224, 224, 3])\n",
            "Applying GaussianBlur(kernel_size=(5, 5), sigma=(0.1, 2.0)) to image of type <class 'torch.Tensor'>\n",
            "Applying RandomPerspective(p=0.8) to image of type <class 'torch.Tensor'>\n",
            "torch.Size([3, 3, 224, 224])\n",
            "Applying ColorJitter(brightness=(0.8, 1.2), contrast=(0.8, 1.2), saturation=(0.8, 1.2), hue=(-0.1, 0.1)) to image of type <class 'torch.Tensor'>\n",
            "Applying RandomResizedCrop(size=(224, 224), scale=(1, 1), ratio=(0.75, 1.3333), interpolation=bilinear, antialias=True) to image of type <class 'torch.Tensor'>\n",
            "torch.Size([3, 3, 224, 224])\n",
            "Applying GaussianBlur(kernel_size=(5, 5), sigma=(0.1, 2.0)) to image of type <class 'torch.Tensor'>\n",
            "Applying RandomResizedCrop(size=(224, 224), scale=(1, 1), ratio=(0.75, 1.3333), interpolation=bilinear, antialias=True) to image of type <class 'torch.Tensor'>\n",
            "torch.Size([3, 3, 224, 224])\n",
            "Applying RandomPerspective(p=0.8) to image of type <class 'torch.Tensor'>\n",
            "Applying GaussianBlur(kernel_size=(5, 5), sigma=(0.1, 2.0)) to image of type <class 'torch.Tensor'>\n",
            "torch.Size([3, 3, 224, 224])\n"
          ]
        },
        {
          "output_type": "stream",
          "name": "stderr",
          "text": [
            "\r 19%|█▉        | 191/1000 [01:47<07:28,  1.81it/s]"
          ]
        },
        {
          "output_type": "stream",
          "name": "stdout",
          "text": [
            "image shape: torch.Size([1, 224, 224, 3])\n",
            "image shape: torch.Size([1, 224, 224, 3])\n",
            "image shape: torch.Size([1, 224, 224, 3])\n",
            "Applying RandomResizedCrop(size=(224, 224), scale=(1, 1), ratio=(0.75, 1.3333), interpolation=bilinear, antialias=True) to image of type <class 'torch.Tensor'>\n",
            "Applying RandomPerspective(p=0.8) to image of type <class 'torch.Tensor'>\n",
            "torch.Size([3, 3, 224, 224])\n",
            "Applying ColorJitter(brightness=(0.8, 1.2), contrast=(0.8, 1.2), saturation=(0.8, 1.2), hue=(-0.1, 0.1)) to image of type <class 'torch.Tensor'>\n",
            "Applying RandomResizedCrop(size=(224, 224), scale=(1, 1), ratio=(0.75, 1.3333), interpolation=bilinear, antialias=True) to image of type <class 'torch.Tensor'>\n",
            "torch.Size([3, 3, 224, 224])\n",
            "Applying ColorJitter(brightness=(0.8, 1.2), contrast=(0.8, 1.2), saturation=(0.8, 1.2), hue=(-0.1, 0.1)) to image of type <class 'torch.Tensor'>\n",
            "Applying RandomPerspective(p=0.8) to image of type <class 'torch.Tensor'>\n",
            "torch.Size([3, 3, 224, 224])\n",
            "Applying GaussianBlur(kernel_size=(5, 5), sigma=(0.1, 2.0)) to image of type <class 'torch.Tensor'>\n",
            "Applying ColorJitter(brightness=(0.8, 1.2), contrast=(0.8, 1.2), saturation=(0.8, 1.2), hue=(-0.1, 0.1)) to image of type <class 'torch.Tensor'>\n",
            "torch.Size([3, 3, 224, 224])\n"
          ]
        },
        {
          "output_type": "stream",
          "name": "stderr",
          "text": [
            "\r 19%|█▉        | 192/1000 [01:48<07:27,  1.80it/s]"
          ]
        },
        {
          "output_type": "stream",
          "name": "stdout",
          "text": [
            "image shape: torch.Size([1, 224, 224, 3])\n",
            "image shape: torch.Size([1, 224, 224, 3])\n",
            "image shape: torch.Size([1, 224, 224, 3])\n",
            "Applying ColorJitter(brightness=(0.8, 1.2), contrast=(0.8, 1.2), saturation=(0.8, 1.2), hue=(-0.1, 0.1)) to image of type <class 'torch.Tensor'>\n",
            "Applying GaussianBlur(kernel_size=(5, 5), sigma=(0.1, 2.0)) to image of type <class 'torch.Tensor'>\n",
            "torch.Size([3, 3, 224, 224])\n",
            "Applying RandomPerspective(p=0.8) to image of type <class 'torch.Tensor'>\n",
            "Applying ColorJitter(brightness=(0.8, 1.2), contrast=(0.8, 1.2), saturation=(0.8, 1.2), hue=(-0.1, 0.1)) to image of type <class 'torch.Tensor'>\n",
            "torch.Size([3, 3, 224, 224])\n",
            "Applying GaussianBlur(kernel_size=(5, 5), sigma=(0.1, 2.0)) to image of type <class 'torch.Tensor'>\n",
            "Applying ColorJitter(brightness=(0.8, 1.2), contrast=(0.8, 1.2), saturation=(0.8, 1.2), hue=(-0.1, 0.1)) to image of type <class 'torch.Tensor'>\n",
            "torch.Size([3, 3, 224, 224])\n",
            "Applying RandomPerspective(p=0.8) to image of type <class 'torch.Tensor'>\n",
            "Applying GaussianBlur(kernel_size=(5, 5), sigma=(0.1, 2.0)) to image of type <class 'torch.Tensor'>\n",
            "torch.Size([3, 3, 224, 224])\n"
          ]
        },
        {
          "output_type": "stream",
          "name": "stderr",
          "text": [
            "\r 19%|█▉        | 193/1000 [01:48<07:33,  1.78it/s]"
          ]
        },
        {
          "output_type": "stream",
          "name": "stdout",
          "text": [
            "image shape: torch.Size([1, 224, 224, 3])\n",
            "image shape: torch.Size([1, 224, 224, 3])\n",
            "image shape: torch.Size([1, 224, 224, 3])\n",
            "Applying RandomResizedCrop(size=(224, 224), scale=(1, 1), ratio=(0.75, 1.3333), interpolation=bilinear, antialias=True) to image of type <class 'torch.Tensor'>\n",
            "Applying RandomPerspective(p=0.8) to image of type <class 'torch.Tensor'>\n",
            "torch.Size([3, 3, 224, 224])\n",
            "Applying RandomPerspective(p=0.8) to image of type <class 'torch.Tensor'>\n",
            "Applying RandomResizedCrop(size=(224, 224), scale=(1, 1), ratio=(0.75, 1.3333), interpolation=bilinear, antialias=True) to image of type <class 'torch.Tensor'>\n",
            "torch.Size([3, 3, 224, 224])\n",
            "Applying RandomPerspective(p=0.8) to image of type <class 'torch.Tensor'>\n",
            "Applying RandomResizedCrop(size=(224, 224), scale=(1, 1), ratio=(0.75, 1.3333), interpolation=bilinear, antialias=True) to image of type <class 'torch.Tensor'>\n",
            "torch.Size([3, 3, 224, 224])\n",
            "Applying GaussianBlur(kernel_size=(5, 5), sigma=(0.1, 2.0)) to image of type <class 'torch.Tensor'>\n",
            "Applying ColorJitter(brightness=(0.8, 1.2), contrast=(0.8, 1.2), saturation=(0.8, 1.2), hue=(-0.1, 0.1)) to image of type <class 'torch.Tensor'>\n",
            "torch.Size([3, 3, 224, 224])\n"
          ]
        },
        {
          "output_type": "stream",
          "name": "stderr",
          "text": [
            "\r 19%|█▉        | 194/1000 [01:49<07:34,  1.78it/s]"
          ]
        },
        {
          "output_type": "stream",
          "name": "stdout",
          "text": [
            "image shape: torch.Size([1, 224, 224, 3])\n",
            "image shape: torch.Size([1, 224, 224, 3])\n",
            "image shape: torch.Size([1, 224, 224, 3])\n",
            "Applying RandomPerspective(p=0.8) to image of type <class 'torch.Tensor'>\n",
            "Applying GaussianBlur(kernel_size=(5, 5), sigma=(0.1, 2.0)) to image of type <class 'torch.Tensor'>\n",
            "torch.Size([3, 3, 224, 224])\n",
            "Applying ColorJitter(brightness=(0.8, 1.2), contrast=(0.8, 1.2), saturation=(0.8, 1.2), hue=(-0.1, 0.1)) to image of type <class 'torch.Tensor'>\n",
            "Applying GaussianBlur(kernel_size=(5, 5), sigma=(0.1, 2.0)) to image of type <class 'torch.Tensor'>\n",
            "torch.Size([3, 3, 224, 224])\n",
            "Applying RandomResizedCrop(size=(224, 224), scale=(1, 1), ratio=(0.75, 1.3333), interpolation=bilinear, antialias=True) to image of type <class 'torch.Tensor'>\n",
            "Applying RandomPerspective(p=0.8) to image of type <class 'torch.Tensor'>\n",
            "torch.Size([3, 3, 224, 224])\n",
            "Applying ColorJitter(brightness=(0.8, 1.2), contrast=(0.8, 1.2), saturation=(0.8, 1.2), hue=(-0.1, 0.1)) to image of type <class 'torch.Tensor'>\n",
            "Applying GaussianBlur(kernel_size=(5, 5), sigma=(0.1, 2.0)) to image of type <class 'torch.Tensor'>\n",
            "torch.Size([3, 3, 224, 224])\n"
          ]
        },
        {
          "output_type": "stream",
          "name": "stderr",
          "text": [
            "\r 20%|█▉        | 195/1000 [01:50<07:36,  1.76it/s]"
          ]
        },
        {
          "output_type": "stream",
          "name": "stdout",
          "text": [
            "image shape: torch.Size([1, 224, 224, 3])\n",
            "image shape: torch.Size([1, 224, 224, 3])\n",
            "image shape: torch.Size([1, 224, 224, 3])\n",
            "Applying RandomPerspective(p=0.8) to image of type <class 'torch.Tensor'>\n",
            "Applying GaussianBlur(kernel_size=(5, 5), sigma=(0.1, 2.0)) to image of type <class 'torch.Tensor'>\n",
            "torch.Size([3, 3, 224, 224])\n",
            "Applying GaussianBlur(kernel_size=(5, 5), sigma=(0.1, 2.0)) to image of type <class 'torch.Tensor'>\n",
            "Applying RandomResizedCrop(size=(224, 224), scale=(1, 1), ratio=(0.75, 1.3333), interpolation=bilinear, antialias=True) to image of type <class 'torch.Tensor'>\n",
            "torch.Size([3, 3, 224, 224])\n",
            "Applying RandomResizedCrop(size=(224, 224), scale=(1, 1), ratio=(0.75, 1.3333), interpolation=bilinear, antialias=True) to image of type <class 'torch.Tensor'>\n",
            "Applying ColorJitter(brightness=(0.8, 1.2), contrast=(0.8, 1.2), saturation=(0.8, 1.2), hue=(-0.1, 0.1)) to image of type <class 'torch.Tensor'>\n",
            "torch.Size([3, 3, 224, 224])\n",
            "Applying GaussianBlur(kernel_size=(5, 5), sigma=(0.1, 2.0)) to image of type <class 'torch.Tensor'>\n",
            "Applying RandomPerspective(p=0.8) to image of type <class 'torch.Tensor'>\n",
            "torch.Size([3, 3, 224, 224])\n"
          ]
        },
        {
          "output_type": "stream",
          "name": "stderr",
          "text": [
            "\r 20%|█▉        | 196/1000 [01:50<07:37,  1.76it/s]"
          ]
        },
        {
          "output_type": "stream",
          "name": "stdout",
          "text": [
            "image shape: torch.Size([1, 224, 224, 3])\n",
            "image shape: torch.Size([1, 224, 224, 3])\n",
            "image shape: torch.Size([1, 224, 224, 3])\n",
            "Applying RandomPerspective(p=0.8) to image of type <class 'torch.Tensor'>\n",
            "Applying RandomResizedCrop(size=(224, 224), scale=(1, 1), ratio=(0.75, 1.3333), interpolation=bilinear, antialias=True) to image of type <class 'torch.Tensor'>\n",
            "torch.Size([3, 3, 224, 224])\n",
            "Applying RandomResizedCrop(size=(224, 224), scale=(1, 1), ratio=(0.75, 1.3333), interpolation=bilinear, antialias=True) to image of type <class 'torch.Tensor'>\n",
            "Applying RandomPerspective(p=0.8) to image of type <class 'torch.Tensor'>\n",
            "torch.Size([3, 3, 224, 224])\n",
            "Applying GaussianBlur(kernel_size=(5, 5), sigma=(0.1, 2.0)) to image of type <class 'torch.Tensor'>\n",
            "Applying RandomPerspective(p=0.8) to image of type <class 'torch.Tensor'>\n",
            "torch.Size([3, 3, 224, 224])\n",
            "Applying RandomPerspective(p=0.8) to image of type <class 'torch.Tensor'>\n",
            "Applying RandomResizedCrop(size=(224, 224), scale=(1, 1), ratio=(0.75, 1.3333), interpolation=bilinear, antialias=True) to image of type <class 'torch.Tensor'>\n",
            "torch.Size([3, 3, 224, 224])\n"
          ]
        },
        {
          "output_type": "stream",
          "name": "stderr",
          "text": [
            "\r 20%|█▉        | 197/1000 [01:51<07:39,  1.75it/s]"
          ]
        },
        {
          "output_type": "stream",
          "name": "stdout",
          "text": [
            "image shape: torch.Size([1, 224, 224, 3])\n",
            "image shape: torch.Size([1, 224, 224, 3])\n",
            "image shape: torch.Size([1, 224, 224, 3])\n",
            "Applying RandomPerspective(p=0.8) to image of type <class 'torch.Tensor'>\n",
            "Applying ColorJitter(brightness=(0.8, 1.2), contrast=(0.8, 1.2), saturation=(0.8, 1.2), hue=(-0.1, 0.1)) to image of type <class 'torch.Tensor'>\n",
            "torch.Size([3, 3, 224, 224])\n",
            "Applying ColorJitter(brightness=(0.8, 1.2), contrast=(0.8, 1.2), saturation=(0.8, 1.2), hue=(-0.1, 0.1)) to image of type <class 'torch.Tensor'>\n",
            "Applying RandomResizedCrop(size=(224, 224), scale=(1, 1), ratio=(0.75, 1.3333), interpolation=bilinear, antialias=True) to image of type <class 'torch.Tensor'>\n",
            "torch.Size([3, 3, 224, 224])\n",
            "Applying RandomPerspective(p=0.8) to image of type <class 'torch.Tensor'>\n",
            "Applying ColorJitter(brightness=(0.8, 1.2), contrast=(0.8, 1.2), saturation=(0.8, 1.2), hue=(-0.1, 0.1)) to image of type <class 'torch.Tensor'>\n",
            "torch.Size([3, 3, 224, 224])\n",
            "Applying ColorJitter(brightness=(0.8, 1.2), contrast=(0.8, 1.2), saturation=(0.8, 1.2), hue=(-0.1, 0.1)) to image of type <class 'torch.Tensor'>\n",
            "Applying RandomResizedCrop(size=(224, 224), scale=(1, 1), ratio=(0.75, 1.3333), interpolation=bilinear, antialias=True) to image of type <class 'torch.Tensor'>\n",
            "torch.Size([3, 3, 224, 224])\n"
          ]
        },
        {
          "output_type": "stream",
          "name": "stderr",
          "text": [
            "\r 20%|█▉        | 198/1000 [01:51<07:44,  1.73it/s]"
          ]
        },
        {
          "output_type": "stream",
          "name": "stdout",
          "text": [
            "image shape: torch.Size([1, 224, 224, 3])\n",
            "image shape: torch.Size([1, 224, 224, 3])\n",
            "image shape: torch.Size([1, 224, 224, 3])\n",
            "Applying ColorJitter(brightness=(0.8, 1.2), contrast=(0.8, 1.2), saturation=(0.8, 1.2), hue=(-0.1, 0.1)) to image of type <class 'torch.Tensor'>\n",
            "Applying RandomResizedCrop(size=(224, 224), scale=(1, 1), ratio=(0.75, 1.3333), interpolation=bilinear, antialias=True) to image of type <class 'torch.Tensor'>\n",
            "torch.Size([3, 3, 224, 224])\n",
            "Applying RandomResizedCrop(size=(224, 224), scale=(1, 1), ratio=(0.75, 1.3333), interpolation=bilinear, antialias=True) to image of type <class 'torch.Tensor'>\n",
            "Applying ColorJitter(brightness=(0.8, 1.2), contrast=(0.8, 1.2), saturation=(0.8, 1.2), hue=(-0.1, 0.1)) to image of type <class 'torch.Tensor'>\n",
            "torch.Size([3, 3, 224, 224])\n",
            "Applying RandomResizedCrop(size=(224, 224), scale=(1, 1), ratio=(0.75, 1.3333), interpolation=bilinear, antialias=True) to image of type <class 'torch.Tensor'>\n",
            "Applying RandomPerspective(p=0.8) to image of type <class 'torch.Tensor'>\n",
            "torch.Size([3, 3, 224, 224])\n",
            "Applying RandomResizedCrop(size=(224, 224), scale=(1, 1), ratio=(0.75, 1.3333), interpolation=bilinear, antialias=True) to image of type <class 'torch.Tensor'>\n",
            "Applying RandomPerspective(p=0.8) to image of type <class 'torch.Tensor'>\n",
            "torch.Size([3, 3, 224, 224])\n"
          ]
        },
        {
          "output_type": "stream",
          "name": "stderr",
          "text": [
            "\r 20%|█▉        | 199/1000 [01:52<07:45,  1.72it/s]"
          ]
        },
        {
          "output_type": "stream",
          "name": "stdout",
          "text": [
            "image shape: torch.Size([1, 224, 224, 3])\n",
            "image shape: torch.Size([1, 224, 224, 3])\n",
            "image shape: torch.Size([1, 224, 224, 3])\n",
            "Applying RandomPerspective(p=0.8) to image of type <class 'torch.Tensor'>\n",
            "Applying GaussianBlur(kernel_size=(5, 5), sigma=(0.1, 2.0)) to image of type <class 'torch.Tensor'>\n",
            "torch.Size([3, 3, 224, 224])\n",
            "Applying ColorJitter(brightness=(0.8, 1.2), contrast=(0.8, 1.2), saturation=(0.8, 1.2), hue=(-0.1, 0.1)) to image of type <class 'torch.Tensor'>\n",
            "Applying RandomPerspective(p=0.8) to image of type <class 'torch.Tensor'>\n",
            "torch.Size([3, 3, 224, 224])\n",
            "Applying GaussianBlur(kernel_size=(5, 5), sigma=(0.1, 2.0)) to image of type <class 'torch.Tensor'>\n",
            "Applying RandomResizedCrop(size=(224, 224), scale=(1, 1), ratio=(0.75, 1.3333), interpolation=bilinear, antialias=True) to image of type <class 'torch.Tensor'>\n",
            "torch.Size([3, 3, 224, 224])\n",
            "Applying ColorJitter(brightness=(0.8, 1.2), contrast=(0.8, 1.2), saturation=(0.8, 1.2), hue=(-0.1, 0.1)) to image of type <class 'torch.Tensor'>\n",
            "Applying RandomResizedCrop(size=(224, 224), scale=(1, 1), ratio=(0.75, 1.3333), interpolation=bilinear, antialias=True) to image of type <class 'torch.Tensor'>\n",
            "torch.Size([3, 3, 224, 224])\n"
          ]
        },
        {
          "output_type": "stream",
          "name": "stderr",
          "text": [
            "\r 20%|██        | 200/1000 [01:52<07:39,  1.74it/s]"
          ]
        },
        {
          "output_type": "stream",
          "name": "stdout",
          "text": [
            "image shape: torch.Size([1, 224, 224, 3])\n",
            "image shape: torch.Size([1, 224, 224, 3])\n",
            "image shape: torch.Size([1, 224, 224, 3])\n",
            "Applying ColorJitter(brightness=(0.8, 1.2), contrast=(0.8, 1.2), saturation=(0.8, 1.2), hue=(-0.1, 0.1)) to image of type <class 'torch.Tensor'>\n",
            "Applying RandomPerspective(p=0.8) to image of type <class 'torch.Tensor'>\n",
            "torch.Size([3, 3, 224, 224])\n",
            "Applying GaussianBlur(kernel_size=(5, 5), sigma=(0.1, 2.0)) to image of type <class 'torch.Tensor'>\n",
            "Applying RandomResizedCrop(size=(224, 224), scale=(1, 1), ratio=(0.75, 1.3333), interpolation=bilinear, antialias=True) to image of type <class 'torch.Tensor'>\n",
            "torch.Size([3, 3, 224, 224])\n",
            "Applying GaussianBlur(kernel_size=(5, 5), sigma=(0.1, 2.0)) to image of type <class 'torch.Tensor'>\n",
            "Applying ColorJitter(brightness=(0.8, 1.2), contrast=(0.8, 1.2), saturation=(0.8, 1.2), hue=(-0.1, 0.1)) to image of type <class 'torch.Tensor'>\n",
            "torch.Size([3, 3, 224, 224])\n",
            "Applying ColorJitter(brightness=(0.8, 1.2), contrast=(0.8, 1.2), saturation=(0.8, 1.2), hue=(-0.1, 0.1)) to image of type <class 'torch.Tensor'>\n",
            "Applying GaussianBlur(kernel_size=(5, 5), sigma=(0.1, 2.0)) to image of type <class 'torch.Tensor'>\n",
            "torch.Size([3, 3, 224, 224])\n"
          ]
        },
        {
          "output_type": "stream",
          "name": "stderr",
          "text": [
            "\r 20%|██        | 201/1000 [01:53<07:36,  1.75it/s]"
          ]
        },
        {
          "output_type": "stream",
          "name": "stdout",
          "text": [
            "Last 100 CLIP score: nan\n",
            "image shape: torch.Size([1, 224, 224, 3])\n",
            "image shape: torch.Size([1, 224, 224, 3])\n",
            "image shape: torch.Size([1, 224, 224, 3])\n",
            "Applying RandomPerspective(p=0.8) to image of type <class 'torch.Tensor'>\n",
            "Applying GaussianBlur(kernel_size=(5, 5), sigma=(0.1, 2.0)) to image of type <class 'torch.Tensor'>\n",
            "torch.Size([3, 3, 224, 224])\n",
            "Applying GaussianBlur(kernel_size=(5, 5), sigma=(0.1, 2.0)) to image of type <class 'torch.Tensor'>\n",
            "Applying RandomResizedCrop(size=(224, 224), scale=(1, 1), ratio=(0.75, 1.3333), interpolation=bilinear, antialias=True) to image of type <class 'torch.Tensor'>\n",
            "torch.Size([3, 3, 224, 224])\n",
            "Applying ColorJitter(brightness=(0.8, 1.2), contrast=(0.8, 1.2), saturation=(0.8, 1.2), hue=(-0.1, 0.1)) to image of type <class 'torch.Tensor'>\n",
            "Applying GaussianBlur(kernel_size=(5, 5), sigma=(0.1, 2.0)) to image of type <class 'torch.Tensor'>\n",
            "torch.Size([3, 3, 224, 224])\n",
            "Applying GaussianBlur(kernel_size=(5, 5), sigma=(0.1, 2.0)) to image of type <class 'torch.Tensor'>\n",
            "Applying RandomResizedCrop(size=(224, 224), scale=(1, 1), ratio=(0.75, 1.3333), interpolation=bilinear, antialias=True) to image of type <class 'torch.Tensor'>\n",
            "torch.Size([3, 3, 224, 224])\n"
          ]
        },
        {
          "output_type": "stream",
          "name": "stderr",
          "text": [
            "\r 20%|██        | 202/1000 [01:54<07:31,  1.77it/s]"
          ]
        },
        {
          "output_type": "stream",
          "name": "stdout",
          "text": [
            "image shape: torch.Size([1, 224, 224, 3])\n",
            "image shape: torch.Size([1, 224, 224, 3])\n",
            "image shape: torch.Size([1, 224, 224, 3])\n",
            "Applying RandomPerspective(p=0.8) to image of type <class 'torch.Tensor'>\n",
            "Applying GaussianBlur(kernel_size=(5, 5), sigma=(0.1, 2.0)) to image of type <class 'torch.Tensor'>\n",
            "torch.Size([3, 3, 224, 224])\n",
            "Applying GaussianBlur(kernel_size=(5, 5), sigma=(0.1, 2.0)) to image of type <class 'torch.Tensor'>\n",
            "Applying ColorJitter(brightness=(0.8, 1.2), contrast=(0.8, 1.2), saturation=(0.8, 1.2), hue=(-0.1, 0.1)) to image of type <class 'torch.Tensor'>\n",
            "torch.Size([3, 3, 224, 224])\n",
            "Applying RandomPerspective(p=0.8) to image of type <class 'torch.Tensor'>\n",
            "Applying ColorJitter(brightness=(0.8, 1.2), contrast=(0.8, 1.2), saturation=(0.8, 1.2), hue=(-0.1, 0.1)) to image of type <class 'torch.Tensor'>\n",
            "torch.Size([3, 3, 224, 224])\n",
            "Applying GaussianBlur(kernel_size=(5, 5), sigma=(0.1, 2.0)) to image of type <class 'torch.Tensor'>\n",
            "Applying RandomResizedCrop(size=(224, 224), scale=(1, 1), ratio=(0.75, 1.3333), interpolation=bilinear, antialias=True) to image of type <class 'torch.Tensor'>\n",
            "torch.Size([3, 3, 224, 224])\n"
          ]
        },
        {
          "output_type": "stream",
          "name": "stderr",
          "text": [
            "\r 20%|██        | 203/1000 [01:54<07:28,  1.78it/s]"
          ]
        },
        {
          "output_type": "stream",
          "name": "stdout",
          "text": [
            "image shape: torch.Size([1, 224, 224, 3])\n",
            "image shape: torch.Size([1, 224, 224, 3])\n",
            "image shape: torch.Size([1, 224, 224, 3])\n",
            "Applying ColorJitter(brightness=(0.8, 1.2), contrast=(0.8, 1.2), saturation=(0.8, 1.2), hue=(-0.1, 0.1)) to image of type <class 'torch.Tensor'>\n",
            "Applying RandomPerspective(p=0.8) to image of type <class 'torch.Tensor'>\n",
            "torch.Size([3, 3, 224, 224])\n",
            "Applying ColorJitter(brightness=(0.8, 1.2), contrast=(0.8, 1.2), saturation=(0.8, 1.2), hue=(-0.1, 0.1)) to image of type <class 'torch.Tensor'>\n",
            "Applying GaussianBlur(kernel_size=(5, 5), sigma=(0.1, 2.0)) to image of type <class 'torch.Tensor'>\n",
            "torch.Size([3, 3, 224, 224])\n",
            "Applying RandomResizedCrop(size=(224, 224), scale=(1, 1), ratio=(0.75, 1.3333), interpolation=bilinear, antialias=True) to image of type <class 'torch.Tensor'>\n",
            "Applying RandomPerspective(p=0.8) to image of type <class 'torch.Tensor'>\n",
            "torch.Size([3, 3, 224, 224])\n",
            "Applying GaussianBlur(kernel_size=(5, 5), sigma=(0.1, 2.0)) to image of type <class 'torch.Tensor'>\n",
            "Applying ColorJitter(brightness=(0.8, 1.2), contrast=(0.8, 1.2), saturation=(0.8, 1.2), hue=(-0.1, 0.1)) to image of type <class 'torch.Tensor'>\n",
            "torch.Size([3, 3, 224, 224])\n"
          ]
        },
        {
          "output_type": "stream",
          "name": "stderr",
          "text": [
            "\r 20%|██        | 204/1000 [01:55<07:28,  1.78it/s]"
          ]
        },
        {
          "output_type": "stream",
          "name": "stdout",
          "text": [
            "image shape: torch.Size([1, 224, 224, 3])\n",
            "image shape: torch.Size([1, 224, 224, 3])\n",
            "image shape: torch.Size([1, 224, 224, 3])\n",
            "Applying RandomResizedCrop(size=(224, 224), scale=(1, 1), ratio=(0.75, 1.3333), interpolation=bilinear, antialias=True) to image of type <class 'torch.Tensor'>\n",
            "Applying RandomPerspective(p=0.8) to image of type <class 'torch.Tensor'>\n",
            "torch.Size([3, 3, 224, 224])\n",
            "Applying RandomResizedCrop(size=(224, 224), scale=(1, 1), ratio=(0.75, 1.3333), interpolation=bilinear, antialias=True) to image of type <class 'torch.Tensor'>\n",
            "Applying ColorJitter(brightness=(0.8, 1.2), contrast=(0.8, 1.2), saturation=(0.8, 1.2), hue=(-0.1, 0.1)) to image of type <class 'torch.Tensor'>\n",
            "torch.Size([3, 3, 224, 224])\n",
            "Applying RandomResizedCrop(size=(224, 224), scale=(1, 1), ratio=(0.75, 1.3333), interpolation=bilinear, antialias=True) to image of type <class 'torch.Tensor'>\n",
            "Applying GaussianBlur(kernel_size=(5, 5), sigma=(0.1, 2.0)) to image of type <class 'torch.Tensor'>\n",
            "torch.Size([3, 3, 224, 224])\n",
            "Applying RandomPerspective(p=0.8) to image of type <class 'torch.Tensor'>\n",
            "Applying ColorJitter(brightness=(0.8, 1.2), contrast=(0.8, 1.2), saturation=(0.8, 1.2), hue=(-0.1, 0.1)) to image of type <class 'torch.Tensor'>\n",
            "torch.Size([3, 3, 224, 224])\n"
          ]
        },
        {
          "output_type": "stream",
          "name": "stderr",
          "text": [
            "\r 20%|██        | 205/1000 [01:55<07:25,  1.78it/s]"
          ]
        },
        {
          "output_type": "stream",
          "name": "stdout",
          "text": [
            "image shape: torch.Size([1, 224, 224, 3])\n",
            "image shape: torch.Size([1, 224, 224, 3])\n",
            "image shape: torch.Size([1, 224, 224, 3])\n",
            "Applying ColorJitter(brightness=(0.8, 1.2), contrast=(0.8, 1.2), saturation=(0.8, 1.2), hue=(-0.1, 0.1)) to image of type <class 'torch.Tensor'>\n",
            "Applying GaussianBlur(kernel_size=(5, 5), sigma=(0.1, 2.0)) to image of type <class 'torch.Tensor'>\n",
            "torch.Size([3, 3, 224, 224])\n",
            "Applying RandomResizedCrop(size=(224, 224), scale=(1, 1), ratio=(0.75, 1.3333), interpolation=bilinear, antialias=True) to image of type <class 'torch.Tensor'>\n",
            "Applying GaussianBlur(kernel_size=(5, 5), sigma=(0.1, 2.0)) to image of type <class 'torch.Tensor'>\n",
            "torch.Size([3, 3, 224, 224])\n",
            "Applying GaussianBlur(kernel_size=(5, 5), sigma=(0.1, 2.0)) to image of type <class 'torch.Tensor'>\n",
            "Applying ColorJitter(brightness=(0.8, 1.2), contrast=(0.8, 1.2), saturation=(0.8, 1.2), hue=(-0.1, 0.1)) to image of type <class 'torch.Tensor'>\n",
            "torch.Size([3, 3, 224, 224])\n",
            "Applying RandomResizedCrop(size=(224, 224), scale=(1, 1), ratio=(0.75, 1.3333), interpolation=bilinear, antialias=True) to image of type <class 'torch.Tensor'>\n",
            "Applying ColorJitter(brightness=(0.8, 1.2), contrast=(0.8, 1.2), saturation=(0.8, 1.2), hue=(-0.1, 0.1)) to image of type <class 'torch.Tensor'>\n",
            "torch.Size([3, 3, 224, 224])\n"
          ]
        },
        {
          "output_type": "stream",
          "name": "stderr",
          "text": [
            "\r 21%|██        | 206/1000 [01:56<07:24,  1.79it/s]"
          ]
        },
        {
          "output_type": "stream",
          "name": "stdout",
          "text": [
            "image shape: torch.Size([1, 224, 224, 3])\n",
            "image shape: torch.Size([1, 224, 224, 3])\n",
            "image shape: torch.Size([1, 224, 224, 3])\n",
            "Applying RandomResizedCrop(size=(224, 224), scale=(1, 1), ratio=(0.75, 1.3333), interpolation=bilinear, antialias=True) to image of type <class 'torch.Tensor'>\n",
            "Applying ColorJitter(brightness=(0.8, 1.2), contrast=(0.8, 1.2), saturation=(0.8, 1.2), hue=(-0.1, 0.1)) to image of type <class 'torch.Tensor'>\n",
            "torch.Size([3, 3, 224, 224])\n",
            "Applying RandomPerspective(p=0.8) to image of type <class 'torch.Tensor'>\n",
            "Applying RandomResizedCrop(size=(224, 224), scale=(1, 1), ratio=(0.75, 1.3333), interpolation=bilinear, antialias=True) to image of type <class 'torch.Tensor'>\n",
            "torch.Size([3, 3, 224, 224])\n",
            "Applying GaussianBlur(kernel_size=(5, 5), sigma=(0.1, 2.0)) to image of type <class 'torch.Tensor'>\n",
            "Applying RandomResizedCrop(size=(224, 224), scale=(1, 1), ratio=(0.75, 1.3333), interpolation=bilinear, antialias=True) to image of type <class 'torch.Tensor'>\n",
            "torch.Size([3, 3, 224, 224])\n",
            "Applying RandomPerspective(p=0.8) to image of type <class 'torch.Tensor'>\n",
            "Applying RandomResizedCrop(size=(224, 224), scale=(1, 1), ratio=(0.75, 1.3333), interpolation=bilinear, antialias=True) to image of type <class 'torch.Tensor'>\n",
            "torch.Size([3, 3, 224, 224])\n"
          ]
        },
        {
          "output_type": "stream",
          "name": "stderr",
          "text": [
            "\r 21%|██        | 207/1000 [01:56<07:24,  1.79it/s]"
          ]
        },
        {
          "output_type": "stream",
          "name": "stdout",
          "text": [
            "image shape: torch.Size([1, 224, 224, 3])\n",
            "image shape: torch.Size([1, 224, 224, 3])\n",
            "image shape: torch.Size([1, 224, 224, 3])\n",
            "Applying RandomResizedCrop(size=(224, 224), scale=(1, 1), ratio=(0.75, 1.3333), interpolation=bilinear, antialias=True) to image of type <class 'torch.Tensor'>\n",
            "Applying ColorJitter(brightness=(0.8, 1.2), contrast=(0.8, 1.2), saturation=(0.8, 1.2), hue=(-0.1, 0.1)) to image of type <class 'torch.Tensor'>\n",
            "torch.Size([3, 3, 224, 224])\n",
            "Applying RandomResizedCrop(size=(224, 224), scale=(1, 1), ratio=(0.75, 1.3333), interpolation=bilinear, antialias=True) to image of type <class 'torch.Tensor'>\n",
            "Applying RandomPerspective(p=0.8) to image of type <class 'torch.Tensor'>\n",
            "torch.Size([3, 3, 224, 224])\n",
            "Applying RandomPerspective(p=0.8) to image of type <class 'torch.Tensor'>\n",
            "Applying RandomResizedCrop(size=(224, 224), scale=(1, 1), ratio=(0.75, 1.3333), interpolation=bilinear, antialias=True) to image of type <class 'torch.Tensor'>\n",
            "torch.Size([3, 3, 224, 224])\n",
            "Applying ColorJitter(brightness=(0.8, 1.2), contrast=(0.8, 1.2), saturation=(0.8, 1.2), hue=(-0.1, 0.1)) to image of type <class 'torch.Tensor'>\n",
            "Applying RandomResizedCrop(size=(224, 224), scale=(1, 1), ratio=(0.75, 1.3333), interpolation=bilinear, antialias=True) to image of type <class 'torch.Tensor'>\n",
            "torch.Size([3, 3, 224, 224])\n"
          ]
        },
        {
          "output_type": "stream",
          "name": "stderr",
          "text": [
            "\r 21%|██        | 208/1000 [01:57<07:23,  1.79it/s]"
          ]
        },
        {
          "output_type": "stream",
          "name": "stdout",
          "text": [
            "image shape: torch.Size([1, 224, 224, 3])\n",
            "image shape: torch.Size([1, 224, 224, 3])\n",
            "image shape: torch.Size([1, 224, 224, 3])\n",
            "Applying RandomPerspective(p=0.8) to image of type <class 'torch.Tensor'>\n",
            "Applying ColorJitter(brightness=(0.8, 1.2), contrast=(0.8, 1.2), saturation=(0.8, 1.2), hue=(-0.1, 0.1)) to image of type <class 'torch.Tensor'>\n",
            "torch.Size([3, 3, 224, 224])\n",
            "Applying ColorJitter(brightness=(0.8, 1.2), contrast=(0.8, 1.2), saturation=(0.8, 1.2), hue=(-0.1, 0.1)) to image of type <class 'torch.Tensor'>\n",
            "Applying RandomPerspective(p=0.8) to image of type <class 'torch.Tensor'>\n",
            "torch.Size([3, 3, 224, 224])\n",
            "Applying GaussianBlur(kernel_size=(5, 5), sigma=(0.1, 2.0)) to image of type <class 'torch.Tensor'>\n",
            "Applying ColorJitter(brightness=(0.8, 1.2), contrast=(0.8, 1.2), saturation=(0.8, 1.2), hue=(-0.1, 0.1)) to image of type <class 'torch.Tensor'>\n",
            "torch.Size([3, 3, 224, 224])\n",
            "Applying RandomResizedCrop(size=(224, 224), scale=(1, 1), ratio=(0.75, 1.3333), interpolation=bilinear, antialias=True) to image of type <class 'torch.Tensor'>\n",
            "Applying GaussianBlur(kernel_size=(5, 5), sigma=(0.1, 2.0)) to image of type <class 'torch.Tensor'>\n",
            "torch.Size([3, 3, 224, 224])\n"
          ]
        },
        {
          "output_type": "stream",
          "name": "stderr",
          "text": [
            "\r 21%|██        | 209/1000 [01:58<07:22,  1.79it/s]"
          ]
        },
        {
          "output_type": "stream",
          "name": "stdout",
          "text": [
            "image shape: torch.Size([1, 224, 224, 3])\n",
            "image shape: torch.Size([1, 224, 224, 3])\n",
            "image shape: torch.Size([1, 224, 224, 3])\n",
            "Applying RandomResizedCrop(size=(224, 224), scale=(1, 1), ratio=(0.75, 1.3333), interpolation=bilinear, antialias=True) to image of type <class 'torch.Tensor'>\n",
            "Applying ColorJitter(brightness=(0.8, 1.2), contrast=(0.8, 1.2), saturation=(0.8, 1.2), hue=(-0.1, 0.1)) to image of type <class 'torch.Tensor'>\n",
            "torch.Size([3, 3, 224, 224])\n",
            "Applying ColorJitter(brightness=(0.8, 1.2), contrast=(0.8, 1.2), saturation=(0.8, 1.2), hue=(-0.1, 0.1)) to image of type <class 'torch.Tensor'>\n",
            "Applying RandomResizedCrop(size=(224, 224), scale=(1, 1), ratio=(0.75, 1.3333), interpolation=bilinear, antialias=True) to image of type <class 'torch.Tensor'>\n",
            "torch.Size([3, 3, 224, 224])\n",
            "Applying GaussianBlur(kernel_size=(5, 5), sigma=(0.1, 2.0)) to image of type <class 'torch.Tensor'>\n",
            "Applying RandomResizedCrop(size=(224, 224), scale=(1, 1), ratio=(0.75, 1.3333), interpolation=bilinear, antialias=True) to image of type <class 'torch.Tensor'>\n",
            "torch.Size([3, 3, 224, 224])\n",
            "Applying RandomPerspective(p=0.8) to image of type <class 'torch.Tensor'>\n",
            "Applying RandomResizedCrop(size=(224, 224), scale=(1, 1), ratio=(0.75, 1.3333), interpolation=bilinear, antialias=True) to image of type <class 'torch.Tensor'>\n",
            "torch.Size([3, 3, 224, 224])\n"
          ]
        },
        {
          "output_type": "stream",
          "name": "stderr",
          "text": [
            "\r 21%|██        | 210/1000 [01:58<07:22,  1.78it/s]"
          ]
        },
        {
          "output_type": "stream",
          "name": "stdout",
          "text": [
            "image shape: torch.Size([1, 224, 224, 3])\n",
            "image shape: torch.Size([1, 224, 224, 3])\n",
            "image shape: torch.Size([1, 224, 224, 3])\n",
            "Applying RandomPerspective(p=0.8) to image of type <class 'torch.Tensor'>\n",
            "Applying RandomResizedCrop(size=(224, 224), scale=(1, 1), ratio=(0.75, 1.3333), interpolation=bilinear, antialias=True) to image of type <class 'torch.Tensor'>\n",
            "torch.Size([3, 3, 224, 224])\n",
            "Applying RandomResizedCrop(size=(224, 224), scale=(1, 1), ratio=(0.75, 1.3333), interpolation=bilinear, antialias=True) to image of type <class 'torch.Tensor'>\n",
            "Applying GaussianBlur(kernel_size=(5, 5), sigma=(0.1, 2.0)) to image of type <class 'torch.Tensor'>\n",
            "torch.Size([3, 3, 224, 224])\n",
            "Applying GaussianBlur(kernel_size=(5, 5), sigma=(0.1, 2.0)) to image of type <class 'torch.Tensor'>\n",
            "Applying RandomPerspective(p=0.8) to image of type <class 'torch.Tensor'>\n",
            "torch.Size([3, 3, 224, 224])\n",
            "Applying GaussianBlur(kernel_size=(5, 5), sigma=(0.1, 2.0)) to image of type <class 'torch.Tensor'>\n",
            "Applying RandomResizedCrop(size=(224, 224), scale=(1, 1), ratio=(0.75, 1.3333), interpolation=bilinear, antialias=True) to image of type <class 'torch.Tensor'>\n",
            "torch.Size([3, 3, 224, 224])\n"
          ]
        },
        {
          "output_type": "stream",
          "name": "stderr",
          "text": [
            "\r 21%|██        | 211/1000 [01:59<07:21,  1.79it/s]"
          ]
        },
        {
          "output_type": "stream",
          "name": "stdout",
          "text": [
            "image shape: torch.Size([1, 224, 224, 3])\n",
            "image shape: torch.Size([1, 224, 224, 3])\n",
            "image shape: torch.Size([1, 224, 224, 3])\n",
            "Applying RandomResizedCrop(size=(224, 224), scale=(1, 1), ratio=(0.75, 1.3333), interpolation=bilinear, antialias=True) to image of type <class 'torch.Tensor'>\n",
            "Applying ColorJitter(brightness=(0.8, 1.2), contrast=(0.8, 1.2), saturation=(0.8, 1.2), hue=(-0.1, 0.1)) to image of type <class 'torch.Tensor'>\n",
            "torch.Size([3, 3, 224, 224])\n",
            "Applying RandomResizedCrop(size=(224, 224), scale=(1, 1), ratio=(0.75, 1.3333), interpolation=bilinear, antialias=True) to image of type <class 'torch.Tensor'>\n",
            "Applying RandomPerspective(p=0.8) to image of type <class 'torch.Tensor'>\n",
            "torch.Size([3, 3, 224, 224])\n",
            "Applying ColorJitter(brightness=(0.8, 1.2), contrast=(0.8, 1.2), saturation=(0.8, 1.2), hue=(-0.1, 0.1)) to image of type <class 'torch.Tensor'>\n",
            "Applying RandomPerspective(p=0.8) to image of type <class 'torch.Tensor'>\n",
            "torch.Size([3, 3, 224, 224])\n",
            "Applying ColorJitter(brightness=(0.8, 1.2), contrast=(0.8, 1.2), saturation=(0.8, 1.2), hue=(-0.1, 0.1)) to image of type <class 'torch.Tensor'>\n",
            "Applying GaussianBlur(kernel_size=(5, 5), sigma=(0.1, 2.0)) to image of type <class 'torch.Tensor'>\n",
            "torch.Size([3, 3, 224, 224])\n"
          ]
        },
        {
          "output_type": "stream",
          "name": "stderr",
          "text": [
            "\r 21%|██        | 212/1000 [01:59<07:21,  1.78it/s]"
          ]
        },
        {
          "output_type": "stream",
          "name": "stdout",
          "text": [
            "image shape: torch.Size([1, 224, 224, 3])\n",
            "image shape: torch.Size([1, 224, 224, 3])\n",
            "image shape: torch.Size([1, 224, 224, 3])\n",
            "Applying GaussianBlur(kernel_size=(5, 5), sigma=(0.1, 2.0)) to image of type <class 'torch.Tensor'>\n",
            "Applying RandomResizedCrop(size=(224, 224), scale=(1, 1), ratio=(0.75, 1.3333), interpolation=bilinear, antialias=True) to image of type <class 'torch.Tensor'>\n",
            "torch.Size([3, 3, 224, 224])\n",
            "Applying RandomPerspective(p=0.8) to image of type <class 'torch.Tensor'>\n",
            "Applying RandomResizedCrop(size=(224, 224), scale=(1, 1), ratio=(0.75, 1.3333), interpolation=bilinear, antialias=True) to image of type <class 'torch.Tensor'>\n",
            "torch.Size([3, 3, 224, 224])\n",
            "Applying GaussianBlur(kernel_size=(5, 5), sigma=(0.1, 2.0)) to image of type <class 'torch.Tensor'>\n",
            "Applying RandomResizedCrop(size=(224, 224), scale=(1, 1), ratio=(0.75, 1.3333), interpolation=bilinear, antialias=True) to image of type <class 'torch.Tensor'>\n",
            "torch.Size([3, 3, 224, 224])\n",
            "Applying RandomResizedCrop(size=(224, 224), scale=(1, 1), ratio=(0.75, 1.3333), interpolation=bilinear, antialias=True) to image of type <class 'torch.Tensor'>\n",
            "Applying RandomPerspective(p=0.8) to image of type <class 'torch.Tensor'>\n",
            "torch.Size([3, 3, 224, 224])\n"
          ]
        },
        {
          "output_type": "stream",
          "name": "stderr",
          "text": [
            "\r 21%|██▏       | 213/1000 [02:00<07:18,  1.79it/s]"
          ]
        },
        {
          "output_type": "stream",
          "name": "stdout",
          "text": [
            "image shape: torch.Size([1, 224, 224, 3])\n",
            "image shape: torch.Size([1, 224, 224, 3])\n",
            "image shape: torch.Size([1, 224, 224, 3])\n",
            "Applying RandomPerspective(p=0.8) to image of type <class 'torch.Tensor'>\n",
            "Applying RandomResizedCrop(size=(224, 224), scale=(1, 1), ratio=(0.75, 1.3333), interpolation=bilinear, antialias=True) to image of type <class 'torch.Tensor'>\n",
            "torch.Size([3, 3, 224, 224])\n",
            "Applying RandomResizedCrop(size=(224, 224), scale=(1, 1), ratio=(0.75, 1.3333), interpolation=bilinear, antialias=True) to image of type <class 'torch.Tensor'>\n",
            "Applying ColorJitter(brightness=(0.8, 1.2), contrast=(0.8, 1.2), saturation=(0.8, 1.2), hue=(-0.1, 0.1)) to image of type <class 'torch.Tensor'>\n",
            "torch.Size([3, 3, 224, 224])\n",
            "Applying GaussianBlur(kernel_size=(5, 5), sigma=(0.1, 2.0)) to image of type <class 'torch.Tensor'>\n",
            "Applying RandomResizedCrop(size=(224, 224), scale=(1, 1), ratio=(0.75, 1.3333), interpolation=bilinear, antialias=True) to image of type <class 'torch.Tensor'>\n",
            "torch.Size([3, 3, 224, 224])\n",
            "Applying GaussianBlur(kernel_size=(5, 5), sigma=(0.1, 2.0)) to image of type <class 'torch.Tensor'>\n",
            "Applying ColorJitter(brightness=(0.8, 1.2), contrast=(0.8, 1.2), saturation=(0.8, 1.2), hue=(-0.1, 0.1)) to image of type <class 'torch.Tensor'>\n",
            "torch.Size([3, 3, 224, 224])\n"
          ]
        },
        {
          "output_type": "stream",
          "name": "stderr",
          "text": [
            "\r 21%|██▏       | 214/1000 [02:00<07:18,  1.79it/s]"
          ]
        },
        {
          "output_type": "stream",
          "name": "stdout",
          "text": [
            "image shape: torch.Size([1, 224, 224, 3])\n",
            "image shape: torch.Size([1, 224, 224, 3])\n",
            "image shape: torch.Size([1, 224, 224, 3])\n",
            "Applying RandomPerspective(p=0.8) to image of type <class 'torch.Tensor'>\n",
            "Applying GaussianBlur(kernel_size=(5, 5), sigma=(0.1, 2.0)) to image of type <class 'torch.Tensor'>\n",
            "torch.Size([3, 3, 224, 224])\n",
            "Applying RandomResizedCrop(size=(224, 224), scale=(1, 1), ratio=(0.75, 1.3333), interpolation=bilinear, antialias=True) to image of type <class 'torch.Tensor'>\n",
            "Applying ColorJitter(brightness=(0.8, 1.2), contrast=(0.8, 1.2), saturation=(0.8, 1.2), hue=(-0.1, 0.1)) to image of type <class 'torch.Tensor'>\n",
            "torch.Size([3, 3, 224, 224])\n",
            "Applying RandomResizedCrop(size=(224, 224), scale=(1, 1), ratio=(0.75, 1.3333), interpolation=bilinear, antialias=True) to image of type <class 'torch.Tensor'>\n",
            "Applying ColorJitter(brightness=(0.8, 1.2), contrast=(0.8, 1.2), saturation=(0.8, 1.2), hue=(-0.1, 0.1)) to image of type <class 'torch.Tensor'>\n",
            "torch.Size([3, 3, 224, 224])\n",
            "Applying ColorJitter(brightness=(0.8, 1.2), contrast=(0.8, 1.2), saturation=(0.8, 1.2), hue=(-0.1, 0.1)) to image of type <class 'torch.Tensor'>\n",
            "Applying RandomPerspective(p=0.8) to image of type <class 'torch.Tensor'>\n",
            "torch.Size([3, 3, 224, 224])\n"
          ]
        },
        {
          "output_type": "stream",
          "name": "stderr",
          "text": [
            "\r 22%|██▏       | 215/1000 [02:01<07:19,  1.79it/s]"
          ]
        },
        {
          "output_type": "stream",
          "name": "stdout",
          "text": [
            "image shape: torch.Size([1, 224, 224, 3])\n",
            "image shape: torch.Size([1, 224, 224, 3])\n",
            "image shape: torch.Size([1, 224, 224, 3])\n",
            "Applying RandomResizedCrop(size=(224, 224), scale=(1, 1), ratio=(0.75, 1.3333), interpolation=bilinear, antialias=True) to image of type <class 'torch.Tensor'>\n",
            "Applying RandomPerspective(p=0.8) to image of type <class 'torch.Tensor'>\n",
            "torch.Size([3, 3, 224, 224])\n",
            "Applying RandomPerspective(p=0.8) to image of type <class 'torch.Tensor'>\n",
            "Applying RandomResizedCrop(size=(224, 224), scale=(1, 1), ratio=(0.75, 1.3333), interpolation=bilinear, antialias=True) to image of type <class 'torch.Tensor'>\n",
            "torch.Size([3, 3, 224, 224])\n",
            "Applying RandomResizedCrop(size=(224, 224), scale=(1, 1), ratio=(0.75, 1.3333), interpolation=bilinear, antialias=True) to image of type <class 'torch.Tensor'>\n",
            "Applying ColorJitter(brightness=(0.8, 1.2), contrast=(0.8, 1.2), saturation=(0.8, 1.2), hue=(-0.1, 0.1)) to image of type <class 'torch.Tensor'>\n",
            "torch.Size([3, 3, 224, 224])\n",
            "Applying RandomPerspective(p=0.8) to image of type <class 'torch.Tensor'>\n",
            "Applying GaussianBlur(kernel_size=(5, 5), sigma=(0.1, 2.0)) to image of type <class 'torch.Tensor'>\n",
            "torch.Size([3, 3, 224, 224])\n"
          ]
        },
        {
          "output_type": "stream",
          "name": "stderr",
          "text": [
            "\r 22%|██▏       | 216/1000 [02:01<07:18,  1.79it/s]"
          ]
        },
        {
          "output_type": "stream",
          "name": "stdout",
          "text": [
            "image shape: torch.Size([1, 224, 224, 3])\n",
            "image shape: torch.Size([1, 224, 224, 3])\n",
            "image shape: torch.Size([1, 224, 224, 3])\n",
            "Applying ColorJitter(brightness=(0.8, 1.2), contrast=(0.8, 1.2), saturation=(0.8, 1.2), hue=(-0.1, 0.1)) to image of type <class 'torch.Tensor'>\n",
            "Applying RandomPerspective(p=0.8) to image of type <class 'torch.Tensor'>\n",
            "torch.Size([3, 3, 224, 224])\n",
            "Applying GaussianBlur(kernel_size=(5, 5), sigma=(0.1, 2.0)) to image of type <class 'torch.Tensor'>\n",
            "Applying RandomPerspective(p=0.8) to image of type <class 'torch.Tensor'>\n",
            "torch.Size([3, 3, 224, 224])\n",
            "Applying GaussianBlur(kernel_size=(5, 5), sigma=(0.1, 2.0)) to image of type <class 'torch.Tensor'>\n",
            "Applying RandomPerspective(p=0.8) to image of type <class 'torch.Tensor'>\n",
            "torch.Size([3, 3, 224, 224])\n",
            "Applying ColorJitter(brightness=(0.8, 1.2), contrast=(0.8, 1.2), saturation=(0.8, 1.2), hue=(-0.1, 0.1)) to image of type <class 'torch.Tensor'>\n",
            "Applying RandomResizedCrop(size=(224, 224), scale=(1, 1), ratio=(0.75, 1.3333), interpolation=bilinear, antialias=True) to image of type <class 'torch.Tensor'>\n",
            "torch.Size([3, 3, 224, 224])\n"
          ]
        },
        {
          "output_type": "stream",
          "name": "stderr",
          "text": [
            "\r 22%|██▏       | 217/1000 [02:02<07:19,  1.78it/s]"
          ]
        },
        {
          "output_type": "stream",
          "name": "stdout",
          "text": [
            "image shape: torch.Size([1, 224, 224, 3])\n",
            "image shape: torch.Size([1, 224, 224, 3])\n",
            "image shape: torch.Size([1, 224, 224, 3])\n",
            "Applying RandomResizedCrop(size=(224, 224), scale=(1, 1), ratio=(0.75, 1.3333), interpolation=bilinear, antialias=True) to image of type <class 'torch.Tensor'>\n",
            "Applying RandomPerspective(p=0.8) to image of type <class 'torch.Tensor'>\n",
            "torch.Size([3, 3, 224, 224])\n",
            "Applying GaussianBlur(kernel_size=(5, 5), sigma=(0.1, 2.0)) to image of type <class 'torch.Tensor'>\n",
            "Applying RandomResizedCrop(size=(224, 224), scale=(1, 1), ratio=(0.75, 1.3333), interpolation=bilinear, antialias=True) to image of type <class 'torch.Tensor'>\n",
            "torch.Size([3, 3, 224, 224])\n",
            "Applying RandomPerspective(p=0.8) to image of type <class 'torch.Tensor'>\n",
            "Applying RandomResizedCrop(size=(224, 224), scale=(1, 1), ratio=(0.75, 1.3333), interpolation=bilinear, antialias=True) to image of type <class 'torch.Tensor'>\n",
            "torch.Size([3, 3, 224, 224])\n",
            "Applying RandomResizedCrop(size=(224, 224), scale=(1, 1), ratio=(0.75, 1.3333), interpolation=bilinear, antialias=True) to image of type <class 'torch.Tensor'>\n",
            "Applying GaussianBlur(kernel_size=(5, 5), sigma=(0.1, 2.0)) to image of type <class 'torch.Tensor'>\n",
            "torch.Size([3, 3, 224, 224])\n"
          ]
        },
        {
          "output_type": "stream",
          "name": "stderr",
          "text": [
            "\r 22%|██▏       | 218/1000 [02:03<07:24,  1.76it/s]"
          ]
        },
        {
          "output_type": "stream",
          "name": "stdout",
          "text": [
            "image shape: torch.Size([1, 224, 224, 3])\n",
            "image shape: torch.Size([1, 224, 224, 3])\n",
            "image shape: torch.Size([1, 224, 224, 3])\n",
            "Applying RandomResizedCrop(size=(224, 224), scale=(1, 1), ratio=(0.75, 1.3333), interpolation=bilinear, antialias=True) to image of type <class 'torch.Tensor'>\n",
            "Applying ColorJitter(brightness=(0.8, 1.2), contrast=(0.8, 1.2), saturation=(0.8, 1.2), hue=(-0.1, 0.1)) to image of type <class 'torch.Tensor'>\n",
            "torch.Size([3, 3, 224, 224])\n",
            "Applying RandomPerspective(p=0.8) to image of type <class 'torch.Tensor'>\n",
            "Applying GaussianBlur(kernel_size=(5, 5), sigma=(0.1, 2.0)) to image of type <class 'torch.Tensor'>\n",
            "torch.Size([3, 3, 224, 224])\n",
            "Applying GaussianBlur(kernel_size=(5, 5), sigma=(0.1, 2.0)) to image of type <class 'torch.Tensor'>\n",
            "Applying RandomPerspective(p=0.8) to image of type <class 'torch.Tensor'>\n",
            "torch.Size([3, 3, 224, 224])\n",
            "Applying GaussianBlur(kernel_size=(5, 5), sigma=(0.1, 2.0)) to image of type <class 'torch.Tensor'>\n",
            "Applying ColorJitter(brightness=(0.8, 1.2), contrast=(0.8, 1.2), saturation=(0.8, 1.2), hue=(-0.1, 0.1)) to image of type <class 'torch.Tensor'>\n",
            "torch.Size([3, 3, 224, 224])\n"
          ]
        },
        {
          "output_type": "stream",
          "name": "stderr",
          "text": [
            "\r 22%|██▏       | 219/1000 [02:03<07:26,  1.75it/s]"
          ]
        },
        {
          "output_type": "stream",
          "name": "stdout",
          "text": [
            "image shape: torch.Size([1, 224, 224, 3])\n",
            "image shape: torch.Size([1, 224, 224, 3])\n",
            "image shape: torch.Size([1, 224, 224, 3])\n",
            "Applying RandomResizedCrop(size=(224, 224), scale=(1, 1), ratio=(0.75, 1.3333), interpolation=bilinear, antialias=True) to image of type <class 'torch.Tensor'>\n",
            "Applying RandomPerspective(p=0.8) to image of type <class 'torch.Tensor'>\n",
            "torch.Size([3, 3, 224, 224])\n",
            "Applying ColorJitter(brightness=(0.8, 1.2), contrast=(0.8, 1.2), saturation=(0.8, 1.2), hue=(-0.1, 0.1)) to image of type <class 'torch.Tensor'>\n",
            "Applying GaussianBlur(kernel_size=(5, 5), sigma=(0.1, 2.0)) to image of type <class 'torch.Tensor'>\n",
            "torch.Size([3, 3, 224, 224])\n",
            "Applying RandomPerspective(p=0.8) to image of type <class 'torch.Tensor'>\n",
            "Applying RandomResizedCrop(size=(224, 224), scale=(1, 1), ratio=(0.75, 1.3333), interpolation=bilinear, antialias=True) to image of type <class 'torch.Tensor'>\n",
            "torch.Size([3, 3, 224, 224])\n",
            "Applying RandomPerspective(p=0.8) to image of type <class 'torch.Tensor'>\n",
            "Applying ColorJitter(brightness=(0.8, 1.2), contrast=(0.8, 1.2), saturation=(0.8, 1.2), hue=(-0.1, 0.1)) to image of type <class 'torch.Tensor'>\n",
            "torch.Size([3, 3, 224, 224])\n"
          ]
        },
        {
          "output_type": "stream",
          "name": "stderr",
          "text": [
            "\r 22%|██▏       | 220/1000 [02:04<07:26,  1.75it/s]"
          ]
        },
        {
          "output_type": "stream",
          "name": "stdout",
          "text": [
            "image shape: torch.Size([1, 224, 224, 3])\n",
            "image shape: torch.Size([1, 224, 224, 3])\n",
            "image shape: torch.Size([1, 224, 224, 3])\n",
            "Applying RandomResizedCrop(size=(224, 224), scale=(1, 1), ratio=(0.75, 1.3333), interpolation=bilinear, antialias=True) to image of type <class 'torch.Tensor'>\n",
            "Applying ColorJitter(brightness=(0.8, 1.2), contrast=(0.8, 1.2), saturation=(0.8, 1.2), hue=(-0.1, 0.1)) to image of type <class 'torch.Tensor'>\n",
            "torch.Size([3, 3, 224, 224])\n",
            "Applying GaussianBlur(kernel_size=(5, 5), sigma=(0.1, 2.0)) to image of type <class 'torch.Tensor'>\n",
            "Applying ColorJitter(brightness=(0.8, 1.2), contrast=(0.8, 1.2), saturation=(0.8, 1.2), hue=(-0.1, 0.1)) to image of type <class 'torch.Tensor'>\n",
            "torch.Size([3, 3, 224, 224])\n",
            "Applying GaussianBlur(kernel_size=(5, 5), sigma=(0.1, 2.0)) to image of type <class 'torch.Tensor'>\n",
            "Applying ColorJitter(brightness=(0.8, 1.2), contrast=(0.8, 1.2), saturation=(0.8, 1.2), hue=(-0.1, 0.1)) to image of type <class 'torch.Tensor'>\n",
            "torch.Size([3, 3, 224, 224])\n",
            "Applying RandomPerspective(p=0.8) to image of type <class 'torch.Tensor'>\n",
            "Applying RandomResizedCrop(size=(224, 224), scale=(1, 1), ratio=(0.75, 1.3333), interpolation=bilinear, antialias=True) to image of type <class 'torch.Tensor'>\n",
            "torch.Size([3, 3, 224, 224])\n"
          ]
        },
        {
          "output_type": "stream",
          "name": "stderr",
          "text": [
            "\r 22%|██▏       | 221/1000 [02:04<07:27,  1.74it/s]"
          ]
        },
        {
          "output_type": "stream",
          "name": "stdout",
          "text": [
            "image shape: torch.Size([1, 224, 224, 3])\n",
            "image shape: torch.Size([1, 224, 224, 3])\n",
            "image shape: torch.Size([1, 224, 224, 3])\n",
            "Applying GaussianBlur(kernel_size=(5, 5), sigma=(0.1, 2.0)) to image of type <class 'torch.Tensor'>\n",
            "Applying RandomPerspective(p=0.8) to image of type <class 'torch.Tensor'>\n",
            "torch.Size([3, 3, 224, 224])\n",
            "Applying GaussianBlur(kernel_size=(5, 5), sigma=(0.1, 2.0)) to image of type <class 'torch.Tensor'>\n",
            "Applying ColorJitter(brightness=(0.8, 1.2), contrast=(0.8, 1.2), saturation=(0.8, 1.2), hue=(-0.1, 0.1)) to image of type <class 'torch.Tensor'>\n",
            "torch.Size([3, 3, 224, 224])\n",
            "Applying RandomPerspective(p=0.8) to image of type <class 'torch.Tensor'>\n",
            "Applying RandomResizedCrop(size=(224, 224), scale=(1, 1), ratio=(0.75, 1.3333), interpolation=bilinear, antialias=True) to image of type <class 'torch.Tensor'>\n",
            "torch.Size([3, 3, 224, 224])\n",
            "Applying GaussianBlur(kernel_size=(5, 5), sigma=(0.1, 2.0)) to image of type <class 'torch.Tensor'>\n",
            "Applying RandomResizedCrop(size=(224, 224), scale=(1, 1), ratio=(0.75, 1.3333), interpolation=bilinear, antialias=True) to image of type <class 'torch.Tensor'>\n",
            "torch.Size([3, 3, 224, 224])\n"
          ]
        },
        {
          "output_type": "stream",
          "name": "stderr",
          "text": [
            "\r 22%|██▏       | 222/1000 [02:05<07:30,  1.73it/s]"
          ]
        },
        {
          "output_type": "stream",
          "name": "stdout",
          "text": [
            "image shape: torch.Size([1, 224, 224, 3])\n",
            "image shape: torch.Size([1, 224, 224, 3])\n",
            "image shape: torch.Size([1, 224, 224, 3])\n",
            "Applying GaussianBlur(kernel_size=(5, 5), sigma=(0.1, 2.0)) to image of type <class 'torch.Tensor'>\n",
            "Applying RandomPerspective(p=0.8) to image of type <class 'torch.Tensor'>\n",
            "torch.Size([3, 3, 224, 224])\n",
            "Applying ColorJitter(brightness=(0.8, 1.2), contrast=(0.8, 1.2), saturation=(0.8, 1.2), hue=(-0.1, 0.1)) to image of type <class 'torch.Tensor'>\n",
            "Applying RandomPerspective(p=0.8) to image of type <class 'torch.Tensor'>\n",
            "torch.Size([3, 3, 224, 224])\n",
            "Applying RandomPerspective(p=0.8) to image of type <class 'torch.Tensor'>\n",
            "Applying ColorJitter(brightness=(0.8, 1.2), contrast=(0.8, 1.2), saturation=(0.8, 1.2), hue=(-0.1, 0.1)) to image of type <class 'torch.Tensor'>\n",
            "torch.Size([3, 3, 224, 224])\n",
            "Applying RandomResizedCrop(size=(224, 224), scale=(1, 1), ratio=(0.75, 1.3333), interpolation=bilinear, antialias=True) to image of type <class 'torch.Tensor'>\n",
            "Applying GaussianBlur(kernel_size=(5, 5), sigma=(0.1, 2.0)) to image of type <class 'torch.Tensor'>\n",
            "torch.Size([3, 3, 224, 224])\n"
          ]
        },
        {
          "output_type": "stream",
          "name": "stderr",
          "text": [
            "\r 22%|██▏       | 223/1000 [02:05<07:32,  1.72it/s]"
          ]
        },
        {
          "output_type": "stream",
          "name": "stdout",
          "text": [
            "image shape: torch.Size([1, 224, 224, 3])\n",
            "image shape: torch.Size([1, 224, 224, 3])\n",
            "image shape: torch.Size([1, 224, 224, 3])\n",
            "Applying RandomPerspective(p=0.8) to image of type <class 'torch.Tensor'>\n",
            "Applying GaussianBlur(kernel_size=(5, 5), sigma=(0.1, 2.0)) to image of type <class 'torch.Tensor'>\n",
            "torch.Size([3, 3, 224, 224])\n",
            "Applying RandomPerspective(p=0.8) to image of type <class 'torch.Tensor'>\n",
            "Applying ColorJitter(brightness=(0.8, 1.2), contrast=(0.8, 1.2), saturation=(0.8, 1.2), hue=(-0.1, 0.1)) to image of type <class 'torch.Tensor'>\n",
            "torch.Size([3, 3, 224, 224])\n",
            "Applying GaussianBlur(kernel_size=(5, 5), sigma=(0.1, 2.0)) to image of type <class 'torch.Tensor'>\n",
            "Applying RandomPerspective(p=0.8) to image of type <class 'torch.Tensor'>\n",
            "torch.Size([3, 3, 224, 224])\n",
            "Applying GaussianBlur(kernel_size=(5, 5), sigma=(0.1, 2.0)) to image of type <class 'torch.Tensor'>\n",
            "Applying RandomResizedCrop(size=(224, 224), scale=(1, 1), ratio=(0.75, 1.3333), interpolation=bilinear, antialias=True) to image of type <class 'torch.Tensor'>\n",
            "torch.Size([3, 3, 224, 224])\n"
          ]
        },
        {
          "output_type": "stream",
          "name": "stderr",
          "text": [
            "\r 22%|██▏       | 224/1000 [02:06<07:33,  1.71it/s]"
          ]
        },
        {
          "output_type": "stream",
          "name": "stdout",
          "text": [
            "image shape: torch.Size([1, 224, 224, 3])\n",
            "image shape: torch.Size([1, 224, 224, 3])\n",
            "image shape: torch.Size([1, 224, 224, 3])\n",
            "Applying GaussianBlur(kernel_size=(5, 5), sigma=(0.1, 2.0)) to image of type <class 'torch.Tensor'>\n",
            "Applying ColorJitter(brightness=(0.8, 1.2), contrast=(0.8, 1.2), saturation=(0.8, 1.2), hue=(-0.1, 0.1)) to image of type <class 'torch.Tensor'>\n",
            "torch.Size([3, 3, 224, 224])\n",
            "Applying GaussianBlur(kernel_size=(5, 5), sigma=(0.1, 2.0)) to image of type <class 'torch.Tensor'>\n",
            "Applying RandomResizedCrop(size=(224, 224), scale=(1, 1), ratio=(0.75, 1.3333), interpolation=bilinear, antialias=True) to image of type <class 'torch.Tensor'>\n",
            "torch.Size([3, 3, 224, 224])\n",
            "Applying RandomPerspective(p=0.8) to image of type <class 'torch.Tensor'>\n",
            "Applying GaussianBlur(kernel_size=(5, 5), sigma=(0.1, 2.0)) to image of type <class 'torch.Tensor'>\n",
            "torch.Size([3, 3, 224, 224])\n",
            "Applying GaussianBlur(kernel_size=(5, 5), sigma=(0.1, 2.0)) to image of type <class 'torch.Tensor'>\n",
            "Applying ColorJitter(brightness=(0.8, 1.2), contrast=(0.8, 1.2), saturation=(0.8, 1.2), hue=(-0.1, 0.1)) to image of type <class 'torch.Tensor'>\n",
            "torch.Size([3, 3, 224, 224])\n"
          ]
        },
        {
          "output_type": "stream",
          "name": "stderr",
          "text": [
            "\r 22%|██▎       | 225/1000 [02:07<07:29,  1.73it/s]"
          ]
        },
        {
          "output_type": "stream",
          "name": "stdout",
          "text": [
            "image shape: torch.Size([1, 224, 224, 3])\n",
            "image shape: torch.Size([1, 224, 224, 3])\n",
            "image shape: torch.Size([1, 224, 224, 3])\n",
            "Applying RandomResizedCrop(size=(224, 224), scale=(1, 1), ratio=(0.75, 1.3333), interpolation=bilinear, antialias=True) to image of type <class 'torch.Tensor'>\n",
            "Applying GaussianBlur(kernel_size=(5, 5), sigma=(0.1, 2.0)) to image of type <class 'torch.Tensor'>\n",
            "torch.Size([3, 3, 224, 224])\n",
            "Applying GaussianBlur(kernel_size=(5, 5), sigma=(0.1, 2.0)) to image of type <class 'torch.Tensor'>\n",
            "Applying ColorJitter(brightness=(0.8, 1.2), contrast=(0.8, 1.2), saturation=(0.8, 1.2), hue=(-0.1, 0.1)) to image of type <class 'torch.Tensor'>\n",
            "torch.Size([3, 3, 224, 224])\n",
            "Applying ColorJitter(brightness=(0.8, 1.2), contrast=(0.8, 1.2), saturation=(0.8, 1.2), hue=(-0.1, 0.1)) to image of type <class 'torch.Tensor'>\n",
            "Applying RandomResizedCrop(size=(224, 224), scale=(1, 1), ratio=(0.75, 1.3333), interpolation=bilinear, antialias=True) to image of type <class 'torch.Tensor'>\n",
            "torch.Size([3, 3, 224, 224])\n",
            "Applying ColorJitter(brightness=(0.8, 1.2), contrast=(0.8, 1.2), saturation=(0.8, 1.2), hue=(-0.1, 0.1)) to image of type <class 'torch.Tensor'>\n",
            "Applying RandomPerspective(p=0.8) to image of type <class 'torch.Tensor'>\n",
            "torch.Size([3, 3, 224, 224])\n"
          ]
        },
        {
          "output_type": "stream",
          "name": "stderr",
          "text": [
            "\r 23%|██▎       | 226/1000 [02:07<07:25,  1.74it/s]"
          ]
        },
        {
          "output_type": "stream",
          "name": "stdout",
          "text": [
            "image shape: torch.Size([1, 224, 224, 3])\n",
            "image shape: torch.Size([1, 224, 224, 3])\n",
            "image shape: torch.Size([1, 224, 224, 3])\n",
            "Applying GaussianBlur(kernel_size=(5, 5), sigma=(0.1, 2.0)) to image of type <class 'torch.Tensor'>\n",
            "Applying RandomResizedCrop(size=(224, 224), scale=(1, 1), ratio=(0.75, 1.3333), interpolation=bilinear, antialias=True) to image of type <class 'torch.Tensor'>\n",
            "torch.Size([3, 3, 224, 224])\n",
            "Applying ColorJitter(brightness=(0.8, 1.2), contrast=(0.8, 1.2), saturation=(0.8, 1.2), hue=(-0.1, 0.1)) to image of type <class 'torch.Tensor'>\n",
            "Applying RandomResizedCrop(size=(224, 224), scale=(1, 1), ratio=(0.75, 1.3333), interpolation=bilinear, antialias=True) to image of type <class 'torch.Tensor'>\n",
            "torch.Size([3, 3, 224, 224])\n",
            "Applying ColorJitter(brightness=(0.8, 1.2), contrast=(0.8, 1.2), saturation=(0.8, 1.2), hue=(-0.1, 0.1)) to image of type <class 'torch.Tensor'>\n",
            "Applying RandomPerspective(p=0.8) to image of type <class 'torch.Tensor'>\n",
            "torch.Size([3, 3, 224, 224])\n",
            "Applying RandomPerspective(p=0.8) to image of type <class 'torch.Tensor'>\n",
            "Applying ColorJitter(brightness=(0.8, 1.2), contrast=(0.8, 1.2), saturation=(0.8, 1.2), hue=(-0.1, 0.1)) to image of type <class 'torch.Tensor'>\n",
            "torch.Size([3, 3, 224, 224])\n"
          ]
        },
        {
          "output_type": "stream",
          "name": "stderr",
          "text": [
            "\r 23%|██▎       | 227/1000 [02:08<07:22,  1.75it/s]"
          ]
        },
        {
          "output_type": "stream",
          "name": "stdout",
          "text": [
            "image shape: torch.Size([1, 224, 224, 3])\n",
            "image shape: torch.Size([1, 224, 224, 3])\n",
            "image shape: torch.Size([1, 224, 224, 3])\n",
            "Applying GaussianBlur(kernel_size=(5, 5), sigma=(0.1, 2.0)) to image of type <class 'torch.Tensor'>\n",
            "Applying RandomPerspective(p=0.8) to image of type <class 'torch.Tensor'>\n",
            "torch.Size([3, 3, 224, 224])\n",
            "Applying RandomResizedCrop(size=(224, 224), scale=(1, 1), ratio=(0.75, 1.3333), interpolation=bilinear, antialias=True) to image of type <class 'torch.Tensor'>\n",
            "Applying RandomPerspective(p=0.8) to image of type <class 'torch.Tensor'>\n",
            "torch.Size([3, 3, 224, 224])\n",
            "Applying ColorJitter(brightness=(0.8, 1.2), contrast=(0.8, 1.2), saturation=(0.8, 1.2), hue=(-0.1, 0.1)) to image of type <class 'torch.Tensor'>\n",
            "Applying RandomPerspective(p=0.8) to image of type <class 'torch.Tensor'>\n",
            "torch.Size([3, 3, 224, 224])\n",
            "Applying GaussianBlur(kernel_size=(5, 5), sigma=(0.1, 2.0)) to image of type <class 'torch.Tensor'>\n",
            "Applying ColorJitter(brightness=(0.8, 1.2), contrast=(0.8, 1.2), saturation=(0.8, 1.2), hue=(-0.1, 0.1)) to image of type <class 'torch.Tensor'>\n",
            "torch.Size([3, 3, 224, 224])\n"
          ]
        },
        {
          "output_type": "stream",
          "name": "stderr",
          "text": [
            "\r 23%|██▎       | 228/1000 [02:08<07:19,  1.76it/s]"
          ]
        },
        {
          "output_type": "stream",
          "name": "stdout",
          "text": [
            "image shape: torch.Size([1, 224, 224, 3])\n",
            "image shape: torch.Size([1, 224, 224, 3])\n",
            "image shape: torch.Size([1, 224, 224, 3])\n",
            "Applying RandomPerspective(p=0.8) to image of type <class 'torch.Tensor'>\n",
            "Applying ColorJitter(brightness=(0.8, 1.2), contrast=(0.8, 1.2), saturation=(0.8, 1.2), hue=(-0.1, 0.1)) to image of type <class 'torch.Tensor'>\n",
            "torch.Size([3, 3, 224, 224])\n",
            "Applying RandomResizedCrop(size=(224, 224), scale=(1, 1), ratio=(0.75, 1.3333), interpolation=bilinear, antialias=True) to image of type <class 'torch.Tensor'>\n",
            "Applying RandomPerspective(p=0.8) to image of type <class 'torch.Tensor'>\n",
            "torch.Size([3, 3, 224, 224])\n",
            "Applying ColorJitter(brightness=(0.8, 1.2), contrast=(0.8, 1.2), saturation=(0.8, 1.2), hue=(-0.1, 0.1)) to image of type <class 'torch.Tensor'>\n",
            "Applying RandomPerspective(p=0.8) to image of type <class 'torch.Tensor'>\n",
            "torch.Size([3, 3, 224, 224])\n",
            "Applying RandomPerspective(p=0.8) to image of type <class 'torch.Tensor'>\n",
            "Applying ColorJitter(brightness=(0.8, 1.2), contrast=(0.8, 1.2), saturation=(0.8, 1.2), hue=(-0.1, 0.1)) to image of type <class 'torch.Tensor'>\n",
            "torch.Size([3, 3, 224, 224])\n"
          ]
        },
        {
          "output_type": "stream",
          "name": "stderr",
          "text": [
            "\r 23%|██▎       | 229/1000 [02:09<07:19,  1.76it/s]"
          ]
        },
        {
          "output_type": "stream",
          "name": "stdout",
          "text": [
            "image shape: torch.Size([1, 224, 224, 3])\n",
            "image shape: torch.Size([1, 224, 224, 3])\n",
            "image shape: torch.Size([1, 224, 224, 3])\n",
            "Applying RandomPerspective(p=0.8) to image of type <class 'torch.Tensor'>\n",
            "Applying GaussianBlur(kernel_size=(5, 5), sigma=(0.1, 2.0)) to image of type <class 'torch.Tensor'>\n",
            "torch.Size([3, 3, 224, 224])\n",
            "Applying RandomPerspective(p=0.8) to image of type <class 'torch.Tensor'>\n",
            "Applying RandomResizedCrop(size=(224, 224), scale=(1, 1), ratio=(0.75, 1.3333), interpolation=bilinear, antialias=True) to image of type <class 'torch.Tensor'>\n",
            "torch.Size([3, 3, 224, 224])\n",
            "Applying RandomResizedCrop(size=(224, 224), scale=(1, 1), ratio=(0.75, 1.3333), interpolation=bilinear, antialias=True) to image of type <class 'torch.Tensor'>\n",
            "Applying GaussianBlur(kernel_size=(5, 5), sigma=(0.1, 2.0)) to image of type <class 'torch.Tensor'>\n",
            "torch.Size([3, 3, 224, 224])\n",
            "Applying ColorJitter(brightness=(0.8, 1.2), contrast=(0.8, 1.2), saturation=(0.8, 1.2), hue=(-0.1, 0.1)) to image of type <class 'torch.Tensor'>\n",
            "Applying GaussianBlur(kernel_size=(5, 5), sigma=(0.1, 2.0)) to image of type <class 'torch.Tensor'>\n",
            "torch.Size([3, 3, 224, 224])\n"
          ]
        },
        {
          "output_type": "stream",
          "name": "stderr",
          "text": [
            "\r 23%|██▎       | 230/1000 [02:09<07:16,  1.76it/s]"
          ]
        },
        {
          "output_type": "stream",
          "name": "stdout",
          "text": [
            "image shape: torch.Size([1, 224, 224, 3])\n",
            "image shape: torch.Size([1, 224, 224, 3])\n",
            "image shape: torch.Size([1, 224, 224, 3])\n",
            "Applying GaussianBlur(kernel_size=(5, 5), sigma=(0.1, 2.0)) to image of type <class 'torch.Tensor'>\n",
            "Applying RandomPerspective(p=0.8) to image of type <class 'torch.Tensor'>\n",
            "torch.Size([3, 3, 224, 224])\n",
            "Applying RandomResizedCrop(size=(224, 224), scale=(1, 1), ratio=(0.75, 1.3333), interpolation=bilinear, antialias=True) to image of type <class 'torch.Tensor'>\n",
            "Applying ColorJitter(brightness=(0.8, 1.2), contrast=(0.8, 1.2), saturation=(0.8, 1.2), hue=(-0.1, 0.1)) to image of type <class 'torch.Tensor'>\n",
            "torch.Size([3, 3, 224, 224])\n",
            "Applying RandomPerspective(p=0.8) to image of type <class 'torch.Tensor'>\n",
            "Applying GaussianBlur(kernel_size=(5, 5), sigma=(0.1, 2.0)) to image of type <class 'torch.Tensor'>\n",
            "torch.Size([3, 3, 224, 224])\n",
            "Applying GaussianBlur(kernel_size=(5, 5), sigma=(0.1, 2.0)) to image of type <class 'torch.Tensor'>\n",
            "Applying RandomResizedCrop(size=(224, 224), scale=(1, 1), ratio=(0.75, 1.3333), interpolation=bilinear, antialias=True) to image of type <class 'torch.Tensor'>\n",
            "torch.Size([3, 3, 224, 224])\n"
          ]
        },
        {
          "output_type": "stream",
          "name": "stderr",
          "text": [
            "\r 23%|██▎       | 231/1000 [02:10<07:13,  1.77it/s]"
          ]
        },
        {
          "output_type": "stream",
          "name": "stdout",
          "text": [
            "image shape: torch.Size([1, 224, 224, 3])\n",
            "image shape: torch.Size([1, 224, 224, 3])\n",
            "image shape: torch.Size([1, 224, 224, 3])\n",
            "Applying RandomPerspective(p=0.8) to image of type <class 'torch.Tensor'>\n",
            "Applying GaussianBlur(kernel_size=(5, 5), sigma=(0.1, 2.0)) to image of type <class 'torch.Tensor'>\n",
            "torch.Size([3, 3, 224, 224])\n",
            "Applying GaussianBlur(kernel_size=(5, 5), sigma=(0.1, 2.0)) to image of type <class 'torch.Tensor'>\n",
            "Applying RandomResizedCrop(size=(224, 224), scale=(1, 1), ratio=(0.75, 1.3333), interpolation=bilinear, antialias=True) to image of type <class 'torch.Tensor'>\n",
            "torch.Size([3, 3, 224, 224])\n",
            "Applying RandomResizedCrop(size=(224, 224), scale=(1, 1), ratio=(0.75, 1.3333), interpolation=bilinear, antialias=True) to image of type <class 'torch.Tensor'>\n",
            "Applying GaussianBlur(kernel_size=(5, 5), sigma=(0.1, 2.0)) to image of type <class 'torch.Tensor'>\n",
            "torch.Size([3, 3, 224, 224])\n",
            "Applying RandomResizedCrop(size=(224, 224), scale=(1, 1), ratio=(0.75, 1.3333), interpolation=bilinear, antialias=True) to image of type <class 'torch.Tensor'>\n",
            "Applying ColorJitter(brightness=(0.8, 1.2), contrast=(0.8, 1.2), saturation=(0.8, 1.2), hue=(-0.1, 0.1)) to image of type <class 'torch.Tensor'>\n",
            "torch.Size([3, 3, 224, 224])\n"
          ]
        },
        {
          "output_type": "stream",
          "name": "stderr",
          "text": [
            "\r 23%|██▎       | 232/1000 [02:11<07:12,  1.78it/s]"
          ]
        },
        {
          "output_type": "stream",
          "name": "stdout",
          "text": [
            "image shape: torch.Size([1, 224, 224, 3])\n",
            "image shape: torch.Size([1, 224, 224, 3])\n",
            "image shape: torch.Size([1, 224, 224, 3])\n",
            "Applying ColorJitter(brightness=(0.8, 1.2), contrast=(0.8, 1.2), saturation=(0.8, 1.2), hue=(-0.1, 0.1)) to image of type <class 'torch.Tensor'>\n",
            "Applying RandomPerspective(p=0.8) to image of type <class 'torch.Tensor'>\n",
            "torch.Size([3, 3, 224, 224])\n",
            "Applying GaussianBlur(kernel_size=(5, 5), sigma=(0.1, 2.0)) to image of type <class 'torch.Tensor'>\n",
            "Applying RandomResizedCrop(size=(224, 224), scale=(1, 1), ratio=(0.75, 1.3333), interpolation=bilinear, antialias=True) to image of type <class 'torch.Tensor'>\n",
            "torch.Size([3, 3, 224, 224])\n",
            "Applying RandomPerspective(p=0.8) to image of type <class 'torch.Tensor'>\n",
            "Applying GaussianBlur(kernel_size=(5, 5), sigma=(0.1, 2.0)) to image of type <class 'torch.Tensor'>\n",
            "torch.Size([3, 3, 224, 224])\n",
            "Applying RandomPerspective(p=0.8) to image of type <class 'torch.Tensor'>\n",
            "Applying GaussianBlur(kernel_size=(5, 5), sigma=(0.1, 2.0)) to image of type <class 'torch.Tensor'>\n",
            "torch.Size([3, 3, 224, 224])\n"
          ]
        },
        {
          "output_type": "stream",
          "name": "stderr",
          "text": [
            "\r 23%|██▎       | 233/1000 [02:11<07:12,  1.77it/s]"
          ]
        },
        {
          "output_type": "stream",
          "name": "stdout",
          "text": [
            "image shape: torch.Size([1, 224, 224, 3])\n",
            "image shape: torch.Size([1, 224, 224, 3])\n",
            "image shape: torch.Size([1, 224, 224, 3])\n",
            "Applying RandomResizedCrop(size=(224, 224), scale=(1, 1), ratio=(0.75, 1.3333), interpolation=bilinear, antialias=True) to image of type <class 'torch.Tensor'>\n",
            "Applying RandomPerspective(p=0.8) to image of type <class 'torch.Tensor'>\n",
            "torch.Size([3, 3, 224, 224])\n",
            "Applying RandomPerspective(p=0.8) to image of type <class 'torch.Tensor'>\n",
            "Applying ColorJitter(brightness=(0.8, 1.2), contrast=(0.8, 1.2), saturation=(0.8, 1.2), hue=(-0.1, 0.1)) to image of type <class 'torch.Tensor'>\n",
            "torch.Size([3, 3, 224, 224])\n",
            "Applying ColorJitter(brightness=(0.8, 1.2), contrast=(0.8, 1.2), saturation=(0.8, 1.2), hue=(-0.1, 0.1)) to image of type <class 'torch.Tensor'>\n",
            "Applying RandomPerspective(p=0.8) to image of type <class 'torch.Tensor'>\n",
            "torch.Size([3, 3, 224, 224])\n",
            "Applying ColorJitter(brightness=(0.8, 1.2), contrast=(0.8, 1.2), saturation=(0.8, 1.2), hue=(-0.1, 0.1)) to image of type <class 'torch.Tensor'>\n",
            "Applying GaussianBlur(kernel_size=(5, 5), sigma=(0.1, 2.0)) to image of type <class 'torch.Tensor'>\n",
            "torch.Size([3, 3, 224, 224])\n"
          ]
        },
        {
          "output_type": "stream",
          "name": "stderr",
          "text": [
            "\r 23%|██▎       | 234/1000 [02:12<07:12,  1.77it/s]"
          ]
        },
        {
          "output_type": "stream",
          "name": "stdout",
          "text": [
            "image shape: torch.Size([1, 224, 224, 3])\n",
            "image shape: torch.Size([1, 224, 224, 3])\n",
            "image shape: torch.Size([1, 224, 224, 3])\n",
            "Applying ColorJitter(brightness=(0.8, 1.2), contrast=(0.8, 1.2), saturation=(0.8, 1.2), hue=(-0.1, 0.1)) to image of type <class 'torch.Tensor'>\n",
            "Applying RandomResizedCrop(size=(224, 224), scale=(1, 1), ratio=(0.75, 1.3333), interpolation=bilinear, antialias=True) to image of type <class 'torch.Tensor'>\n",
            "torch.Size([3, 3, 224, 224])\n",
            "Applying ColorJitter(brightness=(0.8, 1.2), contrast=(0.8, 1.2), saturation=(0.8, 1.2), hue=(-0.1, 0.1)) to image of type <class 'torch.Tensor'>\n",
            "Applying RandomResizedCrop(size=(224, 224), scale=(1, 1), ratio=(0.75, 1.3333), interpolation=bilinear, antialias=True) to image of type <class 'torch.Tensor'>\n",
            "torch.Size([3, 3, 224, 224])\n",
            "Applying ColorJitter(brightness=(0.8, 1.2), contrast=(0.8, 1.2), saturation=(0.8, 1.2), hue=(-0.1, 0.1)) to image of type <class 'torch.Tensor'>\n",
            "Applying GaussianBlur(kernel_size=(5, 5), sigma=(0.1, 2.0)) to image of type <class 'torch.Tensor'>\n",
            "torch.Size([3, 3, 224, 224])\n",
            "Applying RandomResizedCrop(size=(224, 224), scale=(1, 1), ratio=(0.75, 1.3333), interpolation=bilinear, antialias=True) to image of type <class 'torch.Tensor'>\n",
            "Applying ColorJitter(brightness=(0.8, 1.2), contrast=(0.8, 1.2), saturation=(0.8, 1.2), hue=(-0.1, 0.1)) to image of type <class 'torch.Tensor'>\n",
            "torch.Size([3, 3, 224, 224])\n"
          ]
        },
        {
          "output_type": "stream",
          "name": "stderr",
          "text": [
            "\r 24%|██▎       | 235/1000 [02:12<07:13,  1.77it/s]"
          ]
        },
        {
          "output_type": "stream",
          "name": "stdout",
          "text": [
            "image shape: torch.Size([1, 224, 224, 3])\n",
            "image shape: torch.Size([1, 224, 224, 3])\n",
            "image shape: torch.Size([1, 224, 224, 3])\n",
            "Applying RandomPerspective(p=0.8) to image of type <class 'torch.Tensor'>\n",
            "Applying ColorJitter(brightness=(0.8, 1.2), contrast=(0.8, 1.2), saturation=(0.8, 1.2), hue=(-0.1, 0.1)) to image of type <class 'torch.Tensor'>\n",
            "torch.Size([3, 3, 224, 224])\n",
            "Applying ColorJitter(brightness=(0.8, 1.2), contrast=(0.8, 1.2), saturation=(0.8, 1.2), hue=(-0.1, 0.1)) to image of type <class 'torch.Tensor'>\n",
            "Applying RandomPerspective(p=0.8) to image of type <class 'torch.Tensor'>\n",
            "torch.Size([3, 3, 224, 224])\n",
            "Applying RandomResizedCrop(size=(224, 224), scale=(1, 1), ratio=(0.75, 1.3333), interpolation=bilinear, antialias=True) to image of type <class 'torch.Tensor'>\n",
            "Applying GaussianBlur(kernel_size=(5, 5), sigma=(0.1, 2.0)) to image of type <class 'torch.Tensor'>\n",
            "torch.Size([3, 3, 224, 224])\n",
            "Applying RandomPerspective(p=0.8) to image of type <class 'torch.Tensor'>\n",
            "Applying ColorJitter(brightness=(0.8, 1.2), contrast=(0.8, 1.2), saturation=(0.8, 1.2), hue=(-0.1, 0.1)) to image of type <class 'torch.Tensor'>\n",
            "torch.Size([3, 3, 224, 224])\n"
          ]
        },
        {
          "output_type": "stream",
          "name": "stderr",
          "text": [
            "\r 24%|██▎       | 236/1000 [02:13<07:13,  1.76it/s]"
          ]
        },
        {
          "output_type": "stream",
          "name": "stdout",
          "text": [
            "image shape: torch.Size([1, 224, 224, 3])\n",
            "image shape: torch.Size([1, 224, 224, 3])\n",
            "image shape: torch.Size([1, 224, 224, 3])\n",
            "Applying GaussianBlur(kernel_size=(5, 5), sigma=(0.1, 2.0)) to image of type <class 'torch.Tensor'>\n",
            "Applying RandomPerspective(p=0.8) to image of type <class 'torch.Tensor'>\n",
            "torch.Size([3, 3, 224, 224])\n",
            "Applying GaussianBlur(kernel_size=(5, 5), sigma=(0.1, 2.0)) to image of type <class 'torch.Tensor'>\n",
            "Applying ColorJitter(brightness=(0.8, 1.2), contrast=(0.8, 1.2), saturation=(0.8, 1.2), hue=(-0.1, 0.1)) to image of type <class 'torch.Tensor'>\n",
            "torch.Size([3, 3, 224, 224])\n",
            "Applying RandomResizedCrop(size=(224, 224), scale=(1, 1), ratio=(0.75, 1.3333), interpolation=bilinear, antialias=True) to image of type <class 'torch.Tensor'>\n",
            "Applying GaussianBlur(kernel_size=(5, 5), sigma=(0.1, 2.0)) to image of type <class 'torch.Tensor'>\n",
            "torch.Size([3, 3, 224, 224])\n",
            "Applying RandomPerspective(p=0.8) to image of type <class 'torch.Tensor'>\n",
            "Applying GaussianBlur(kernel_size=(5, 5), sigma=(0.1, 2.0)) to image of type <class 'torch.Tensor'>\n",
            "torch.Size([3, 3, 224, 224])\n"
          ]
        },
        {
          "output_type": "stream",
          "name": "stderr",
          "text": [
            "\r 24%|██▎       | 237/1000 [02:13<07:11,  1.77it/s]"
          ]
        },
        {
          "output_type": "stream",
          "name": "stdout",
          "text": [
            "image shape: torch.Size([1, 224, 224, 3])\n",
            "image shape: torch.Size([1, 224, 224, 3])\n",
            "image shape: torch.Size([1, 224, 224, 3])\n",
            "Applying RandomResizedCrop(size=(224, 224), scale=(1, 1), ratio=(0.75, 1.3333), interpolation=bilinear, antialias=True) to image of type <class 'torch.Tensor'>\n",
            "Applying ColorJitter(brightness=(0.8, 1.2), contrast=(0.8, 1.2), saturation=(0.8, 1.2), hue=(-0.1, 0.1)) to image of type <class 'torch.Tensor'>\n",
            "torch.Size([3, 3, 224, 224])\n",
            "Applying GaussianBlur(kernel_size=(5, 5), sigma=(0.1, 2.0)) to image of type <class 'torch.Tensor'>\n",
            "Applying RandomPerspective(p=0.8) to image of type <class 'torch.Tensor'>\n",
            "torch.Size([3, 3, 224, 224])\n",
            "Applying RandomPerspective(p=0.8) to image of type <class 'torch.Tensor'>\n",
            "Applying RandomResizedCrop(size=(224, 224), scale=(1, 1), ratio=(0.75, 1.3333), interpolation=bilinear, antialias=True) to image of type <class 'torch.Tensor'>\n",
            "torch.Size([3, 3, 224, 224])\n",
            "Applying ColorJitter(brightness=(0.8, 1.2), contrast=(0.8, 1.2), saturation=(0.8, 1.2), hue=(-0.1, 0.1)) to image of type <class 'torch.Tensor'>\n",
            "Applying RandomResizedCrop(size=(224, 224), scale=(1, 1), ratio=(0.75, 1.3333), interpolation=bilinear, antialias=True) to image of type <class 'torch.Tensor'>\n",
            "torch.Size([3, 3, 224, 224])\n"
          ]
        },
        {
          "output_type": "stream",
          "name": "stderr",
          "text": [
            "\r 24%|██▍       | 238/1000 [02:14<07:11,  1.76it/s]"
          ]
        },
        {
          "output_type": "stream",
          "name": "stdout",
          "text": [
            "image shape: torch.Size([1, 224, 224, 3])\n",
            "image shape: torch.Size([1, 224, 224, 3])\n",
            "image shape: torch.Size([1, 224, 224, 3])\n",
            "Applying GaussianBlur(kernel_size=(5, 5), sigma=(0.1, 2.0)) to image of type <class 'torch.Tensor'>\n",
            "Applying RandomPerspective(p=0.8) to image of type <class 'torch.Tensor'>\n",
            "torch.Size([3, 3, 224, 224])\n",
            "Applying RandomResizedCrop(size=(224, 224), scale=(1, 1), ratio=(0.75, 1.3333), interpolation=bilinear, antialias=True) to image of type <class 'torch.Tensor'>\n",
            "Applying GaussianBlur(kernel_size=(5, 5), sigma=(0.1, 2.0)) to image of type <class 'torch.Tensor'>\n",
            "torch.Size([3, 3, 224, 224])\n",
            "Applying ColorJitter(brightness=(0.8, 1.2), contrast=(0.8, 1.2), saturation=(0.8, 1.2), hue=(-0.1, 0.1)) to image of type <class 'torch.Tensor'>\n",
            "Applying GaussianBlur(kernel_size=(5, 5), sigma=(0.1, 2.0)) to image of type <class 'torch.Tensor'>\n",
            "torch.Size([3, 3, 224, 224])\n",
            "Applying ColorJitter(brightness=(0.8, 1.2), contrast=(0.8, 1.2), saturation=(0.8, 1.2), hue=(-0.1, 0.1)) to image of type <class 'torch.Tensor'>\n",
            "Applying RandomResizedCrop(size=(224, 224), scale=(1, 1), ratio=(0.75, 1.3333), interpolation=bilinear, antialias=True) to image of type <class 'torch.Tensor'>\n",
            "torch.Size([3, 3, 224, 224])\n"
          ]
        },
        {
          "output_type": "stream",
          "name": "stderr",
          "text": [
            "\r 24%|██▍       | 239/1000 [02:15<07:11,  1.76it/s]"
          ]
        },
        {
          "output_type": "stream",
          "name": "stdout",
          "text": [
            "image shape: torch.Size([1, 224, 224, 3])\n",
            "image shape: torch.Size([1, 224, 224, 3])\n",
            "image shape: torch.Size([1, 224, 224, 3])\n",
            "Applying RandomPerspective(p=0.8) to image of type <class 'torch.Tensor'>\n",
            "Applying GaussianBlur(kernel_size=(5, 5), sigma=(0.1, 2.0)) to image of type <class 'torch.Tensor'>\n",
            "torch.Size([3, 3, 224, 224])\n",
            "Applying ColorJitter(brightness=(0.8, 1.2), contrast=(0.8, 1.2), saturation=(0.8, 1.2), hue=(-0.1, 0.1)) to image of type <class 'torch.Tensor'>\n",
            "Applying GaussianBlur(kernel_size=(5, 5), sigma=(0.1, 2.0)) to image of type <class 'torch.Tensor'>\n",
            "torch.Size([3, 3, 224, 224])\n",
            "Applying RandomPerspective(p=0.8) to image of type <class 'torch.Tensor'>\n",
            "Applying RandomResizedCrop(size=(224, 224), scale=(1, 1), ratio=(0.75, 1.3333), interpolation=bilinear, antialias=True) to image of type <class 'torch.Tensor'>\n",
            "torch.Size([3, 3, 224, 224])\n",
            "Applying RandomPerspective(p=0.8) to image of type <class 'torch.Tensor'>\n",
            "Applying RandomResizedCrop(size=(224, 224), scale=(1, 1), ratio=(0.75, 1.3333), interpolation=bilinear, antialias=True) to image of type <class 'torch.Tensor'>\n",
            "torch.Size([3, 3, 224, 224])\n"
          ]
        },
        {
          "output_type": "stream",
          "name": "stderr",
          "text": [
            "\r 24%|██▍       | 240/1000 [02:15<07:10,  1.77it/s]"
          ]
        },
        {
          "output_type": "stream",
          "name": "stdout",
          "text": [
            "image shape: torch.Size([1, 224, 224, 3])\n",
            "image shape: torch.Size([1, 224, 224, 3])\n",
            "image shape: torch.Size([1, 224, 224, 3])\n",
            "Applying RandomPerspective(p=0.8) to image of type <class 'torch.Tensor'>\n",
            "Applying RandomResizedCrop(size=(224, 224), scale=(1, 1), ratio=(0.75, 1.3333), interpolation=bilinear, antialias=True) to image of type <class 'torch.Tensor'>\n",
            "torch.Size([3, 3, 224, 224])\n",
            "Applying RandomPerspective(p=0.8) to image of type <class 'torch.Tensor'>\n",
            "Applying GaussianBlur(kernel_size=(5, 5), sigma=(0.1, 2.0)) to image of type <class 'torch.Tensor'>\n",
            "torch.Size([3, 3, 224, 224])\n",
            "Applying RandomResizedCrop(size=(224, 224), scale=(1, 1), ratio=(0.75, 1.3333), interpolation=bilinear, antialias=True) to image of type <class 'torch.Tensor'>\n",
            "Applying RandomPerspective(p=0.8) to image of type <class 'torch.Tensor'>\n",
            "torch.Size([3, 3, 224, 224])\n",
            "Applying ColorJitter(brightness=(0.8, 1.2), contrast=(0.8, 1.2), saturation=(0.8, 1.2), hue=(-0.1, 0.1)) to image of type <class 'torch.Tensor'>\n",
            "Applying RandomPerspective(p=0.8) to image of type <class 'torch.Tensor'>\n",
            "torch.Size([3, 3, 224, 224])\n"
          ]
        },
        {
          "output_type": "stream",
          "name": "stderr",
          "text": [
            "\r 24%|██▍       | 241/1000 [02:16<07:09,  1.77it/s]"
          ]
        },
        {
          "output_type": "stream",
          "name": "stdout",
          "text": [
            "image shape: torch.Size([1, 224, 224, 3])\n",
            "image shape: torch.Size([1, 224, 224, 3])\n",
            "image shape: torch.Size([1, 224, 224, 3])\n",
            "Applying ColorJitter(brightness=(0.8, 1.2), contrast=(0.8, 1.2), saturation=(0.8, 1.2), hue=(-0.1, 0.1)) to image of type <class 'torch.Tensor'>\n",
            "Applying RandomResizedCrop(size=(224, 224), scale=(1, 1), ratio=(0.75, 1.3333), interpolation=bilinear, antialias=True) to image of type <class 'torch.Tensor'>\n",
            "torch.Size([3, 3, 224, 224])\n",
            "Applying RandomPerspective(p=0.8) to image of type <class 'torch.Tensor'>\n",
            "Applying GaussianBlur(kernel_size=(5, 5), sigma=(0.1, 2.0)) to image of type <class 'torch.Tensor'>\n",
            "torch.Size([3, 3, 224, 224])\n",
            "Applying RandomResizedCrop(size=(224, 224), scale=(1, 1), ratio=(0.75, 1.3333), interpolation=bilinear, antialias=True) to image of type <class 'torch.Tensor'>\n",
            "Applying GaussianBlur(kernel_size=(5, 5), sigma=(0.1, 2.0)) to image of type <class 'torch.Tensor'>\n",
            "torch.Size([3, 3, 224, 224])\n",
            "Applying RandomResizedCrop(size=(224, 224), scale=(1, 1), ratio=(0.75, 1.3333), interpolation=bilinear, antialias=True) to image of type <class 'torch.Tensor'>\n",
            "Applying GaussianBlur(kernel_size=(5, 5), sigma=(0.1, 2.0)) to image of type <class 'torch.Tensor'>\n",
            "torch.Size([3, 3, 224, 224])\n"
          ]
        },
        {
          "output_type": "stream",
          "name": "stderr",
          "text": [
            "\r 24%|██▍       | 242/1000 [02:16<07:13,  1.75it/s]"
          ]
        },
        {
          "output_type": "stream",
          "name": "stdout",
          "text": [
            "image shape: torch.Size([1, 224, 224, 3])\n",
            "image shape: torch.Size([1, 224, 224, 3])\n",
            "image shape: torch.Size([1, 224, 224, 3])\n",
            "Applying RandomPerspective(p=0.8) to image of type <class 'torch.Tensor'>\n",
            "Applying GaussianBlur(kernel_size=(5, 5), sigma=(0.1, 2.0)) to image of type <class 'torch.Tensor'>\n",
            "torch.Size([3, 3, 224, 224])\n",
            "Applying ColorJitter(brightness=(0.8, 1.2), contrast=(0.8, 1.2), saturation=(0.8, 1.2), hue=(-0.1, 0.1)) to image of type <class 'torch.Tensor'>\n",
            "Applying RandomPerspective(p=0.8) to image of type <class 'torch.Tensor'>\n",
            "torch.Size([3, 3, 224, 224])\n",
            "Applying GaussianBlur(kernel_size=(5, 5), sigma=(0.1, 2.0)) to image of type <class 'torch.Tensor'>\n",
            "Applying RandomPerspective(p=0.8) to image of type <class 'torch.Tensor'>\n",
            "torch.Size([3, 3, 224, 224])\n",
            "Applying RandomResizedCrop(size=(224, 224), scale=(1, 1), ratio=(0.75, 1.3333), interpolation=bilinear, antialias=True) to image of type <class 'torch.Tensor'>\n",
            "Applying ColorJitter(brightness=(0.8, 1.2), contrast=(0.8, 1.2), saturation=(0.8, 1.2), hue=(-0.1, 0.1)) to image of type <class 'torch.Tensor'>\n",
            "torch.Size([3, 3, 224, 224])\n"
          ]
        },
        {
          "output_type": "stream",
          "name": "stderr",
          "text": [
            "\r 24%|██▍       | 243/1000 [02:17<07:17,  1.73it/s]"
          ]
        },
        {
          "output_type": "stream",
          "name": "stdout",
          "text": [
            "image shape: torch.Size([1, 224, 224, 3])\n",
            "image shape: torch.Size([1, 224, 224, 3])\n",
            "image shape: torch.Size([1, 224, 224, 3])\n",
            "Applying RandomPerspective(p=0.8) to image of type <class 'torch.Tensor'>\n",
            "Applying GaussianBlur(kernel_size=(5, 5), sigma=(0.1, 2.0)) to image of type <class 'torch.Tensor'>\n",
            "torch.Size([3, 3, 224, 224])\n",
            "Applying RandomPerspective(p=0.8) to image of type <class 'torch.Tensor'>\n",
            "Applying ColorJitter(brightness=(0.8, 1.2), contrast=(0.8, 1.2), saturation=(0.8, 1.2), hue=(-0.1, 0.1)) to image of type <class 'torch.Tensor'>\n",
            "torch.Size([3, 3, 224, 224])\n",
            "Applying ColorJitter(brightness=(0.8, 1.2), contrast=(0.8, 1.2), saturation=(0.8, 1.2), hue=(-0.1, 0.1)) to image of type <class 'torch.Tensor'>\n",
            "Applying RandomPerspective(p=0.8) to image of type <class 'torch.Tensor'>\n",
            "torch.Size([3, 3, 224, 224])\n",
            "Applying GaussianBlur(kernel_size=(5, 5), sigma=(0.1, 2.0)) to image of type <class 'torch.Tensor'>\n",
            "Applying ColorJitter(brightness=(0.8, 1.2), contrast=(0.8, 1.2), saturation=(0.8, 1.2), hue=(-0.1, 0.1)) to image of type <class 'torch.Tensor'>\n",
            "torch.Size([3, 3, 224, 224])\n"
          ]
        },
        {
          "output_type": "stream",
          "name": "stderr",
          "text": [
            "\r 24%|██▍       | 244/1000 [02:17<07:18,  1.72it/s]"
          ]
        },
        {
          "output_type": "stream",
          "name": "stdout",
          "text": [
            "image shape: torch.Size([1, 224, 224, 3])\n",
            "image shape: torch.Size([1, 224, 224, 3])\n",
            "image shape: torch.Size([1, 224, 224, 3])\n",
            "Applying GaussianBlur(kernel_size=(5, 5), sigma=(0.1, 2.0)) to image of type <class 'torch.Tensor'>\n",
            "Applying RandomResizedCrop(size=(224, 224), scale=(1, 1), ratio=(0.75, 1.3333), interpolation=bilinear, antialias=True) to image of type <class 'torch.Tensor'>\n",
            "torch.Size([3, 3, 224, 224])\n",
            "Applying RandomResizedCrop(size=(224, 224), scale=(1, 1), ratio=(0.75, 1.3333), interpolation=bilinear, antialias=True) to image of type <class 'torch.Tensor'>\n",
            "Applying GaussianBlur(kernel_size=(5, 5), sigma=(0.1, 2.0)) to image of type <class 'torch.Tensor'>\n",
            "torch.Size([3, 3, 224, 224])\n",
            "Applying GaussianBlur(kernel_size=(5, 5), sigma=(0.1, 2.0)) to image of type <class 'torch.Tensor'>\n",
            "Applying ColorJitter(brightness=(0.8, 1.2), contrast=(0.8, 1.2), saturation=(0.8, 1.2), hue=(-0.1, 0.1)) to image of type <class 'torch.Tensor'>\n",
            "torch.Size([3, 3, 224, 224])\n",
            "Applying GaussianBlur(kernel_size=(5, 5), sigma=(0.1, 2.0)) to image of type <class 'torch.Tensor'>\n",
            "Applying ColorJitter(brightness=(0.8, 1.2), contrast=(0.8, 1.2), saturation=(0.8, 1.2), hue=(-0.1, 0.1)) to image of type <class 'torch.Tensor'>\n",
            "torch.Size([3, 3, 224, 224])\n"
          ]
        },
        {
          "output_type": "stream",
          "name": "stderr",
          "text": [
            "\r 24%|██▍       | 245/1000 [02:18<07:18,  1.72it/s]"
          ]
        },
        {
          "output_type": "stream",
          "name": "stdout",
          "text": [
            "image shape: torch.Size([1, 224, 224, 3])\n",
            "image shape: torch.Size([1, 224, 224, 3])\n",
            "image shape: torch.Size([1, 224, 224, 3])\n",
            "Applying ColorJitter(brightness=(0.8, 1.2), contrast=(0.8, 1.2), saturation=(0.8, 1.2), hue=(-0.1, 0.1)) to image of type <class 'torch.Tensor'>\n",
            "Applying GaussianBlur(kernel_size=(5, 5), sigma=(0.1, 2.0)) to image of type <class 'torch.Tensor'>\n",
            "torch.Size([3, 3, 224, 224])\n",
            "Applying ColorJitter(brightness=(0.8, 1.2), contrast=(0.8, 1.2), saturation=(0.8, 1.2), hue=(-0.1, 0.1)) to image of type <class 'torch.Tensor'>\n",
            "Applying GaussianBlur(kernel_size=(5, 5), sigma=(0.1, 2.0)) to image of type <class 'torch.Tensor'>\n",
            "torch.Size([3, 3, 224, 224])\n",
            "Applying RandomPerspective(p=0.8) to image of type <class 'torch.Tensor'>\n",
            "Applying GaussianBlur(kernel_size=(5, 5), sigma=(0.1, 2.0)) to image of type <class 'torch.Tensor'>\n",
            "torch.Size([3, 3, 224, 224])\n",
            "Applying RandomPerspective(p=0.8) to image of type <class 'torch.Tensor'>\n",
            "Applying ColorJitter(brightness=(0.8, 1.2), contrast=(0.8, 1.2), saturation=(0.8, 1.2), hue=(-0.1, 0.1)) to image of type <class 'torch.Tensor'>\n",
            "torch.Size([3, 3, 224, 224])\n"
          ]
        },
        {
          "output_type": "stream",
          "name": "stderr",
          "text": [
            "\r 25%|██▍       | 246/1000 [02:19<07:23,  1.70it/s]"
          ]
        },
        {
          "output_type": "stream",
          "name": "stdout",
          "text": [
            "image shape: torch.Size([1, 224, 224, 3])\n",
            "image shape: torch.Size([1, 224, 224, 3])\n",
            "image shape: torch.Size([1, 224, 224, 3])\n",
            "Applying ColorJitter(brightness=(0.8, 1.2), contrast=(0.8, 1.2), saturation=(0.8, 1.2), hue=(-0.1, 0.1)) to image of type <class 'torch.Tensor'>\n",
            "Applying GaussianBlur(kernel_size=(5, 5), sigma=(0.1, 2.0)) to image of type <class 'torch.Tensor'>\n",
            "torch.Size([3, 3, 224, 224])\n",
            "Applying RandomResizedCrop(size=(224, 224), scale=(1, 1), ratio=(0.75, 1.3333), interpolation=bilinear, antialias=True) to image of type <class 'torch.Tensor'>\n",
            "Applying ColorJitter(brightness=(0.8, 1.2), contrast=(0.8, 1.2), saturation=(0.8, 1.2), hue=(-0.1, 0.1)) to image of type <class 'torch.Tensor'>\n",
            "torch.Size([3, 3, 224, 224])\n",
            "Applying ColorJitter(brightness=(0.8, 1.2), contrast=(0.8, 1.2), saturation=(0.8, 1.2), hue=(-0.1, 0.1)) to image of type <class 'torch.Tensor'>\n",
            "Applying GaussianBlur(kernel_size=(5, 5), sigma=(0.1, 2.0)) to image of type <class 'torch.Tensor'>\n",
            "torch.Size([3, 3, 224, 224])\n",
            "Applying RandomResizedCrop(size=(224, 224), scale=(1, 1), ratio=(0.75, 1.3333), interpolation=bilinear, antialias=True) to image of type <class 'torch.Tensor'>\n",
            "Applying ColorJitter(brightness=(0.8, 1.2), contrast=(0.8, 1.2), saturation=(0.8, 1.2), hue=(-0.1, 0.1)) to image of type <class 'torch.Tensor'>\n",
            "torch.Size([3, 3, 224, 224])\n"
          ]
        },
        {
          "output_type": "stream",
          "name": "stderr",
          "text": [
            "\r 25%|██▍       | 247/1000 [02:19<07:26,  1.69it/s]"
          ]
        },
        {
          "output_type": "stream",
          "name": "stdout",
          "text": [
            "image shape: torch.Size([1, 224, 224, 3])\n",
            "image shape: torch.Size([1, 224, 224, 3])\n",
            "image shape: torch.Size([1, 224, 224, 3])\n",
            "Applying GaussianBlur(kernel_size=(5, 5), sigma=(0.1, 2.0)) to image of type <class 'torch.Tensor'>\n",
            "Applying RandomResizedCrop(size=(224, 224), scale=(1, 1), ratio=(0.75, 1.3333), interpolation=bilinear, antialias=True) to image of type <class 'torch.Tensor'>\n",
            "torch.Size([3, 3, 224, 224])\n",
            "Applying ColorJitter(brightness=(0.8, 1.2), contrast=(0.8, 1.2), saturation=(0.8, 1.2), hue=(-0.1, 0.1)) to image of type <class 'torch.Tensor'>\n",
            "Applying RandomResizedCrop(size=(224, 224), scale=(1, 1), ratio=(0.75, 1.3333), interpolation=bilinear, antialias=True) to image of type <class 'torch.Tensor'>\n",
            "torch.Size([3, 3, 224, 224])\n",
            "Applying RandomResizedCrop(size=(224, 224), scale=(1, 1), ratio=(0.75, 1.3333), interpolation=bilinear, antialias=True) to image of type <class 'torch.Tensor'>\n",
            "Applying ColorJitter(brightness=(0.8, 1.2), contrast=(0.8, 1.2), saturation=(0.8, 1.2), hue=(-0.1, 0.1)) to image of type <class 'torch.Tensor'>\n",
            "torch.Size([3, 3, 224, 224])\n",
            "Applying GaussianBlur(kernel_size=(5, 5), sigma=(0.1, 2.0)) to image of type <class 'torch.Tensor'>\n",
            "Applying RandomPerspective(p=0.8) to image of type <class 'torch.Tensor'>\n",
            "torch.Size([3, 3, 224, 224])\n"
          ]
        },
        {
          "output_type": "stream",
          "name": "stderr",
          "text": [
            "\r 25%|██▍       | 248/1000 [02:20<07:23,  1.69it/s]"
          ]
        },
        {
          "output_type": "stream",
          "name": "stdout",
          "text": [
            "image shape: torch.Size([1, 224, 224, 3])\n",
            "image shape: torch.Size([1, 224, 224, 3])\n",
            "image shape: torch.Size([1, 224, 224, 3])\n",
            "Applying GaussianBlur(kernel_size=(5, 5), sigma=(0.1, 2.0)) to image of type <class 'torch.Tensor'>\n",
            "Applying RandomResizedCrop(size=(224, 224), scale=(1, 1), ratio=(0.75, 1.3333), interpolation=bilinear, antialias=True) to image of type <class 'torch.Tensor'>\n",
            "torch.Size([3, 3, 224, 224])\n",
            "Applying ColorJitter(brightness=(0.8, 1.2), contrast=(0.8, 1.2), saturation=(0.8, 1.2), hue=(-0.1, 0.1)) to image of type <class 'torch.Tensor'>\n",
            "Applying GaussianBlur(kernel_size=(5, 5), sigma=(0.1, 2.0)) to image of type <class 'torch.Tensor'>\n",
            "torch.Size([3, 3, 224, 224])\n",
            "Applying RandomPerspective(p=0.8) to image of type <class 'torch.Tensor'>\n",
            "Applying RandomResizedCrop(size=(224, 224), scale=(1, 1), ratio=(0.75, 1.3333), interpolation=bilinear, antialias=True) to image of type <class 'torch.Tensor'>\n",
            "torch.Size([3, 3, 224, 224])\n",
            "Applying ColorJitter(brightness=(0.8, 1.2), contrast=(0.8, 1.2), saturation=(0.8, 1.2), hue=(-0.1, 0.1)) to image of type <class 'torch.Tensor'>\n",
            "Applying GaussianBlur(kernel_size=(5, 5), sigma=(0.1, 2.0)) to image of type <class 'torch.Tensor'>\n",
            "torch.Size([3, 3, 224, 224])\n"
          ]
        },
        {
          "output_type": "stream",
          "name": "stderr",
          "text": [
            "\r 25%|██▍       | 249/1000 [02:20<07:27,  1.68it/s]"
          ]
        },
        {
          "output_type": "stream",
          "name": "stdout",
          "text": [
            "image shape: torch.Size([1, 224, 224, 3])\n",
            "image shape: torch.Size([1, 224, 224, 3])\n",
            "image shape: torch.Size([1, 224, 224, 3])\n",
            "Applying GaussianBlur(kernel_size=(5, 5), sigma=(0.1, 2.0)) to image of type <class 'torch.Tensor'>\n",
            "Applying ColorJitter(brightness=(0.8, 1.2), contrast=(0.8, 1.2), saturation=(0.8, 1.2), hue=(-0.1, 0.1)) to image of type <class 'torch.Tensor'>\n",
            "torch.Size([3, 3, 224, 224])\n",
            "Applying RandomPerspective(p=0.8) to image of type <class 'torch.Tensor'>\n",
            "Applying ColorJitter(brightness=(0.8, 1.2), contrast=(0.8, 1.2), saturation=(0.8, 1.2), hue=(-0.1, 0.1)) to image of type <class 'torch.Tensor'>\n",
            "torch.Size([3, 3, 224, 224])\n",
            "Applying RandomResizedCrop(size=(224, 224), scale=(1, 1), ratio=(0.75, 1.3333), interpolation=bilinear, antialias=True) to image of type <class 'torch.Tensor'>\n",
            "Applying GaussianBlur(kernel_size=(5, 5), sigma=(0.1, 2.0)) to image of type <class 'torch.Tensor'>\n",
            "torch.Size([3, 3, 224, 224])\n",
            "Applying GaussianBlur(kernel_size=(5, 5), sigma=(0.1, 2.0)) to image of type <class 'torch.Tensor'>\n",
            "Applying RandomPerspective(p=0.8) to image of type <class 'torch.Tensor'>\n",
            "torch.Size([3, 3, 224, 224])\n"
          ]
        },
        {
          "output_type": "stream",
          "name": "stderr",
          "text": [
            "\r 25%|██▌       | 250/1000 [02:21<07:22,  1.70it/s]"
          ]
        },
        {
          "output_type": "stream",
          "name": "stdout",
          "text": [
            "image shape: torch.Size([1, 224, 224, 3])\n",
            "image shape: torch.Size([1, 224, 224, 3])\n",
            "image shape: torch.Size([1, 224, 224, 3])\n",
            "Applying GaussianBlur(kernel_size=(5, 5), sigma=(0.1, 2.0)) to image of type <class 'torch.Tensor'>\n",
            "Applying RandomResizedCrop(size=(224, 224), scale=(1, 1), ratio=(0.75, 1.3333), interpolation=bilinear, antialias=True) to image of type <class 'torch.Tensor'>\n",
            "torch.Size([3, 3, 224, 224])\n",
            "Applying ColorJitter(brightness=(0.8, 1.2), contrast=(0.8, 1.2), saturation=(0.8, 1.2), hue=(-0.1, 0.1)) to image of type <class 'torch.Tensor'>\n",
            "Applying RandomPerspective(p=0.8) to image of type <class 'torch.Tensor'>\n",
            "torch.Size([3, 3, 224, 224])\n",
            "Applying RandomPerspective(p=0.8) to image of type <class 'torch.Tensor'>\n",
            "Applying RandomResizedCrop(size=(224, 224), scale=(1, 1), ratio=(0.75, 1.3333), interpolation=bilinear, antialias=True) to image of type <class 'torch.Tensor'>\n",
            "torch.Size([3, 3, 224, 224])\n",
            "Applying RandomResizedCrop(size=(224, 224), scale=(1, 1), ratio=(0.75, 1.3333), interpolation=bilinear, antialias=True) to image of type <class 'torch.Tensor'>\n",
            "Applying ColorJitter(brightness=(0.8, 1.2), contrast=(0.8, 1.2), saturation=(0.8, 1.2), hue=(-0.1, 0.1)) to image of type <class 'torch.Tensor'>\n",
            "torch.Size([3, 3, 224, 224])\n"
          ]
        },
        {
          "output_type": "stream",
          "name": "stderr",
          "text": [
            "\r 25%|██▌       | 251/1000 [02:22<07:15,  1.72it/s]"
          ]
        },
        {
          "output_type": "stream",
          "name": "stdout",
          "text": [
            "image shape: torch.Size([1, 224, 224, 3])\n",
            "image shape: torch.Size([1, 224, 224, 3])\n",
            "image shape: torch.Size([1, 224, 224, 3])\n",
            "Applying GaussianBlur(kernel_size=(5, 5), sigma=(0.1, 2.0)) to image of type <class 'torch.Tensor'>\n",
            "Applying RandomPerspective(p=0.8) to image of type <class 'torch.Tensor'>\n",
            "torch.Size([3, 3, 224, 224])\n",
            "Applying GaussianBlur(kernel_size=(5, 5), sigma=(0.1, 2.0)) to image of type <class 'torch.Tensor'>\n",
            "Applying ColorJitter(brightness=(0.8, 1.2), contrast=(0.8, 1.2), saturation=(0.8, 1.2), hue=(-0.1, 0.1)) to image of type <class 'torch.Tensor'>\n",
            "torch.Size([3, 3, 224, 224])\n",
            "Applying RandomResizedCrop(size=(224, 224), scale=(1, 1), ratio=(0.75, 1.3333), interpolation=bilinear, antialias=True) to image of type <class 'torch.Tensor'>\n",
            "Applying GaussianBlur(kernel_size=(5, 5), sigma=(0.1, 2.0)) to image of type <class 'torch.Tensor'>\n",
            "torch.Size([3, 3, 224, 224])\n",
            "Applying GaussianBlur(kernel_size=(5, 5), sigma=(0.1, 2.0)) to image of type <class 'torch.Tensor'>\n",
            "Applying RandomResizedCrop(size=(224, 224), scale=(1, 1), ratio=(0.75, 1.3333), interpolation=bilinear, antialias=True) to image of type <class 'torch.Tensor'>\n",
            "torch.Size([3, 3, 224, 224])\n"
          ]
        },
        {
          "output_type": "stream",
          "name": "stderr",
          "text": [
            "\r 25%|██▌       | 252/1000 [02:22<07:11,  1.73it/s]"
          ]
        },
        {
          "output_type": "stream",
          "name": "stdout",
          "text": [
            "image shape: torch.Size([1, 224, 224, 3])\n",
            "image shape: torch.Size([1, 224, 224, 3])\n",
            "image shape: torch.Size([1, 224, 224, 3])\n",
            "Applying RandomPerspective(p=0.8) to image of type <class 'torch.Tensor'>\n",
            "Applying GaussianBlur(kernel_size=(5, 5), sigma=(0.1, 2.0)) to image of type <class 'torch.Tensor'>\n",
            "torch.Size([3, 3, 224, 224])\n",
            "Applying RandomPerspective(p=0.8) to image of type <class 'torch.Tensor'>\n",
            "Applying ColorJitter(brightness=(0.8, 1.2), contrast=(0.8, 1.2), saturation=(0.8, 1.2), hue=(-0.1, 0.1)) to image of type <class 'torch.Tensor'>\n",
            "torch.Size([3, 3, 224, 224])\n",
            "Applying RandomPerspective(p=0.8) to image of type <class 'torch.Tensor'>\n",
            "Applying RandomResizedCrop(size=(224, 224), scale=(1, 1), ratio=(0.75, 1.3333), interpolation=bilinear, antialias=True) to image of type <class 'torch.Tensor'>\n",
            "torch.Size([3, 3, 224, 224])\n",
            "Applying GaussianBlur(kernel_size=(5, 5), sigma=(0.1, 2.0)) to image of type <class 'torch.Tensor'>\n",
            "Applying RandomResizedCrop(size=(224, 224), scale=(1, 1), ratio=(0.75, 1.3333), interpolation=bilinear, antialias=True) to image of type <class 'torch.Tensor'>\n",
            "torch.Size([3, 3, 224, 224])\n"
          ]
        },
        {
          "output_type": "stream",
          "name": "stderr",
          "text": [
            "\r 25%|██▌       | 253/1000 [02:23<07:07,  1.75it/s]"
          ]
        },
        {
          "output_type": "stream",
          "name": "stdout",
          "text": [
            "image shape: torch.Size([1, 224, 224, 3])\n",
            "image shape: torch.Size([1, 224, 224, 3])\n",
            "image shape: torch.Size([1, 224, 224, 3])\n",
            "Applying ColorJitter(brightness=(0.8, 1.2), contrast=(0.8, 1.2), saturation=(0.8, 1.2), hue=(-0.1, 0.1)) to image of type <class 'torch.Tensor'>\n",
            "Applying GaussianBlur(kernel_size=(5, 5), sigma=(0.1, 2.0)) to image of type <class 'torch.Tensor'>\n",
            "torch.Size([3, 3, 224, 224])\n",
            "Applying RandomPerspective(p=0.8) to image of type <class 'torch.Tensor'>\n",
            "Applying RandomResizedCrop(size=(224, 224), scale=(1, 1), ratio=(0.75, 1.3333), interpolation=bilinear, antialias=True) to image of type <class 'torch.Tensor'>\n",
            "torch.Size([3, 3, 224, 224])\n",
            "Applying GaussianBlur(kernel_size=(5, 5), sigma=(0.1, 2.0)) to image of type <class 'torch.Tensor'>\n",
            "Applying RandomPerspective(p=0.8) to image of type <class 'torch.Tensor'>\n",
            "torch.Size([3, 3, 224, 224])\n",
            "Applying GaussianBlur(kernel_size=(5, 5), sigma=(0.1, 2.0)) to image of type <class 'torch.Tensor'>\n",
            "Applying RandomPerspective(p=0.8) to image of type <class 'torch.Tensor'>\n",
            "torch.Size([3, 3, 224, 224])\n"
          ]
        },
        {
          "output_type": "stream",
          "name": "stderr",
          "text": [
            "\r 25%|██▌       | 254/1000 [02:23<07:06,  1.75it/s]"
          ]
        },
        {
          "output_type": "stream",
          "name": "stdout",
          "text": [
            "image shape: torch.Size([1, 224, 224, 3])\n",
            "image shape: torch.Size([1, 224, 224, 3])\n",
            "image shape: torch.Size([1, 224, 224, 3])\n",
            "Applying RandomPerspective(p=0.8) to image of type <class 'torch.Tensor'>\n",
            "Applying GaussianBlur(kernel_size=(5, 5), sigma=(0.1, 2.0)) to image of type <class 'torch.Tensor'>\n",
            "torch.Size([3, 3, 224, 224])\n",
            "Applying RandomResizedCrop(size=(224, 224), scale=(1, 1), ratio=(0.75, 1.3333), interpolation=bilinear, antialias=True) to image of type <class 'torch.Tensor'>\n",
            "Applying GaussianBlur(kernel_size=(5, 5), sigma=(0.1, 2.0)) to image of type <class 'torch.Tensor'>\n",
            "torch.Size([3, 3, 224, 224])\n",
            "Applying RandomResizedCrop(size=(224, 224), scale=(1, 1), ratio=(0.75, 1.3333), interpolation=bilinear, antialias=True) to image of type <class 'torch.Tensor'>\n",
            "Applying ColorJitter(brightness=(0.8, 1.2), contrast=(0.8, 1.2), saturation=(0.8, 1.2), hue=(-0.1, 0.1)) to image of type <class 'torch.Tensor'>\n",
            "torch.Size([3, 3, 224, 224])\n",
            "Applying RandomPerspective(p=0.8) to image of type <class 'torch.Tensor'>\n",
            "Applying ColorJitter(brightness=(0.8, 1.2), contrast=(0.8, 1.2), saturation=(0.8, 1.2), hue=(-0.1, 0.1)) to image of type <class 'torch.Tensor'>\n",
            "torch.Size([3, 3, 224, 224])\n"
          ]
        },
        {
          "output_type": "stream",
          "name": "stderr",
          "text": [
            "\r 26%|██▌       | 255/1000 [02:24<07:04,  1.75it/s]"
          ]
        },
        {
          "output_type": "stream",
          "name": "stdout",
          "text": [
            "image shape: torch.Size([1, 224, 224, 3])\n",
            "image shape: torch.Size([1, 224, 224, 3])\n",
            "image shape: torch.Size([1, 224, 224, 3])\n",
            "Applying RandomPerspective(p=0.8) to image of type <class 'torch.Tensor'>\n",
            "Applying RandomResizedCrop(size=(224, 224), scale=(1, 1), ratio=(0.75, 1.3333), interpolation=bilinear, antialias=True) to image of type <class 'torch.Tensor'>\n",
            "torch.Size([3, 3, 224, 224])\n",
            "Applying ColorJitter(brightness=(0.8, 1.2), contrast=(0.8, 1.2), saturation=(0.8, 1.2), hue=(-0.1, 0.1)) to image of type <class 'torch.Tensor'>\n",
            "Applying RandomPerspective(p=0.8) to image of type <class 'torch.Tensor'>\n",
            "torch.Size([3, 3, 224, 224])\n",
            "Applying GaussianBlur(kernel_size=(5, 5), sigma=(0.1, 2.0)) to image of type <class 'torch.Tensor'>\n",
            "Applying RandomPerspective(p=0.8) to image of type <class 'torch.Tensor'>\n",
            "torch.Size([3, 3, 224, 224])\n",
            "Applying RandomResizedCrop(size=(224, 224), scale=(1, 1), ratio=(0.75, 1.3333), interpolation=bilinear, antialias=True) to image of type <class 'torch.Tensor'>\n",
            "Applying GaussianBlur(kernel_size=(5, 5), sigma=(0.1, 2.0)) to image of type <class 'torch.Tensor'>\n",
            "torch.Size([3, 3, 224, 224])\n"
          ]
        },
        {
          "output_type": "stream",
          "name": "stderr",
          "text": [
            "\r 26%|██▌       | 256/1000 [02:24<07:03,  1.76it/s]"
          ]
        },
        {
          "output_type": "stream",
          "name": "stdout",
          "text": [
            "image shape: torch.Size([1, 224, 224, 3])\n",
            "image shape: torch.Size([1, 224, 224, 3])\n",
            "image shape: torch.Size([1, 224, 224, 3])\n",
            "Applying RandomResizedCrop(size=(224, 224), scale=(1, 1), ratio=(0.75, 1.3333), interpolation=bilinear, antialias=True) to image of type <class 'torch.Tensor'>\n",
            "Applying GaussianBlur(kernel_size=(5, 5), sigma=(0.1, 2.0)) to image of type <class 'torch.Tensor'>\n",
            "torch.Size([3, 3, 224, 224])\n",
            "Applying RandomPerspective(p=0.8) to image of type <class 'torch.Tensor'>\n",
            "Applying ColorJitter(brightness=(0.8, 1.2), contrast=(0.8, 1.2), saturation=(0.8, 1.2), hue=(-0.1, 0.1)) to image of type <class 'torch.Tensor'>\n",
            "torch.Size([3, 3, 224, 224])\n",
            "Applying GaussianBlur(kernel_size=(5, 5), sigma=(0.1, 2.0)) to image of type <class 'torch.Tensor'>\n",
            "Applying RandomResizedCrop(size=(224, 224), scale=(1, 1), ratio=(0.75, 1.3333), interpolation=bilinear, antialias=True) to image of type <class 'torch.Tensor'>\n",
            "torch.Size([3, 3, 224, 224])\n",
            "Applying ColorJitter(brightness=(0.8, 1.2), contrast=(0.8, 1.2), saturation=(0.8, 1.2), hue=(-0.1, 0.1)) to image of type <class 'torch.Tensor'>\n",
            "Applying GaussianBlur(kernel_size=(5, 5), sigma=(0.1, 2.0)) to image of type <class 'torch.Tensor'>\n",
            "torch.Size([3, 3, 224, 224])\n"
          ]
        },
        {
          "output_type": "stream",
          "name": "stderr",
          "text": [
            "\r 26%|██▌       | 257/1000 [02:25<07:02,  1.76it/s]"
          ]
        },
        {
          "output_type": "stream",
          "name": "stdout",
          "text": [
            "image shape: torch.Size([1, 224, 224, 3])\n",
            "image shape: torch.Size([1, 224, 224, 3])\n",
            "image shape: torch.Size([1, 224, 224, 3])\n",
            "Applying RandomPerspective(p=0.8) to image of type <class 'torch.Tensor'>\n",
            "Applying RandomResizedCrop(size=(224, 224), scale=(1, 1), ratio=(0.75, 1.3333), interpolation=bilinear, antialias=True) to image of type <class 'torch.Tensor'>\n",
            "torch.Size([3, 3, 224, 224])\n",
            "Applying GaussianBlur(kernel_size=(5, 5), sigma=(0.1, 2.0)) to image of type <class 'torch.Tensor'>\n",
            "Applying RandomPerspective(p=0.8) to image of type <class 'torch.Tensor'>\n",
            "torch.Size([3, 3, 224, 224])\n",
            "Applying RandomPerspective(p=0.8) to image of type <class 'torch.Tensor'>\n",
            "Applying GaussianBlur(kernel_size=(5, 5), sigma=(0.1, 2.0)) to image of type <class 'torch.Tensor'>\n",
            "torch.Size([3, 3, 224, 224])\n",
            "Applying RandomPerspective(p=0.8) to image of type <class 'torch.Tensor'>\n",
            "Applying GaussianBlur(kernel_size=(5, 5), sigma=(0.1, 2.0)) to image of type <class 'torch.Tensor'>\n",
            "torch.Size([3, 3, 224, 224])\n"
          ]
        },
        {
          "output_type": "stream",
          "name": "stderr",
          "text": [
            "\r 26%|██▌       | 258/1000 [02:26<07:01,  1.76it/s]"
          ]
        },
        {
          "output_type": "stream",
          "name": "stdout",
          "text": [
            "image shape: torch.Size([1, 224, 224, 3])\n",
            "image shape: torch.Size([1, 224, 224, 3])\n",
            "image shape: torch.Size([1, 224, 224, 3])\n",
            "Applying GaussianBlur(kernel_size=(5, 5), sigma=(0.1, 2.0)) to image of type <class 'torch.Tensor'>\n",
            "Applying RandomPerspective(p=0.8) to image of type <class 'torch.Tensor'>\n",
            "torch.Size([3, 3, 224, 224])\n",
            "Applying RandomPerspective(p=0.8) to image of type <class 'torch.Tensor'>\n",
            "Applying ColorJitter(brightness=(0.8, 1.2), contrast=(0.8, 1.2), saturation=(0.8, 1.2), hue=(-0.1, 0.1)) to image of type <class 'torch.Tensor'>\n",
            "torch.Size([3, 3, 224, 224])\n",
            "Applying RandomResizedCrop(size=(224, 224), scale=(1, 1), ratio=(0.75, 1.3333), interpolation=bilinear, antialias=True) to image of type <class 'torch.Tensor'>\n",
            "Applying ColorJitter(brightness=(0.8, 1.2), contrast=(0.8, 1.2), saturation=(0.8, 1.2), hue=(-0.1, 0.1)) to image of type <class 'torch.Tensor'>\n",
            "torch.Size([3, 3, 224, 224])\n",
            "Applying RandomPerspective(p=0.8) to image of type <class 'torch.Tensor'>\n",
            "Applying GaussianBlur(kernel_size=(5, 5), sigma=(0.1, 2.0)) to image of type <class 'torch.Tensor'>\n",
            "torch.Size([3, 3, 224, 224])\n"
          ]
        },
        {
          "output_type": "stream",
          "name": "stderr",
          "text": [
            "\r 26%|██▌       | 259/1000 [02:26<07:01,  1.76it/s]"
          ]
        },
        {
          "output_type": "stream",
          "name": "stdout",
          "text": [
            "image shape: torch.Size([1, 224, 224, 3])\n",
            "image shape: torch.Size([1, 224, 224, 3])\n",
            "image shape: torch.Size([1, 224, 224, 3])\n",
            "Applying RandomResizedCrop(size=(224, 224), scale=(1, 1), ratio=(0.75, 1.3333), interpolation=bilinear, antialias=True) to image of type <class 'torch.Tensor'>\n",
            "Applying ColorJitter(brightness=(0.8, 1.2), contrast=(0.8, 1.2), saturation=(0.8, 1.2), hue=(-0.1, 0.1)) to image of type <class 'torch.Tensor'>\n",
            "torch.Size([3, 3, 224, 224])\n",
            "Applying RandomPerspective(p=0.8) to image of type <class 'torch.Tensor'>\n",
            "Applying GaussianBlur(kernel_size=(5, 5), sigma=(0.1, 2.0)) to image of type <class 'torch.Tensor'>\n",
            "torch.Size([3, 3, 224, 224])\n",
            "Applying RandomResizedCrop(size=(224, 224), scale=(1, 1), ratio=(0.75, 1.3333), interpolation=bilinear, antialias=True) to image of type <class 'torch.Tensor'>\n",
            "Applying RandomPerspective(p=0.8) to image of type <class 'torch.Tensor'>\n",
            "torch.Size([3, 3, 224, 224])\n",
            "Applying GaussianBlur(kernel_size=(5, 5), sigma=(0.1, 2.0)) to image of type <class 'torch.Tensor'>\n",
            "Applying ColorJitter(brightness=(0.8, 1.2), contrast=(0.8, 1.2), saturation=(0.8, 1.2), hue=(-0.1, 0.1)) to image of type <class 'torch.Tensor'>\n",
            "torch.Size([3, 3, 224, 224])\n"
          ]
        },
        {
          "output_type": "stream",
          "name": "stderr",
          "text": [
            "\r 26%|██▌       | 260/1000 [02:27<07:00,  1.76it/s]"
          ]
        },
        {
          "output_type": "stream",
          "name": "stdout",
          "text": [
            "image shape: torch.Size([1, 224, 224, 3])\n",
            "image shape: torch.Size([1, 224, 224, 3])\n",
            "image shape: torch.Size([1, 224, 224, 3])\n",
            "Applying ColorJitter(brightness=(0.8, 1.2), contrast=(0.8, 1.2), saturation=(0.8, 1.2), hue=(-0.1, 0.1)) to image of type <class 'torch.Tensor'>\n",
            "Applying RandomPerspective(p=0.8) to image of type <class 'torch.Tensor'>\n",
            "torch.Size([3, 3, 224, 224])\n",
            "Applying RandomResizedCrop(size=(224, 224), scale=(1, 1), ratio=(0.75, 1.3333), interpolation=bilinear, antialias=True) to image of type <class 'torch.Tensor'>\n",
            "Applying RandomPerspective(p=0.8) to image of type <class 'torch.Tensor'>\n",
            "torch.Size([3, 3, 224, 224])\n",
            "Applying GaussianBlur(kernel_size=(5, 5), sigma=(0.1, 2.0)) to image of type <class 'torch.Tensor'>\n",
            "Applying RandomResizedCrop(size=(224, 224), scale=(1, 1), ratio=(0.75, 1.3333), interpolation=bilinear, antialias=True) to image of type <class 'torch.Tensor'>\n",
            "torch.Size([3, 3, 224, 224])\n",
            "Applying GaussianBlur(kernel_size=(5, 5), sigma=(0.1, 2.0)) to image of type <class 'torch.Tensor'>\n",
            "Applying RandomResizedCrop(size=(224, 224), scale=(1, 1), ratio=(0.75, 1.3333), interpolation=bilinear, antialias=True) to image of type <class 'torch.Tensor'>\n",
            "torch.Size([3, 3, 224, 224])\n"
          ]
        },
        {
          "output_type": "stream",
          "name": "stderr",
          "text": [
            "\r 26%|██▌       | 261/1000 [02:27<06:59,  1.76it/s]"
          ]
        },
        {
          "output_type": "stream",
          "name": "stdout",
          "text": [
            "image shape: torch.Size([1, 224, 224, 3])\n",
            "image shape: torch.Size([1, 224, 224, 3])\n",
            "image shape: torch.Size([1, 224, 224, 3])\n",
            "Applying ColorJitter(brightness=(0.8, 1.2), contrast=(0.8, 1.2), saturation=(0.8, 1.2), hue=(-0.1, 0.1)) to image of type <class 'torch.Tensor'>\n",
            "Applying RandomResizedCrop(size=(224, 224), scale=(1, 1), ratio=(0.75, 1.3333), interpolation=bilinear, antialias=True) to image of type <class 'torch.Tensor'>\n",
            "torch.Size([3, 3, 224, 224])\n",
            "Applying RandomResizedCrop(size=(224, 224), scale=(1, 1), ratio=(0.75, 1.3333), interpolation=bilinear, antialias=True) to image of type <class 'torch.Tensor'>\n",
            "Applying GaussianBlur(kernel_size=(5, 5), sigma=(0.1, 2.0)) to image of type <class 'torch.Tensor'>\n",
            "torch.Size([3, 3, 224, 224])\n",
            "Applying RandomResizedCrop(size=(224, 224), scale=(1, 1), ratio=(0.75, 1.3333), interpolation=bilinear, antialias=True) to image of type <class 'torch.Tensor'>\n",
            "Applying ColorJitter(brightness=(0.8, 1.2), contrast=(0.8, 1.2), saturation=(0.8, 1.2), hue=(-0.1, 0.1)) to image of type <class 'torch.Tensor'>\n",
            "torch.Size([3, 3, 224, 224])\n",
            "Applying RandomPerspective(p=0.8) to image of type <class 'torch.Tensor'>\n",
            "Applying ColorJitter(brightness=(0.8, 1.2), contrast=(0.8, 1.2), saturation=(0.8, 1.2), hue=(-0.1, 0.1)) to image of type <class 'torch.Tensor'>\n",
            "torch.Size([3, 3, 224, 224])\n"
          ]
        },
        {
          "output_type": "stream",
          "name": "stderr",
          "text": [
            "\r 26%|██▌       | 262/1000 [02:28<06:59,  1.76it/s]"
          ]
        },
        {
          "output_type": "stream",
          "name": "stdout",
          "text": [
            "image shape: torch.Size([1, 224, 224, 3])\n",
            "image shape: torch.Size([1, 224, 224, 3])\n",
            "image shape: torch.Size([1, 224, 224, 3])\n",
            "Applying ColorJitter(brightness=(0.8, 1.2), contrast=(0.8, 1.2), saturation=(0.8, 1.2), hue=(-0.1, 0.1)) to image of type <class 'torch.Tensor'>\n",
            "Applying GaussianBlur(kernel_size=(5, 5), sigma=(0.1, 2.0)) to image of type <class 'torch.Tensor'>\n",
            "torch.Size([3, 3, 224, 224])\n",
            "Applying ColorJitter(brightness=(0.8, 1.2), contrast=(0.8, 1.2), saturation=(0.8, 1.2), hue=(-0.1, 0.1)) to image of type <class 'torch.Tensor'>\n",
            "Applying GaussianBlur(kernel_size=(5, 5), sigma=(0.1, 2.0)) to image of type <class 'torch.Tensor'>\n",
            "torch.Size([3, 3, 224, 224])\n",
            "Applying GaussianBlur(kernel_size=(5, 5), sigma=(0.1, 2.0)) to image of type <class 'torch.Tensor'>\n",
            "Applying RandomPerspective(p=0.8) to image of type <class 'torch.Tensor'>\n",
            "torch.Size([3, 3, 224, 224])\n",
            "Applying RandomResizedCrop(size=(224, 224), scale=(1, 1), ratio=(0.75, 1.3333), interpolation=bilinear, antialias=True) to image of type <class 'torch.Tensor'>\n",
            "Applying RandomPerspective(p=0.8) to image of type <class 'torch.Tensor'>\n",
            "torch.Size([3, 3, 224, 224])\n"
          ]
        },
        {
          "output_type": "stream",
          "name": "stderr",
          "text": [
            "\r 26%|██▋       | 263/1000 [02:28<07:00,  1.75it/s]"
          ]
        },
        {
          "output_type": "stream",
          "name": "stdout",
          "text": [
            "image shape: torch.Size([1, 224, 224, 3])\n",
            "image shape: torch.Size([1, 224, 224, 3])\n",
            "image shape: torch.Size([1, 224, 224, 3])\n",
            "Applying ColorJitter(brightness=(0.8, 1.2), contrast=(0.8, 1.2), saturation=(0.8, 1.2), hue=(-0.1, 0.1)) to image of type <class 'torch.Tensor'>\n",
            "Applying RandomPerspective(p=0.8) to image of type <class 'torch.Tensor'>\n",
            "torch.Size([3, 3, 224, 224])\n",
            "Applying ColorJitter(brightness=(0.8, 1.2), contrast=(0.8, 1.2), saturation=(0.8, 1.2), hue=(-0.1, 0.1)) to image of type <class 'torch.Tensor'>\n",
            "Applying RandomPerspective(p=0.8) to image of type <class 'torch.Tensor'>\n",
            "torch.Size([3, 3, 224, 224])\n",
            "Applying RandomPerspective(p=0.8) to image of type <class 'torch.Tensor'>\n",
            "Applying GaussianBlur(kernel_size=(5, 5), sigma=(0.1, 2.0)) to image of type <class 'torch.Tensor'>\n",
            "torch.Size([3, 3, 224, 224])\n",
            "Applying GaussianBlur(kernel_size=(5, 5), sigma=(0.1, 2.0)) to image of type <class 'torch.Tensor'>\n",
            "Applying RandomPerspective(p=0.8) to image of type <class 'torch.Tensor'>\n",
            "torch.Size([3, 3, 224, 224])\n"
          ]
        },
        {
          "output_type": "stream",
          "name": "stderr",
          "text": [
            "\r 26%|██▋       | 264/1000 [02:29<07:01,  1.75it/s]"
          ]
        },
        {
          "output_type": "stream",
          "name": "stdout",
          "text": [
            "image shape: torch.Size([1, 224, 224, 3])\n",
            "image shape: torch.Size([1, 224, 224, 3])\n",
            "image shape: torch.Size([1, 224, 224, 3])\n",
            "Applying GaussianBlur(kernel_size=(5, 5), sigma=(0.1, 2.0)) to image of type <class 'torch.Tensor'>\n",
            "Applying ColorJitter(brightness=(0.8, 1.2), contrast=(0.8, 1.2), saturation=(0.8, 1.2), hue=(-0.1, 0.1)) to image of type <class 'torch.Tensor'>\n",
            "torch.Size([3, 3, 224, 224])\n",
            "Applying ColorJitter(brightness=(0.8, 1.2), contrast=(0.8, 1.2), saturation=(0.8, 1.2), hue=(-0.1, 0.1)) to image of type <class 'torch.Tensor'>\n",
            "Applying GaussianBlur(kernel_size=(5, 5), sigma=(0.1, 2.0)) to image of type <class 'torch.Tensor'>\n",
            "torch.Size([3, 3, 224, 224])\n",
            "Applying RandomPerspective(p=0.8) to image of type <class 'torch.Tensor'>\n",
            "Applying GaussianBlur(kernel_size=(5, 5), sigma=(0.1, 2.0)) to image of type <class 'torch.Tensor'>\n",
            "torch.Size([3, 3, 224, 224])\n",
            "Applying RandomPerspective(p=0.8) to image of type <class 'torch.Tensor'>\n",
            "Applying GaussianBlur(kernel_size=(5, 5), sigma=(0.1, 2.0)) to image of type <class 'torch.Tensor'>\n",
            "torch.Size([3, 3, 224, 224])\n"
          ]
        },
        {
          "output_type": "stream",
          "name": "stderr",
          "text": [
            "\r 26%|██▋       | 265/1000 [02:30<07:03,  1.73it/s]"
          ]
        },
        {
          "output_type": "stream",
          "name": "stdout",
          "text": [
            "image shape: torch.Size([1, 224, 224, 3])\n",
            "image shape: torch.Size([1, 224, 224, 3])\n",
            "image shape: torch.Size([1, 224, 224, 3])\n",
            "Applying RandomPerspective(p=0.8) to image of type <class 'torch.Tensor'>\n",
            "Applying GaussianBlur(kernel_size=(5, 5), sigma=(0.1, 2.0)) to image of type <class 'torch.Tensor'>\n",
            "torch.Size([3, 3, 224, 224])\n",
            "Applying GaussianBlur(kernel_size=(5, 5), sigma=(0.1, 2.0)) to image of type <class 'torch.Tensor'>\n",
            "Applying RandomResizedCrop(size=(224, 224), scale=(1, 1), ratio=(0.75, 1.3333), interpolation=bilinear, antialias=True) to image of type <class 'torch.Tensor'>\n",
            "torch.Size([3, 3, 224, 224])\n",
            "Applying ColorJitter(brightness=(0.8, 1.2), contrast=(0.8, 1.2), saturation=(0.8, 1.2), hue=(-0.1, 0.1)) to image of type <class 'torch.Tensor'>\n",
            "Applying GaussianBlur(kernel_size=(5, 5), sigma=(0.1, 2.0)) to image of type <class 'torch.Tensor'>\n",
            "torch.Size([3, 3, 224, 224])\n",
            "Applying RandomPerspective(p=0.8) to image of type <class 'torch.Tensor'>\n",
            "Applying RandomResizedCrop(size=(224, 224), scale=(1, 1), ratio=(0.75, 1.3333), interpolation=bilinear, antialias=True) to image of type <class 'torch.Tensor'>\n",
            "torch.Size([3, 3, 224, 224])\n"
          ]
        },
        {
          "output_type": "stream",
          "name": "stderr",
          "text": [
            "\r 27%|██▋       | 266/1000 [02:30<07:03,  1.73it/s]"
          ]
        },
        {
          "output_type": "stream",
          "name": "stdout",
          "text": [
            "image shape: torch.Size([1, 224, 224, 3])\n",
            "image shape: torch.Size([1, 224, 224, 3])\n",
            "image shape: torch.Size([1, 224, 224, 3])\n",
            "Applying RandomPerspective(p=0.8) to image of type <class 'torch.Tensor'>\n",
            "Applying ColorJitter(brightness=(0.8, 1.2), contrast=(0.8, 1.2), saturation=(0.8, 1.2), hue=(-0.1, 0.1)) to image of type <class 'torch.Tensor'>\n",
            "torch.Size([3, 3, 224, 224])\n",
            "Applying ColorJitter(brightness=(0.8, 1.2), contrast=(0.8, 1.2), saturation=(0.8, 1.2), hue=(-0.1, 0.1)) to image of type <class 'torch.Tensor'>\n",
            "Applying RandomPerspective(p=0.8) to image of type <class 'torch.Tensor'>\n",
            "torch.Size([3, 3, 224, 224])\n",
            "Applying GaussianBlur(kernel_size=(5, 5), sigma=(0.1, 2.0)) to image of type <class 'torch.Tensor'>\n",
            "Applying ColorJitter(brightness=(0.8, 1.2), contrast=(0.8, 1.2), saturation=(0.8, 1.2), hue=(-0.1, 0.1)) to image of type <class 'torch.Tensor'>\n",
            "torch.Size([3, 3, 224, 224])\n",
            "Applying GaussianBlur(kernel_size=(5, 5), sigma=(0.1, 2.0)) to image of type <class 'torch.Tensor'>\n",
            "Applying ColorJitter(brightness=(0.8, 1.2), contrast=(0.8, 1.2), saturation=(0.8, 1.2), hue=(-0.1, 0.1)) to image of type <class 'torch.Tensor'>\n",
            "torch.Size([3, 3, 224, 224])\n"
          ]
        },
        {
          "output_type": "stream",
          "name": "stderr",
          "text": [
            "\r 27%|██▋       | 267/1000 [02:31<07:11,  1.70it/s]"
          ]
        },
        {
          "output_type": "stream",
          "name": "stdout",
          "text": [
            "image shape: torch.Size([1, 224, 224, 3])\n",
            "image shape: torch.Size([1, 224, 224, 3])\n",
            "image shape: torch.Size([1, 224, 224, 3])\n",
            "Applying RandomPerspective(p=0.8) to image of type <class 'torch.Tensor'>\n",
            "Applying ColorJitter(brightness=(0.8, 1.2), contrast=(0.8, 1.2), saturation=(0.8, 1.2), hue=(-0.1, 0.1)) to image of type <class 'torch.Tensor'>\n",
            "torch.Size([3, 3, 224, 224])\n",
            "Applying RandomResizedCrop(size=(224, 224), scale=(1, 1), ratio=(0.75, 1.3333), interpolation=bilinear, antialias=True) to image of type <class 'torch.Tensor'>\n",
            "Applying RandomPerspective(p=0.8) to image of type <class 'torch.Tensor'>\n",
            "torch.Size([3, 3, 224, 224])\n",
            "Applying GaussianBlur(kernel_size=(5, 5), sigma=(0.1, 2.0)) to image of type <class 'torch.Tensor'>\n",
            "Applying ColorJitter(brightness=(0.8, 1.2), contrast=(0.8, 1.2), saturation=(0.8, 1.2), hue=(-0.1, 0.1)) to image of type <class 'torch.Tensor'>\n",
            "torch.Size([3, 3, 224, 224])\n",
            "Applying RandomPerspective(p=0.8) to image of type <class 'torch.Tensor'>\n",
            "Applying RandomResizedCrop(size=(224, 224), scale=(1, 1), ratio=(0.75, 1.3333), interpolation=bilinear, antialias=True) to image of type <class 'torch.Tensor'>\n",
            "torch.Size([3, 3, 224, 224])\n"
          ]
        },
        {
          "output_type": "stream",
          "name": "stderr",
          "text": [
            "\r 27%|██▋       | 268/1000 [02:31<07:15,  1.68it/s]"
          ]
        },
        {
          "output_type": "stream",
          "name": "stdout",
          "text": [
            "image shape: torch.Size([1, 224, 224, 3])\n",
            "image shape: torch.Size([1, 224, 224, 3])\n",
            "image shape: torch.Size([1, 224, 224, 3])\n",
            "Applying RandomPerspective(p=0.8) to image of type <class 'torch.Tensor'>\n",
            "Applying RandomResizedCrop(size=(224, 224), scale=(1, 1), ratio=(0.75, 1.3333), interpolation=bilinear, antialias=True) to image of type <class 'torch.Tensor'>\n",
            "torch.Size([3, 3, 224, 224])\n",
            "Applying RandomPerspective(p=0.8) to image of type <class 'torch.Tensor'>\n",
            "Applying GaussianBlur(kernel_size=(5, 5), sigma=(0.1, 2.0)) to image of type <class 'torch.Tensor'>\n",
            "torch.Size([3, 3, 224, 224])\n",
            "Applying RandomResizedCrop(size=(224, 224), scale=(1, 1), ratio=(0.75, 1.3333), interpolation=bilinear, antialias=True) to image of type <class 'torch.Tensor'>\n",
            "Applying ColorJitter(brightness=(0.8, 1.2), contrast=(0.8, 1.2), saturation=(0.8, 1.2), hue=(-0.1, 0.1)) to image of type <class 'torch.Tensor'>\n",
            "torch.Size([3, 3, 224, 224])\n",
            "Applying GaussianBlur(kernel_size=(5, 5), sigma=(0.1, 2.0)) to image of type <class 'torch.Tensor'>\n",
            "Applying RandomPerspective(p=0.8) to image of type <class 'torch.Tensor'>\n",
            "torch.Size([3, 3, 224, 224])\n"
          ]
        },
        {
          "output_type": "stream",
          "name": "stderr",
          "text": [
            "\r 27%|██▋       | 269/1000 [02:32<07:13,  1.69it/s]"
          ]
        },
        {
          "output_type": "stream",
          "name": "stdout",
          "text": [
            "image shape: torch.Size([1, 224, 224, 3])\n",
            "image shape: torch.Size([1, 224, 224, 3])\n",
            "image shape: torch.Size([1, 224, 224, 3])\n",
            "Applying RandomPerspective(p=0.8) to image of type <class 'torch.Tensor'>\n",
            "Applying GaussianBlur(kernel_size=(5, 5), sigma=(0.1, 2.0)) to image of type <class 'torch.Tensor'>\n",
            "torch.Size([3, 3, 224, 224])\n",
            "Applying GaussianBlur(kernel_size=(5, 5), sigma=(0.1, 2.0)) to image of type <class 'torch.Tensor'>\n",
            "Applying RandomResizedCrop(size=(224, 224), scale=(1, 1), ratio=(0.75, 1.3333), interpolation=bilinear, antialias=True) to image of type <class 'torch.Tensor'>\n",
            "torch.Size([3, 3, 224, 224])\n",
            "Applying ColorJitter(brightness=(0.8, 1.2), contrast=(0.8, 1.2), saturation=(0.8, 1.2), hue=(-0.1, 0.1)) to image of type <class 'torch.Tensor'>\n",
            "Applying RandomPerspective(p=0.8) to image of type <class 'torch.Tensor'>\n",
            "torch.Size([3, 3, 224, 224])\n",
            "Applying RandomPerspective(p=0.8) to image of type <class 'torch.Tensor'>\n",
            "Applying GaussianBlur(kernel_size=(5, 5), sigma=(0.1, 2.0)) to image of type <class 'torch.Tensor'>\n",
            "torch.Size([3, 3, 224, 224])\n"
          ]
        },
        {
          "output_type": "stream",
          "name": "stderr",
          "text": [
            "\r 27%|██▋       | 270/1000 [02:33<07:08,  1.70it/s]"
          ]
        },
        {
          "output_type": "stream",
          "name": "stdout",
          "text": [
            "image shape: torch.Size([1, 224, 224, 3])\n",
            "image shape: torch.Size([1, 224, 224, 3])\n",
            "image shape: torch.Size([1, 224, 224, 3])\n",
            "Applying RandomPerspective(p=0.8) to image of type <class 'torch.Tensor'>\n",
            "Applying RandomResizedCrop(size=(224, 224), scale=(1, 1), ratio=(0.75, 1.3333), interpolation=bilinear, antialias=True) to image of type <class 'torch.Tensor'>\n",
            "torch.Size([3, 3, 224, 224])\n",
            "Applying RandomResizedCrop(size=(224, 224), scale=(1, 1), ratio=(0.75, 1.3333), interpolation=bilinear, antialias=True) to image of type <class 'torch.Tensor'>\n",
            "Applying RandomPerspective(p=0.8) to image of type <class 'torch.Tensor'>\n",
            "torch.Size([3, 3, 224, 224])\n",
            "Applying ColorJitter(brightness=(0.8, 1.2), contrast=(0.8, 1.2), saturation=(0.8, 1.2), hue=(-0.1, 0.1)) to image of type <class 'torch.Tensor'>\n",
            "Applying RandomResizedCrop(size=(224, 224), scale=(1, 1), ratio=(0.75, 1.3333), interpolation=bilinear, antialias=True) to image of type <class 'torch.Tensor'>\n",
            "torch.Size([3, 3, 224, 224])\n",
            "Applying RandomResizedCrop(size=(224, 224), scale=(1, 1), ratio=(0.75, 1.3333), interpolation=bilinear, antialias=True) to image of type <class 'torch.Tensor'>\n",
            "Applying RandomPerspective(p=0.8) to image of type <class 'torch.Tensor'>\n",
            "torch.Size([3, 3, 224, 224])\n"
          ]
        },
        {
          "output_type": "stream",
          "name": "stderr",
          "text": [
            "\r 27%|██▋       | 271/1000 [02:33<07:12,  1.68it/s]"
          ]
        },
        {
          "output_type": "stream",
          "name": "stdout",
          "text": [
            "image shape: torch.Size([1, 224, 224, 3])\n",
            "image shape: torch.Size([1, 224, 224, 3])\n",
            "image shape: torch.Size([1, 224, 224, 3])\n",
            "Applying ColorJitter(brightness=(0.8, 1.2), contrast=(0.8, 1.2), saturation=(0.8, 1.2), hue=(-0.1, 0.1)) to image of type <class 'torch.Tensor'>\n",
            "Applying RandomPerspective(p=0.8) to image of type <class 'torch.Tensor'>\n",
            "torch.Size([3, 3, 224, 224])\n",
            "Applying ColorJitter(brightness=(0.8, 1.2), contrast=(0.8, 1.2), saturation=(0.8, 1.2), hue=(-0.1, 0.1)) to image of type <class 'torch.Tensor'>\n",
            "Applying RandomResizedCrop(size=(224, 224), scale=(1, 1), ratio=(0.75, 1.3333), interpolation=bilinear, antialias=True) to image of type <class 'torch.Tensor'>\n",
            "torch.Size([3, 3, 224, 224])\n",
            "Applying RandomResizedCrop(size=(224, 224), scale=(1, 1), ratio=(0.75, 1.3333), interpolation=bilinear, antialias=True) to image of type <class 'torch.Tensor'>\n",
            "Applying ColorJitter(brightness=(0.8, 1.2), contrast=(0.8, 1.2), saturation=(0.8, 1.2), hue=(-0.1, 0.1)) to image of type <class 'torch.Tensor'>\n",
            "torch.Size([3, 3, 224, 224])\n",
            "Applying RandomPerspective(p=0.8) to image of type <class 'torch.Tensor'>\n",
            "Applying GaussianBlur(kernel_size=(5, 5), sigma=(0.1, 2.0)) to image of type <class 'torch.Tensor'>\n",
            "torch.Size([3, 3, 224, 224])\n"
          ]
        },
        {
          "output_type": "stream",
          "name": "stderr",
          "text": [
            "\r 27%|██▋       | 272/1000 [02:34<07:24,  1.64it/s]"
          ]
        },
        {
          "output_type": "stream",
          "name": "stdout",
          "text": [
            "image shape: torch.Size([1, 224, 224, 3])\n",
            "image shape: torch.Size([1, 224, 224, 3])\n",
            "image shape: torch.Size([1, 224, 224, 3])\n",
            "Applying GaussianBlur(kernel_size=(5, 5), sigma=(0.1, 2.0)) to image of type <class 'torch.Tensor'>\n",
            "Applying RandomResizedCrop(size=(224, 224), scale=(1, 1), ratio=(0.75, 1.3333), interpolation=bilinear, antialias=True) to image of type <class 'torch.Tensor'>\n",
            "torch.Size([3, 3, 224, 224])\n",
            "Applying ColorJitter(brightness=(0.8, 1.2), contrast=(0.8, 1.2), saturation=(0.8, 1.2), hue=(-0.1, 0.1)) to image of type <class 'torch.Tensor'>\n",
            "Applying RandomResizedCrop(size=(224, 224), scale=(1, 1), ratio=(0.75, 1.3333), interpolation=bilinear, antialias=True) to image of type <class 'torch.Tensor'>\n",
            "torch.Size([3, 3, 224, 224])\n",
            "Applying ColorJitter(brightness=(0.8, 1.2), contrast=(0.8, 1.2), saturation=(0.8, 1.2), hue=(-0.1, 0.1)) to image of type <class 'torch.Tensor'>\n",
            "Applying GaussianBlur(kernel_size=(5, 5), sigma=(0.1, 2.0)) to image of type <class 'torch.Tensor'>\n",
            "torch.Size([3, 3, 224, 224])\n",
            "Applying GaussianBlur(kernel_size=(5, 5), sigma=(0.1, 2.0)) to image of type <class 'torch.Tensor'>\n",
            "Applying ColorJitter(brightness=(0.8, 1.2), contrast=(0.8, 1.2), saturation=(0.8, 1.2), hue=(-0.1, 0.1)) to image of type <class 'torch.Tensor'>\n",
            "torch.Size([3, 3, 224, 224])\n"
          ]
        },
        {
          "output_type": "stream",
          "name": "stderr",
          "text": [
            "\r 27%|██▋       | 273/1000 [02:34<07:15,  1.67it/s]"
          ]
        },
        {
          "output_type": "stream",
          "name": "stdout",
          "text": [
            "image shape: torch.Size([1, 224, 224, 3])\n",
            "image shape: torch.Size([1, 224, 224, 3])\n",
            "image shape: torch.Size([1, 224, 224, 3])\n",
            "Applying ColorJitter(brightness=(0.8, 1.2), contrast=(0.8, 1.2), saturation=(0.8, 1.2), hue=(-0.1, 0.1)) to image of type <class 'torch.Tensor'>\n",
            "Applying GaussianBlur(kernel_size=(5, 5), sigma=(0.1, 2.0)) to image of type <class 'torch.Tensor'>\n",
            "torch.Size([3, 3, 224, 224])\n",
            "Applying RandomPerspective(p=0.8) to image of type <class 'torch.Tensor'>\n",
            "Applying ColorJitter(brightness=(0.8, 1.2), contrast=(0.8, 1.2), saturation=(0.8, 1.2), hue=(-0.1, 0.1)) to image of type <class 'torch.Tensor'>\n",
            "torch.Size([3, 3, 224, 224])\n",
            "Applying RandomResizedCrop(size=(224, 224), scale=(1, 1), ratio=(0.75, 1.3333), interpolation=bilinear, antialias=True) to image of type <class 'torch.Tensor'>\n",
            "Applying GaussianBlur(kernel_size=(5, 5), sigma=(0.1, 2.0)) to image of type <class 'torch.Tensor'>\n",
            "torch.Size([3, 3, 224, 224])\n",
            "Applying ColorJitter(brightness=(0.8, 1.2), contrast=(0.8, 1.2), saturation=(0.8, 1.2), hue=(-0.1, 0.1)) to image of type <class 'torch.Tensor'>\n",
            "Applying RandomPerspective(p=0.8) to image of type <class 'torch.Tensor'>\n",
            "torch.Size([3, 3, 224, 224])\n"
          ]
        },
        {
          "output_type": "stream",
          "name": "stderr",
          "text": [
            "\r 27%|██▋       | 274/1000 [02:35<07:15,  1.67it/s]"
          ]
        },
        {
          "output_type": "stream",
          "name": "stdout",
          "text": [
            "image shape: torch.Size([1, 224, 224, 3])\n",
            "image shape: torch.Size([1, 224, 224, 3])\n",
            "image shape: torch.Size([1, 224, 224, 3])\n",
            "Applying RandomResizedCrop(size=(224, 224), scale=(1, 1), ratio=(0.75, 1.3333), interpolation=bilinear, antialias=True) to image of type <class 'torch.Tensor'>\n",
            "Applying GaussianBlur(kernel_size=(5, 5), sigma=(0.1, 2.0)) to image of type <class 'torch.Tensor'>\n",
            "torch.Size([3, 3, 224, 224])\n",
            "Applying GaussianBlur(kernel_size=(5, 5), sigma=(0.1, 2.0)) to image of type <class 'torch.Tensor'>\n",
            "Applying RandomResizedCrop(size=(224, 224), scale=(1, 1), ratio=(0.75, 1.3333), interpolation=bilinear, antialias=True) to image of type <class 'torch.Tensor'>\n",
            "torch.Size([3, 3, 224, 224])\n",
            "Applying RandomResizedCrop(size=(224, 224), scale=(1, 1), ratio=(0.75, 1.3333), interpolation=bilinear, antialias=True) to image of type <class 'torch.Tensor'>\n",
            "Applying ColorJitter(brightness=(0.8, 1.2), contrast=(0.8, 1.2), saturation=(0.8, 1.2), hue=(-0.1, 0.1)) to image of type <class 'torch.Tensor'>\n",
            "torch.Size([3, 3, 224, 224])\n",
            "Applying GaussianBlur(kernel_size=(5, 5), sigma=(0.1, 2.0)) to image of type <class 'torch.Tensor'>\n",
            "Applying RandomResizedCrop(size=(224, 224), scale=(1, 1), ratio=(0.75, 1.3333), interpolation=bilinear, antialias=True) to image of type <class 'torch.Tensor'>\n",
            "torch.Size([3, 3, 224, 224])\n"
          ]
        },
        {
          "output_type": "stream",
          "name": "stderr",
          "text": [
            "\r 28%|██▊       | 275/1000 [02:36<07:14,  1.67it/s]"
          ]
        },
        {
          "output_type": "stream",
          "name": "stdout",
          "text": [
            "image shape: torch.Size([1, 224, 224, 3])\n",
            "image shape: torch.Size([1, 224, 224, 3])\n",
            "image shape: torch.Size([1, 224, 224, 3])\n",
            "Applying RandomPerspective(p=0.8) to image of type <class 'torch.Tensor'>\n",
            "Applying RandomResizedCrop(size=(224, 224), scale=(1, 1), ratio=(0.75, 1.3333), interpolation=bilinear, antialias=True) to image of type <class 'torch.Tensor'>\n",
            "torch.Size([3, 3, 224, 224])\n",
            "Applying RandomResizedCrop(size=(224, 224), scale=(1, 1), ratio=(0.75, 1.3333), interpolation=bilinear, antialias=True) to image of type <class 'torch.Tensor'>\n",
            "Applying ColorJitter(brightness=(0.8, 1.2), contrast=(0.8, 1.2), saturation=(0.8, 1.2), hue=(-0.1, 0.1)) to image of type <class 'torch.Tensor'>\n",
            "torch.Size([3, 3, 224, 224])\n",
            "Applying RandomResizedCrop(size=(224, 224), scale=(1, 1), ratio=(0.75, 1.3333), interpolation=bilinear, antialias=True) to image of type <class 'torch.Tensor'>\n",
            "Applying ColorJitter(brightness=(0.8, 1.2), contrast=(0.8, 1.2), saturation=(0.8, 1.2), hue=(-0.1, 0.1)) to image of type <class 'torch.Tensor'>\n",
            "torch.Size([3, 3, 224, 224])\n",
            "Applying RandomPerspective(p=0.8) to image of type <class 'torch.Tensor'>\n",
            "Applying ColorJitter(brightness=(0.8, 1.2), contrast=(0.8, 1.2), saturation=(0.8, 1.2), hue=(-0.1, 0.1)) to image of type <class 'torch.Tensor'>\n",
            "torch.Size([3, 3, 224, 224])\n"
          ]
        },
        {
          "output_type": "stream",
          "name": "stderr",
          "text": [
            "\r 28%|██▊       | 276/1000 [02:36<07:10,  1.68it/s]"
          ]
        },
        {
          "output_type": "stream",
          "name": "stdout",
          "text": [
            "image shape: torch.Size([1, 224, 224, 3])\n",
            "image shape: torch.Size([1, 224, 224, 3])\n",
            "image shape: torch.Size([1, 224, 224, 3])\n",
            "Applying GaussianBlur(kernel_size=(5, 5), sigma=(0.1, 2.0)) to image of type <class 'torch.Tensor'>\n",
            "Applying RandomResizedCrop(size=(224, 224), scale=(1, 1), ratio=(0.75, 1.3333), interpolation=bilinear, antialias=True) to image of type <class 'torch.Tensor'>\n",
            "torch.Size([3, 3, 224, 224])\n",
            "Applying GaussianBlur(kernel_size=(5, 5), sigma=(0.1, 2.0)) to image of type <class 'torch.Tensor'>\n",
            "Applying ColorJitter(brightness=(0.8, 1.2), contrast=(0.8, 1.2), saturation=(0.8, 1.2), hue=(-0.1, 0.1)) to image of type <class 'torch.Tensor'>\n",
            "torch.Size([3, 3, 224, 224])\n",
            "Applying ColorJitter(brightness=(0.8, 1.2), contrast=(0.8, 1.2), saturation=(0.8, 1.2), hue=(-0.1, 0.1)) to image of type <class 'torch.Tensor'>\n",
            "Applying RandomResizedCrop(size=(224, 224), scale=(1, 1), ratio=(0.75, 1.3333), interpolation=bilinear, antialias=True) to image of type <class 'torch.Tensor'>\n",
            "torch.Size([3, 3, 224, 224])\n",
            "Applying RandomPerspective(p=0.8) to image of type <class 'torch.Tensor'>\n",
            "Applying RandomResizedCrop(size=(224, 224), scale=(1, 1), ratio=(0.75, 1.3333), interpolation=bilinear, antialias=True) to image of type <class 'torch.Tensor'>\n",
            "torch.Size([3, 3, 224, 224])\n"
          ]
        },
        {
          "output_type": "stream",
          "name": "stderr",
          "text": [
            "\r 28%|██▊       | 277/1000 [02:37<07:02,  1.71it/s]"
          ]
        },
        {
          "output_type": "stream",
          "name": "stdout",
          "text": [
            "image shape: torch.Size([1, 224, 224, 3])\n",
            "image shape: torch.Size([1, 224, 224, 3])\n",
            "image shape: torch.Size([1, 224, 224, 3])\n",
            "Applying GaussianBlur(kernel_size=(5, 5), sigma=(0.1, 2.0)) to image of type <class 'torch.Tensor'>\n",
            "Applying RandomPerspective(p=0.8) to image of type <class 'torch.Tensor'>\n",
            "torch.Size([3, 3, 224, 224])\n",
            "Applying RandomPerspective(p=0.8) to image of type <class 'torch.Tensor'>\n",
            "Applying GaussianBlur(kernel_size=(5, 5), sigma=(0.1, 2.0)) to image of type <class 'torch.Tensor'>\n",
            "torch.Size([3, 3, 224, 224])\n",
            "Applying ColorJitter(brightness=(0.8, 1.2), contrast=(0.8, 1.2), saturation=(0.8, 1.2), hue=(-0.1, 0.1)) to image of type <class 'torch.Tensor'>\n",
            "Applying RandomResizedCrop(size=(224, 224), scale=(1, 1), ratio=(0.75, 1.3333), interpolation=bilinear, antialias=True) to image of type <class 'torch.Tensor'>\n",
            "torch.Size([3, 3, 224, 224])\n",
            "Applying RandomPerspective(p=0.8) to image of type <class 'torch.Tensor'>\n",
            "Applying ColorJitter(brightness=(0.8, 1.2), contrast=(0.8, 1.2), saturation=(0.8, 1.2), hue=(-0.1, 0.1)) to image of type <class 'torch.Tensor'>\n",
            "torch.Size([3, 3, 224, 224])\n"
          ]
        },
        {
          "output_type": "stream",
          "name": "stderr",
          "text": [
            "\r 28%|██▊       | 278/1000 [02:37<06:58,  1.72it/s]"
          ]
        },
        {
          "output_type": "stream",
          "name": "stdout",
          "text": [
            "image shape: torch.Size([1, 224, 224, 3])\n",
            "image shape: torch.Size([1, 224, 224, 3])\n",
            "image shape: torch.Size([1, 224, 224, 3])\n",
            "Applying ColorJitter(brightness=(0.8, 1.2), contrast=(0.8, 1.2), saturation=(0.8, 1.2), hue=(-0.1, 0.1)) to image of type <class 'torch.Tensor'>\n",
            "Applying RandomResizedCrop(size=(224, 224), scale=(1, 1), ratio=(0.75, 1.3333), interpolation=bilinear, antialias=True) to image of type <class 'torch.Tensor'>\n",
            "torch.Size([3, 3, 224, 224])\n",
            "Applying GaussianBlur(kernel_size=(5, 5), sigma=(0.1, 2.0)) to image of type <class 'torch.Tensor'>\n",
            "Applying ColorJitter(brightness=(0.8, 1.2), contrast=(0.8, 1.2), saturation=(0.8, 1.2), hue=(-0.1, 0.1)) to image of type <class 'torch.Tensor'>\n",
            "torch.Size([3, 3, 224, 224])\n",
            "Applying RandomPerspective(p=0.8) to image of type <class 'torch.Tensor'>\n",
            "Applying RandomResizedCrop(size=(224, 224), scale=(1, 1), ratio=(0.75, 1.3333), interpolation=bilinear, antialias=True) to image of type <class 'torch.Tensor'>\n",
            "torch.Size([3, 3, 224, 224])\n",
            "Applying GaussianBlur(kernel_size=(5, 5), sigma=(0.1, 2.0)) to image of type <class 'torch.Tensor'>\n",
            "Applying RandomPerspective(p=0.8) to image of type <class 'torch.Tensor'>\n",
            "torch.Size([3, 3, 224, 224])\n"
          ]
        },
        {
          "output_type": "stream",
          "name": "stderr",
          "text": [
            "\r 28%|██▊       | 279/1000 [02:38<06:54,  1.74it/s]"
          ]
        },
        {
          "output_type": "stream",
          "name": "stdout",
          "text": [
            "image shape: torch.Size([1, 224, 224, 3])\n",
            "image shape: torch.Size([1, 224, 224, 3])\n",
            "image shape: torch.Size([1, 224, 224, 3])\n",
            "Applying RandomResizedCrop(size=(224, 224), scale=(1, 1), ratio=(0.75, 1.3333), interpolation=bilinear, antialias=True) to image of type <class 'torch.Tensor'>\n",
            "Applying GaussianBlur(kernel_size=(5, 5), sigma=(0.1, 2.0)) to image of type <class 'torch.Tensor'>\n",
            "torch.Size([3, 3, 224, 224])\n",
            "Applying ColorJitter(brightness=(0.8, 1.2), contrast=(0.8, 1.2), saturation=(0.8, 1.2), hue=(-0.1, 0.1)) to image of type <class 'torch.Tensor'>\n",
            "Applying GaussianBlur(kernel_size=(5, 5), sigma=(0.1, 2.0)) to image of type <class 'torch.Tensor'>\n",
            "torch.Size([3, 3, 224, 224])\n",
            "Applying RandomPerspective(p=0.8) to image of type <class 'torch.Tensor'>\n",
            "Applying RandomResizedCrop(size=(224, 224), scale=(1, 1), ratio=(0.75, 1.3333), interpolation=bilinear, antialias=True) to image of type <class 'torch.Tensor'>\n",
            "torch.Size([3, 3, 224, 224])\n",
            "Applying RandomResizedCrop(size=(224, 224), scale=(1, 1), ratio=(0.75, 1.3333), interpolation=bilinear, antialias=True) to image of type <class 'torch.Tensor'>\n",
            "Applying ColorJitter(brightness=(0.8, 1.2), contrast=(0.8, 1.2), saturation=(0.8, 1.2), hue=(-0.1, 0.1)) to image of type <class 'torch.Tensor'>\n",
            "torch.Size([3, 3, 224, 224])\n"
          ]
        },
        {
          "output_type": "stream",
          "name": "stderr",
          "text": [
            "\r 28%|██▊       | 280/1000 [02:38<06:52,  1.75it/s]"
          ]
        },
        {
          "output_type": "stream",
          "name": "stdout",
          "text": [
            "image shape: torch.Size([1, 224, 224, 3])\n",
            "image shape: torch.Size([1, 224, 224, 3])\n",
            "image shape: torch.Size([1, 224, 224, 3])\n",
            "Applying GaussianBlur(kernel_size=(5, 5), sigma=(0.1, 2.0)) to image of type <class 'torch.Tensor'>\n",
            "Applying RandomResizedCrop(size=(224, 224), scale=(1, 1), ratio=(0.75, 1.3333), interpolation=bilinear, antialias=True) to image of type <class 'torch.Tensor'>\n",
            "torch.Size([3, 3, 224, 224])\n",
            "Applying GaussianBlur(kernel_size=(5, 5), sigma=(0.1, 2.0)) to image of type <class 'torch.Tensor'>\n",
            "Applying ColorJitter(brightness=(0.8, 1.2), contrast=(0.8, 1.2), saturation=(0.8, 1.2), hue=(-0.1, 0.1)) to image of type <class 'torch.Tensor'>\n",
            "torch.Size([3, 3, 224, 224])\n",
            "Applying RandomPerspective(p=0.8) to image of type <class 'torch.Tensor'>\n",
            "Applying ColorJitter(brightness=(0.8, 1.2), contrast=(0.8, 1.2), saturation=(0.8, 1.2), hue=(-0.1, 0.1)) to image of type <class 'torch.Tensor'>\n",
            "torch.Size([3, 3, 224, 224])\n",
            "Applying RandomResizedCrop(size=(224, 224), scale=(1, 1), ratio=(0.75, 1.3333), interpolation=bilinear, antialias=True) to image of type <class 'torch.Tensor'>\n",
            "Applying ColorJitter(brightness=(0.8, 1.2), contrast=(0.8, 1.2), saturation=(0.8, 1.2), hue=(-0.1, 0.1)) to image of type <class 'torch.Tensor'>\n",
            "torch.Size([3, 3, 224, 224])\n"
          ]
        },
        {
          "output_type": "stream",
          "name": "stderr",
          "text": [
            "\r 28%|██▊       | 281/1000 [02:39<06:55,  1.73it/s]"
          ]
        },
        {
          "output_type": "stream",
          "name": "stdout",
          "text": [
            "image shape: torch.Size([1, 224, 224, 3])\n",
            "image shape: torch.Size([1, 224, 224, 3])\n",
            "image shape: torch.Size([1, 224, 224, 3])\n",
            "Applying RandomPerspective(p=0.8) to image of type <class 'torch.Tensor'>\n",
            "Applying GaussianBlur(kernel_size=(5, 5), sigma=(0.1, 2.0)) to image of type <class 'torch.Tensor'>\n",
            "torch.Size([3, 3, 224, 224])\n",
            "Applying ColorJitter(brightness=(0.8, 1.2), contrast=(0.8, 1.2), saturation=(0.8, 1.2), hue=(-0.1, 0.1)) to image of type <class 'torch.Tensor'>\n",
            "Applying RandomResizedCrop(size=(224, 224), scale=(1, 1), ratio=(0.75, 1.3333), interpolation=bilinear, antialias=True) to image of type <class 'torch.Tensor'>\n",
            "torch.Size([3, 3, 224, 224])\n",
            "Applying RandomResizedCrop(size=(224, 224), scale=(1, 1), ratio=(0.75, 1.3333), interpolation=bilinear, antialias=True) to image of type <class 'torch.Tensor'>\n",
            "Applying ColorJitter(brightness=(0.8, 1.2), contrast=(0.8, 1.2), saturation=(0.8, 1.2), hue=(-0.1, 0.1)) to image of type <class 'torch.Tensor'>\n",
            "torch.Size([3, 3, 224, 224])\n",
            "Applying RandomPerspective(p=0.8) to image of type <class 'torch.Tensor'>\n",
            "Applying RandomResizedCrop(size=(224, 224), scale=(1, 1), ratio=(0.75, 1.3333), interpolation=bilinear, antialias=True) to image of type <class 'torch.Tensor'>\n",
            "torch.Size([3, 3, 224, 224])\n"
          ]
        },
        {
          "output_type": "stream",
          "name": "stderr",
          "text": [
            "\r 28%|██▊       | 282/1000 [02:40<07:08,  1.68it/s]"
          ]
        },
        {
          "output_type": "stream",
          "name": "stdout",
          "text": [
            "image shape: torch.Size([1, 224, 224, 3])\n",
            "image shape: torch.Size([1, 224, 224, 3])\n",
            "image shape: torch.Size([1, 224, 224, 3])\n",
            "Applying GaussianBlur(kernel_size=(5, 5), sigma=(0.1, 2.0)) to image of type <class 'torch.Tensor'>\n",
            "Applying RandomPerspective(p=0.8) to image of type <class 'torch.Tensor'>\n",
            "torch.Size([3, 3, 224, 224])\n",
            "Applying RandomPerspective(p=0.8) to image of type <class 'torch.Tensor'>\n",
            "Applying GaussianBlur(kernel_size=(5, 5), sigma=(0.1, 2.0)) to image of type <class 'torch.Tensor'>\n",
            "torch.Size([3, 3, 224, 224])\n",
            "Applying RandomResizedCrop(size=(224, 224), scale=(1, 1), ratio=(0.75, 1.3333), interpolation=bilinear, antialias=True) to image of type <class 'torch.Tensor'>\n",
            "Applying RandomPerspective(p=0.8) to image of type <class 'torch.Tensor'>\n",
            "torch.Size([3, 3, 224, 224])\n",
            "Applying RandomPerspective(p=0.8) to image of type <class 'torch.Tensor'>\n",
            "Applying ColorJitter(brightness=(0.8, 1.2), contrast=(0.8, 1.2), saturation=(0.8, 1.2), hue=(-0.1, 0.1)) to image of type <class 'torch.Tensor'>\n",
            "torch.Size([3, 3, 224, 224])\n"
          ]
        },
        {
          "output_type": "stream",
          "name": "stderr",
          "text": [
            "\r 28%|██▊       | 283/1000 [02:40<07:43,  1.55it/s]"
          ]
        },
        {
          "output_type": "stream",
          "name": "stdout",
          "text": [
            "image shape: torch.Size([1, 224, 224, 3])\n",
            "image shape: torch.Size([1, 224, 224, 3])\n",
            "image shape: torch.Size([1, 224, 224, 3])\n",
            "Applying ColorJitter(brightness=(0.8, 1.2), contrast=(0.8, 1.2), saturation=(0.8, 1.2), hue=(-0.1, 0.1)) to image of type <class 'torch.Tensor'>\n",
            "Applying RandomResizedCrop(size=(224, 224), scale=(1, 1), ratio=(0.75, 1.3333), interpolation=bilinear, antialias=True) to image of type <class 'torch.Tensor'>\n",
            "torch.Size([3, 3, 224, 224])\n",
            "Applying ColorJitter(brightness=(0.8, 1.2), contrast=(0.8, 1.2), saturation=(0.8, 1.2), hue=(-0.1, 0.1)) to image of type <class 'torch.Tensor'>\n",
            "Applying GaussianBlur(kernel_size=(5, 5), sigma=(0.1, 2.0)) to image of type <class 'torch.Tensor'>\n",
            "torch.Size([3, 3, 224, 224])\n",
            "Applying ColorJitter(brightness=(0.8, 1.2), contrast=(0.8, 1.2), saturation=(0.8, 1.2), hue=(-0.1, 0.1)) to image of type <class 'torch.Tensor'>\n",
            "Applying GaussianBlur(kernel_size=(5, 5), sigma=(0.1, 2.0)) to image of type <class 'torch.Tensor'>\n",
            "torch.Size([3, 3, 224, 224])\n",
            "Applying RandomPerspective(p=0.8) to image of type <class 'torch.Tensor'>\n",
            "Applying ColorJitter(brightness=(0.8, 1.2), contrast=(0.8, 1.2), saturation=(0.8, 1.2), hue=(-0.1, 0.1)) to image of type <class 'torch.Tensor'>\n",
            "torch.Size([3, 3, 224, 224])\n"
          ]
        },
        {
          "output_type": "stream",
          "name": "stderr",
          "text": [
            "\r 28%|██▊       | 284/1000 [02:41<07:27,  1.60it/s]"
          ]
        },
        {
          "output_type": "stream",
          "name": "stdout",
          "text": [
            "image shape: torch.Size([1, 224, 224, 3])\n",
            "image shape: torch.Size([1, 224, 224, 3])\n",
            "image shape: torch.Size([1, 224, 224, 3])\n",
            "Applying GaussianBlur(kernel_size=(5, 5), sigma=(0.1, 2.0)) to image of type <class 'torch.Tensor'>\n",
            "Applying RandomPerspective(p=0.8) to image of type <class 'torch.Tensor'>\n",
            "torch.Size([3, 3, 224, 224])\n",
            "Applying ColorJitter(brightness=(0.8, 1.2), contrast=(0.8, 1.2), saturation=(0.8, 1.2), hue=(-0.1, 0.1)) to image of type <class 'torch.Tensor'>\n",
            "Applying RandomResizedCrop(size=(224, 224), scale=(1, 1), ratio=(0.75, 1.3333), interpolation=bilinear, antialias=True) to image of type <class 'torch.Tensor'>\n",
            "torch.Size([3, 3, 224, 224])\n",
            "Applying RandomResizedCrop(size=(224, 224), scale=(1, 1), ratio=(0.75, 1.3333), interpolation=bilinear, antialias=True) to image of type <class 'torch.Tensor'>\n",
            "Applying RandomPerspective(p=0.8) to image of type <class 'torch.Tensor'>\n",
            "torch.Size([3, 3, 224, 224])\n",
            "Applying GaussianBlur(kernel_size=(5, 5), sigma=(0.1, 2.0)) to image of type <class 'torch.Tensor'>\n",
            "Applying RandomPerspective(p=0.8) to image of type <class 'torch.Tensor'>\n",
            "torch.Size([3, 3, 224, 224])\n"
          ]
        },
        {
          "output_type": "stream",
          "name": "stderr",
          "text": [
            "\r 28%|██▊       | 285/1000 [02:42<07:11,  1.66it/s]"
          ]
        },
        {
          "output_type": "stream",
          "name": "stdout",
          "text": [
            "image shape: torch.Size([1, 224, 224, 3])\n",
            "image shape: torch.Size([1, 224, 224, 3])\n",
            "image shape: torch.Size([1, 224, 224, 3])\n",
            "Applying RandomPerspective(p=0.8) to image of type <class 'torch.Tensor'>\n",
            "Applying RandomResizedCrop(size=(224, 224), scale=(1, 1), ratio=(0.75, 1.3333), interpolation=bilinear, antialias=True) to image of type <class 'torch.Tensor'>\n",
            "torch.Size([3, 3, 224, 224])\n",
            "Applying RandomResizedCrop(size=(224, 224), scale=(1, 1), ratio=(0.75, 1.3333), interpolation=bilinear, antialias=True) to image of type <class 'torch.Tensor'>\n",
            "Applying GaussianBlur(kernel_size=(5, 5), sigma=(0.1, 2.0)) to image of type <class 'torch.Tensor'>\n",
            "torch.Size([3, 3, 224, 224])\n",
            "Applying ColorJitter(brightness=(0.8, 1.2), contrast=(0.8, 1.2), saturation=(0.8, 1.2), hue=(-0.1, 0.1)) to image of type <class 'torch.Tensor'>\n",
            "Applying RandomPerspective(p=0.8) to image of type <class 'torch.Tensor'>\n",
            "torch.Size([3, 3, 224, 224])\n",
            "Applying ColorJitter(brightness=(0.8, 1.2), contrast=(0.8, 1.2), saturation=(0.8, 1.2), hue=(-0.1, 0.1)) to image of type <class 'torch.Tensor'>\n",
            "Applying RandomResizedCrop(size=(224, 224), scale=(1, 1), ratio=(0.75, 1.3333), interpolation=bilinear, antialias=True) to image of type <class 'torch.Tensor'>\n",
            "torch.Size([3, 3, 224, 224])\n"
          ]
        },
        {
          "output_type": "stream",
          "name": "stderr",
          "text": [
            "\r 29%|██▊       | 286/1000 [02:42<07:01,  1.69it/s]"
          ]
        },
        {
          "output_type": "stream",
          "name": "stdout",
          "text": [
            "image shape: torch.Size([1, 224, 224, 3])\n",
            "image shape: torch.Size([1, 224, 224, 3])\n",
            "image shape: torch.Size([1, 224, 224, 3])\n",
            "Applying RandomPerspective(p=0.8) to image of type <class 'torch.Tensor'>\n",
            "Applying GaussianBlur(kernel_size=(5, 5), sigma=(0.1, 2.0)) to image of type <class 'torch.Tensor'>\n",
            "torch.Size([3, 3, 224, 224])\n",
            "Applying GaussianBlur(kernel_size=(5, 5), sigma=(0.1, 2.0)) to image of type <class 'torch.Tensor'>\n",
            "Applying RandomResizedCrop(size=(224, 224), scale=(1, 1), ratio=(0.75, 1.3333), interpolation=bilinear, antialias=True) to image of type <class 'torch.Tensor'>\n",
            "torch.Size([3, 3, 224, 224])\n",
            "Applying ColorJitter(brightness=(0.8, 1.2), contrast=(0.8, 1.2), saturation=(0.8, 1.2), hue=(-0.1, 0.1)) to image of type <class 'torch.Tensor'>\n",
            "Applying RandomPerspective(p=0.8) to image of type <class 'torch.Tensor'>\n",
            "torch.Size([3, 3, 224, 224])\n",
            "Applying GaussianBlur(kernel_size=(5, 5), sigma=(0.1, 2.0)) to image of type <class 'torch.Tensor'>\n",
            "Applying RandomResizedCrop(size=(224, 224), scale=(1, 1), ratio=(0.75, 1.3333), interpolation=bilinear, antialias=True) to image of type <class 'torch.Tensor'>\n",
            "torch.Size([3, 3, 224, 224])\n"
          ]
        },
        {
          "output_type": "stream",
          "name": "stderr",
          "text": [
            "\r 29%|██▊       | 287/1000 [02:43<06:54,  1.72it/s]"
          ]
        },
        {
          "output_type": "stream",
          "name": "stdout",
          "text": [
            "image shape: torch.Size([1, 224, 224, 3])\n",
            "image shape: torch.Size([1, 224, 224, 3])\n",
            "image shape: torch.Size([1, 224, 224, 3])\n",
            "Applying GaussianBlur(kernel_size=(5, 5), sigma=(0.1, 2.0)) to image of type <class 'torch.Tensor'>\n",
            "Applying RandomResizedCrop(size=(224, 224), scale=(1, 1), ratio=(0.75, 1.3333), interpolation=bilinear, antialias=True) to image of type <class 'torch.Tensor'>\n",
            "torch.Size([3, 3, 224, 224])\n",
            "Applying GaussianBlur(kernel_size=(5, 5), sigma=(0.1, 2.0)) to image of type <class 'torch.Tensor'>\n",
            "Applying RandomResizedCrop(size=(224, 224), scale=(1, 1), ratio=(0.75, 1.3333), interpolation=bilinear, antialias=True) to image of type <class 'torch.Tensor'>\n",
            "torch.Size([3, 3, 224, 224])\n",
            "Applying GaussianBlur(kernel_size=(5, 5), sigma=(0.1, 2.0)) to image of type <class 'torch.Tensor'>\n",
            "Applying ColorJitter(brightness=(0.8, 1.2), contrast=(0.8, 1.2), saturation=(0.8, 1.2), hue=(-0.1, 0.1)) to image of type <class 'torch.Tensor'>\n",
            "torch.Size([3, 3, 224, 224])\n",
            "Applying RandomResizedCrop(size=(224, 224), scale=(1, 1), ratio=(0.75, 1.3333), interpolation=bilinear, antialias=True) to image of type <class 'torch.Tensor'>\n",
            "Applying RandomPerspective(p=0.8) to image of type <class 'torch.Tensor'>\n",
            "torch.Size([3, 3, 224, 224])\n"
          ]
        },
        {
          "output_type": "stream",
          "name": "stderr",
          "text": [
            "\r 29%|██▉       | 288/1000 [02:43<06:49,  1.74it/s]"
          ]
        },
        {
          "output_type": "stream",
          "name": "stdout",
          "text": [
            "image shape: torch.Size([1, 224, 224, 3])\n",
            "image shape: torch.Size([1, 224, 224, 3])\n",
            "image shape: torch.Size([1, 224, 224, 3])\n",
            "Applying GaussianBlur(kernel_size=(5, 5), sigma=(0.1, 2.0)) to image of type <class 'torch.Tensor'>\n",
            "Applying RandomPerspective(p=0.8) to image of type <class 'torch.Tensor'>\n",
            "torch.Size([3, 3, 224, 224])\n",
            "Applying RandomPerspective(p=0.8) to image of type <class 'torch.Tensor'>\n",
            "Applying GaussianBlur(kernel_size=(5, 5), sigma=(0.1, 2.0)) to image of type <class 'torch.Tensor'>\n",
            "torch.Size([3, 3, 224, 224])\n",
            "Applying RandomResizedCrop(size=(224, 224), scale=(1, 1), ratio=(0.75, 1.3333), interpolation=bilinear, antialias=True) to image of type <class 'torch.Tensor'>\n",
            "Applying ColorJitter(brightness=(0.8, 1.2), contrast=(0.8, 1.2), saturation=(0.8, 1.2), hue=(-0.1, 0.1)) to image of type <class 'torch.Tensor'>\n",
            "torch.Size([3, 3, 224, 224])\n",
            "Applying RandomPerspective(p=0.8) to image of type <class 'torch.Tensor'>\n",
            "Applying RandomResizedCrop(size=(224, 224), scale=(1, 1), ratio=(0.75, 1.3333), interpolation=bilinear, antialias=True) to image of type <class 'torch.Tensor'>\n",
            "torch.Size([3, 3, 224, 224])\n"
          ]
        },
        {
          "output_type": "stream",
          "name": "stderr",
          "text": [
            "\r 29%|██▉       | 289/1000 [02:44<06:45,  1.75it/s]"
          ]
        },
        {
          "output_type": "stream",
          "name": "stdout",
          "text": [
            "image shape: torch.Size([1, 224, 224, 3])\n",
            "image shape: torch.Size([1, 224, 224, 3])\n",
            "image shape: torch.Size([1, 224, 224, 3])\n",
            "Applying ColorJitter(brightness=(0.8, 1.2), contrast=(0.8, 1.2), saturation=(0.8, 1.2), hue=(-0.1, 0.1)) to image of type <class 'torch.Tensor'>\n",
            "Applying RandomPerspective(p=0.8) to image of type <class 'torch.Tensor'>\n",
            "torch.Size([3, 3, 224, 224])\n",
            "Applying RandomResizedCrop(size=(224, 224), scale=(1, 1), ratio=(0.75, 1.3333), interpolation=bilinear, antialias=True) to image of type <class 'torch.Tensor'>\n",
            "Applying GaussianBlur(kernel_size=(5, 5), sigma=(0.1, 2.0)) to image of type <class 'torch.Tensor'>\n",
            "torch.Size([3, 3, 224, 224])\n",
            "Applying GaussianBlur(kernel_size=(5, 5), sigma=(0.1, 2.0)) to image of type <class 'torch.Tensor'>\n",
            "Applying ColorJitter(brightness=(0.8, 1.2), contrast=(0.8, 1.2), saturation=(0.8, 1.2), hue=(-0.1, 0.1)) to image of type <class 'torch.Tensor'>\n",
            "torch.Size([3, 3, 224, 224])\n",
            "Applying RandomResizedCrop(size=(224, 224), scale=(1, 1), ratio=(0.75, 1.3333), interpolation=bilinear, antialias=True) to image of type <class 'torch.Tensor'>\n",
            "Applying RandomPerspective(p=0.8) to image of type <class 'torch.Tensor'>\n",
            "torch.Size([3, 3, 224, 224])\n"
          ]
        },
        {
          "output_type": "stream",
          "name": "stderr",
          "text": [
            "\r 29%|██▉       | 290/1000 [02:44<06:42,  1.77it/s]"
          ]
        },
        {
          "output_type": "stream",
          "name": "stdout",
          "text": [
            "image shape: torch.Size([1, 224, 224, 3])\n",
            "image shape: torch.Size([1, 224, 224, 3])\n",
            "image shape: torch.Size([1, 224, 224, 3])\n",
            "Applying RandomResizedCrop(size=(224, 224), scale=(1, 1), ratio=(0.75, 1.3333), interpolation=bilinear, antialias=True) to image of type <class 'torch.Tensor'>\n",
            "Applying GaussianBlur(kernel_size=(5, 5), sigma=(0.1, 2.0)) to image of type <class 'torch.Tensor'>\n",
            "torch.Size([3, 3, 224, 224])\n",
            "Applying GaussianBlur(kernel_size=(5, 5), sigma=(0.1, 2.0)) to image of type <class 'torch.Tensor'>\n",
            "Applying RandomResizedCrop(size=(224, 224), scale=(1, 1), ratio=(0.75, 1.3333), interpolation=bilinear, antialias=True) to image of type <class 'torch.Tensor'>\n",
            "torch.Size([3, 3, 224, 224])\n",
            "Applying RandomPerspective(p=0.8) to image of type <class 'torch.Tensor'>\n",
            "Applying ColorJitter(brightness=(0.8, 1.2), contrast=(0.8, 1.2), saturation=(0.8, 1.2), hue=(-0.1, 0.1)) to image of type <class 'torch.Tensor'>\n",
            "torch.Size([3, 3, 224, 224])\n",
            "Applying ColorJitter(brightness=(0.8, 1.2), contrast=(0.8, 1.2), saturation=(0.8, 1.2), hue=(-0.1, 0.1)) to image of type <class 'torch.Tensor'>\n",
            "Applying RandomResizedCrop(size=(224, 224), scale=(1, 1), ratio=(0.75, 1.3333), interpolation=bilinear, antialias=True) to image of type <class 'torch.Tensor'>\n",
            "torch.Size([3, 3, 224, 224])\n"
          ]
        },
        {
          "output_type": "stream",
          "name": "stderr",
          "text": [
            "\r 29%|██▉       | 291/1000 [02:45<06:40,  1.77it/s]"
          ]
        },
        {
          "output_type": "stream",
          "name": "stdout",
          "text": [
            "image shape: torch.Size([1, 224, 224, 3])\n",
            "image shape: torch.Size([1, 224, 224, 3])\n",
            "image shape: torch.Size([1, 224, 224, 3])\n",
            "Applying GaussianBlur(kernel_size=(5, 5), sigma=(0.1, 2.0)) to image of type <class 'torch.Tensor'>\n",
            "Applying ColorJitter(brightness=(0.8, 1.2), contrast=(0.8, 1.2), saturation=(0.8, 1.2), hue=(-0.1, 0.1)) to image of type <class 'torch.Tensor'>\n",
            "torch.Size([3, 3, 224, 224])\n",
            "Applying GaussianBlur(kernel_size=(5, 5), sigma=(0.1, 2.0)) to image of type <class 'torch.Tensor'>\n",
            "Applying ColorJitter(brightness=(0.8, 1.2), contrast=(0.8, 1.2), saturation=(0.8, 1.2), hue=(-0.1, 0.1)) to image of type <class 'torch.Tensor'>\n",
            "torch.Size([3, 3, 224, 224])\n",
            "Applying GaussianBlur(kernel_size=(5, 5), sigma=(0.1, 2.0)) to image of type <class 'torch.Tensor'>\n",
            "Applying ColorJitter(brightness=(0.8, 1.2), contrast=(0.8, 1.2), saturation=(0.8, 1.2), hue=(-0.1, 0.1)) to image of type <class 'torch.Tensor'>\n",
            "torch.Size([3, 3, 224, 224])\n",
            "Applying RandomResizedCrop(size=(224, 224), scale=(1, 1), ratio=(0.75, 1.3333), interpolation=bilinear, antialias=True) to image of type <class 'torch.Tensor'>\n",
            "Applying RandomPerspective(p=0.8) to image of type <class 'torch.Tensor'>\n",
            "torch.Size([3, 3, 224, 224])\n"
          ]
        },
        {
          "output_type": "stream",
          "name": "stderr",
          "text": [
            "\r 29%|██▉       | 292/1000 [02:45<06:40,  1.77it/s]"
          ]
        },
        {
          "output_type": "stream",
          "name": "stdout",
          "text": [
            "image shape: torch.Size([1, 224, 224, 3])\n",
            "image shape: torch.Size([1, 224, 224, 3])\n",
            "image shape: torch.Size([1, 224, 224, 3])\n",
            "Applying ColorJitter(brightness=(0.8, 1.2), contrast=(0.8, 1.2), saturation=(0.8, 1.2), hue=(-0.1, 0.1)) to image of type <class 'torch.Tensor'>\n",
            "Applying RandomPerspective(p=0.8) to image of type <class 'torch.Tensor'>\n",
            "torch.Size([3, 3, 224, 224])\n",
            "Applying RandomPerspective(p=0.8) to image of type <class 'torch.Tensor'>\n",
            "Applying RandomResizedCrop(size=(224, 224), scale=(1, 1), ratio=(0.75, 1.3333), interpolation=bilinear, antialias=True) to image of type <class 'torch.Tensor'>\n",
            "torch.Size([3, 3, 224, 224])\n",
            "Applying ColorJitter(brightness=(0.8, 1.2), contrast=(0.8, 1.2), saturation=(0.8, 1.2), hue=(-0.1, 0.1)) to image of type <class 'torch.Tensor'>\n",
            "Applying RandomPerspective(p=0.8) to image of type <class 'torch.Tensor'>\n",
            "torch.Size([3, 3, 224, 224])\n",
            "Applying GaussianBlur(kernel_size=(5, 5), sigma=(0.1, 2.0)) to image of type <class 'torch.Tensor'>\n",
            "Applying RandomPerspective(p=0.8) to image of type <class 'torch.Tensor'>\n",
            "torch.Size([3, 3, 224, 224])\n"
          ]
        },
        {
          "output_type": "stream",
          "name": "stderr",
          "text": [
            "\r 29%|██▉       | 293/1000 [02:46<06:40,  1.77it/s]"
          ]
        },
        {
          "output_type": "stream",
          "name": "stdout",
          "text": [
            "image shape: torch.Size([1, 224, 224, 3])\n",
            "image shape: torch.Size([1, 224, 224, 3])\n",
            "image shape: torch.Size([1, 224, 224, 3])\n",
            "Applying ColorJitter(brightness=(0.8, 1.2), contrast=(0.8, 1.2), saturation=(0.8, 1.2), hue=(-0.1, 0.1)) to image of type <class 'torch.Tensor'>\n",
            "Applying RandomPerspective(p=0.8) to image of type <class 'torch.Tensor'>\n",
            "torch.Size([3, 3, 224, 224])\n",
            "Applying ColorJitter(brightness=(0.8, 1.2), contrast=(0.8, 1.2), saturation=(0.8, 1.2), hue=(-0.1, 0.1)) to image of type <class 'torch.Tensor'>\n",
            "Applying RandomResizedCrop(size=(224, 224), scale=(1, 1), ratio=(0.75, 1.3333), interpolation=bilinear, antialias=True) to image of type <class 'torch.Tensor'>\n",
            "torch.Size([3, 3, 224, 224])\n",
            "Applying RandomResizedCrop(size=(224, 224), scale=(1, 1), ratio=(0.75, 1.3333), interpolation=bilinear, antialias=True) to image of type <class 'torch.Tensor'>\n",
            "Applying ColorJitter(brightness=(0.8, 1.2), contrast=(0.8, 1.2), saturation=(0.8, 1.2), hue=(-0.1, 0.1)) to image of type <class 'torch.Tensor'>\n",
            "torch.Size([3, 3, 224, 224])\n",
            "Applying GaussianBlur(kernel_size=(5, 5), sigma=(0.1, 2.0)) to image of type <class 'torch.Tensor'>\n",
            "Applying RandomPerspective(p=0.8) to image of type <class 'torch.Tensor'>\n",
            "torch.Size([3, 3, 224, 224])\n"
          ]
        },
        {
          "output_type": "stream",
          "name": "stderr",
          "text": [
            "\r 29%|██▉       | 294/1000 [02:47<06:40,  1.76it/s]"
          ]
        },
        {
          "output_type": "stream",
          "name": "stdout",
          "text": [
            "image shape: torch.Size([1, 224, 224, 3])\n",
            "image shape: torch.Size([1, 224, 224, 3])\n",
            "image shape: torch.Size([1, 224, 224, 3])\n",
            "Applying GaussianBlur(kernel_size=(5, 5), sigma=(0.1, 2.0)) to image of type <class 'torch.Tensor'>\n",
            "Applying RandomPerspective(p=0.8) to image of type <class 'torch.Tensor'>\n",
            "torch.Size([3, 3, 224, 224])\n",
            "Applying GaussianBlur(kernel_size=(5, 5), sigma=(0.1, 2.0)) to image of type <class 'torch.Tensor'>\n",
            "Applying RandomResizedCrop(size=(224, 224), scale=(1, 1), ratio=(0.75, 1.3333), interpolation=bilinear, antialias=True) to image of type <class 'torch.Tensor'>\n",
            "torch.Size([3, 3, 224, 224])\n",
            "Applying ColorJitter(brightness=(0.8, 1.2), contrast=(0.8, 1.2), saturation=(0.8, 1.2), hue=(-0.1, 0.1)) to image of type <class 'torch.Tensor'>\n",
            "Applying GaussianBlur(kernel_size=(5, 5), sigma=(0.1, 2.0)) to image of type <class 'torch.Tensor'>\n",
            "torch.Size([3, 3, 224, 224])\n",
            "Applying RandomPerspective(p=0.8) to image of type <class 'torch.Tensor'>\n",
            "Applying RandomResizedCrop(size=(224, 224), scale=(1, 1), ratio=(0.75, 1.3333), interpolation=bilinear, antialias=True) to image of type <class 'torch.Tensor'>\n",
            "torch.Size([3, 3, 224, 224])\n"
          ]
        },
        {
          "output_type": "stream",
          "name": "stderr",
          "text": [
            "\r 30%|██▉       | 295/1000 [02:47<06:42,  1.75it/s]"
          ]
        },
        {
          "output_type": "stream",
          "name": "stdout",
          "text": [
            "image shape: torch.Size([1, 224, 224, 3])\n",
            "image shape: torch.Size([1, 224, 224, 3])\n",
            "image shape: torch.Size([1, 224, 224, 3])\n",
            "Applying RandomPerspective(p=0.8) to image of type <class 'torch.Tensor'>\n",
            "Applying RandomResizedCrop(size=(224, 224), scale=(1, 1), ratio=(0.75, 1.3333), interpolation=bilinear, antialias=True) to image of type <class 'torch.Tensor'>\n",
            "torch.Size([3, 3, 224, 224])\n",
            "Applying RandomResizedCrop(size=(224, 224), scale=(1, 1), ratio=(0.75, 1.3333), interpolation=bilinear, antialias=True) to image of type <class 'torch.Tensor'>\n",
            "Applying GaussianBlur(kernel_size=(5, 5), sigma=(0.1, 2.0)) to image of type <class 'torch.Tensor'>\n",
            "torch.Size([3, 3, 224, 224])\n",
            "Applying GaussianBlur(kernel_size=(5, 5), sigma=(0.1, 2.0)) to image of type <class 'torch.Tensor'>\n",
            "Applying RandomPerspective(p=0.8) to image of type <class 'torch.Tensor'>\n",
            "torch.Size([3, 3, 224, 224])\n",
            "Applying RandomResizedCrop(size=(224, 224), scale=(1, 1), ratio=(0.75, 1.3333), interpolation=bilinear, antialias=True) to image of type <class 'torch.Tensor'>\n",
            "Applying GaussianBlur(kernel_size=(5, 5), sigma=(0.1, 2.0)) to image of type <class 'torch.Tensor'>\n",
            "torch.Size([3, 3, 224, 224])\n"
          ]
        },
        {
          "output_type": "stream",
          "name": "stderr",
          "text": [
            "\r 30%|██▉       | 296/1000 [02:48<06:40,  1.76it/s]"
          ]
        },
        {
          "output_type": "stream",
          "name": "stdout",
          "text": [
            "image shape: torch.Size([1, 224, 224, 3])\n",
            "image shape: torch.Size([1, 224, 224, 3])\n",
            "image shape: torch.Size([1, 224, 224, 3])\n",
            "Applying ColorJitter(brightness=(0.8, 1.2), contrast=(0.8, 1.2), saturation=(0.8, 1.2), hue=(-0.1, 0.1)) to image of type <class 'torch.Tensor'>\n",
            "Applying RandomResizedCrop(size=(224, 224), scale=(1, 1), ratio=(0.75, 1.3333), interpolation=bilinear, antialias=True) to image of type <class 'torch.Tensor'>\n",
            "torch.Size([3, 3, 224, 224])\n",
            "Applying RandomResizedCrop(size=(224, 224), scale=(1, 1), ratio=(0.75, 1.3333), interpolation=bilinear, antialias=True) to image of type <class 'torch.Tensor'>\n",
            "Applying RandomPerspective(p=0.8) to image of type <class 'torch.Tensor'>\n",
            "torch.Size([3, 3, 224, 224])\n",
            "Applying RandomResizedCrop(size=(224, 224), scale=(1, 1), ratio=(0.75, 1.3333), interpolation=bilinear, antialias=True) to image of type <class 'torch.Tensor'>\n",
            "Applying ColorJitter(brightness=(0.8, 1.2), contrast=(0.8, 1.2), saturation=(0.8, 1.2), hue=(-0.1, 0.1)) to image of type <class 'torch.Tensor'>\n",
            "torch.Size([3, 3, 224, 224])\n",
            "Applying RandomResizedCrop(size=(224, 224), scale=(1, 1), ratio=(0.75, 1.3333), interpolation=bilinear, antialias=True) to image of type <class 'torch.Tensor'>\n",
            "Applying GaussianBlur(kernel_size=(5, 5), sigma=(0.1, 2.0)) to image of type <class 'torch.Tensor'>\n",
            "torch.Size([3, 3, 224, 224])\n"
          ]
        },
        {
          "output_type": "stream",
          "name": "stderr",
          "text": [
            "\r 30%|██▉       | 297/1000 [02:48<06:40,  1.76it/s]"
          ]
        },
        {
          "output_type": "stream",
          "name": "stdout",
          "text": [
            "image shape: torch.Size([1, 224, 224, 3])\n",
            "image shape: torch.Size([1, 224, 224, 3])\n",
            "image shape: torch.Size([1, 224, 224, 3])\n",
            "Applying RandomResizedCrop(size=(224, 224), scale=(1, 1), ratio=(0.75, 1.3333), interpolation=bilinear, antialias=True) to image of type <class 'torch.Tensor'>\n",
            "Applying ColorJitter(brightness=(0.8, 1.2), contrast=(0.8, 1.2), saturation=(0.8, 1.2), hue=(-0.1, 0.1)) to image of type <class 'torch.Tensor'>\n",
            "torch.Size([3, 3, 224, 224])\n",
            "Applying GaussianBlur(kernel_size=(5, 5), sigma=(0.1, 2.0)) to image of type <class 'torch.Tensor'>\n",
            "Applying RandomResizedCrop(size=(224, 224), scale=(1, 1), ratio=(0.75, 1.3333), interpolation=bilinear, antialias=True) to image of type <class 'torch.Tensor'>\n",
            "torch.Size([3, 3, 224, 224])\n",
            "Applying ColorJitter(brightness=(0.8, 1.2), contrast=(0.8, 1.2), saturation=(0.8, 1.2), hue=(-0.1, 0.1)) to image of type <class 'torch.Tensor'>\n",
            "Applying RandomResizedCrop(size=(224, 224), scale=(1, 1), ratio=(0.75, 1.3333), interpolation=bilinear, antialias=True) to image of type <class 'torch.Tensor'>\n",
            "torch.Size([3, 3, 224, 224])\n",
            "Applying ColorJitter(brightness=(0.8, 1.2), contrast=(0.8, 1.2), saturation=(0.8, 1.2), hue=(-0.1, 0.1)) to image of type <class 'torch.Tensor'>\n",
            "Applying RandomPerspective(p=0.8) to image of type <class 'torch.Tensor'>\n",
            "torch.Size([3, 3, 224, 224])\n"
          ]
        },
        {
          "output_type": "stream",
          "name": "stderr",
          "text": [
            "\r 30%|██▉       | 298/1000 [02:49<06:43,  1.74it/s]"
          ]
        }
      ]
    }
  ]
}